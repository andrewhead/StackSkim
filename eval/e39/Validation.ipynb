{
 "cells": [
  {
   "cell_type": "code",
   "execution_count": 1,
   "metadata": {
    "collapsed": true
   },
   "outputs": [],
   "source": [
    "import sys\n",
    "import os.path\n",
    "sys.path.append(os.path.join(os.pardir, os.pardir, 'common'))"
   ]
  },
  {
   "cell_type": "code",
   "execution_count": 2,
   "metadata": {
    "collapsed": false
   },
   "outputs": [],
   "source": [
    "import urllib\n",
    "\n",
    "from evaluate import load_detected_regions, load_groundtruth_regions, save_results, print_stats, RegionInspector\n",
    "from open import build_local_url\n",
    "from order import get_test_lists"
   ]
  },
  {
   "cell_type": "markdown",
   "metadata": {},
   "source": [
    "# Data Loading and Preparation"
   ]
  },
  {
   "cell_type": "code",
   "execution_count": 3,
   "metadata": {
    "collapsed": true
   },
   "outputs": [],
   "source": [
    "DETECTED_FILE = os.path.join('regions', 'detected', 'wget.tsv')\n",
    "TRUTH_FILE = os.path.join('regions', 'extracted', 'wget_validation.txt')"
   ]
  },
  {
   "cell_type": "markdown",
   "metadata": {},
   "source": [
    "For now, we limit ourselves to considering only the first 50 cross-validation results.  Eventually we should be able to boost this number up to around 100."
   ]
  },
  {
   "cell_type": "code",
   "execution_count": 4,
   "metadata": {
    "collapsed": true
   },
   "outputs": [],
   "source": [
    "VALIDATION_SIZE = 50"
   ]
  },
  {
   "cell_type": "code",
   "execution_count": 5,
   "metadata": {
    "collapsed": false
   },
   "outputs": [],
   "source": [
    "wget_pages = get_test_lists('wget')['validation'][:VALIDATION_SIZE]\n",
    "validation_urls = [urllib.quote(build_local_url(p), safe='/:') for p in wget_pages]"
   ]
  },
  {
   "cell_type": "markdown",
   "metadata": {},
   "source": [
    "Load in the detections from the stored TSV files"
   ]
  },
  {
   "cell_type": "code",
   "execution_count": 6,
   "metadata": {
    "collapsed": false
   },
   "outputs": [],
   "source": [
    "detected_regions = load_detected_regions(DETECTED_FILE, validation_urls)"
   ]
  },
  {
   "cell_type": "code",
   "execution_count": 7,
   "metadata": {
    "collapsed": false
   },
   "outputs": [],
   "source": [
    "truth_regions = load_groundtruth_regions(TRUTH_FILE, valid_urls=validation_urls, delimiter=',,,')"
   ]
  },
  {
   "cell_type": "markdown",
   "metadata": {},
   "source": [
    "## Verify that the regions have been properly loaded"
   ]
  },
  {
   "cell_type": "code",
   "execution_count": 8,
   "metadata": {
    "collapsed": true
   },
   "outputs": [],
   "source": [
    "detected_urls = set([r.url for r in detected_regions])\n",
    "truth_urls = set(key[0] for key in truth_regions.keys())"
   ]
  },
  {
   "cell_type": "code",
   "execution_count": 9,
   "metadata": {
    "collapsed": false
   },
   "outputs": [
    {
     "name": "stdout",
     "output_type": "stream",
     "text": [
      "29 37\n"
     ]
    }
   ],
   "source": [
    "print len(detected_urls), len(truth_urls)"
   ]
  },
  {
   "cell_type": "code",
   "execution_count": 10,
   "metadata": {
    "collapsed": false
   },
   "outputs": [
    {
     "name": "stdout",
     "output_type": "stream",
     "text": [
      "<evaluate.Region object at 0x10bb63ed0>\n"
     ]
    }
   ],
   "source": [
    "print detected_regions[0]"
   ]
  },
  {
   "cell_type": "code",
   "execution_count": 11,
   "metadata": {
    "collapsed": false
   },
   "outputs": [
    {
     "name": "stdout",
     "output_type": "stream",
     "text": [
      "<evaluate.Region object at 0x10bcc55d0>\n"
     ]
    }
   ],
   "source": [
    "print truth_regions.values()[0][0]"
   ]
  },
  {
   "cell_type": "markdown",
   "metadata": {},
   "source": [
    "# Compute Accuracy!"
   ]
  },
  {
   "cell_type": "code",
   "execution_count": 12,
   "metadata": {
    "collapsed": false
   },
   "outputs": [
    {
     "name": "stdout",
     "output_type": "stream",
     "text": [
      "Matches: 1\n",
      "wget ftp://somedom.com/pub/downloads/*.pdf\n",
      "Matches: 1\n",
      "None\n",
      "Matches: 1\n",
      "wget -q --spider mysite.com\n",
      "Matches: 1\n",
      "None\n",
      "Matches: 1\n",
      "None\n",
      "Matches: 1\n",
      "None\n",
      "Matches: 1\n",
      "None\n",
      "Matches: 1\n",
      "None\n",
      "Matches: 1\n",
      "None\n",
      "Matches: 1\n",
      "None\n",
      "Matches: 1\n",
      "None\n",
      "Matches: 1\n",
      "None\n",
      "Matches: 1\n",
      "None\n",
      "Matches: 1\n",
      "None\n",
      "Matches: 1\n",
      "None\n",
      "Matches: 1\n",
      "None\n",
      "Matches: 1\n",
      "None\n",
      "Matches: 1\n",
      "None\n",
      "Matches: 1\n",
      "None\n",
      "Matches: 1\n",
      "None\n",
      "Matches: 1\n",
      "None\n",
      "Matches: 1\n",
      "None\n",
      "Matches: 1\n",
      "None\n",
      "Matches: 1\n",
      "None\n",
      "Matches: 1\n",
      "None\n",
      "Matches: 1\n",
      "None\n",
      "Matches: 1\n",
      "None\n",
      "Matches: 1\n",
      "None\n",
      "Matches: 1\n",
      "None\n",
      "Matches: 1\n",
      "wget mysite.com > /dev/null 2>&1\n",
      "Matches: 1\n",
      "None\n",
      "Matches: 1\n",
      "wget -i list.txt\n",
      "Matches: 1\n",
      "wget -r -l 0 -p http://site/1.html\n",
      "Matches: 1\n",
      "None\n",
      "Matches: 1\n",
      "wget --spider --force-html -r -l1 http://somesite.com 2>&1\n",
      "Matches: 1\n",
      "None\n",
      "Matches: 1\n",
      "None\n",
      "Matches: 1\n",
      "None\n",
      "Matches: 1\n",
      "None\n",
      "Matches: 1\n",
      "None\n",
      "Matches: 1\n",
      "None\n",
      "Matches: 1\n",
      "None\n",
      "Matches: 1\n",
      "None\n",
      "Matches: 1\n",
      "None\n",
      "Matches: 1\n",
      "wget --ignore-tags=a,area -H -k -K -r http://<site>/<document>\n",
      "Matches: 1\n",
      "None\n",
      "Matches: 1\n",
      "None\n",
      "Matches: 1\n",
      "None\n",
      "Matches: 1\n",
      "None\n",
      "Matches: 1\n",
      "None\n",
      "Matches: 1\n",
      "None\n",
      "Matches: 1\n",
      "wget --load-cookies=cookies.txt http://en.wikipedia.org/wiki/User:A\n",
      "Matches: 1\n",
      "None\n",
      "Matches: 1\n",
      "None\n",
      "Matches: 1\n",
      "None\n",
      "Matches: 1\n",
      "None\n",
      "Matches: 1\n",
      "None\n",
      "Matches: 1\n",
      "None\n",
      "Matches: 1\n",
      "None\n",
      "Matches: 1\n",
      "None\n",
      "Matches: 1\n",
      "None\n",
      "Matches: 1\n",
      "None\n",
      "Matches: 1\n",
      "None\n",
      "Matches: 1\n",
      "None\n",
      "Matches: 1\n",
      "None\n",
      "Matches: 1\n",
      "None\n",
      "Matches: 1\n",
      "None\n",
      "Matches: 1\n",
      "None\n",
      "Matches: 1\n",
      "wget -O /dev/null -o /dev/null example.com\n",
      "Matches: 1\n",
      "None\n",
      "Matches: 1\n",
      "None\n",
      "Matches: 1\n",
      "None\n",
      "Matches: 1\n",
      "None\n",
      "Matches: 1\n",
      "None\n",
      "Matches: 1\n",
      "None\n",
      "Matches: 1\n",
      "None\n",
      "Matches: 1\n",
      "None\n",
      "Matches: 1\n",
      "None\n",
      "Matches: 1\n",
      "wget ftp://somedom.com/pub/downloads/*.pdf\n",
      "Matches: 1\n",
      "None\n",
      "Matches: 1\n",
      "None\n",
      "Matches: 1\n",
      "None\n",
      "Matches: 1\n",
      "None\n",
      "Matches: 1\n",
      "None\n",
      "Matches: 1\n",
      "None\n",
      "Matches: 1\n",
      "/usr/bin/wget http://www.mydomain.com/cron.php >/dev/null 2>&1\n",
      "Matches: 1\n",
      "None\n",
      "Matches: 1\n",
      "None\n",
      "Matches: 1\n",
      "None\n",
      "Matches: 1\n",
      "None\n",
      "Matches: 1\n",
      "None\n",
      "Matches: 1\n",
      "None\n",
      "Matches: 1\n",
      "None\n",
      "Matches: 1\n",
      "None\n",
      "Matches: 1\n",
      "None\n",
      "Matches: 1\n",
      "None\n",
      "Matches: 1\n",
      "None\n",
      "Matches: 1\n",
      "None\n",
      "Matches: 1\n",
      "None\n",
      "Matches: 1\n",
      "None\n",
      "Matches: 1\n",
      "None\n",
      "Matches: 1\n",
      "None\n",
      "Matches: 1\n",
      "None\n",
      "Matches: 1\n",
      "None\n",
      "Matches: 1\n",
      "None\n",
      "Matches: 1\n",
      "None\n",
      "Matches: 1\n",
      "None\n",
      "Matches: 1\n",
      "wget -r -l 1 -p http://site/1.html\n",
      "Matches: 1\n",
      "None\n",
      "Matches: 1\n",
      "None\n",
      "Matches: 1\n",
      "None\n",
      "Matches: 1\n",
      "None\n",
      "Matches: 1\n",
      "wget -r --spider -l1 -A mp3 http://example.com/page-with-mp3s 2>&1\n",
      "Matches: 1\n",
      "None\n",
      "Matches: 1\n",
      "None\n",
      "Matches: 1\n",
      "None\n",
      "Matches: 1\n",
      "None\n",
      "Matches: 1\n",
      "None\n",
      "Matches: 1\n",
      "None\n",
      "Matches: 1\n",
      "None\n",
      "Matches: 1\n",
      "None\n",
      "Matches: 1\n",
      "None\n",
      "Matches: 1\n",
      "None\n",
      "Matches: 1\n",
      "None\n",
      "Matches: 1\n",
      "None\n",
      "Matches: 1\n",
      "wget $URL -O $FILE -o $LOGFILE\n",
      "Matches: 1\n",
      "None\n",
      "Matches: 1\n",
      "None\n",
      "Matches: 1\n",
      "wget -O - mysite.com > /dev/null 2>&1\n",
      "Precision: 0.9485 (129/136), Recall 0.6355 (129/203)\n"
     ]
    }
   ],
   "source": [
    "true_regions, false_regions, missing_regions = print_stats(detected_regions, truth_regions)"
   ]
  },
  {
   "cell_type": "markdown",
   "metadata": {
    "collapsed": true
   },
   "source": [
    "## Save Results for posterity"
   ]
  },
  {
   "cell_type": "code",
   "execution_count": 34,
   "metadata": {
    "collapsed": false
   },
   "outputs": [],
   "source": [
    "history_dir = os.path.join('regions', 'detected', 'history')"
   ]
  },
  {
   "cell_type": "code",
   "execution_count": 35,
   "metadata": {
    "collapsed": false
   },
   "outputs": [],
   "source": [
    "save_results(history_dir, false_regions, missing_regions)"
   ]
  },
  {
   "cell_type": "markdown",
   "metadata": {},
   "source": [
    "## Examine Detection Faults"
   ]
  },
  {
   "cell_type": "code",
   "execution_count": 13,
   "metadata": {
    "collapsed": true
   },
   "outputs": [],
   "source": [
    "inspector = RegionInspector()"
   ]
  },
  {
   "cell_type": "code",
   "execution_count": null,
   "metadata": {
    "collapsed": false
   },
   "outputs": [
    {
     "name": "stdout",
     "output_type": "stream",
     "text": [
      "\n",
      "?? Open next example of missed detection? \n",
      " \n",
      "===== REGION 0 =====\n",
      "{Text: None URL: http://127.0.0.1:8000/pages/wget/linux%20redirect%20wget%20tutorial/6/linux.die.net/man/1/wget.html, Element: HTML > BODY:nth-of-type(1) > DIV:nth-of-type(1) > DIV:nth-of-type(2) > DL:nth-of-type(5) > DD:nth-of-type(4), Offsets: (99, 118)}\n",
      "* Text:  wget -r http://host \n",
      "* HTML:  <dd>Use the protocol name as a directory component of local file names. For example, with this option, <b>wget -r http://</b><i>host</i> will save to\n",
      "<b>http/</b><i>host</i><b>/...</b> rather than just to <i>host</i><b>/...</b>.\n",
      "</dd>\n"
     ]
    }
   ],
   "source": [
    "inspector.open_missing_detections(missing_regions)"
   ]
  },
  {
   "cell_type": "code",
   "execution_count": 15,
   "metadata": {
    "collapsed": false
   },
   "outputs": [
    {
     "name": "stdout",
     "output_type": "stream",
     "text": [
      "\n",
      "?? Open next example of missed detection? \n",
      " \n",
      "===== REGION 0 =====\n",
      "{Text: wget command - how to download files URL: http://127.0.0.1:8000/pages/wget/shell%20unix%20wget%20tutorial/2/alvinalexander.com/linux-unix/wget-command-shell-script-example-download-url.html, Element: HTML > BODY:nth-of-type(1) > DIV:nth-of-type(1) > DIV:nth-of-type(2) > DIV:nth-of-type(1) > DIV:nth-of-type(2) > DIV:nth-of-type(1) > DIV:nth-of-type(1) > DIV:nth-of-type(1) > DIV:nth-of-type(2) > DIV:nth-of-type(1) > DIV:nth-of-type(1) > DIV:nth-of-type(1), Offsets: (6, 41)}\n",
      "* Text:  wget command - how to download files\n",
      "* HTML:  too long to render\n"
     ]
    }
   ],
   "source": [
    "inspector.open_false_detections(false_regions)"
   ]
  },
  {
   "cell_type": "code",
   "execution_count": null,
   "metadata": {
    "collapsed": true
   },
   "outputs": [],
   "source": []
  }
 ],
 "metadata": {
  "kernelspec": {
   "display_name": "Python 2",
   "language": "python",
   "name": "python2"
  },
  "language_info": {
   "codemirror_mode": {
    "name": "ipython",
    "version": 2
   },
   "file_extension": ".py",
   "mimetype": "text/x-python",
   "name": "python",
   "nbconvert_exporter": "python",
   "pygments_lexer": "ipython2",
   "version": "2.7.9"
  }
 },
 "nbformat": 4,
 "nbformat_minor": 0
}
