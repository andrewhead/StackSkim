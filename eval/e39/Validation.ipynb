{
 "cells": [
  {
   "cell_type": "code",
   "execution_count": 1,
   "metadata": {
    "collapsed": false
   },
   "outputs": [],
   "source": [
    "import os.path\n",
    "import urllib\n",
    "import csv\n",
    "import time\n",
    "import glob\n",
    "\n",
    "from models import Page\n",
    "from open import build_local_url\n",
    "from order import get_test_lists\n",
    "from selenium import webdriver"
   ]
  },
  {
   "cell_type": "markdown",
   "metadata": {},
   "source": [
    "# Data Structures and Methods"
   ]
  },
  {
   "cell_type": "markdown",
   "metadata": {},
   "source": [
    "## Classes"
   ]
  },
  {
   "cell_type": "code",
   "execution_count": 2,
   "metadata": {
    "collapsed": false
   },
   "outputs": [],
   "source": [
    "class Region(object):\n",
    "    \n",
    "    def __init__(self, url, element, start_offset, end_offset):\n",
    "        self.url = url\n",
    "        self.element = element\n",
    "        self.start_offset = start_offset\n",
    "        self.end_offset = end_offset\n",
    "    \n",
    "    def __eq__(self, other):\n",
    "        return (isinstance(other, self.__class__)\n",
    "            and self.__dict__ == other.__dict__)\n",
    "\n",
    "    def __ne__(self, other):\n",
    "        return not self.__eq__(other)\n",
    "\n",
    "    def __repr__(self):\n",
    "        return \"{{URL: {url}, Element: {el}, Offsets: ({so}, {eo})}}\".format(\n",
    "            url=self.url, el=self.element, so=self.start_offset, eo=self.end_offset)"
   ]
  },
  {
   "cell_type": "markdown",
   "metadata": {},
   "source": [
    "## Methods for Computing Accuracy"
   ]
  },
  {
   "cell_type": "code",
   "execution_count": 3,
   "metadata": {
    "collapsed": true
   },
   "outputs": [],
   "source": [
    "def is_detected_region_true(region, truth_regions):\n",
    "    for truth_list in truth_regions.values():\n",
    "        if region in truth_list:\n",
    "            return True\n",
    "    return False"
   ]
  },
  {
   "cell_type": "code",
   "execution_count": 4,
   "metadata": {
    "collapsed": true
   },
   "outputs": [],
   "source": [
    "def is_true_region_detected(region_candidates, detected_regions):\n",
    "    ''' \n",
    "    A \"true\" region can be described relative to any number of its parent elements.\n",
    "    We pass in all of these possible region descriptions as 'region_candidates'.\n",
    "    '''\n",
    "    for r in region_candidates:\n",
    "        if r in detected_regions:\n",
    "            return True\n",
    "    return False"
   ]
  },
  {
   "cell_type": "code",
   "execution_count": 5,
   "metadata": {
    "collapsed": true
   },
   "outputs": [],
   "source": [
    "def precision(detected_regions, truth_regions):\n",
    "    correct = 0\n",
    "    false_regions = []\n",
    "    total = len(detected_regions)\n",
    "    for d in detected_regions:\n",
    "        if is_detected_region_true(d, truth_regions):\n",
    "            correct = correct + 1\n",
    "        else:\n",
    "            false_regions.append(d)\n",
    "    precision = correct / float(total)\n",
    "    return precision, false_regions"
   ]
  },
  {
   "cell_type": "code",
   "execution_count": 6,
   "metadata": {
    "collapsed": false
   },
   "outputs": [],
   "source": [
    "def recall(detected_regions, truth_regions):\n",
    "    found = 0\n",
    "    missing = {}\n",
    "    total = len(truth_regions.keys())\n",
    "    for key, true_region_candidates in truth_regions.items():\n",
    "        if is_true_region_detected(true_region_candidates, detected_regions):\n",
    "            found += 1\n",
    "        else:\n",
    "            missing[key] = true_region_candidates\n",
    "    recall = found / float(total)\n",
    "    return recall, missing"
   ]
  },
  {
   "cell_type": "markdown",
   "metadata": {},
   "source": [
    "### Tests for accuracy methods"
   ]
  },
  {
   "cell_type": "code",
   "execution_count": 7,
   "metadata": {
    "collapsed": true
   },
   "outputs": [],
   "source": [
    "truth_regions = {\n",
    "    ('url0', 0, 1): [Region('url0', 'el0', 0, 1), Region('url0', 'el1', 3, 4)],\n",
    "    ('url1', 1, 2): [Region('url1', 'el0', 1, 2), Region('url1', 'el1', 2, 3)],\n",
    "}"
   ]
  },
  {
   "cell_type": "code",
   "execution_count": 8,
   "metadata": {
    "collapsed": false
   },
   "outputs": [
    {
     "name": "stdout",
     "output_type": "stream",
     "text": [
      "True\n",
      "False\n"
     ]
    }
   ],
   "source": [
    "print is_detected_region_true(Region('url0', 'el1', 3, 4), truth_regions)  # True\n",
    "print is_detected_region_true(Region('url0', 'el2', 0, 1), truth_regions)  # False"
   ]
  },
  {
   "cell_type": "code",
   "execution_count": 9,
   "metadata": {
    "collapsed": false
   },
   "outputs": [
    {
     "name": "stdout",
     "output_type": "stream",
     "text": [
      "False\n",
      "True\n"
     ]
    }
   ],
   "source": [
    "detected_regions = [Region('url0', 'el0', 0, 1), Region('url1', 'el1', 1, 2)]\n",
    "region_candidates0 = [Region('url1', 'el1', 0, 1), Region('url0', 'el0', 1, 2)]\n",
    "region_candidates1 = [Region('url0', 'el0', 0, 1), Region('url0', 'el1', 1, 2)]\n",
    "print is_true_region_detected(region_candidates0, detected_regions)  # False\n",
    "print is_true_region_detected(region_candidates1, detected_regions)  # True        "
   ]
  },
  {
   "cell_type": "markdown",
   "metadata": {},
   "source": [
    "# Data Loading and Preparation"
   ]
  },
  {
   "cell_type": "code",
   "execution_count": 10,
   "metadata": {
    "collapsed": true
   },
   "outputs": [],
   "source": [
    "DETECTED_FILE = os.path.join('regions', 'detected', 'wget.tsv')\n",
    "TRUTH_FILE = os.path.join('regions', 'extracted', 'wget_validation.tsv')"
   ]
  },
  {
   "cell_type": "markdown",
   "metadata": {},
   "source": [
    "For now, we limit ourselves to considering only the first 50 cross-validation results.  Eventually we should be able to boost this number up to around 100."
   ]
  },
  {
   "cell_type": "code",
   "execution_count": 11,
   "metadata": {
    "collapsed": true
   },
   "outputs": [],
   "source": [
    "VALIDATION_SIZE = 50"
   ]
  },
  {
   "cell_type": "code",
   "execution_count": 18,
   "metadata": {
    "collapsed": false
   },
   "outputs": [],
   "source": [
    "wget_pages = get_test_lists('wget')['validation'][:VALIDATION_SIZE]\n",
    "validation_urls = [urllib.quote(build_local_url(p), safe='/:') for p in wget_pages]"
   ]
  },
  {
   "cell_type": "code",
   "execution_count": null,
   "metadata": {
    "collapsed": true
   },
   "outputs": [],
   "source": []
  },
  {
   "cell_type": "markdown",
   "metadata": {},
   "source": [
    "Load in the detections from the stored TSV files"
   ]
  },
  {
   "cell_type": "code",
   "execution_count": 46,
   "metadata": {
    "collapsed": false
   },
   "outputs": [],
   "source": [
    "detected_regions = []\n",
    "with open(DETECTED_FILE) as detected_tsv:\n",
    "    reader = csv.DictReader(detected_tsv, delimiter='\\t', \n",
    "        fieldnames=['timestamp', 'url', 'element', 'start_offset', 'end_offset'])\n",
    "    for r in reader:\n",
    "        if urllib.quote(r['url'], safe='/:') in validation_urls:\n",
    "            detected_regions.append(\n",
    "                Region(urllib.quote(r['url'], safe='/:'), r['element'], r['start_offset'], r['end_offset'])\n",
    "            )"
   ]
  },
  {
   "cell_type": "markdown",
   "metadata": {},
   "source": [
    "For the manually extracted regions, index each on by the absolute offsets within the page and the URL of the page.  This is because we extract all possible relative positions of the region within the page, but each of these are really the same region."
   ]
  },
  {
   "cell_type": "code",
   "execution_count": 47,
   "metadata": {
    "collapsed": false
   },
   "outputs": [],
   "source": [
    "with open(TRUTH_FILE, 'rU') as truth_tsv:\n",
    "    reader = csv.DictReader(truth_tsv, delimiter='\\t',\n",
    "        fieldnames=[\n",
    "            'rel_start_offset', 'rel_end_offset', 'element',\n",
    "            'url', 'abs_start_offset', 'abs_end_offset',\n",
    "        ])\n",
    "    truth_regions = {}\n",
    "    \n",
    "    for r in reader:\n",
    "        if r['url'] in validation_urls:\n",
    "            key = (r['url'], r['abs_start_offset'], r['abs_end_offset'])\n",
    "            if key not in truth_regions:\n",
    "                truth_regions[key] = []\n",
    "            truth_regions[key].append(\n",
    "                Region(r['url'], r['element'], r['rel_start_offset'], r['rel_end_offset'])\n",
    "            )"
   ]
  },
  {
   "cell_type": "markdown",
   "metadata": {},
   "source": [
    "## Verify that the regions have been properly loaded"
   ]
  },
  {
   "cell_type": "code",
   "execution_count": 48,
   "metadata": {
    "collapsed": true
   },
   "outputs": [],
   "source": [
    "detected_urls = set([r.url for r in detected_regions])\n",
    "truth_urls = set(key[0] for key in truth_regions.keys())"
   ]
  },
  {
   "cell_type": "code",
   "execution_count": 49,
   "metadata": {
    "collapsed": false
   },
   "outputs": [
    {
     "name": "stdout",
     "output_type": "stream",
     "text": [
      "30 37\n"
     ]
    }
   ],
   "source": [
    "print len(detected_urls), len(truth_urls)"
   ]
  },
  {
   "cell_type": "code",
   "execution_count": 50,
   "metadata": {
    "collapsed": false
   },
   "outputs": [
    {
     "name": "stdout",
     "output_type": "stream",
     "text": [
      "{URL: http://127.0.0.1:8000/pages/wget/linux%20scripting%20wget%20tutorial/7/askubuntu.com/questions/25599/get-wget-output-to-a-variable.html, Element: HTML > BODY:nth-of-type(1) > DIV:nth-of-type(5) > DIV:nth-of-type(2) > DIV:nth-of-type(1) > DIV:nth-of-type(3) > DIV:nth-of-type(2) > DIV:nth-of-type(2) > TABLE:nth-of-type(1) > TBODY:nth-of-type(1) > TR:nth-of-type(1) > TD:nth-of-type(2) > DIV:nth-of-type(1) > PRE:nth-of-type(1) > CODE:nth-of-type(1), Offsets: (9, 36)}\n"
     ]
    }
   ],
   "source": [
    "print detected_regions[0]"
   ]
  },
  {
   "cell_type": "code",
   "execution_count": 51,
   "metadata": {
    "collapsed": false
   },
   "outputs": [
    {
     "name": "stdout",
     "output_type": "stream",
     "text": [
      "{URL: http://127.0.0.1:8000/pages/wget/linux%20redirect%20wget%20tutorial/6/linux.die.net/man/1/wget.html, Element: HTML > BODY:nth-of-type(1) > DIV:nth-of-type(1) > DIV:nth-of-type(2) > DL:nth-of-type(13) > DT:nth-of-type(1) > P:nth-of-type(3), Offsets: (101, 161)}\n"
     ]
    }
   ],
   "source": [
    "print truth_regions.values()[0][0]"
   ]
  },
  {
   "cell_type": "markdown",
   "metadata": {},
   "source": [
    "# Compute Accuracy!"
   ]
  },
  {
   "cell_type": "code",
   "execution_count": 52,
   "metadata": {
    "collapsed": false
   },
   "outputs": [
    {
     "name": "stdout",
     "output_type": "stream",
     "text": [
      "Precision:  0.573333333333\n"
     ]
    }
   ],
   "source": [
    "prec, false_regions = precision(detected_regions, truth_regions)\n",
    "print \"Precision: \", prec"
   ]
  },
  {
   "cell_type": "code",
   "execution_count": 53,
   "metadata": {
    "collapsed": false
   },
   "outputs": [
    {
     "name": "stdout",
     "output_type": "stream",
     "text": [
      "Recall:  0.595744680851\n"
     ]
    }
   ],
   "source": [
    "rec, missing_regions = recall(detected_regions, truth_regions)\n",
    "print \"Recall: \", rec"
   ]
  },
  {
   "cell_type": "markdown",
   "metadata": {
    "collapsed": true
   },
   "source": [
    "## Save Results for posterity"
   ]
  },
  {
   "cell_type": "code",
   "execution_count": 54,
   "metadata": {
    "collapsed": false
   },
   "outputs": [],
   "source": [
    "def get_regions_filename(basename):\n",
    "    record_index = 0\n",
    "    while True:\n",
    "        record_prefix = '{basename}-{record_index}-'.format(\n",
    "            basename=basename, record_index=record_index)\n",
    "        record_prefix_path = os.path.join('regions', 'detected', 'history', record_prefix)\n",
    "        if not glob.glob(record_prefix_path + '*'):\n",
    "            ts = time.strftime('%Y%m%d-%H:%M:%S')\n",
    "            filename = record_prefix_path + ts + '.tsv'\n",
    "            return filename\n",
    "        record_index += 1"
   ]
  },
  {
   "cell_type": "code",
   "execution_count": 55,
   "metadata": {
    "collapsed": false
   },
   "outputs": [],
   "source": [
    "false_fn = get_regions_filename('false_detections')\n",
    "missing_fn = get_regions_filename('missing_regions')"
   ]
  },
  {
   "cell_type": "code",
   "execution_count": 56,
   "metadata": {
    "collapsed": true
   },
   "outputs": [],
   "source": [
    "def write_region(file_, r):\n",
    "    file_.write('\\t'.join([r.url, r.element, r.start_offset, r.end_offset]) + '\\n')"
   ]
  },
  {
   "cell_type": "code",
   "execution_count": 57,
   "metadata": {
    "collapsed": false
   },
   "outputs": [],
   "source": [
    "with open(false_fn, 'w') as false_file:\n",
    "    for r in false_regions:\n",
    "        write_region(false_file, r)"
   ]
  },
  {
   "cell_type": "code",
   "execution_count": 58,
   "metadata": {
    "collapsed": false
   },
   "outputs": [],
   "source": [
    "with open(missing_fn, 'w') as missing_file:\n",
    "    for _, region_list in missing_regions.items():\n",
    "        region = max(region_list, key=lambda r: len(r.element))\n",
    "        write_region(missing_file, region)"
   ]
  },
  {
   "cell_type": "markdown",
   "metadata": {},
   "source": [
    "## Examine False Positives"
   ]
  },
  {
   "cell_type": "code",
   "execution_count": 59,
   "metadata": {
    "collapsed": false
   },
   "outputs": [],
   "source": [
    "browser = webdriver.Firefox()"
   ]
  },
  {
   "cell_type": "code",
   "execution_count": 60,
   "metadata": {
    "collapsed": false
   },
   "outputs": [],
   "source": [
    "SHOW_REGION_SCRIPT = \"\"\"\n",
    "var node = document.querySelector('{element}');\n",
    "var range = document.createRange();\n",
    "range.selectNode(node);\n",
    "var selection = window.getSelection();\n",
    "selection.addRange(range);\n",
    "node.scrollIntoView();\n",
    "\"\"\"\n",
    "\n",
    "def show_region(browser, region):\n",
    "    browser.get(region.url)\n",
    "    if region.element != '':\n",
    "        browser.execute_script(SHOW_REGION_SCRIPT.format(element=region.element))"
   ]
  },
  {
   "cell_type": "markdown",
   "metadata": {},
   "source": [
    "The following scripts let us extract the text and HTML for a region, if we want to debug the detection.  Though note that they have to be run after the browser has already been directed to the page where the region appears."
   ]
  },
  {
   "cell_type": "code",
   "execution_count": 61,
   "metadata": {
    "collapsed": true
   },
   "outputs": [],
   "source": [
    "GET_TEXT_SCRIPT = \"\"\"\n",
    "var node = document.querySelector('{element}');\n",
    "return node.textContent.substring({start_offset}, {end_offset} + 1);\n",
    "\"\"\"\n",
    "\n",
    "def get_text(browser, region):\n",
    "    return browser.execute_script(GET_TEXT_SCRIPT.format(\n",
    "        element=region.element, start_offset=region.start_offset,\n",
    "        end_offset=region.end_offset))"
   ]
  },
  {
   "cell_type": "code",
   "execution_count": 62,
   "metadata": {
    "collapsed": true
   },
   "outputs": [],
   "source": [
    "GET_HTML_SCRIPT = \"\"\"\n",
    "var node = document.querySelector('{element}');\n",
    "return node.outerHTML;\n",
    "\"\"\"\n",
    "\n",
    "def get_html(browser, region):\n",
    "    return browser.execute_script(GET_HTML_SCRIPT.format(element=region.element))"
   ]
  },
  {
   "cell_type": "markdown",
   "metadata": {},
   "source": [
    "### Regions not Detected"
   ]
  },
  {
   "cell_type": "code",
   "execution_count": 63,
   "metadata": {
    "collapsed": false
   },
   "outputs": [],
   "source": [
    "def open_missing_detections(start_index=0, debug=True):\n",
    "    for i, (_, region_list) in enumerate(missing_regions.items()[start_index:], start_index):\n",
    "        ''' Most specific selector will be the longest one. '''\n",
    "        r = max(region_list, key=lambda r: len(r.element))\n",
    "        print \"\"\n",
    "        print \"?? Open next example of missed detection? \",\n",
    "        try:\n",
    "            again = raw_input()\n",
    "            if again.lower() == 'n':\n",
    "                break\n",
    "            print \"\"\n",
    "            print \"===== REGION %d =====\" % i\n",
    "            print r\n",
    "            show_region(browser, r)\n",
    "            if debug:\n",
    "                print \"* Text: \", get_text(browser, r)\n",
    "                html = get_html(browser,r)\n",
    "                print \"* HTML: \",\n",
    "                if len(html) > 1000:\n",
    "                    print \"too long to render\"\n",
    "                else:\n",
    "                    print html\n",
    "        except KeyboardInterrupt:\n",
    "            return"
   ]
  },
  {
   "cell_type": "code",
   "execution_count": null,
   "metadata": {
    "collapsed": false
   },
   "outputs": [
    {
     "name": "stdout",
     "output_type": "stream",
     "text": [
      "\n",
      "?? Open next example of missed detection? \n",
      " \n",
      "===== REGION 0 =====\n",
      "{URL: http://127.0.0.1:8000/pages/wget/linux%20redirect%20wget%20tutorial/6/linux.die.net/man/1/wget.html, Element: HTML > BODY:nth-of-type(1) > DIV:nth-of-type(1) > DIV:nth-of-type(2) > DL:nth-of-type(5) > DD:nth-of-type(4), Offsets: (99, 118)}\n",
      "* Text:  wget -r http://host \n",
      "* HTML:  <dd>Use the protocol name as a directory component of local file names. For example, with this option, <b>wget -r http://</b><i>host</i> will save to\n",
      "<b>http/</b><i>host</i><b>/...</b> rather than just to <i>host</i><b>/...</b>.\n",
      "</dd>\n",
      "\n",
      "?? Open next example of missed detection? \n",
      " \n",
      "===== REGION 1 =====\n",
      "{URL: http://127.0.0.1:8000/pages/wget/linux%20redirect%20wget%20tutorial/6/linux.die.net/man/1/wget.html, Element: HTML > BODY:nth-of-type(1) > DIV:nth-of-type(1) > DIV:nth-of-type(2) > DL:nth-of-type(13) > DT:nth-of-type(1) > P:nth-of-type(3), Offsets: (101, 161)}\n",
      "* Text:  wget -rl0 -kKE -t5 --no-proxy http://yoyodyne.com -o\n",
      "/tmp/log\n",
      "* HTML:  <p>Try to repeat the bug in as simple circumstances as possible. E.g. if Wget crashes while downloading <b>wget -rl0 -kKE -t5 --no-proxy http://yoyodyne.com -o\n",
      "/tmp/log</b>, you should try to see if the crash is repeatable, and if will occur with a simpler set of options. You might even try to start the download at\n",
      "the page where the crash occurred to see if that page somehow triggered the crash.\n",
      "</p>\n",
      "\n",
      "?? Open next example of missed detection? "
     ]
    }
   ],
   "source": [
    "open_missing_detections()"
   ]
  },
  {
   "cell_type": "markdown",
   "metadata": {},
   "source": [
    "### False Detections"
   ]
  },
  {
   "cell_type": "code",
   "execution_count": null,
   "metadata": {
    "collapsed": false
   },
   "outputs": [],
   "source": [
    "def open_false_detections(start_index=0, debug=True):\n",
    "    for i, r in enumerate(false_regions[start_index:], start_index):\n",
    "        print \"\"\n",
    "        print \"?? Open next example of false detection? \",\n",
    "        try:\n",
    "            again = raw_input()\n",
    "            if again.lower() == 'n':\n",
    "                break\n",
    "            print \"\"\n",
    "            print \"===== REGION %d =====\" % i\n",
    "            print r\n",
    "            show_region(browser, r)\n",
    "            if debug:\n",
    "                print \"* Text: \", get_text(browser, r)\n",
    "                html = get_html(browser,r)\n",
    "                print \"* HTML: \",\n",
    "                if len(html) > 1000:\n",
    "                    print \"too long to render\"\n",
    "                else:\n",
    "                    print html\n",
    "        except KeyboardInterrupt:\n",
    "            return"
   ]
  },
  {
   "cell_type": "code",
   "execution_count": null,
   "metadata": {
    "collapsed": false
   },
   "outputs": [
    {
     "name": "stdout",
     "output_type": "stream",
     "text": [
      "\n",
      "?? Open next example of false detection? \n",
      " \n",
      "===== REGION 0 =====\n",
      "{URL: http://127.0.0.1:8000/pages/wget/download%20http%20wget%20tutorial/4/www.gnu.org/software/wget/manual/html_node/Recursive-Retrieval-Options.html, Element: HTML > BODY:nth-of-type(1) > DL:nth-of-type(1) > DD:nth-of-type(7) > DIV:nth-of-type(3) > PRE:nth-of-type(1), Offsets: (0, 33)}\n",
      "* Text:  wget -r -l 1 -p http://site/1.html\n",
      "* HTML:  <pre class=\"example\">wget -r -l 1 -p http://<var>site</var>/1.html\n",
      "</pre>\n",
      "\n",
      "?? Open next example of false detection? \n",
      " \n",
      "===== REGION 1 =====\n",
      "{URL: http://127.0.0.1:8000/pages/wget/download%20http%20wget%20tutorial/4/www.gnu.org/software/wget/manual/html_node/Recursive-Retrieval-Options.html, Element: HTML > BODY:nth-of-type(1) > DL:nth-of-type(1) > DD:nth-of-type(7) > DIV:nth-of-type(4) > PRE:nth-of-type(1), Offsets: (0, 33)}\n",
      "* Text:  wget -r -l 0 -p http://site/1.html\n",
      "* HTML:  <pre class=\"example\">wget -r -l 0 -p http://<var>site</var>/1.html\n",
      "</pre>\n",
      "\n",
      "?? Open next example of false detection? \n",
      " \n",
      "===== REGION 2 =====\n",
      "{URL: http://127.0.0.1:8000/pages/wget/download%20http%20wget%20tutorial/4/www.gnu.org/software/wget/manual/html_node/Recursive-Retrieval-Options.html, Element: HTML > BODY:nth-of-type(1) > DL:nth-of-type(1) > DD:nth-of-type(7) > DIV:nth-of-type(3), Offsets: (1, 34)}\n",
      "* Text:  wget -r -l 1 -p http://site/1.html\n",
      "* HTML:  <div class=\"example\">\n",
      "<pre class=\"example\">wget -r -l 1 -p http://<var>site</var>/1.html\n",
      "</pre></div>\n",
      "\n",
      "?? Open next example of false detection? \n",
      " \n",
      "===== REGION 3 =====\n",
      "{URL: http://127.0.0.1:8000/pages/wget/download%20http%20wget%20tutorial/4/www.gnu.org/software/wget/manual/html_node/Recursive-Retrieval-Options.html, Element: HTML > BODY:nth-of-type(1) > DL:nth-of-type(1) > DD:nth-of-type(7) > DIV:nth-of-type(4), Offsets: (1, 34)}\n",
      "* Text:  wget -r -l 0 -p http://site/1.html\n",
      "* HTML:  <div class=\"example\">\n",
      "<pre class=\"example\">wget -r -l 0 -p http://<var>site</var>/1.html\n",
      "</pre></div>\n",
      "\n",
      "?? Open next example of false detection? \n",
      " \n",
      "===== REGION 4 =====\n",
      "{URL: http://127.0.0.1:8000/pages/wget/shell%20unix%20wget%20tutorial/2/alvinalexander.com/linux-unix/wget-command-shell-script-example-download-url.html, Element: HTML > BODY:nth-of-type(1) > DIV:nth-of-type(1) > DIV:nth-of-type(2) > DIV:nth-of-type(2) > DIV:nth-of-type(1) > DIV:nth-of-type(1) > DIV:nth-of-type(2) > PRE:nth-of-type(1), Offsets: (301, 330)}\n",
      "* Text:  wget $URL -O $FILE -o $LOGFILE\n",
      "* HTML:  <pre>#!/bin/sh\n",
      "\n",
      "# devdaily.com\n",
      "# a shell script used to download a specific url.\n",
      "# this is executed from a crontab entry every day.\n",
      "\n",
      "DIR=/cygdrive/c/Al/Reports\n",
      "\n",
      "# wget output file\n",
      "FILE=dailyinfo.`date +\"%Y%m%d\"`\n",
      "\n",
      "# wget log file\n",
      "LOGFILE=wget.log\n",
      "\n",
      "# wget download url\n",
      "URL=http://foo.com/myurl.html\n",
      "\n",
      "cd $DIR\n",
      "wget $URL -O $FILE -o $LOGFILE\n",
      "</pre>\n",
      "\n",
      "?? Open next example of false detection? "
     ]
    }
   ],
   "source": [
    "open_false_detections()"
   ]
  }
 ],
 "metadata": {
  "kernelspec": {
   "display_name": "Python 2",
   "language": "python",
   "name": "python2"
  },
  "language_info": {
   "codemirror_mode": {
    "name": "ipython",
    "version": 2
   },
   "file_extension": ".py",
   "mimetype": "text/x-python",
   "name": "python",
   "nbconvert_exporter": "python",
   "pygments_lexer": "ipython2",
   "version": "2.7.9"
  }
 },
 "nbformat": 4,
 "nbformat_minor": 0
}
