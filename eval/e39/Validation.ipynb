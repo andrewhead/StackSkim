{
 "cells": [
  {
   "cell_type": "code",
   "execution_count": 1,
   "metadata": {
    "collapsed": true
   },
   "outputs": [],
   "source": [
    "import sys\n",
    "import os.path\n",
    "sys.path.append(os.path.join(os.pardir, os.pardir, 'common'))"
   ]
  },
  {
   "cell_type": "code",
   "execution_count": 2,
   "metadata": {
    "collapsed": false
   },
   "outputs": [],
   "source": [
    "import urllib\n",
    "\n",
    "from evaluate import load_detected_regions, load_groundtruth_regions, save_results, print_stats, RegionInspector\n",
    "from open import build_local_url\n",
    "from order import get_test_lists"
   ]
  },
  {
   "cell_type": "markdown",
   "metadata": {},
   "source": [
    "# Data Loading and Preparation"
   ]
  },
  {
   "cell_type": "code",
   "execution_count": 19,
   "metadata": {
    "collapsed": true
   },
   "outputs": [],
   "source": [
    "DETECTED_FILE = os.path.join('regions', 'detected', 'wget.tsv')\n",
    "TRUTH_FILE = os.path.join('regions', 'extracted', 'wget_validation.txt')"
   ]
  },
  {
   "cell_type": "markdown",
   "metadata": {},
   "source": [
    "For now, we limit ourselves to considering only the first 50 cross-validation results.  Eventually we should be able to boost this number up to around 100."
   ]
  },
  {
   "cell_type": "code",
   "execution_count": 4,
   "metadata": {
    "collapsed": true
   },
   "outputs": [],
   "source": [
    "VALIDATION_SIZE = 50"
   ]
  },
  {
   "cell_type": "code",
   "execution_count": 5,
   "metadata": {
    "collapsed": false
   },
   "outputs": [],
   "source": [
    "wget_pages = get_test_lists('wget')['validation'][:VALIDATION_SIZE]\n",
    "validation_urls = [urllib.quote(build_local_url(p), safe='/:') for p in wget_pages]"
   ]
  },
  {
   "cell_type": "markdown",
   "metadata": {},
   "source": [
    "Load in the detections from the stored TSV files"
   ]
  },
  {
   "cell_type": "code",
   "execution_count": 21,
   "metadata": {
    "collapsed": false
   },
   "outputs": [],
   "source": [
    "detected_regions = load_detected_regions(DETECTED_FILE, validation_urls)"
   ]
  },
  {
   "cell_type": "code",
   "execution_count": 28,
   "metadata": {
    "collapsed": false
   },
   "outputs": [],
   "source": [
    "truth_regions = load_groundtruth_regions(TRUTH_FILE, valid_urls=validation_urls, delimiter=',,,')"
   ]
  },
  {
   "cell_type": "markdown",
   "metadata": {},
   "source": [
    "## Verify that the regions have been properly loaded"
   ]
  },
  {
   "cell_type": "code",
   "execution_count": 29,
   "metadata": {
    "collapsed": true
   },
   "outputs": [],
   "source": [
    "detected_urls = set([r.url for r in detected_regions])\n",
    "truth_urls = set(key[0] for key in truth_regions.keys())"
   ]
  },
  {
   "cell_type": "code",
   "execution_count": 30,
   "metadata": {
    "collapsed": false
   },
   "outputs": [
    {
     "name": "stdout",
     "output_type": "stream",
     "text": [
      "29 37\n"
     ]
    }
   ],
   "source": [
    "print len(detected_urls), len(truth_urls)"
   ]
  },
  {
   "cell_type": "code",
   "execution_count": 31,
   "metadata": {
    "collapsed": false
   },
   "outputs": [
    {
     "name": "stdout",
     "output_type": "stream",
     "text": [
      "<evaluate.Region object at 0x104bb5190>\n"
     ]
    }
   ],
   "source": [
    "print detected_regions[0]"
   ]
  },
  {
   "cell_type": "code",
   "execution_count": 32,
   "metadata": {
    "collapsed": false
   },
   "outputs": [
    {
     "name": "stdout",
     "output_type": "stream",
     "text": [
      "<evaluate.Region object at 0x104b4dfd0>\n"
     ]
    }
   ],
   "source": [
    "print truth_regions.values()[0][0]"
   ]
  },
  {
   "cell_type": "markdown",
   "metadata": {},
   "source": [
    "# Compute Accuracy!"
   ]
  },
  {
   "cell_type": "code",
   "execution_count": 33,
   "metadata": {
    "collapsed": false
   },
   "outputs": [
    {
     "name": "stdout",
     "output_type": "stream",
     "text": [
      "Precision: 0.9485 (129/136), Recall 0.6355 (129/203)\n",
      "Per-page Precision: 0.9393, Recall 0.6480\n"
     ]
    }
   ],
   "source": [
    "true_regions, false_regions, missing_regions = print_stats(detected_regions, truth_regions)"
   ]
  },
  {
   "cell_type": "markdown",
   "metadata": {
    "collapsed": true
   },
   "source": [
    "## Save Results for posterity"
   ]
  },
  {
   "cell_type": "code",
   "execution_count": 34,
   "metadata": {
    "collapsed": false
   },
   "outputs": [],
   "source": [
    "history_dir = os.path.join('regions', 'detected', 'history')"
   ]
  },
  {
   "cell_type": "code",
   "execution_count": 35,
   "metadata": {
    "collapsed": false
   },
   "outputs": [],
   "source": [
    "save_results(history_dir, false_regions, missing_regions)"
   ]
  },
  {
   "cell_type": "markdown",
   "metadata": {},
   "source": [
    "## Examine Detection Faults"
   ]
  },
  {
   "cell_type": "code",
   "execution_count": 13,
   "metadata": {
    "collapsed": true
   },
   "outputs": [],
   "source": [
    "inspector = RegionInspector()"
   ]
  },
  {
   "cell_type": "code",
   "execution_count": 14,
   "metadata": {
    "collapsed": false
   },
   "outputs": [
    {
     "name": "stdout",
     "output_type": "stream",
     "text": [
      "\n",
      "?? Open next example of missed detection? \n",
      " \n",
      "===== REGION 0 =====\n",
      "{Text: None URL: http://127.0.0.1:8000/pages/wget/linux%20redirect%20wget%20tutorial/6/linux.die.net/man/1/wget.html, Element: HTML > BODY:nth-of-type(1) > DIV:nth-of-type(1) > DIV:nth-of-type(2) > DL:nth-of-type(5) > DD:nth-of-type(4), Offsets: (99, 118)}\n",
      "* Text:  wget -r http://host \n",
      "* HTML:  <dd>Use the protocol name as a directory component of local file names. For example, with this option, <b>wget -r http://</b><i>host</i> will save to\n",
      "<b>http/</b><i>host</i><b>/...</b> rather than just to <i>host</i><b>/...</b>.\n",
      "</dd>\n",
      "\n",
      "\n",
      "===== REGION 1 =====\n",
      "{Text: None URL: http://127.0.0.1:8000/pages/wget/linux%20redirect%20wget%20tutorial/6/linux.die.net/man/1/wget.html, Element: HTML > BODY:nth-of-type(1) > DIV:nth-of-type(1) > DIV:nth-of-type(2) > DL:nth-of-type(13) > DT:nth-of-type(1) > P:nth-of-type(3), Offsets: (101, 161)}\n",
      "* Text:  wget -rl0 -kKE -t5 --no-proxy http://yoyodyne.com -o\n",
      "/tmp/log\n",
      "* HTML:  <p>Try to repeat the bug in as simple circumstances as possible. E.g. if Wget crashes while downloading <b>wget -rl0 -kKE -t5 --no-proxy http://yoyodyne.com -o\n",
      "/tmp/log</b>, you should try to see if the crash is repeatable, and if will occur with a simpler set of options. You might even try to start the download at\n",
      "the page where the crash occurred to see if that page somehow triggered the crash.\n",
      "</p>\n",
      "\n",
      "\n",
      "===== REGION 2 =====\n",
      "{Text: None URL: http://127.0.0.1:8000/pages/wget/crontab%20php%20wget%20tutorial/9/serverfault.com/questions/619542/piping-wget-output-to-dev-null-in-cron.html, Element: HTML > BODY:nth-of-type(1) > DIV:nth-of-type(5) > DIV:nth-of-type(2) > DIV:nth-of-type(1) > DIV:nth-of-type(3) > DIV:nth-of-type(1) > TABLE:nth-of-type(1) > TBODY:nth-of-type(1) > TR:nth-of-type(1) > TD:nth-of-type(2) > DIV:nth-of-type(1) > DIV:nth-of-type(1) > PRE:nth-of-type(1) > CODE:nth-of-type(1), Offsets: (12, 26)}\n",
      "* Text:  wget mysite.com\n",
      "* HTML:  <code>*/5 * * * * wget mysite.com &gt; /dev/null 2&gt;&amp;1\n",
      "</code>\n"
     ]
    }
   ],
   "source": [
    "inspector.open_missing_detections(missing_regions)"
   ]
  },
  {
   "cell_type": "code",
   "execution_count": 14,
   "metadata": {
    "collapsed": false
   },
   "outputs": [
    {
     "name": "stdout",
     "output_type": "stream",
     "text": [
      "\n",
      "?? Open next example of missed detection? \n",
      " \n",
      "===== REGION 0 =====\n",
      "{Text: wget -r -l 1 -p http://site/1.html URL: http://127.0.0.1:8000/pages/wget/download%20http%20wget%20tutorial/4/www.gnu.org/software/wget/manual/html_node/Recursive-Retrieval-Options.html, Element: HTML > BODY:nth-of-type(1) > DL:nth-of-type(1) > DD:nth-of-type(7) > DIV:nth-of-type(3) > PRE:nth-of-type(1), Offsets: (0, 33)}\n",
      "* Text:  wget -r -l 1 -p http://site/1.html\n",
      "* HTML:  <pre class=\"example\">wget -r -l 1 -p http://<var>site</var>/1.html\n",
      "</pre>\n",
      "\n",
      "\n",
      "===== REGION 1 =====\n",
      "{Text: wget -r -l 0 -p http://site/1.html URL: http://127.0.0.1:8000/pages/wget/download%20http%20wget%20tutorial/4/www.gnu.org/software/wget/manual/html_node/Recursive-Retrieval-Options.html, Element: HTML > BODY:nth-of-type(1) > DL:nth-of-type(1) > DD:nth-of-type(7) > DIV:nth-of-type(4) > PRE:nth-of-type(1), Offsets: (0, 33)}\n",
      "* Text:  wget -r -l 0 -p http://site/1.html\n",
      "* HTML:  <pre class=\"example\">wget -r -l 0 -p http://<var>site</var>/1.html\n",
      "</pre>\n",
      "\n",
      "\n",
      "===== REGION 2 =====\n",
      "{Text: wget command - how to download files URL: http://127.0.0.1:8000/pages/wget/shell%20unix%20wget%20tutorial/2/alvinalexander.com/linux-unix/wget-command-shell-script-example-download-url.html, Element: HTML > BODY:nth-of-type(1) > DIV:nth-of-type(1) > DIV:nth-of-type(2) > DIV:nth-of-type(1) > DIV:nth-of-type(2) > DIV:nth-of-type(1) > DIV:nth-of-type(1) > DIV:nth-of-type(1) > DIV:nth-of-type(2) > DIV:nth-of-type(1) > DIV:nth-of-type(1) > DIV:nth-of-type(1), Offsets: (6, 41)}\n",
      "* Text:  wget command - how to download files\n",
      "* HTML:  too long to render\n",
      "\n",
      "\n",
      "===== REGION 3 =====\n",
      "{Text: wget $URL -O $FILE -o $LOGFILE URL: http://127.0.0.1:8000/pages/wget/shell%20unix%20wget%20tutorial/2/alvinalexander.com/linux-unix/wget-command-shell-script-example-download-url.html, Element: HTML > BODY:nth-of-type(1) > DIV:nth-of-type(1) > DIV:nth-of-type(2) > DIV:nth-of-type(2) > DIV:nth-of-type(1) > DIV:nth-of-type(1) > DIV:nth-of-type(2) > PRE:nth-of-type(1), Offsets: (301, 330)}\n",
      "* Text:  wget $URL -O $FILE -o $LOGFILE\n",
      "* HTML:  <pre>#!/bin/sh\n",
      "\n",
      "# devdaily.com\n",
      "# a shell script used to download a specific url.\n",
      "# this is executed from a crontab entry every day.\n",
      "\n",
      "DIR=/cygdrive/c/Al/Reports\n",
      "\n",
      "# wget output file\n",
      "FILE=dailyinfo.`date +\"%Y%m%d\"`\n",
      "\n",
      "# wget log file\n",
      "LOGFILE=wget.log\n",
      "\n",
      "# wget download url\n",
      "URL=http://foo.com/myurl.html\n",
      "\n",
      "cd $DIR\n",
      "wget $URL -O $FILE -o $LOGFILE\n",
      "</pre>\n",
      "\n",
      "\n",
      "===== REGION 4 =====\n",
      "{Text: wget command - how to download files URL: http://127.0.0.1:8000/pages/wget/shell%20unix%20wget%20tutorial/2/alvinalexander.com/linux-unix/wget-command-shell-script-example-download-url.html, Element: HTML > BODY:nth-of-type(1) > DIV:nth-of-type(1) > DIV:nth-of-type(2) > DIV:nth-of-type(2) > DIV:nth-of-type(1) > DIV:nth-of-type(1) > DIV:nth-of-type(4) > DIV:nth-of-type(1) > DIV:nth-of-type(1) > DIV:nth-of-type(1), Offsets: (6, 41)}\n",
      "* Text:  wget command - how to download files\n",
      "* HTML:  too long to render\n",
      "\n",
      "\n",
      "===== REGION 5 =====\n",
      "{Text: wget you simply use the -c or –continue option. Some have a habit of always passing this option just in case. URL: http://127.0.0.1:8000/pages/wget/download%20ftp%20wget%20tutorial/8/www.unixtutorial.org/2014/07/how-to-use-wget-and-curl/, Element: HTML > BODY:nth-of-type(1) > DIV:nth-of-type(1) > DIV:nth-of-type(1) > DIV:nth-of-type(1) > DIV:nth-of-type(1) > MAIN:nth-of-type(1) > ARTICLE:nth-of-type(1) > DIV:nth-of-type(1) > P:nth-of-type(14), Offsets: (5, 113)}\n",
      "* Text:  wget you simply use the -c or –continue option. Some have a habit of always passing this option just in case.\n",
      "* HTML:  <p>With wget you simply use the -c or –continue option. Some have a habit of always passing this option just in case.</p>\n",
      "\n",
      "\n",
      "===== REGION 6 =====\n",
      "{Text: wget allows you to send an HTTP request with custom HTTP headers.  To supply custom HTTP headers, use \"--header\" option.  You can use \"--header\" option as many time as you want in a single run. URL: http://127.0.0.1:8000/pages/wget/linux%20redirect%20wget%20tutorial/7/xmodulo.com/how-to-use-custom-http-headers-with-wget.html, Element: HTML > BODY:nth-of-type(1) > DIV:nth-of-type(2) > DIV:nth-of-type(1) > DIV:nth-of-type(1) > DIV:nth-of-type(1) > DIV:nth-of-type(1) > ARTICLE:nth-of-type(1) > DIV:nth-of-type(2) > P:nth-of-type(4), Offsets: (0, 192)}\n",
      "* Text:  wget allows you to send an HTTP request with custom HTTP headers.  To supply custom HTTP headers, use \"--header\" option.  You can use \"--header\" option as many time as you want in a single run.\n",
      "* HTML:  <p><tt>wget</tt> allows you to send an HTTP request with custom HTTP headers.  To supply custom HTTP headers, use \"--header\" option.  You can use \"--header\" option as many time as you want in a single run.</p>\n",
      "\n",
      "\n",
      "===== REGION 7 =====\n",
      "{Text: wget --ignore-tags=a,area -H -k -K -r http://_site_/_document_ URL: http://127.0.0.1:8000/pages/wget/linux%20redirect%20wget%20tutorial/6/linux.die.net/man/1/wget.html, Element: HTML > BODY:nth-of-type(1) > DIV:nth-of-type(1) > DIV:nth-of-type(2) > DL:nth-of-type(10) > DD:nth-of-type(6) > PRE:nth-of-type(1), Offsets: (0, 61)}\n",
      "* Text:  wget --ignore-tags=a,area -H -k -K -r http://<site>/<document>\n",
      "* HTML:  <pre class=\"code\">wget --ignore-tags=a,area -H -k -K -r http://&lt;site&gt;/&lt;document&gt;</pre>\n",
      "\n",
      "\n",
      "===== REGION 8 =====\n",
      "{Text: WGET command: URL: http://127.0.0.1:8000/pages/wget/curl%20php%20wget%20tutorial/8/www.drupal.org/node/23714.html, Element: HTML > BODY:nth-of-type(1) > DIV:nth-of-type(3) > DIV:nth-of-type(1) > DIV:nth-of-type(3) > DIV:nth-of-type(1) > DIV:nth-of-type(1) > DIV:nth-of-type(1) > DIV:nth-of-type(1) > DIV:nth-of-type(1) > DIV:nth-of-type(1) > SECTION:nth-of-type(1) > DIV:nth-of-type(39) > DIV:nth-of-type(2) > DIV:nth-of-type(1) > DIV:nth-of-type(1) > DIV:nth-of-type(1) > P:nth-of-type(4), Offsets: (0, 12)}\n",
      "* Text:  WGET command:\n",
      "* HTML:  <p>WGET command:<br>\n",
      "use \"wget\" or \"/usr/bin/wget\"</p>\n",
      "\n",
      "\n",
      "===== REGION 9 =====\n",
      "{Text: /usr/bin/wget http://www.mydomain.com/cron.php >/dev/null 2>&1 URL: http://127.0.0.1:8000/pages/wget/curl%20php%20wget%20tutorial/8/www.drupal.org/node/23714.html, Element: HTML > BODY:nth-of-type(1) > DIV:nth-of-type(3) > DIV:nth-of-type(1) > DIV:nth-of-type(3) > DIV:nth-of-type(1) > DIV:nth-of-type(1) > DIV:nth-of-type(1) > DIV:nth-of-type(1) > DIV:nth-of-type(1) > DIV:nth-of-type(1) > SECTION:nth-of-type(1) > DIV:nth-of-type(39) > DIV:nth-of-type(2) > DIV:nth-of-type(1) > DIV:nth-of-type(1) > DIV:nth-of-type(1) > P:nth-of-type(5), Offsets: (195, 256)}\n",
      "* Text:  /usr/bin/wget http://www.mydomain.com/cron.php >/dev/null 2>&1\n",
      "* HTML:  <p>/usr/bin/wget <a href=\"http://www.mydomain.com/cron.php\">http://www.mydomain.com/cron.php</a><br>\n",
      "wget <a href=\"http://www.mydomain.com/cron.php\">http://www.mydomain.com/cron.php</a> -O /dev/null<br>\n",
      "wget -O /dev/null <a href=\"http://www.mydomain.com/cron.php\">www.mydomain.com/cron.php</a><br>\n",
      "/usr/bin/wget -O - -q -t 1 <a href=\"http://www.mydomain.com/cron.php\">www.mydomain.com/cron.php</a><br>\n",
      "/usr/bin/wget <a href=\"http://www.mydomain.com/cron.php\">http://www.mydomain.com/cron.php</a> &gt;/dev/null 2&gt;&amp;1</p>\n",
      "\n",
      "\n",
      "===== REGION 10 =====\n",
      "{Text: wget --load-cookies=cookies.txt http://en.wikipedia.org/wiki/User:A URL: http://127.0.0.1:8000/pages/wget/curl%20javascript%20wget%20tutorial/3/askubuntu.com/questions/161778/how-do-i-use-wget-curl-to-download-from-a-site-i-am-logged-into.html, Element: HTML > BODY:nth-of-type(1) > DIV:nth-of-type(5) > DIV:nth-of-type(2) > DIV:nth-of-type(1) > DIV:nth-of-type(3) > DIV:nth-of-type(2) > DIV:nth-of-type(2) > TABLE:nth-of-type(1) > TBODY:nth-of-type(1) > TR:nth-of-type(1) > TD:nth-of-type(2) > DIV:nth-of-type(1) > OL:nth-of-type(1) > LI:nth-of-type(2) > PRE:nth-of-type(1) > CODE:nth-of-type(1), Offsets: (0, 66)}\n",
      "* Text:  wget --load-cookies=cookies.txt http://en.wikipedia.org/wiki/User:A\n",
      "* HTML:  <code>wget --load-cookies=cookies.txt http://en.wikipedia.org/wiki/User:A\n",
      "</code>\n",
      "\n",
      "\n",
      "===== REGION 11 =====\n",
      "{Text: wget --spider --force-html -r -l1 http://somesite.com 2>&1 URL: http://127.0.0.1:8000/pages/wget/python%20web-crawler%20wget%20tutorial/2/stackoverflow.com/questions/2804467/spider-a-website-and-return-urls-only.html, Element: HTML > BODY:nth-of-type(1) > DIV:nth-of-type(5) > DIV:nth-of-type(2) > DIV:nth-of-type(1) > DIV:nth-of-type(3) > DIV:nth-of-type(1) > TABLE:nth-of-type(1) > TBODY:nth-of-type(1) > TR:nth-of-type(1) > TD:nth-of-type(2) > DIV:nth-of-type(1) > DIV:nth-of-type(1) > PRE:nth-of-type(2) > CODE:nth-of-type(1), Offsets: (0, 57)}\n",
      "* Text:  wget --spider --force-html -r -l1 http://somesite.com 2>&1\n",
      "* HTML:  <code>wget --spider --force-html -r -l1 http://somesite.com 2&gt;&amp;1 | grep 'Saving to:'\n",
      "</code>\n",
      "\n",
      "\n",
      "===== REGION 12 =====\n",
      "{Text: wget -r --spider -l1 -A mp3 http://example.com/page-with-mp3s 2>&1 URL: http://127.0.0.1:8000/pages/wget/python%20web-crawler%20wget%20tutorial/2/stackoverflow.com/questions/2804467/spider-a-website-and-return-urls-only.html, Element: HTML > BODY:nth-of-type(1) > DIV:nth-of-type(5) > DIV:nth-of-type(2) > DIV:nth-of-type(1) > DIV:nth-of-type(3) > DIV:nth-of-type(2) > DIV:nth-of-type(2) > TABLE:nth-of-type(1) > TBODY:nth-of-type(1) > TR:nth-of-type(2) > TD:nth-of-type(2) > DIV:nth-of-type(1) > TABLE:nth-of-type(1) > TBODY:nth-of-type(1) > TR:nth-of-type(1) > TD:nth-of-type(2) > DIV:nth-of-type(1) > SPAN:nth-of-type(1) > CODE:nth-of-type(1), Offsets: (0, 65)}\n",
      "* Text:  wget -r --spider -l1 -A mp3 http://example.com/page-with-mp3s 2>&1\n",
      "* HTML:  <code>wget -r --spider -l1 -A mp3 http://example.com/page-with-mp3s 2&gt;&amp;1 | grep -Eio http.+mp3</code>\n",
      "\n",
      "\n",
      "===== REGION 13 =====\n",
      "{Text: wget mysite.com > /dev/null 2>&1 URL: http://127.0.0.1:8000/pages/wget/crontab%20php%20wget%20tutorial/9/serverfault.com/questions/619542/piping-wget-output-to-dev-null-in-cron.html, Element: HTML > BODY:nth-of-type(1) > DIV:nth-of-type(5) > DIV:nth-of-type(2) > DIV:nth-of-type(1) > DIV:nth-of-type(3) > DIV:nth-of-type(1) > TABLE:nth-of-type(1) > TBODY:nth-of-type(1) > TR:nth-of-type(1) > TD:nth-of-type(2) > DIV:nth-of-type(1) > DIV:nth-of-type(1) > PRE:nth-of-type(1) > CODE:nth-of-type(1), Offsets: (12, 43)}\n",
      "* Text:  wget mysite.com > /dev/null 2>&1\n",
      "* HTML:  <code>*/5 * * * * wget mysite.com &gt; /dev/null 2&gt;&amp;1\n",
      "</code>\n",
      "\n",
      "\n",
      "===== REGION 14 =====\n",
      "{Text: wget -O /dev/null -o /dev/null example.com URL: http://127.0.0.1:8000/pages/wget/crontab%20php%20wget%20tutorial/9/serverfault.com/questions/619542/piping-wget-output-to-dev-null-in-cron.html, Element: HTML > BODY:nth-of-type(1) > DIV:nth-of-type(5) > DIV:nth-of-type(2) > DIV:nth-of-type(1) > DIV:nth-of-type(3) > DIV:nth-of-type(2) > DIV:nth-of-type(2) > TABLE:nth-of-type(1) > TBODY:nth-of-type(1) > TR:nth-of-type(1) > TD:nth-of-type(2) > DIV:nth-of-type(1) > PRE:nth-of-type(1) > CODE:nth-of-type(1), Offsets: (12, 53)}\n",
      "* Text:  wget -O /dev/null -o /dev/null example.com\n",
      "* HTML:  <code>*/5 * * * * wget -O /dev/null -o /dev/null example.com\n",
      "</code>\n",
      "\n",
      "\n",
      "===== REGION 15 =====\n",
      "{Text: wget -O - mysite.com > /dev/null 2>&1 URL: http://127.0.0.1:8000/pages/wget/crontab%20php%20wget%20tutorial/9/serverfault.com/questions/619542/piping-wget-output-to-dev-null-in-cron.html, Element: HTML > BODY:nth-of-type(1) > DIV:nth-of-type(5) > DIV:nth-of-type(2) > DIV:nth-of-type(1) > DIV:nth-of-type(3) > DIV:nth-of-type(2) > DIV:nth-of-type(5) > TABLE:nth-of-type(1) > TBODY:nth-of-type(1) > TR:nth-of-type(1) > TD:nth-of-type(2) > DIV:nth-of-type(1) > PRE:nth-of-type(1) > CODE:nth-of-type(1), Offsets: (11, 47)}\n",
      "* Text:  wget -O - mysite.com > /dev/null 2>&1\n",
      "* HTML:  <code>/5 * * * * wget -O - mysite.com &gt; /dev/null 2&gt;&amp;1\n",
      "</code>\n",
      "\n",
      "\n",
      "===== REGION 16 =====\n",
      "{Text: wget -q --spider mysite.com URL: http://127.0.0.1:8000/pages/wget/crontab%20php%20wget%20tutorial/9/serverfault.com/questions/619542/piping-wget-output-to-dev-null-in-cron.html, Element: HTML > BODY:nth-of-type(1) > DIV:nth-of-type(5) > DIV:nth-of-type(2) > DIV:nth-of-type(1) > DIV:nth-of-type(3) > DIV:nth-of-type(2) > DIV:nth-of-type(7) > TABLE:nth-of-type(1) > TBODY:nth-of-type(1) > TR:nth-of-type(1) > TD:nth-of-type(2) > DIV:nth-of-type(1) > PRE:nth-of-type(2) > CODE:nth-of-type(1), Offsets: (12, 38)}\n",
      "* Text:  wget -q --spider mysite.com\n",
      "* HTML:  <code>*/5 * * * * wget -q --spider mysite.com\n",
      "</code>\n",
      "\n",
      "\n",
      "===== REGION 17 =====\n",
      "{Text: wget someArgs URL: http://127.0.0.1:8000/pages/wget/grep%20linux%20wget%20tutorial/1/superuser.com/questions/431581/how-to-combine-wget-and-grep.html, Element: HTML > BODY:nth-of-type(1) > DIV:nth-of-type(5) > DIV:nth-of-type(2) > DIV:nth-of-type(1) > DIV:nth-of-type(3) > DIV:nth-of-type(1) > TABLE:nth-of-type(1) > TBODY:nth-of-type(1) > TR:nth-of-type(1) > TD:nth-of-type(2) > DIV:nth-of-type(1) > DIV:nth-of-type(1) > P:nth-of-type(1) > CODE:nth-of-type(1), Offsets: (0, 12)}\n",
      "* Text:  wget someArgs\n",
      "* HTML:  <code>wget someArgs | grep keyword</code>\n",
      "\n",
      "\n",
      "===== REGION 18 =====\n",
      "{Text: wget to go into background immediately after startup.  If no output file is specified via the -o option, output is redirected to wget-log file: URL: http://127.0.0.1:8000/pages/wget/php%20shell%20wget%20tutorial/5/www.cyberciti.biz/tips/linux-wget-your-ultimate-command-line-downloader.html, Element: HTML > BODY:nth-of-type(1) > DIV:nth-of-type(1) > DIV:nth-of-type(2) > DIV:nth-of-type(1) > DIV:nth-of-type(1) > DIV:nth-of-type(2) > P:nth-of-type(9), Offsets: (28, 170)}\n",
      "* Text:  wget to go into background immediately after startup.  If no output file is specified via the -o option, output is redirected to wget-log file:\n",
      "* HTML:  <p>The -o option used to force wget to go into background immediately after startup.  If no output file is specified via the -o option, output is redirected to wget-log file:<br> <code>$ wget -cb -o /tmp/download.log -i /tmp/download.txt</code><br> OR<br> <code>$ nohup wget -c -o /tmp/download.log -i /tmp/download.txt &amp;</code><br> <a href=\"http://www.cyberciti.biz/tips/nohup-execute-commands-after-you-exit-from-a-shell-prompt.html\">nohup runs the</a> given COMMAND (in this example wget) with hangup signals ignored, so that the command can continue running in the background after you log out.</p>\n",
      "\n",
      "\n",
      "===== REGION 19 =====\n",
      "{Text: wget ftp://somedom.com/pub/downloads/*.pdf URL: http://127.0.0.1:8000/pages/wget/php%20shell%20wget%20tutorial/5/www.cyberciti.biz/tips/linux-wget-your-ultimate-command-line-downloader.html, Element: HTML > BODY:nth-of-type(1) > DIV:nth-of-type(1) > DIV:nth-of-type(2) > DIV:nth-of-type(1) > DIV:nth-of-type(1) > DIV:nth-of-type(2) > P:nth-of-type(13) > CODE:nth-of-type(1), Offsets: (3, 44)}\n",
      "* Text:  wget ftp://somedom.com/pub/downloads/*.pdf\n",
      "* HTML:  <code>$  wget ftp://somedom.com/pub/downloads/*.pdf<br> $  wget ftp://somedom.com/pub/downloads/*.pdf</code>\n",
      "\n",
      "\n",
      "===== REGION 20 =====\n",
      "{Text: wget ftp://somedom.com/pub/downloads/*.pdf URL: http://127.0.0.1:8000/pages/wget/php%20shell%20wget%20tutorial/5/www.cyberciti.biz/tips/linux-wget-your-ultimate-command-line-downloader.html, Element: HTML > BODY:nth-of-type(1) > DIV:nth-of-type(1) > DIV:nth-of-type(2) > DIV:nth-of-type(1) > DIV:nth-of-type(1) > DIV:nth-of-type(2) > P:nth-of-type(13) > CODE:nth-of-type(1), Offsets: (49, 90)}\n",
      "* Text:  wget ftp://somedom.com/pub/downloads/*.pdf\n",
      "* HTML:  <code>$  wget ftp://somedom.com/pub/downloads/*.pdf<br> $  wget ftp://somedom.com/pub/downloads/*.pdf</code>\n",
      "\n",
      "\n",
      "===== REGION 21 =====\n",
      "{Text: wget -i list.txt URL: http://127.0.0.1:8000/pages/wget/php%20shell%20wget%20tutorial/5/www.cyberciti.biz/tips/linux-wget-your-ultimate-command-line-downloader.html, Element: HTML > BODY:nth-of-type(1) > DIV:nth-of-type(1) > DIV:nth-of-type(2) > DIV:nth-of-type(1) > DIV:nth-of-type(2) > UL:nth-of-type(1) > LI:nth-of-type(2) > DIV:nth-of-type(2) > P:nth-of-type(2), Offsets: (79, 94)}\n",
      "* Text:  wget -i list.txt\n",
      "* HTML:  <p>Try to use -i option as described above to fetch list of files from text file.<br> wget -i list.txt</p>\n"
     ]
    }
   ],
   "source": [
    "inspector.open_false_detections(false_regions)"
   ]
  },
  {
   "cell_type": "code",
   "execution_count": null,
   "metadata": {
    "collapsed": true
   },
   "outputs": [],
   "source": []
  }
 ],
 "metadata": {
  "kernelspec": {
   "display_name": "Python 2",
   "language": "python",
   "name": "python2"
  },
  "language_info": {
   "codemirror_mode": {
    "name": "ipython",
    "version": 2
   },
   "file_extension": ".py",
   "mimetype": "text/x-python",
   "name": "python",
   "nbconvert_exporter": "python",
   "pygments_lexer": "ipython2",
   "version": "2.7.9"
  }
 },
 "nbformat": 4,
 "nbformat_minor": 0
}
