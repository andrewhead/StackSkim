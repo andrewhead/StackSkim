{
 "metadata": {
  "name": "",
  "signature": "sha256:7066b7ab337702c8e89ed17ed5f0dfeed84ec7cf419495846fca5949928211d4"
 },
 "nbformat": 3,
 "nbformat_minor": 0,
 "worksheets": [
  {
   "cells": [
    {
     "cell_type": "code",
     "collapsed": false,
     "input": [
      "from __future__ import unicode_literals\n",
      "import os.path\n",
      "import cssselect\n",
      "from bs4 import BeautifulSoup as Soup"
     ],
     "language": "python",
     "metadata": {},
     "outputs": [],
     "prompt_number": 34
    },
    {
     "cell_type": "code",
     "collapsed": false,
     "input": [
      "TUTORIAL_DIR = 'tutorials'"
     ],
     "language": "python",
     "metadata": {},
     "outputs": [],
     "prompt_number": 35
    },
    {
     "cell_type": "markdown",
     "metadata": {},
     "source": [
      "These are the selectors that we want to test, and the ID of the tutorial that they come from."
     ]
    },
    {
     "cell_type": "code",
     "collapsed": false,
     "input": [
      "SELECTORS = [\n",
      "    {'pattern': 'div.featured a', 'doc_id': 1},\n",
      "    {'pattern': 'div#footer_inner strong', 'doc_id': 1},\n",
      "    {'pattern': 'div.video-summary-data a[href^=/video]', 'doc_id': 2},\n",
      "    {'pattern': 'div.video-summary-data a[href^=/video]', 'doc_id': 2},\n",
      "    {'pattern': 'div.video-summary-data a[href^=/video]', 'doc_id': 2},\n",
      "    {'pattern': 'div#videobox h3', 'doc_id': 2},\n",
      "    {'pattern': 'div#sidebar a[href^=/speaker]', 'doc_id': 2},\n",
      "    {'pattern': 'div#sidebar a[href^=http://www.youtube.com]', 'doc_id': 2},\n",
      "    {'pattern': '.watch-view-count', 'doc_id': 2},\n",
      "    {'pattern': '.likes-count', 'doc_id': 2},\n",
      "    {'pattern': '.dislikes-count', 'doc_id': 2},\n",
      "    {'pattern': 'div.foo li a', 'doc_id': 3},\n",
      "    {'pattern': 'html body div.results dl dt a', 'doc_id': 4},\n",
      "    {'pattern': 'html body div.results dl dt a[href]', 'doc_id': 4},\n",
      "    {'pattern': 'div.results dl dt a', 'doc_id': 4},\n",
      "    {'pattern': 'html body div.results dl dt a[href]', 'doc_id': 4},\n",
      "    {'pattern': 'html body div.results dl dt a[href]', 'doc_id': 4},\n",
      "    {'pattern': '#storyBody p a', 'doc_id': 5},\n",
      "    {'pattern': '#storyBody a', 'doc_id': 5},\n",
      "    {'pattern': 'h1.headline', 'doc_id': 5},\n",
      "    {'pattern': '.boc1', 'doc_id': 5},\n",
      "    {'pattern': '.boc2', 'doc_id': 5},\n",
      "    {'pattern': 'h1.headline', 'doc_id': 5},\n",
      "    {'pattern': '.boc1', 'doc_id': 5},\n",
      "    {'pattern': '.boc2', 'doc_id': 5},\n",
      "    {'pattern': 'p.introduction::text', 'doc_id': 6},\n",
      "]"
     ],
     "language": "python",
     "metadata": {},
     "outputs": [],
     "prompt_number": 36
    },
    {
     "cell_type": "markdown",
     "metadata": {},
     "source": [
      "We define helper functions for the procedures below"
     ]
    },
    {
     "cell_type": "code",
     "collapsed": false,
     "input": [
      "def get_nodes(t, type_=object):\n",
      "    ''' Get all nodes in an XPath created by cssselect.parse of a specifed type '''\n",
      "    descendants = []\n",
      "    if isinstance(t, list):\n",
      "        descendants = [i for el in t for i in get_nodes(el, type_)]\n",
      "    elif hasattr(t, '__dict__'):\n",
      "        descendants = [t] + [i for child in t.__dict__.values() for i in get_nodes(child, type_)]\n",
      "    elif isinstance(t, dict):\n",
      "        descendants = [i for child in t for i in get_nodes(child, type_)]\n",
      "    descendants = [d for d in descendants if isinstance(d, type_)]\n",
      "    return descendants"
     ],
     "language": "python",
     "metadata": {},
     "outputs": [],
     "prompt_number": 43
    },
    {
     "cell_type": "code",
     "collapsed": false,
     "input": [
      "res = cssselect.parse('div.klazz p.pear:hover')"
     ],
     "language": "python",
     "metadata": {},
     "outputs": [],
     "prompt_number": 44
    },
    {
     "cell_type": "code",
     "collapsed": false,
     "input": [
      "get_nodes(res)"
     ],
     "language": "python",
     "metadata": {},
     "outputs": [
      {
       "ename": "TypeError",
       "evalue": "'NoneType' object is not iterable",
       "output_type": "pyerr",
       "traceback": [
        "\u001b[0;31m---------------------------------------------------------------------------\u001b[0m\n\u001b[0;31mTypeError\u001b[0m                                 Traceback (most recent call last)",
        "\u001b[0;32m<ipython-input-45-b0e83a75a1dd>\u001b[0m in \u001b[0;36m<module>\u001b[0;34m()\u001b[0m\n\u001b[0;32m----> 1\u001b[0;31m \u001b[0mget_nodes\u001b[0m\u001b[0;34m(\u001b[0m\u001b[0mres\u001b[0m\u001b[0;34m)\u001b[0m\u001b[0;34m\u001b[0m\u001b[0m\n\u001b[0m",
        "\u001b[0;32m<ipython-input-43-c4de5908b419>\u001b[0m in \u001b[0;36mget_nodes\u001b[0;34m(t, type_)\u001b[0m\n\u001b[1;32m      3\u001b[0m     \u001b[0mdescendants\u001b[0m \u001b[0;34m=\u001b[0m \u001b[0;34m[\u001b[0m\u001b[0;34m]\u001b[0m\u001b[0;34m\u001b[0m\u001b[0m\n\u001b[1;32m      4\u001b[0m     \u001b[0;32mif\u001b[0m \u001b[0misinstance\u001b[0m\u001b[0;34m(\u001b[0m\u001b[0mt\u001b[0m\u001b[0;34m,\u001b[0m \u001b[0mlist\u001b[0m\u001b[0;34m)\u001b[0m\u001b[0;34m:\u001b[0m\u001b[0;34m\u001b[0m\u001b[0m\n\u001b[0;32m----> 5\u001b[0;31m         \u001b[0mdescendants\u001b[0m \u001b[0;34m=\u001b[0m \u001b[0;34m[\u001b[0m\u001b[0mi\u001b[0m \u001b[0;32mfor\u001b[0m \u001b[0mel\u001b[0m \u001b[0;32min\u001b[0m \u001b[0mt\u001b[0m \u001b[0;32mfor\u001b[0m \u001b[0mi\u001b[0m \u001b[0;32min\u001b[0m \u001b[0mget_nodes\u001b[0m\u001b[0;34m(\u001b[0m\u001b[0mel\u001b[0m\u001b[0;34m,\u001b[0m \u001b[0mtype_\u001b[0m\u001b[0;34m)\u001b[0m\u001b[0;34m]\u001b[0m\u001b[0;34m\u001b[0m\u001b[0m\n\u001b[0m\u001b[1;32m      6\u001b[0m     \u001b[0;32melif\u001b[0m \u001b[0mhasattr\u001b[0m\u001b[0;34m(\u001b[0m\u001b[0mt\u001b[0m\u001b[0;34m,\u001b[0m \u001b[0;34m'__dict__'\u001b[0m\u001b[0;34m)\u001b[0m\u001b[0;34m:\u001b[0m\u001b[0;34m\u001b[0m\u001b[0m\n\u001b[1;32m      7\u001b[0m         \u001b[0mdescendants\u001b[0m \u001b[0;34m=\u001b[0m \u001b[0;34m[\u001b[0m\u001b[0mt\u001b[0m\u001b[0;34m]\u001b[0m \u001b[0;34m+\u001b[0m \u001b[0;34m[\u001b[0m\u001b[0mi\u001b[0m \u001b[0;32mfor\u001b[0m \u001b[0mchild\u001b[0m \u001b[0;32min\u001b[0m \u001b[0mt\u001b[0m\u001b[0;34m.\u001b[0m\u001b[0m__dict__\u001b[0m\u001b[0;34m.\u001b[0m\u001b[0mvalues\u001b[0m\u001b[0;34m(\u001b[0m\u001b[0;34m)\u001b[0m \u001b[0;32mfor\u001b[0m \u001b[0mi\u001b[0m \u001b[0;32min\u001b[0m \u001b[0mget_nodes\u001b[0m\u001b[0;34m(\u001b[0m\u001b[0mchild\u001b[0m\u001b[0;34m,\u001b[0m \u001b[0mtype_\u001b[0m\u001b[0;34m)\u001b[0m\u001b[0;34m]\u001b[0m\u001b[0;34m\u001b[0m\u001b[0m\n",
        "\u001b[0;32m<ipython-input-43-c4de5908b419>\u001b[0m in \u001b[0;36mget_nodes\u001b[0;34m(t, type_)\u001b[0m\n\u001b[1;32m      5\u001b[0m         \u001b[0mdescendants\u001b[0m \u001b[0;34m=\u001b[0m \u001b[0;34m[\u001b[0m\u001b[0mi\u001b[0m \u001b[0;32mfor\u001b[0m \u001b[0mel\u001b[0m \u001b[0;32min\u001b[0m \u001b[0mt\u001b[0m \u001b[0;32mfor\u001b[0m \u001b[0mi\u001b[0m \u001b[0;32min\u001b[0m \u001b[0mget_nodes\u001b[0m\u001b[0;34m(\u001b[0m\u001b[0mel\u001b[0m\u001b[0;34m,\u001b[0m \u001b[0mtype_\u001b[0m\u001b[0;34m)\u001b[0m\u001b[0;34m]\u001b[0m\u001b[0;34m\u001b[0m\u001b[0m\n\u001b[1;32m      6\u001b[0m     \u001b[0;32melif\u001b[0m \u001b[0mhasattr\u001b[0m\u001b[0;34m(\u001b[0m\u001b[0mt\u001b[0m\u001b[0;34m,\u001b[0m \u001b[0;34m'__dict__'\u001b[0m\u001b[0;34m)\u001b[0m\u001b[0;34m:\u001b[0m\u001b[0;34m\u001b[0m\u001b[0m\n\u001b[0;32m----> 7\u001b[0;31m         \u001b[0mdescendants\u001b[0m \u001b[0;34m=\u001b[0m \u001b[0;34m[\u001b[0m\u001b[0mt\u001b[0m\u001b[0;34m]\u001b[0m \u001b[0;34m+\u001b[0m \u001b[0;34m[\u001b[0m\u001b[0mi\u001b[0m \u001b[0;32mfor\u001b[0m \u001b[0mchild\u001b[0m \u001b[0;32min\u001b[0m \u001b[0mt\u001b[0m\u001b[0;34m.\u001b[0m\u001b[0m__dict__\u001b[0m\u001b[0;34m.\u001b[0m\u001b[0mvalues\u001b[0m\u001b[0;34m(\u001b[0m\u001b[0;34m)\u001b[0m \u001b[0;32mfor\u001b[0m \u001b[0mi\u001b[0m \u001b[0;32min\u001b[0m \u001b[0mget_nodes\u001b[0m\u001b[0;34m(\u001b[0m\u001b[0mchild\u001b[0m\u001b[0;34m,\u001b[0m \u001b[0mtype_\u001b[0m\u001b[0;34m)\u001b[0m\u001b[0;34m]\u001b[0m\u001b[0;34m\u001b[0m\u001b[0m\n\u001b[0m\u001b[1;32m      8\u001b[0m     \u001b[0;32melif\u001b[0m \u001b[0misinstance\u001b[0m\u001b[0;34m(\u001b[0m\u001b[0mt\u001b[0m\u001b[0;34m,\u001b[0m \u001b[0mdict\u001b[0m\u001b[0;34m)\u001b[0m\u001b[0;34m:\u001b[0m\u001b[0;34m\u001b[0m\u001b[0m\n\u001b[1;32m      9\u001b[0m         \u001b[0mdescendants\u001b[0m \u001b[0;34m=\u001b[0m \u001b[0;34m[\u001b[0m\u001b[0mi\u001b[0m \u001b[0;32mfor\u001b[0m \u001b[0mchild\u001b[0m \u001b[0;32min\u001b[0m \u001b[0mt\u001b[0m \u001b[0;32mfor\u001b[0m \u001b[0mi\u001b[0m \u001b[0;32min\u001b[0m \u001b[0mget_nodes\u001b[0m\u001b[0;34m(\u001b[0m\u001b[0mchild\u001b[0m\u001b[0;34m,\u001b[0m \u001b[0mtype_\u001b[0m\u001b[0;34m)\u001b[0m\u001b[0;34m]\u001b[0m\u001b[0;34m\u001b[0m\u001b[0m\n",
        "\u001b[0;32m<ipython-input-43-c4de5908b419>\u001b[0m in \u001b[0;36mget_nodes\u001b[0;34m(t, type_)\u001b[0m\n\u001b[1;32m      5\u001b[0m         \u001b[0mdescendants\u001b[0m \u001b[0;34m=\u001b[0m \u001b[0;34m[\u001b[0m\u001b[0mi\u001b[0m \u001b[0;32mfor\u001b[0m \u001b[0mel\u001b[0m \u001b[0;32min\u001b[0m \u001b[0mt\u001b[0m \u001b[0;32mfor\u001b[0m \u001b[0mi\u001b[0m \u001b[0;32min\u001b[0m \u001b[0mget_nodes\u001b[0m\u001b[0;34m(\u001b[0m\u001b[0mel\u001b[0m\u001b[0;34m,\u001b[0m \u001b[0mtype_\u001b[0m\u001b[0;34m)\u001b[0m\u001b[0;34m]\u001b[0m\u001b[0;34m\u001b[0m\u001b[0m\n\u001b[1;32m      6\u001b[0m     \u001b[0;32melif\u001b[0m \u001b[0mhasattr\u001b[0m\u001b[0;34m(\u001b[0m\u001b[0mt\u001b[0m\u001b[0;34m,\u001b[0m \u001b[0;34m'__dict__'\u001b[0m\u001b[0;34m)\u001b[0m\u001b[0;34m:\u001b[0m\u001b[0;34m\u001b[0m\u001b[0m\n\u001b[0;32m----> 7\u001b[0;31m         \u001b[0mdescendants\u001b[0m \u001b[0;34m=\u001b[0m \u001b[0;34m[\u001b[0m\u001b[0mt\u001b[0m\u001b[0;34m]\u001b[0m \u001b[0;34m+\u001b[0m \u001b[0;34m[\u001b[0m\u001b[0mi\u001b[0m \u001b[0;32mfor\u001b[0m \u001b[0mchild\u001b[0m \u001b[0;32min\u001b[0m \u001b[0mt\u001b[0m\u001b[0;34m.\u001b[0m\u001b[0m__dict__\u001b[0m\u001b[0;34m.\u001b[0m\u001b[0mvalues\u001b[0m\u001b[0;34m(\u001b[0m\u001b[0;34m)\u001b[0m \u001b[0;32mfor\u001b[0m \u001b[0mi\u001b[0m \u001b[0;32min\u001b[0m \u001b[0mget_nodes\u001b[0m\u001b[0;34m(\u001b[0m\u001b[0mchild\u001b[0m\u001b[0;34m,\u001b[0m \u001b[0mtype_\u001b[0m\u001b[0;34m)\u001b[0m\u001b[0;34m]\u001b[0m\u001b[0;34m\u001b[0m\u001b[0m\n\u001b[0m\u001b[1;32m      8\u001b[0m     \u001b[0;32melif\u001b[0m \u001b[0misinstance\u001b[0m\u001b[0;34m(\u001b[0m\u001b[0mt\u001b[0m\u001b[0;34m,\u001b[0m \u001b[0mdict\u001b[0m\u001b[0;34m)\u001b[0m\u001b[0;34m:\u001b[0m\u001b[0;34m\u001b[0m\u001b[0m\n\u001b[1;32m      9\u001b[0m         \u001b[0mdescendants\u001b[0m \u001b[0;34m=\u001b[0m \u001b[0;34m[\u001b[0m\u001b[0mi\u001b[0m \u001b[0;32mfor\u001b[0m \u001b[0mchild\u001b[0m \u001b[0;32min\u001b[0m \u001b[0mt\u001b[0m \u001b[0;32mfor\u001b[0m \u001b[0mi\u001b[0m \u001b[0;32min\u001b[0m \u001b[0mget_nodes\u001b[0m\u001b[0;34m(\u001b[0m\u001b[0mchild\u001b[0m\u001b[0;34m,\u001b[0m \u001b[0mtype_\u001b[0m\u001b[0;34m)\u001b[0m\u001b[0;34m]\u001b[0m\u001b[0;34m\u001b[0m\u001b[0m\n",
        "\u001b[0;31mTypeError\u001b[0m: 'NoneType' object is not iterable"
       ]
      }
     ],
     "prompt_number": 45
    },
    {
     "cell_type": "markdown",
     "metadata": {},
     "source": [
      "We define 3 steps for checking if a CSS selector is in a paragraph:\n",
      "0. Break the CSS selector down into tokens for all elements, classes and IDs\n",
      "0. Split paragraph text into tokens, santitized into valid HTML tag, class and ID names\n",
      "0. See if the paragraph contains all tokens from the CSS selector"
     ]
    },
    {
     "cell_type": "code",
     "collapsed": false,
     "input": [],
     "language": "python",
     "metadata": {},
     "outputs": []
    },
    {
     "cell_type": "code",
     "collapsed": false,
     "input": [
      "def get_selector_tokens(pattern):\n",
      "    pass"
     ],
     "language": "python",
     "metadata": {},
     "outputs": [],
     "prompt_number": 19
    },
    {
     "cell_type": "code",
     "collapsed": false,
     "input": [
      "def sanitize_token(token):\n",
      "    pass\n",
      "    \n",
      "def get_paragraph_tokens(text):\n",
      "    pass"
     ],
     "language": "python",
     "metadata": {},
     "outputs": [],
     "prompt_number": 20
    },
    {
     "cell_type": "code",
     "collapsed": false,
     "input": [
      "def selector_in_paragraph(sel_tokens, par_tokens):\n",
      "    pass"
     ],
     "language": "python",
     "metadata": {},
     "outputs": [],
     "prompt_number": 21
    },
    {
     "cell_type": "markdown",
     "metadata": {},
     "source": [
      "Here begins the main task"
     ]
    },
    {
     "cell_type": "code",
     "collapsed": false,
     "input": [
      "for sel in SELECTORS:\n",
      "    print sel['pattern'], sel['doc_id']\n",
      "    print os.path.join(TUTORIAL_DIR, str(sel['doc_id']) + '.html')"
     ],
     "language": "python",
     "metadata": {},
     "outputs": [
      {
       "output_type": "stream",
       "stream": "stdout",
       "text": [
        "div.featured a 1\n",
        "tutorials/1.html\n",
        "div#footer_inner strong 1\n",
        "tutorials/1.html\n",
        "div.video-summary-data a[href^=/video] 2\n",
        "tutorials/2.html\n",
        "div.video-summary-data a[href^=/video] 2\n",
        "tutorials/2.html\n",
        "div.video-summary-data a[href^=/video] 2\n",
        "tutorials/2.html\n",
        "div#videobox h3 2\n",
        "tutorials/2.html\n",
        "div#sidebar a[href^=/speaker] 2\n",
        "tutorials/2.html\n",
        "div#sidebar a[href^=http://www.youtube.com] 2\n",
        "tutorials/2.html\n",
        ".watch-view-count 2\n",
        "tutorials/2.html\n",
        ".likes-count 2\n",
        "tutorials/2.html\n",
        ".dislikes-count 2\n",
        "tutorials/2.html\n",
        "div.foo li a 3\n",
        "tutorials/3.html\n",
        "html body div.results dl dt a 4\n",
        "tutorials/4.html\n",
        "html body div.results dl dt a[href] 4\n",
        "tutorials/4.html\n",
        "div.results dl dt a 4\n",
        "tutorials/4.html\n",
        "html body div.results dl dt a[href] 4\n",
        "tutorials/4.html\n",
        "html body div.results dl dt a[href] 4\n",
        "tutorials/4.html\n",
        "#storyBody p a 5\n",
        "tutorials/5.html\n",
        "#storyBody a 5\n",
        "tutorials/5.html\n",
        "h1.headline 5\n",
        "tutorials/5.html\n",
        ".boc1 5\n",
        "tutorials/5.html\n",
        ".boc2 5\n",
        "tutorials/5.html\n",
        "h1.headline 5\n",
        "tutorials/5.html\n",
        ".boc1 5\n",
        "tutorials/5.html\n",
        ".boc2 5\n",
        "tutorials/5.html\n",
        "p.introduction::text 6\n",
        "tutorials/6.html\n",
        "<open file u'tutorials/1.html', mode 'r' at 0x104c6e8a0>\n",
        "<open file u'tutorials/2.html', mode 'r' at 0x104c6e930>\n",
        "<open file u'tutorials/3.html', mode 'r' at 0x104c6e8a0>\n",
        "<open file u'tutorials/4.html', mode 'r' at 0x104c6e930>\n",
        "<open file u'tutorials/5.html', mode 'r' at 0x104c6e8a0>\n",
        "<open file u'tutorials/6.html', mode 'r' at 0x104c6e930>\n"
       ]
      }
     ],
     "prompt_number": 22
    },
    {
     "cell_type": "code",
     "collapsed": false,
     "input": [],
     "language": "python",
     "metadata": {},
     "outputs": []
    },
    {
     "cell_type": "code",
     "collapsed": false,
     "input": [],
     "language": "python",
     "metadata": {},
     "outputs": []
    }
   ],
   "metadata": {}
  }
 ]
}