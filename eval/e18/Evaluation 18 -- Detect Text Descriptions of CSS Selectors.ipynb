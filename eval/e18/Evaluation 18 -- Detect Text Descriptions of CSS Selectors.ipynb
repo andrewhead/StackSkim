{
 "metadata": {
  "name": "",
  "signature": "sha256:05e9b542d6c0562136390b0855ca85374d641430e04b339666abb669fe456592"
 },
 "nbformat": 3,
 "nbformat_minor": 0,
 "worksheets": [
  {
   "cells": [
    {
     "cell_type": "code",
     "collapsed": false,
     "input": [
      "from __future__ import unicode_literals\n",
      "import os.path\n",
      "import re\n",
      "import cssselect\n",
      "import cssselect.parser as cssp\n",
      "from bs4 import BeautifulSoup as Soup"
     ],
     "language": "python",
     "metadata": {},
     "outputs": [],
     "prompt_number": 2
    },
    {
     "cell_type": "code",
     "collapsed": false,
     "input": [
      "TUTORIAL_DIR = 'tutorials'"
     ],
     "language": "python",
     "metadata": {},
     "outputs": [],
     "prompt_number": 3
    },
    {
     "cell_type": "markdown",
     "metadata": {},
     "source": [
      "These are the selectors that we want to test, and the ID of the tutorial that they come from."
     ]
    },
    {
     "cell_type": "code",
     "collapsed": false,
     "input": [
      "SELECTORS = [\n",
      "    {'pattern': 'div.featured a', 'doc_id': 1},\n",
      "    {'pattern': 'div#footer_inner strong', 'doc_id': 1},\n",
      "    {'pattern': 'div.video-summary-data a[href^=/video]', 'doc_id': 2},\n",
      "    {'pattern': 'div.video-summary-data a[href^=/video]', 'doc_id': 2},\n",
      "    {'pattern': 'div.video-summary-data a[href^=/video]', 'doc_id': 2},\n",
      "    {'pattern': 'div#videobox h3', 'doc_id': 2},\n",
      "    {'pattern': 'div#sidebar a[href^=/speaker]', 'doc_id': 2},\n",
      "    {'pattern': 'div#sidebar a[href^=http://www.youtube.com]', 'doc_id': 2},\n",
      "    {'pattern': '.watch-view-count', 'doc_id': 2},\n",
      "    {'pattern': '.likes-count', 'doc_id': 2},\n",
      "    {'pattern': '.dislikes-count', 'doc_id': 2},\n",
      "    {'pattern': 'div.foo li a', 'doc_id': 3},\n",
      "    {'pattern': 'html body div.results dl dt a', 'doc_id': 4},\n",
      "    {'pattern': 'html body div.results dl dt a[href]', 'doc_id': 4},\n",
      "    {'pattern': 'div.results dl dt a', 'doc_id': 4},\n",
      "    {'pattern': 'html body div.results dl dt a[href]', 'doc_id': 4},\n",
      "    {'pattern': 'html body div.results dl dt a[href]', 'doc_id': 4},\n",
      "    {'pattern': '#storyBody p a', 'doc_id': 5},\n",
      "    {'pattern': '#storyBody a', 'doc_id': 5},\n",
      "    {'pattern': 'h1.headline', 'doc_id': 5},\n",
      "    {'pattern': '.boc1', 'doc_id': 5},\n",
      "    {'pattern': '.boc2', 'doc_id': 5},\n",
      "    {'pattern': 'h1.headline', 'doc_id': 5},\n",
      "    {'pattern': '.boc1', 'doc_id': 5},\n",
      "    {'pattern': '.boc2', 'doc_id': 5},\n",
      "    {'pattern': 'p.introduction::text', 'doc_id': 6},\n",
      "]"
     ],
     "language": "python",
     "metadata": {},
     "outputs": [],
     "prompt_number": 4
    },
    {
     "cell_type": "markdown",
     "metadata": {},
     "source": [
      "###Helper functions"
     ]
    },
    {
     "cell_type": "code",
     "collapsed": false,
     "input": [
      "def get_nodes(t, type_=object):\n",
      "    ''' Get nodes of a specified type in an XPath. '''\n",
      "    descendants = []\n",
      "    if isinstance(t, list):\n",
      "        descendants = [i for el in t for i in get_nodes(el, type_)]\n",
      "    elif hasattr(t, '__dict__'):\n",
      "        descendants = [t] + [i for child in t.__dict__.values() for i in get_nodes(child, type_)]\n",
      "    elif isinstance(t, dict):\n",
      "        descendants = [i for child in t for i in get_nodes(child, type_)]\n",
      "    descendants = [d for d in descendants if isinstance(d, type_)]\n",
      "    return descendants"
     ],
     "language": "python",
     "metadata": {},
     "outputs": [],
     "prompt_number": 5
    },
    {
     "cell_type": "markdown",
     "metadata": {},
     "source": [
      "### Functions to detect CSS selector descriptions\n",
      "We define 3 steps for checking if a CSS selector is in a paragraph:\n",
      "0. Break the CSS selector down into tokens for all elements, classes and IDs\n",
      "0. Split paragraph text into tokens, santitized into valid HTML tag, class and ID names\n",
      "0. See if the paragraph contains all tokens from the CSS selector"
     ]
    },
    {
     "cell_type": "code",
     "collapsed": false,
     "input": [
      "def get_selector_tokens(pattern):\n",
      "    ''' Get tokens for all elements, classes and Ids in CSS selector. '''\n",
      "    pattern = re.sub(r\"(href.=)([^\\]]*)\\]\", r\"\\1fakelink]\", pattern)\n",
      "    tree = cssselect.parse(pattern)\n",
      "    ids = [h.id for h in get_nodes(tree, cssp.Hash)]\n",
      "    classes = [c.class_name for c in get_nodes(tree, cssp.Class)]\n",
      "    elements = [e.element for e in get_nodes(tree, cssp.Element) if e.element]\n",
      "    return elements + classes + ids"
     ],
     "language": "python",
     "metadata": {},
     "outputs": [],
     "prompt_number": 6
    },
    {
     "cell_type": "code",
     "collapsed": false,
     "input": [
      "def get_paragraph_tokens(text):\n",
      "    ''' Get all tokens from an HTML text paragraph. '''\n",
      "    return [t for t in re.split('[^A-Za-z0-9_-]', text) if len(t)]"
     ],
     "language": "python",
     "metadata": {},
     "outputs": [],
     "prompt_number": 7
    },
    {
     "cell_type": "code",
     "collapsed": false,
     "input": [
      "def selector_in_paragraph(sel_tokens, par_tokens):\n",
      "    ''' Determine if a selector is represented in a paragraph's tokens. '''\n",
      "    for tok in sel_tokens:\n",
      "        if tok not in par_tokens:\n",
      "            return False\n",
      "    return True"
     ],
     "language": "python",
     "metadata": {},
     "outputs": [],
     "prompt_number": 8
    },
    {
     "cell_type": "markdown",
     "metadata": {},
     "source": [
      "Test that these methods work"
     ]
    },
    {
     "cell_type": "code",
     "collapsed": false,
     "input": [
      "get_selector_tokens(\"div.klass p#pear:hover\")\n",
      "# [u'p', u'div', u'klass', u'pear']"
     ],
     "language": "python",
     "metadata": {},
     "outputs": [
      {
       "metadata": {},
       "output_type": "pyout",
       "prompt_number": 9,
       "text": [
        "[u'p', u'div', u'klass', u'pear']"
       ]
      }
     ],
     "prompt_number": 9
    },
    {
     "cell_type": "code",
     "collapsed": false,
     "input": [
      "text = \"piece.of#text!!! item::prop <tags> no_break-me\"\n",
      "get_paragraph_tokens(text)\n",
      "# [u'piece', u'of', u'text', u'item', u'prop', u'tags', u'no_break-me']"
     ],
     "language": "python",
     "metadata": {},
     "outputs": [
      {
       "metadata": {},
       "output_type": "pyout",
       "prompt_number": 10,
       "text": [
        "[u'piece', u'of', u'text', u'item', u'prop', u'tags', u'no_break-me']"
       ]
      }
     ],
     "prompt_number": 10
    },
    {
     "cell_type": "code",
     "collapsed": false,
     "input": [
      "selector_in_paragraph(['a'], ['There', 'is', 'an', 'element', 'a'])\n",
      "# True"
     ],
     "language": "python",
     "metadata": {},
     "outputs": [
      {
       "metadata": {},
       "output_type": "pyout",
       "prompt_number": 11,
       "text": [
        "True"
       ]
      }
     ],
     "prompt_number": 11
    },
    {
     "cell_type": "code",
     "collapsed": false,
     "input": [
      "selector_in_paragraph(['div', 'p', 'klazz', 'pear'], ['First,', 'it', 'selects', 'link', 'paragraph', 'p', 'of', 'ID', 'pear', 'from', 'a', 'div', 'of', 'class', 'klazz'])\n",
      "# True"
     ],
     "language": "python",
     "metadata": {},
     "outputs": [
      {
       "metadata": {},
       "output_type": "pyout",
       "prompt_number": 12,
       "text": [
        "True"
       ]
      }
     ],
     "prompt_number": 12
    },
    {
     "cell_type": "code",
     "collapsed": false,
     "input": [
      "selector_in_paragraph(['div', 'p', 'klazz', 'pear', 'absent'], ['First,', 'it', 'selects', 'link', 'paragraph', 'p', 'of', 'ID', 'pear', 'from', 'a', 'div', 'of', 'class', 'klazz'])\n",
      "# False"
     ],
     "language": "python",
     "metadata": {},
     "outputs": [
      {
       "metadata": {},
       "output_type": "pyout",
       "prompt_number": 13,
       "text": [
        "False"
       ]
      }
     ],
     "prompt_number": 13
    },
    {
     "cell_type": "markdown",
     "metadata": {},
     "source": [
      "###Test: detect CSS selectors in text"
     ]
    },
    {
     "cell_type": "code",
     "collapsed": false,
     "input": [
      "print \"These selectors are described in their tutorial\"\n",
      "print \"Doc\", '\\t', \"Selector\"\n",
      "for sel in SELECTORS:\n",
      "    fn = os.path.join(TUTORIAL_DIR, str(sel['doc_id']) + '.html')\n",
      "    with open(fn, 'r') as tut_file:\n",
      "        soup = Soup(tut_file.read())\n",
      "        sel_tokens = get_selector_tokens(sel['pattern'])\n",
      "        for p in soup.select('p') + soup.select('li'):\n",
      "            par_tokens = get_paragraph_tokens(p.text)\n",
      "            if selector_in_paragraph(sel_tokens, par_tokens):\n",
      "                print sel['doc_id'], '\\t', sel['pattern']"
     ],
     "language": "python",
     "metadata": {},
     "outputs": [
      {
       "output_type": "stream",
       "stream": "stdout",
       "text": [
        "These selectors are described in their tutorial\n",
        "Doc \tSelector\n",
        "1 \tdiv.featured a\n",
        "1 \tdiv#footer_inner strong\n",
        "2"
       ]
      },
      {
       "output_type": "stream",
       "stream": "stdout",
       "text": [
        " \tdiv.video-summary-data a[href^=/video]\n",
        "2 \tdiv.video-summary-data a[href^=/video]\n",
        "2"
       ]
      },
      {
       "output_type": "stream",
       "stream": "stdout",
       "text": [
        " \tdiv.video-summary-data a[href^=/video]\n",
        "2 \tdiv#videobox h3\n",
        "2"
       ]
      },
      {
       "output_type": "stream",
       "stream": "stdout",
       "text": [
        " \t.watch-view-count\n",
        "2 \t.watch-view-count\n",
        "3"
       ]
      },
      {
       "output_type": "stream",
       "stream": "stdout",
       "text": [
        " \tdiv.foo li a\n",
        "5"
       ]
      },
      {
       "output_type": "stream",
       "stream": "stdout",
       "text": [
        " \t#storyBody p a\n",
        "5 \t#storyBody p a\n",
        "5 \t#storyBody p a\n",
        "5"
       ]
      },
      {
       "output_type": "stream",
       "stream": "stdout",
       "text": [
        " \t#storyBody a\n",
        "5 \t#storyBody a\n",
        "5 \t#storyBody a\n",
        "6"
       ]
      },
      {
       "output_type": "stream",
       "stream": "stdout",
       "text": [
        " \tp.introduction::text\n"
       ]
      }
     ],
     "prompt_number": 14
    },
    {
     "cell_type": "markdown",
     "metadata": {},
     "source": [
      "### Development Checkpoints"
     ]
    },
    {
     "cell_type": "markdown",
     "metadata": {},
     "source": [
      "Correctly output all classes, IDs and elements for every CSS selector"
     ]
    },
    {
     "cell_type": "code",
     "collapsed": false,
     "input": [
      "for sel in SELECTORS:\n",
      "    print sel['pattern'], \":\", get_selector_tokens(sel['pattern'])"
     ],
     "language": "python",
     "metadata": {},
     "outputs": [
      {
       "output_type": "stream",
       "stream": "stdout",
       "text": [
        "div.featured a : [u'a', u'div', u'featured']\n",
        "div#footer_inner strong : [u'strong', u'div', u'footer_inner']\n",
        "div.video-summary-data a[href^=/video] : [u'a', u'div', u'video-summary-data']\n",
        "div.video-summary-data a[href^=/video] : [u'a', u'div', u'video-summary-data']\n",
        "div.video-summary-data a[href^=/video] : [u'a', u'div', u'video-summary-data']\n",
        "div#videobox h3 : [u'h3', u'div', u'videobox']\n",
        "div#sidebar a[href^=/speaker] : [u'a', u'div', u'sidebar']\n",
        "div#sidebar a[href^=http://www.youtube.com] : [u'a', u'div', u'sidebar']\n",
        ".watch-view-count : [u'watch-view-count']\n",
        ".likes-count : [u'likes-count']\n",
        ".dislikes-count : [u'dislikes-count']\n",
        "div.foo li a : [u'a', u'li', u'div', u'foo']\n",
        "html body div.results dl dt a : [u'a', u'dt', u'dl', u'div', u'body', u'html', u'results']\n",
        "html body div.results dl dt a[href] : [u'a', u'dt', u'dl', u'div', u'body', u'html', u'results']\n",
        "div.results dl dt a : [u'a', u'dt', u'dl', u'div', u'results']\n",
        "html body div.results dl dt a[href] : [u'a', u'dt', u'dl', u'div', u'body', u'html', u'results']\n",
        "html body div.results dl dt a[href] : [u'a', u'dt', u'dl', u'div', u'body', u'html', u'results']\n",
        "#storyBody p a : [u'a', u'p', u'storyBody']\n",
        "#storyBody a : [u'a', u'storyBody']\n",
        "h1.headline : [u'h1', u'headline']\n",
        ".boc1 : [u'boc1']\n",
        ".boc2 : [u'boc2']\n",
        "h1.headline : [u'h1', u'headline']\n",
        ".boc1 : [u'boc1']\n",
        ".boc2 : [u'boc2']\n",
        "p.introduction::text : [u'p', u'introduction']\n"
       ]
      }
     ],
     "prompt_number": 73
    }
   ],
   "metadata": {}
  }
 ]
}