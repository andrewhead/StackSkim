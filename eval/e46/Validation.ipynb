{
 "cells": [
  {
   "cell_type": "code",
   "execution_count": 1,
   "metadata": {
    "collapsed": false
   },
   "outputs": [],
   "source": [
    "import os.path\n",
    "import urllib\n",
    "import csv\n",
    "import time\n",
    "import glob\n",
    "import random\n",
    "from selenium import webdriver\n",
    "\n",
    "from models import Page\n",
    "from open import build_local_url\n",
    "from order import get_test_lists"
   ]
  },
  {
   "cell_type": "markdown",
   "metadata": {},
   "source": [
    "# Data Structures and Methods"
   ]
  },
  {
   "cell_type": "markdown",
   "metadata": {},
   "source": [
    "## Classes"
   ]
  },
  {
   "cell_type": "code",
   "execution_count": 2,
   "metadata": {
    "collapsed": false
   },
   "outputs": [],
   "source": [
    "class Region(object):\n",
    "    \n",
    "    def __init__(self, url, element, start_offset, end_offset, text=None):\n",
    "        self.url = url\n",
    "        self.element = element\n",
    "        self.start_offset = start_offset\n",
    "        self.end_offset = end_offset\n",
    "        self.text = text\n",
    "    \n",
    "    def __eq__(self, other):\n",
    "        return (isinstance(other, self.__class__)\n",
    "            and self.element == other.element\n",
    "            and self.url == other.url\n",
    "            and self.start_offset == other.start_offset\n",
    "            and self.end_offset == other.end_offset)\n",
    "\n",
    "    def __ne__(self, other):\n",
    "        return not self.__eq__(other)\n",
    "\n",
    "    def __repr__(self):\n",
    "        return \"{{Text: {text} URL: {url}, Element: {el}, Offsets: ({so}, {eo})}}\".format(\n",
    "            text=self.text, url=self.url, el=self.element, so=self.start_offset, eo=self.end_offset)"
   ]
  },
  {
   "cell_type": "markdown",
   "metadata": {},
   "source": [
    "## Methods for Computing Accuracy"
   ]
  },
  {
   "cell_type": "code",
   "execution_count": 3,
   "metadata": {
    "collapsed": true
   },
   "outputs": [],
   "source": [
    "def is_detected_region_true(region, truth_regions):\n",
    "    for truth_list in truth_regions.values():\n",
    "        if region in truth_list:\n",
    "            return True\n",
    "    return False"
   ]
  },
  {
   "cell_type": "code",
   "execution_count": 4,
   "metadata": {
    "collapsed": true
   },
   "outputs": [],
   "source": [
    "def is_true_region_detected(region_candidates, detected_regions):\n",
    "    ''' \n",
    "    A \"true\" region can be described relative to any number of its parent elements.\n",
    "    We pass in all of these possible region descriptions as 'region_candidates'.\n",
    "    '''\n",
    "    for r in region_candidates:\n",
    "        if r in detected_regions:\n",
    "            return True\n",
    "    return False"
   ]
  },
  {
   "cell_type": "code",
   "execution_count": 5,
   "metadata": {
    "collapsed": true
   },
   "outputs": [],
   "source": [
    "def precision(detected_regions, truth_regions):\n",
    "    correct = 0\n",
    "    true_regions = []\n",
    "    false_regions = []\n",
    "    total = len(detected_regions)\n",
    "    for d in detected_regions:\n",
    "        if is_detected_region_true(d, truth_regions):\n",
    "            true_regions.append(d)\n",
    "            correct = correct + 1\n",
    "        else:\n",
    "            false_regions.append(d)\n",
    "    precision = correct / float(total)\n",
    "    return precision, true_regions, false_regions"
   ]
  },
  {
   "cell_type": "code",
   "execution_count": 6,
   "metadata": {
    "collapsed": false
   },
   "outputs": [],
   "source": [
    "def recall(detected_regions, truth_regions):\n",
    "    found_count = 0\n",
    "    found = {}\n",
    "    missing = {}\n",
    "    total = len(truth_regions.keys())\n",
    "    for key, true_region_candidates in truth_regions.items():\n",
    "        if is_true_region_detected(true_region_candidates, detected_regions):\n",
    "            found_count += 1\n",
    "            found[key] = true_region_candidates\n",
    "        else:\n",
    "            missing[key] = true_region_candidates\n",
    "    recall = found_count / float(total)\n",
    "    return recall, found, missing"
   ]
  },
  {
   "cell_type": "markdown",
   "metadata": {},
   "source": [
    "### Tests for accuracy methods"
   ]
  },
  {
   "cell_type": "code",
   "execution_count": 7,
   "metadata": {
    "collapsed": true
   },
   "outputs": [],
   "source": [
    "truth_regions = {\n",
    "    ('url0', 0, 1): [Region('url0', 'el0', 0, 1), Region('url0', 'el1', 3, 4)],\n",
    "    ('url1', 1, 2): [Region('url1', 'el0', 1, 2), Region('url1', 'el1', 2, 3)],\n",
    "}"
   ]
  },
  {
   "cell_type": "code",
   "execution_count": 8,
   "metadata": {
    "collapsed": false
   },
   "outputs": [
    {
     "name": "stdout",
     "output_type": "stream",
     "text": [
      "True\n",
      "False\n"
     ]
    }
   ],
   "source": [
    "print is_detected_region_true(Region('url0', 'el1', 3, 4), truth_regions)  # True\n",
    "print is_detected_region_true(Region('url0', 'el2', 0, 1), truth_regions)  # False"
   ]
  },
  {
   "cell_type": "code",
   "execution_count": 9,
   "metadata": {
    "collapsed": false
   },
   "outputs": [
    {
     "name": "stdout",
     "output_type": "stream",
     "text": [
      "False\n",
      "True\n"
     ]
    }
   ],
   "source": [
    "detected_regions = [Region('url0', 'el0', 0, 1), Region('url1', 'el1', 1, 2)]\n",
    "region_candidates0 = [Region('url1', 'el1', 0, 1), Region('url0', 'el0', 1, 2)]\n",
    "region_candidates1 = [Region('url0', 'el0', 0, 1), Region('url0', 'el1', 1, 2)]\n",
    "print is_true_region_detected(region_candidates0, detected_regions)  # False\n",
    "print is_true_region_detected(region_candidates1, detected_regions)  # True        "
   ]
  },
  {
   "cell_type": "markdown",
   "metadata": {},
   "source": [
    "# Data Loading and Preparation"
   ]
  },
  {
   "cell_type": "code",
   "execution_count": 10,
   "metadata": {
    "collapsed": false
   },
   "outputs": [],
   "source": [
    "DETECTED_FILE = os.path.join('regions', 'detections.tsv')\n",
    "TRUTH_FILE = os.path.join('regions', 'groundtruth_validation.txt')"
   ]
  },
  {
   "cell_type": "markdown",
   "metadata": {},
   "source": [
    "For now, we limit ourselves to considering only the first 50 cross-validation results.  Eventually we should be able to boost this number up to around 100."
   ]
  },
  {
   "cell_type": "code",
   "execution_count": 11,
   "metadata": {
    "collapsed": true
   },
   "outputs": [],
   "source": [
    "VALIDATION_SIZE = 45"
   ]
  },
  {
   "cell_type": "code",
   "execution_count": 12,
   "metadata": {
    "collapsed": false
   },
   "outputs": [],
   "source": [
    "wget_pages = get_test_lists('regex')['validation'][:VALIDATION_SIZE]\n",
    "validation_urls = [urllib.quote(build_local_url(p), safe='/:') for p in wget_pages]"
   ]
  },
  {
   "cell_type": "markdown",
   "metadata": {},
   "source": [
    "Load in the detections from the stored TSV files"
   ]
  },
  {
   "cell_type": "code",
   "execution_count": 13,
   "metadata": {
    "collapsed": false
   },
   "outputs": [],
   "source": [
    "detected_regions = []\n",
    "with open(DETECTED_FILE) as detected_tsv:\n",
    "    reader = csv.DictReader(detected_tsv, delimiter='\\t', \n",
    "        fieldnames=['timestamp', 'url', 'element', 'start_offset', 'end_offset', 'text'])\n",
    "    for r in reader:\n",
    "        if r['url'] in validation_urls:\n",
    "            detected_regions.append(\n",
    "                Region(r['url'], r['element'], r['start_offset'], r['end_offset'], r['text'])\n",
    "            )"
   ]
  },
  {
   "cell_type": "markdown",
   "metadata": {},
   "source": [
    "For the manually extracted regions, index each on by the absolute offsets within the page and the URL of the page.  This is because we extract all possible relative positions of the region within the page, but each of these are really the same region."
   ]
  },
  {
   "cell_type": "code",
   "execution_count": 25,
   "metadata": {
    "collapsed": false
   },
   "outputs": [],
   "source": [
    "with open(TRUTH_FILE, 'rU') as truth_tsv:\n",
    "    truth_regions = {}\n",
    "    for line in truth_tsv.readlines():\n",
    "        rel_start_offset, rel_end_offset, element, url, abs_start_offset, abs_end_offset, text = line.split(',,,')\n",
    "        if url in validation_urls:\n",
    "            key = (url, abs_start_offset, abs_end_offset)\n",
    "            if key not in truth_regions:\n",
    "                truth_regions[key] = []\n",
    "            truth_regions[key].append(\n",
    "                Region(url, element, rel_start_offset, rel_end_offset, text)\n",
    "            )"
   ]
  },
  {
   "cell_type": "markdown",
   "metadata": {},
   "source": [
    "## Verify that the regions have been properly loaded"
   ]
  },
  {
   "cell_type": "code",
   "execution_count": 26,
   "metadata": {
    "collapsed": true
   },
   "outputs": [],
   "source": [
    "detected_urls = set([r.url for r in detected_regions])\n",
    "truth_urls = set(key[0] for key in truth_regions.keys())"
   ]
  },
  {
   "cell_type": "code",
   "execution_count": 27,
   "metadata": {
    "collapsed": false
   },
   "outputs": [
    {
     "name": "stdout",
     "output_type": "stream",
     "text": [
      "28 39\n"
     ]
    }
   ],
   "source": [
    "print len(detected_urls), len(truth_urls)"
   ]
  },
  {
   "cell_type": "code",
   "execution_count": 28,
   "metadata": {
    "collapsed": false
   },
   "outputs": [
    {
     "name": "stdout",
     "output_type": "stream",
     "text": [
      "{Text: usr URL: http://127.0.0.1:8000/pages/regex/linux%20regex%20sed%20tutorial/8/www.thegeekstuff.com/2009/10/unix-sed-tutorial-advanced-sed-substitution-examples/, Element: HTML > BODY:nth-of-type(1) > DIV:nth-of-type(1) > DIV:nth-of-type(2) > DIV:nth-of-type(1) > DIV:nth-of-type(1) > DIV:nth-of-type(2) > PRE:nth-of-type(1), Offsets: (16, 18)}\n"
     ]
    }
   ],
   "source": [
    "print detected_regions[0]"
   ]
  },
  {
   "cell_type": "code",
   "execution_count": 29,
   "metadata": {
    "collapsed": false
   },
   "outputs": [
    {
     "name": "stdout",
     "output_type": "stream",
     "text": [
      "{Text: ^(\\d+)\\.(\\d+)\\.(\\d+)\\.(\\d+)$\n",
      " URL: http://127.0.0.1:8000/pages/regex/regex%20split%20string%20tutorial/4/wiki.tcl.tk/989.html, Element: HTML > BODY:nth-of-type(1) > DIV:nth-of-type(1) > DIV:nth-of-type(2) > DIV:nth-of-type(1) > PRE:nth-of-type(22), Offsets: (43, 70)}\n"
     ]
    }
   ],
   "source": [
    "print truth_regions.values()[0][0]"
   ]
  },
  {
   "cell_type": "markdown",
   "metadata": {},
   "source": [
    "# Compute Accuracy!"
   ]
  },
  {
   "cell_type": "code",
   "execution_count": 30,
   "metadata": {
    "collapsed": false
   },
   "outputs": [
    {
     "name": "stdout",
     "output_type": "stream",
     "text": [
      "Precision:  0.411149825784\n"
     ]
    }
   ],
   "source": [
    "prec, true_regions, false_regions = precision(detected_regions, truth_regions)\n",
    "print \"Precision: \", prec"
   ]
  },
  {
   "cell_type": "code",
   "execution_count": 31,
   "metadata": {
    "collapsed": false
   },
   "outputs": [
    {
     "name": "stdout",
     "output_type": "stream",
     "text": [
      "Recall:  0.185089974293\n"
     ]
    }
   ],
   "source": [
    "rec, _, missing_regions = recall(detected_regions, truth_regions)\n",
    "print \"Recall: \", rec"
   ]
  },
  {
   "cell_type": "markdown",
   "metadata": {
    "collapsed": true
   },
   "source": [
    "## Save Results for posterity"
   ]
  },
  {
   "cell_type": "code",
   "execution_count": 32,
   "metadata": {
    "collapsed": true
   },
   "outputs": [],
   "source": [
    "history_dir = os.path.join('regions', 'detected', 'history')"
   ]
  },
  {
   "cell_type": "code",
   "execution_count": 33,
   "metadata": {
    "collapsed": true
   },
   "outputs": [],
   "source": [
    "if not os.path.isdir(history_dir):\n",
    "    os.makedirs(history_dir)"
   ]
  },
  {
   "cell_type": "code",
   "execution_count": 34,
   "metadata": {
    "collapsed": false
   },
   "outputs": [],
   "source": [
    "def get_regions_filename(basename):\n",
    "    record_index = 0\n",
    "    while True:\n",
    "        record_prefix = '{basename}-{record_index}-'.format(\n",
    "            basename=basename, record_index=record_index)\n",
    "        record_prefix_path = os.path.join(history_dir, record_prefix)\n",
    "        if not glob.glob(record_prefix_path + '*'):\n",
    "            ts = time.strftime('%Y%m%d-%H:%M:%S')\n",
    "            filename = record_prefix_path + ts + '.tsv'\n",
    "            return filename\n",
    "        record_index += 1"
   ]
  },
  {
   "cell_type": "code",
   "execution_count": 35,
   "metadata": {
    "collapsed": false
   },
   "outputs": [],
   "source": [
    "false_fn = get_regions_filename('false_detections')\n",
    "missing_fn = get_regions_filename('missing_regions')"
   ]
  },
  {
   "cell_type": "code",
   "execution_count": 36,
   "metadata": {
    "collapsed": true
   },
   "outputs": [],
   "source": [
    "def write_region(file_, r):\n",
    "    file_.write('\\t'.join([r.url, r.element, r.start_offset, r.end_offset]) + '\\n')"
   ]
  },
  {
   "cell_type": "code",
   "execution_count": 37,
   "metadata": {
    "collapsed": false
   },
   "outputs": [],
   "source": [
    "with open(false_fn, 'w') as false_file:\n",
    "    for r in false_regions:\n",
    "        write_region(false_file, r)"
   ]
  },
  {
   "cell_type": "code",
   "execution_count": 38,
   "metadata": {
    "collapsed": false
   },
   "outputs": [],
   "source": [
    "with open(missing_fn, 'w') as missing_file:\n",
    "    for _, region_list in missing_regions.items():\n",
    "        region = max(region_list, key=lambda r: len(r.element))\n",
    "        write_region(missing_file, region)"
   ]
  },
  {
   "cell_type": "markdown",
   "metadata": {},
   "source": [
    "## Examine True Positives"
   ]
  },
  {
   "cell_type": "markdown",
   "metadata": {},
   "source": [
    "Print one random region from each of the URLs where a selector was found"
   ]
  },
  {
   "cell_type": "code",
   "execution_count": 39,
   "metadata": {
    "collapsed": false
   },
   "outputs": [],
   "source": [
    "url_map = {}\n",
    "for r in true_regions:\n",
    "    if not r.url in url_map.keys():\n",
    "        url_map[r.url] = []\n",
    "    url_map[r.url].append(r)"
   ]
  },
  {
   "cell_type": "code",
   "execution_count": 40,
   "metadata": {
    "collapsed": false
   },
   "outputs": [
    {
     "name": "stdout",
     "output_type": "stream",
     "text": [
      "search\n",
      "^author/(.+)$\n",
      "^(\\d)\\.(html|asp)$\n",
      "^(.*)$\n",
      "\\$\\$(.*?)\\$\\$\n",
      "^news/(.+?)(-[0-9]+)?$\n",
      "^/apphandler/([^/.]+)/([^/.]+)/?$\n",
      "[A-Z]\n",
      "root\n",
      "^[A-Za-z0-9_]{1,20}$\n",
      "^([\\w-\\.]+@(?!gmail.com)(?!yahoo.com)(?!hotmail.com)([\\w-]+\\.)+[\\w-]{2,4})?$\n",
      "yyy\n",
      "Linux\n",
      "/opt/omni/lbin\n"
     ]
    }
   ],
   "source": [
    "for url, regions in url_map.items():\n",
    "    print random.choice(regions).text"
   ]
  },
  {
   "cell_type": "markdown",
   "metadata": {},
   "source": [
    "## Examine False Positives"
   ]
  },
  {
   "cell_type": "code",
   "execution_count": 41,
   "metadata": {
    "collapsed": false
   },
   "outputs": [],
   "source": [
    "browser = webdriver.Firefox()"
   ]
  },
  {
   "cell_type": "code",
   "execution_count": 42,
   "metadata": {
    "collapsed": false
   },
   "outputs": [],
   "source": [
    "SHOW_REGION_SCRIPT = \"\"\"\n",
    "var node = document.querySelector('{element}');\n",
    "var range = document.createRange();\n",
    "range.selectNode(node);\n",
    "var selection = window.getSelection();\n",
    "selection.addRange(range);\n",
    "node.scrollIntoView();\n",
    "\"\"\"\n",
    "\n",
    "def show_region(browser, region):\n",
    "    browser.get(region.url)\n",
    "    if region.element != '':\n",
    "        browser.execute_script(SHOW_REGION_SCRIPT.format(element=region.element))"
   ]
  },
  {
   "cell_type": "markdown",
   "metadata": {},
   "source": [
    "The following scripts let us extract the text and HTML for a region, if we want to debug the detection.  Though note that they have to be run after the browser has already been directed to the page where the region appears."
   ]
  },
  {
   "cell_type": "code",
   "execution_count": 43,
   "metadata": {
    "collapsed": true
   },
   "outputs": [],
   "source": [
    "GET_TEXT_SCRIPT = \"\"\"\n",
    "var node = document.querySelector('{element}');\n",
    "return node.textContent.substring({start_offset}, {end_offset} + 1);\n",
    "\"\"\"\n",
    "\n",
    "def get_text(browser, region):\n",
    "    return browser.execute_script(GET_TEXT_SCRIPT.format(\n",
    "        element=region.element, start_offset=region.start_offset,\n",
    "        end_offset=region.end_offset))"
   ]
  },
  {
   "cell_type": "code",
   "execution_count": 44,
   "metadata": {
    "collapsed": true
   },
   "outputs": [],
   "source": [
    "GET_HTML_SCRIPT = \"\"\"\n",
    "var node = document.querySelector('{element}');\n",
    "return node.outerHTML;\n",
    "\"\"\"\n",
    "\n",
    "def get_html(browser, region):\n",
    "    return browser.execute_script(GET_HTML_SCRIPT.format(element=region.element))"
   ]
  },
  {
   "cell_type": "markdown",
   "metadata": {},
   "source": [
    "### Regions not Detected"
   ]
  },
  {
   "cell_type": "code",
   "execution_count": 45,
   "metadata": {
    "collapsed": true
   },
   "outputs": [],
   "source": [
    "def open_missing_detections(start_index=0, debug=True):\n",
    "    for i, (_, region_list) in enumerate(missing_regions.items()[start_index:], start_index):\n",
    "        ''' Most specific selector will be the longest one. '''\n",
    "        r = max(region_list, key=lambda r: len(r.element))\n",
    "        print \"\"\n",
    "        print \"?? Open next example of missed detection? \",\n",
    "        try:\n",
    "            again = raw_input()\n",
    "            if again.lower() == 'n':\n",
    "                break\n",
    "            print \"\"\n",
    "            print \"===== REGION %d =====\" % i\n",
    "            print r\n",
    "            show_region(browser, r)\n",
    "            if debug:\n",
    "                print \"* Text: \", get_text(browser, r)\n",
    "                html = get_html(browser,r)\n",
    "                print \"* HTML: \",\n",
    "                if len(html) > 1000:\n",
    "                    print \"too long to render\"\n",
    "                else:\n",
    "                    print html\n",
    "        except KeyboardInterrupt:\n",
    "            return"
   ]
  },
  {
   "cell_type": "code",
   "execution_count": 46,
   "metadata": {
    "collapsed": false
   },
   "outputs": [
    {
     "name": "stdout",
     "output_type": "stream",
     "text": [
      "\n",
      "?? Open next example of missed detection? \n",
      " \n",
      "===== REGION 0 =====\n",
      "{Text: ^(\\d+)\\.(\\d+)\\.(\\d+)\\.(\\d+)$\n",
      " URL: http://127.0.0.1:8000/pages/regex/regex%20split%20string%20tutorial/4/wiki.tcl.tk/989.html, Element: HTML > BODY:nth-of-type(1) > DIV:nth-of-type(1) > DIV:nth-of-type(2) > DIV:nth-of-type(1) > PRE:nth-of-type(22), Offsets: (43, 70)}\n",
      "* Text:  ^(\\d+)\\.(\\d+)\\.(\\d+)\\.(\\d+)$\n",
      "* HTML:  too long to render\n",
      "\n",
      "?? Open next example of missed detection? \n",
      " \n",
      "===== REGION 1 =====\n",
      "{Text: .*abc([0-9]+)xyz.*\n",
      " URL: http://127.0.0.1:8000/pages/regex/awk%20regex%20sed%20tutorial/3/stackoverflow.com/questions/1733692/how-to-use-sed-awk-or-gawk-to-print-only-what-is-matched.html, Element: HTML > BODY:nth-of-type(1) > DIV:nth-of-type(5) > DIV:nth-of-type(2) > DIV:nth-of-type(1) > DIV:nth-of-type(3) > DIV:nth-of-type(1) > TABLE:nth-of-type(1) > TBODY:nth-of-type(1) > TR:nth-of-type(1) > TD:nth-of-type(2) > DIV:nth-of-type(1) > DIV:nth-of-type(1) > PRE:nth-of-type(1) > CODE:nth-of-type(1), Offsets: (0, 17)}\n",
      "* Text:  .*abc([0-9]+)xyz.*\n",
      "* HTML:  <code>.*abc([0-9]+)xyz.*\n",
      "</code>\n",
      "\n",
      "?? Open next example of missed detection? \n",
      " \n",
      "===== REGION 2 =====\n",
      "{Text: .*abc([0-9]+)xyz.*\n",
      " URL: http://127.0.0.1:8000/pages/regex/awk%20regex%20sed%20tutorial/3/stackoverflow.com/questions/1733692/how-to-use-sed-awk-or-gawk-to-print-only-what-is-matched.html, Element: HTML > BODY:nth-of-type(1) > DIV:nth-of-type(5) > DIV:nth-of-type(2) > DIV:nth-of-type(1) > DIV:nth-of-type(3) > DIV:nth-of-type(2) > DIV:nth-of-type(4) > TABLE:nth-of-type(1) > TBODY:nth-of-type(1) > TR:nth-of-type(1) > TD:nth-of-type(2) > DIV:nth-of-type(1) > PRE:nth-of-type(1) > CODE:nth-of-type(1), Offsets: (23, 40)}\n",
      "* Text:  .*abc([0-9]+)xyz.*\n",
      "* HTML:  <code>perl -ne 'print $1 if /.*abc([0-9]+)xyz.*/'\n",
      "</code>\n",
      "\n",
      "?? Open next example of missed detection? \n",
      " \n",
      "===== REGION 3 =====\n",
      "{Text: ^\"(?:[^\\\\\"]|\\\\.)*\"$\n",
      " URL: http://127.0.0.1:8000/pages/regex/regex%20split%20string%20tutorial/4/wiki.tcl.tk/989.html, Element: HTML > BODY:nth-of-type(1) > DIV:nth-of-type(1) > DIV:nth-of-type(2) > DIV:nth-of-type(1) > PRE:nth-of-type(59), Offsets: (39, 57)}\n",
      "* Text:  ^\"(?:[^\\\\\"]|\\\\.)*\"$\n",
      "* HTML:  <pre class=\"sh_tcl sh_sourceCode\"><a class=\"sh_keyword\" href=\"http://wiki.tcl.tk/proc\">proc</a> quoted<span class=\"sh_symbol\">-</span><a class=\"sh_keyword\" href=\"http://wiki.tcl.tk/string\">string</a> <span class=\"sh_cbracket\">{</span>str<span class=\"sh_cbracket\">}</span> <span class=\"sh_cbracket\">{</span>\n",
      "    <a class=\"sh_keyword\" href=\"http://wiki.tcl.tk/regexp\">regexp</a> <span class=\"sh_cbracket\">{</span><span class=\"sh_symbol\">^</span><span class=\"sh_string\">\"(?:[^</span><span class=\"sh_specialchar\">\\\\</span><span class=\"sh_string\">\"</span><span class=\"sh_symbol\">]|\\\\.)*</span><span class=\"sh_string\">\"$} $str</span>\n",
      "<span class=\"sh_string\">}</span></pre>\n",
      "\n",
      "?? Open next example of missed detection? \n",
      " \n",
      "===== REGION 4 =====\n",
      "{Text: <tagname\\s[^>]*>(.*)<\\/tagname>\n",
      " URL: http://127.0.0.1:8000/pages/regex/html%20php%20regex%20tutorial/5/stackoverflow.com/questions/828870/php-regex-how-to-get-the-string-value-of-html-tag.html, Element: HTML > BODY:nth-of-type(1) > DIV:nth-of-type(5) > DIV:nth-of-type(2) > DIV:nth-of-type(1) > DIV:nth-of-type(3) > DIV:nth-of-type(2) > DIV:nth-of-type(8) > TABLE:nth-of-type(1) > TBODY:nth-of-type(1) > TR:nth-of-type(1) > TD:nth-of-type(2) > DIV:nth-of-type(1) > PRE:nth-of-type(1) > CODE:nth-of-type(1), Offsets: (167, 197)}\n",
      "* Text:  <tagname\\s[^>]*>(.*)<\\/tagname>\n",
      "* HTML:  <code>$userinput = \"http://www.example.vn/\";\n",
      "//$url = urlencode($userinput);\n",
      "$input = @file_get_contents($userinput) or die(\"Could not access file: $userinput\");\n",
      "$regexp = \"&lt;tagname\\s[^&gt;]*&gt;(.*)&lt;\\/tagname&gt;\";\n",
      "//==Example:\n",
      "//$regexp = \"&lt;div\\s[^&gt;]*&gt;(.*)&lt;\\/div&gt;\";\n",
      "\n",
      "if(preg_match_all(\"/$regexp/siU\", $input, $matches, PREG_SET_ORDER)) {\n",
      "    foreach($matches as $match) {\n",
      "        // $match[2] = link address \n",
      "        // $match[3] = link text\n",
      "    }\n",
      "}\n",
      "</code>\n",
      "\n",
      "?? Open next example of missed detection? \n",
      " \n",
      "===== REGION 5 =====\n",
      "{Text: [0-9]\n",
      " URL: http://127.0.0.1:8000/pages/regex/awk%20regex%20sed%20tutorial/3/stackoverflow.com/questions/1733692/how-to-use-sed-awk-or-gawk-to-print-only-what-is-matched.html, Element: HTML > BODY:nth-of-type(1) > DIV:nth-of-type(5) > DIV:nth-of-type(2) > DIV:nth-of-type(1) > DIV:nth-of-type(3) > DIV:nth-of-type(2) > DIV:nth-of-type(5) > TABLE:nth-of-type(1) > TBODY:nth-of-type(1) > TR:nth-of-type(1) > TD:nth-of-type(2) > DIV:nth-of-type(1) > PRE:nth-of-type(1) > CODE:nth-of-type(1), Offsets: (9, 13)}\n",
      "* Text:  [0-9]\n",
      "* HTML:  <code>sed -e '/[0-9]/!d' -e 's/^[^0-9]*//' -e 's/[^0-9]*$//'\n",
      "</code>\n",
      "\n",
      "?? Open next example of missed detection? \n",
      " \n",
      "===== REGION 6 =====\n",
      "{Text: .*([0-9]+).*\n",
      " URL: http://127.0.0.1:8000/pages/regex/awk%20regex%20sed%20tutorial/3/stackoverflow.com/questions/1733692/how-to-use-sed-awk-or-gawk-to-print-only-what-is-matched.html, Element: HTML > BODY:nth-of-type(1) > DIV:nth-of-type(5) > DIV:nth-of-type(2) > DIV:nth-of-type(1) > DIV:nth-of-type(3) > DIV:nth-of-type(2) > DIV:nth-of-type(7) > TABLE:nth-of-type(1) > TBODY:nth-of-type(1) > TR:nth-of-type(1) > TD:nth-of-type(2) > DIV:nth-of-type(1) > PRE:nth-of-type(1) > CODE:nth-of-type(1), Offsets: (37, 48)}\n",
      "* Text:  .*([0-9]+).*\n",
      "* HTML:  <code>gawk '/abc[0-9]+xyz/ { print gensub(/.*([0-9]+).*/,\"\\\\1\",\"g\"); } &lt; file\n",
      "</code>\n",
      "\n",
      "?? Open next example of missed detection? \n",
      " \n",
      "===== REGION 7 =====\n",
      "{Text: \\\\|\n",
      " URL: http://127.0.0.1:8000/pages/regex/regex%20split%20string%20tutorial/8/javarevisited.blogspot.com/2011/09/string-split-example-in-java-tutorial.html, Element: HTML > BODY:nth-of-type(1) > DIV:nth-of-type(2) > DIV:nth-of-type(3) > DIV:nth-of-type(1) > DIV:nth-of-type(1) > DIV:nth-of-type(2) > DIV:nth-of-type(1) > DIV:nth-of-type(1) > DIV:nth-of-type(1) > DIV:nth-of-type(1) > DIV:nth-of-type(1) > DIV:nth-of-type(2) > DIV:nth-of-type(1) > DIV:nth-of-type(22) > DIV:nth-of-type(6) > SPAN:nth-of-type(1), Offsets: (38, 40)}\n"
     ]
    },
    {
     "ename": "WebDriverException",
     "evalue": "Message: Argument 1 of Range.selectNode is not an object.\nStacktrace:\n    at anonymous (http://127.0.0.1:8000/pages/regex/regex%20split%20string%20tutorial/8/javarevisited.blogspot.com/2011/09/string-split-example-in-java-tutorial.html line 69 > Function:4)\n    at handleEvaluateEvent (http://127.0.0.1:8000/pages/regex/regex%20split%20string%20tutorial/8/javarevisited.blogspot.com/2011/09/string-split-example-in-java-tutorial.html:69)",
     "output_type": "error",
     "traceback": [
      "\u001b[0;31m---------------------------------------------------------------------------\u001b[0m",
      "\u001b[0;31mWebDriverException\u001b[0m                        Traceback (most recent call last)",
      "\u001b[0;32m<ipython-input-46-97119b1be10b>\u001b[0m in \u001b[0;36m<module>\u001b[0;34m()\u001b[0m\n\u001b[0;32m----> 1\u001b[0;31m \u001b[0mopen_missing_detections\u001b[0m\u001b[0;34m(\u001b[0m\u001b[0;34m)\u001b[0m\u001b[0;34m\u001b[0m\u001b[0m\n\u001b[0m",
      "\u001b[0;32m<ipython-input-45-dfad8c09501c>\u001b[0m in \u001b[0;36mopen_missing_detections\u001b[0;34m(start_index, debug)\u001b[0m\n\u001b[1;32m     12\u001b[0m             \u001b[0;32mprint\u001b[0m \u001b[0;34m\"===== REGION %d =====\"\u001b[0m \u001b[0;34m%\u001b[0m \u001b[0mi\u001b[0m\u001b[0;34m\u001b[0m\u001b[0m\n\u001b[1;32m     13\u001b[0m             \u001b[0;32mprint\u001b[0m \u001b[0mr\u001b[0m\u001b[0;34m\u001b[0m\u001b[0m\n\u001b[0;32m---> 14\u001b[0;31m             \u001b[0mshow_region\u001b[0m\u001b[0;34m(\u001b[0m\u001b[0mbrowser\u001b[0m\u001b[0;34m,\u001b[0m \u001b[0mr\u001b[0m\u001b[0;34m)\u001b[0m\u001b[0;34m\u001b[0m\u001b[0m\n\u001b[0m\u001b[1;32m     15\u001b[0m             \u001b[0;32mif\u001b[0m \u001b[0mdebug\u001b[0m\u001b[0;34m:\u001b[0m\u001b[0;34m\u001b[0m\u001b[0m\n\u001b[1;32m     16\u001b[0m                 \u001b[0;32mprint\u001b[0m \u001b[0;34m\"* Text: \"\u001b[0m\u001b[0;34m,\u001b[0m \u001b[0mget_text\u001b[0m\u001b[0;34m(\u001b[0m\u001b[0mbrowser\u001b[0m\u001b[0;34m,\u001b[0m \u001b[0mr\u001b[0m\u001b[0;34m)\u001b[0m\u001b[0;34m\u001b[0m\u001b[0m\n",
      "\u001b[0;32m<ipython-input-42-c257d3523492>\u001b[0m in \u001b[0;36mshow_region\u001b[0;34m(browser, region)\u001b[0m\n\u001b[1;32m     11\u001b[0m     \u001b[0mbrowser\u001b[0m\u001b[0;34m.\u001b[0m\u001b[0mget\u001b[0m\u001b[0;34m(\u001b[0m\u001b[0mregion\u001b[0m\u001b[0;34m.\u001b[0m\u001b[0murl\u001b[0m\u001b[0;34m)\u001b[0m\u001b[0;34m\u001b[0m\u001b[0m\n\u001b[1;32m     12\u001b[0m     \u001b[0;32mif\u001b[0m \u001b[0mregion\u001b[0m\u001b[0;34m.\u001b[0m\u001b[0melement\u001b[0m \u001b[0;34m!=\u001b[0m \u001b[0;34m''\u001b[0m\u001b[0;34m:\u001b[0m\u001b[0;34m\u001b[0m\u001b[0m\n\u001b[0;32m---> 13\u001b[0;31m         \u001b[0mbrowser\u001b[0m\u001b[0;34m.\u001b[0m\u001b[0mexecute_script\u001b[0m\u001b[0;34m(\u001b[0m\u001b[0mSHOW_REGION_SCRIPT\u001b[0m\u001b[0;34m.\u001b[0m\u001b[0mformat\u001b[0m\u001b[0;34m(\u001b[0m\u001b[0melement\u001b[0m\u001b[0;34m=\u001b[0m\u001b[0mregion\u001b[0m\u001b[0;34m.\u001b[0m\u001b[0melement\u001b[0m\u001b[0;34m)\u001b[0m\u001b[0;34m)\u001b[0m\u001b[0;34m\u001b[0m\u001b[0m\n\u001b[0m",
      "\u001b[0;32m/Users/andrew/Adventures/design/code/research/venv/lib/python2.7/site-packages/selenium/webdriver/remote/webdriver.pyc\u001b[0m in \u001b[0;36mexecute_script\u001b[0;34m(self, script, *args)\u001b[0m\n\u001b[1;32m    419\u001b[0m         \u001b[0mconverted_args\u001b[0m \u001b[0;34m=\u001b[0m \u001b[0mlist\u001b[0m\u001b[0;34m(\u001b[0m\u001b[0margs\u001b[0m\u001b[0;34m)\u001b[0m\u001b[0;34m\u001b[0m\u001b[0m\n\u001b[1;32m    420\u001b[0m         return self.execute(Command.EXECUTE_SCRIPT,\n\u001b[0;32m--> 421\u001b[0;31m             {'script': script, 'args':converted_args})['value']\n\u001b[0m\u001b[1;32m    422\u001b[0m \u001b[0;34m\u001b[0m\u001b[0m\n\u001b[1;32m    423\u001b[0m     \u001b[0;32mdef\u001b[0m \u001b[0mexecute_async_script\u001b[0m\u001b[0;34m(\u001b[0m\u001b[0mself\u001b[0m\u001b[0;34m,\u001b[0m \u001b[0mscript\u001b[0m\u001b[0;34m,\u001b[0m \u001b[0;34m*\u001b[0m\u001b[0margs\u001b[0m\u001b[0;34m)\u001b[0m\u001b[0;34m:\u001b[0m\u001b[0;34m\u001b[0m\u001b[0m\n",
      "\u001b[0;32m/Users/andrew/Adventures/design/code/research/venv/lib/python2.7/site-packages/selenium/webdriver/remote/webdriver.pyc\u001b[0m in \u001b[0;36mexecute\u001b[0;34m(self, driver_command, params)\u001b[0m\n\u001b[1;32m    191\u001b[0m         \u001b[0mresponse\u001b[0m \u001b[0;34m=\u001b[0m \u001b[0mself\u001b[0m\u001b[0;34m.\u001b[0m\u001b[0mcommand_executor\u001b[0m\u001b[0;34m.\u001b[0m\u001b[0mexecute\u001b[0m\u001b[0;34m(\u001b[0m\u001b[0mdriver_command\u001b[0m\u001b[0;34m,\u001b[0m \u001b[0mparams\u001b[0m\u001b[0;34m)\u001b[0m\u001b[0;34m\u001b[0m\u001b[0m\n\u001b[1;32m    192\u001b[0m         \u001b[0;32mif\u001b[0m \u001b[0mresponse\u001b[0m\u001b[0;34m:\u001b[0m\u001b[0;34m\u001b[0m\u001b[0m\n\u001b[0;32m--> 193\u001b[0;31m             \u001b[0mself\u001b[0m\u001b[0;34m.\u001b[0m\u001b[0merror_handler\u001b[0m\u001b[0;34m.\u001b[0m\u001b[0mcheck_response\u001b[0m\u001b[0;34m(\u001b[0m\u001b[0mresponse\u001b[0m\u001b[0;34m)\u001b[0m\u001b[0;34m\u001b[0m\u001b[0m\n\u001b[0m\u001b[1;32m    194\u001b[0m             response['value'] = self._unwrap_value(\n\u001b[1;32m    195\u001b[0m                 response.get('value', None))\n",
      "\u001b[0;32m/Users/andrew/Adventures/design/code/research/venv/lib/python2.7/site-packages/selenium/webdriver/remote/errorhandler.pyc\u001b[0m in \u001b[0;36mcheck_response\u001b[0;34m(self, response)\u001b[0m\n\u001b[1;32m    179\u001b[0m         \u001b[0;32melif\u001b[0m \u001b[0mexception_class\u001b[0m \u001b[0;34m==\u001b[0m \u001b[0mUnexpectedAlertPresentException\u001b[0m \u001b[0;32mand\u001b[0m \u001b[0;34m'alert'\u001b[0m \u001b[0;32min\u001b[0m \u001b[0mvalue\u001b[0m\u001b[0;34m:\u001b[0m\u001b[0;34m\u001b[0m\u001b[0m\n\u001b[1;32m    180\u001b[0m             \u001b[0;32mraise\u001b[0m \u001b[0mexception_class\u001b[0m\u001b[0;34m(\u001b[0m\u001b[0mmessage\u001b[0m\u001b[0;34m,\u001b[0m \u001b[0mscreen\u001b[0m\u001b[0;34m,\u001b[0m \u001b[0mstacktrace\u001b[0m\u001b[0;34m,\u001b[0m \u001b[0mvalue\u001b[0m\u001b[0;34m[\u001b[0m\u001b[0;34m'alert'\u001b[0m\u001b[0;34m]\u001b[0m\u001b[0;34m.\u001b[0m\u001b[0mget\u001b[0m\u001b[0;34m(\u001b[0m\u001b[0;34m'text'\u001b[0m\u001b[0;34m)\u001b[0m\u001b[0;34m)\u001b[0m\u001b[0;34m\u001b[0m\u001b[0m\n\u001b[0;32m--> 181\u001b[0;31m         \u001b[0;32mraise\u001b[0m \u001b[0mexception_class\u001b[0m\u001b[0;34m(\u001b[0m\u001b[0mmessage\u001b[0m\u001b[0;34m,\u001b[0m \u001b[0mscreen\u001b[0m\u001b[0;34m,\u001b[0m \u001b[0mstacktrace\u001b[0m\u001b[0;34m)\u001b[0m\u001b[0;34m\u001b[0m\u001b[0m\n\u001b[0m\u001b[1;32m    182\u001b[0m \u001b[0;34m\u001b[0m\u001b[0m\n\u001b[1;32m    183\u001b[0m     \u001b[0;32mdef\u001b[0m \u001b[0m_value_or_default\u001b[0m\u001b[0;34m(\u001b[0m\u001b[0mself\u001b[0m\u001b[0;34m,\u001b[0m \u001b[0mobj\u001b[0m\u001b[0;34m,\u001b[0m \u001b[0mkey\u001b[0m\u001b[0;34m,\u001b[0m \u001b[0mdefault\u001b[0m\u001b[0;34m)\u001b[0m\u001b[0;34m:\u001b[0m\u001b[0;34m\u001b[0m\u001b[0m\n",
      "\u001b[0;31mWebDriverException\u001b[0m: Message: Argument 1 of Range.selectNode is not an object.\nStacktrace:\n    at anonymous (http://127.0.0.1:8000/pages/regex/regex%20split%20string%20tutorial/8/javarevisited.blogspot.com/2011/09/string-split-example-in-java-tutorial.html line 69 > Function:4)\n    at handleEvaluateEvent (http://127.0.0.1:8000/pages/regex/regex%20split%20string%20tutorial/8/javarevisited.blogspot.com/2011/09/string-split-example-in-java-tutorial.html:69)"
     ]
    }
   ],
   "source": [
    "open_missing_detections()"
   ]
  },
  {
   "cell_type": "code",
   "execution_count": 47,
   "metadata": {
    "collapsed": false
   },
   "outputs": [
    {
     "name": "stdout",
     "output_type": "stream",
     "text": [
      "\n",
      "?? Open next example of missed detection? \n",
      " \n",
      "===== REGION 8 =====\n",
      "{Text: .*?(\\d+).*\n",
      " URL: http://127.0.0.1:8000/pages/regex/regex%20split%20string%20tutorial/4/wiki.tcl.tk/989.html, Element: HTML > BODY:nth-of-type(1) > DIV:nth-of-type(1) > DIV:nth-of-type(2) > DIV:nth-of-type(1) > PRE:nth-of-type(52), Offsets: (47, 56)}\n",
      "* Text:  .*?(\\d+).*\n",
      "* HTML:  <pre class=\"\"> % set str {Acc No: 12345}\n",
      " % set num [regexp {.*?(\\d+).*} $str junk result]\n",
      " % puts $result\n",
      " 1</pre>\n",
      "\n",
      "?? Open next example of missed detection? \n",
      " \n",
      "===== REGION 9 =====\n",
      "{Text: \\(\\/[^:]*\\)\n",
      " URL: http://127.0.0.1:8000/pages/regex/linux%20regex%20sed%20tutorial/8/www.thegeekstuff.com/2009/10/unix-sed-tutorial-advanced-sed-substitution-examples/, Element: HTML > BODY:nth-of-type(1) > DIV:nth-of-type(1) > DIV:nth-of-type(2) > DIV:nth-of-type(1) > DIV:nth-of-type(2) > UL:nth-of-type(1) > LI:nth-of-type(30) > DIV:nth-of-type(2) > P:nth-of-type(8), Offsets: (73, 83)}\n",
      "* Text:  \\(\\/[^:]*\\)\n",
      "* HTML:  <p>The first ocurrence of the path in the line is represented by “\\1″, not “\\(\\/[^:]*\\)”.</p>\n",
      "\n",
      "?? Open next example of missed detection? \n",
      " \n",
      "===== REGION 10 =====\n",
      "{Text: ^[A-Za-z0-9!@#$%^&*()_]{6,20}$\n",
      " URL: http://127.0.0.1:8000/pages/regex/javascript%20regex%20validation%20tutorial/3/www.9lessons.info/2009/03/perfect-javascript-form-validation.html, Element: HTML > BODY:nth-of-type(1) > DIV:nth-of-type(3) > TABLE:nth-of-type(1) > TBODY:nth-of-type(1) > TR:nth-of-type(1) > TD:nth-of-type(1) > DIV:nth-of-type(2) > DIV:nth-of-type(3) > DIV:nth-of-type(1) > DIV:nth-of-type(1) > DIV:nth-of-type(2) > DIV:nth-of-type(5) > DIV:nth-of-type(6) > B:nth-of-type(2), Offsets: (2, 31)}\n",
      "* Text:  ^[A-Za-z0-9!@#$%^&*()_]{6,20}$\n",
      "* HTML:  <b style=\"color: #38761d;\"> /^[A-Za-z0-9!@#$%^&amp;*()_]{6,20}$/</b>\n",
      "\n",
      "?? Open next example of missed detection? \n",
      " \n",
      "===== REGION 11 =====\n",
      "{Text: <(bo)>(.*?)</bo>\n",
      " URL: http://127.0.0.1:8000/pages/regex/regex%20split%20string%20tutorial/4/wiki.tcl.tk/989.html, Element: HTML > BODY:nth-of-type(1) > DIV:nth-of-type(1) > DIV:nth-of-type(2) > DIV:nth-of-type(1) > PRE:nth-of-type(30), Offsets: (12, 27)}\n",
      "* Text:  <(bo)>(.*?)</bo>\n",
      "* HTML:  <pre class=\"\">  % regexp \"&lt;(bo)&gt;(.*?)&lt;/bo&gt;\" $text dummy tag body</pre>\n",
      "\n",
      "?? Open next example of missed detection? \n",
      " \n",
      "===== REGION 12 =====\n",
      "{Text: \\.(gif|jpe?g|png)$\n",
      " URL: http://127.0.0.1:8000/pages/regex/.htaccess%20php%20regex%20tutorial/7/www.askapache.com/htaccess/using-filesmatch-and-files-in-htaccess.html, Element: HTML > BODY:nth-of-type(1) > DIV:nth-of-type(1) > DIV:nth-of-type(2) > DIV:nth-of-type(1) > DIV:nth-of-type(1) > DIV:nth-of-type(6) > PRE:nth-of-type(1), Offsets: (13, 30)}\n",
      "* Text:  \\.(gif|jpe?g|png)$\n",
      "* HTML:  <pre id=\"ptb5\">&lt;FilesMatch \"\\.(gif|jpe?g|png)$\"&gt;</pre>\n",
      "\n",
      "?? Open next example of missed detection? \n",
      " \n",
      "===== REGION 13 =====\n",
      "{Text: \\S+\n",
      " URL: http://127.0.0.1:8000/pages/regex/regex%20split%20string%20tutorial/4/wiki.tcl.tk/989.html, Element: HTML > BODY:nth-of-type(1) > DIV:nth-of-type(1) > DIV:nth-of-type(2) > DIV:nth-of-type(1) > PRE:nth-of-type(4), Offsets: (3, 5)}\n",
      "* Text:  \\S+\n",
      "* HTML:  <pre class=\"\">  {\\S+}</pre>\n",
      "\n",
      "?? Open next example of missed detection? \n",
      " \n",
      "===== REGION 14 =====\n",
      "{Text: \\.(gif|jpg|png)$\n",
      " URL: http://127.0.0.1:8000/pages/regex/mod-rewrite%20php%20regex%20tutorial/9/www.workingwith.me.uk/articles/scripting/mod_rewrite.html, Element: HTML > BODY:nth-of-type(1) > DIV:nth-of-type(1) > DIV:nth-of-type(2) > DIV:nth-of-type(1) > DIV:nth-of-type(1) > P:nth-of-type(25) > CODE:nth-of-type(1), Offsets: (12, 27)}\n",
      "* Text:  \\.(gif|jpg|png)$\n",
      "* HTML:  <code>RewriteRule \\.(gif|jpg|png)$ - [F]</code>\n",
      "\n",
      "?? Open next example of missed detection? \n",
      " \n",
      "===== REGION 15 =====\n",
      "{Text: ^ +(.*) *$\n",
      " URL: http://127.0.0.1:8000/pages/regex/regex%20split%20string%20tutorial/4/wiki.tcl.tk/989.html, Element: HTML > BODY:nth-of-type(1) > DIV:nth-of-type(1) > DIV:nth-of-type(2) > DIV:nth-of-type(1) > PRE:nth-of-type(58), Offsets: (115, 124)}\n",
      "* Text:  ^ +(.*) *$\n",
      "* HTML:  <pre class=\"\">   set rest [regexp {^ +(.*?) *$} $str match noinfinite]\n",
      "   puts $rest\n",
      "   puts \"|$noinfinte|\"\n",
      "   set rest [regexp {^ +(.*) *$} $str match noinfinite]\n",
      "   puts $rest\n",
      "   puts \"|$noinfinte|\"</pre>\n",
      "\n",
      "?? Open next example of missed detection? \n",
      " \n",
      "===== REGION 16 =====\n",
      "{Text: <option.*?>([^<]+)</option>\n",
      " URL: http://127.0.0.1:8000/pages/regex/html%20php%20regex%20tutorial/5/stackoverflow.com/questions/828870/php-regex-how-to-get-the-string-value-of-html-tag.html, Element: HTML > BODY:nth-of-type(1) > DIV:nth-of-type(5) > DIV:nth-of-type(2) > DIV:nth-of-type(1) > DIV:nth-of-type(3) > DIV:nth-of-type(2) > DIV:nth-of-type(5) > TABLE:nth-of-type(1) > TBODY:nth-of-type(1) > TR:nth-of-type(1) > TD:nth-of-type(2) > DIV:nth-of-type(1) > PRE:nth-of-type(1) > CODE:nth-of-type(1), Offsets: (105, 131)}\n",
      "* Text:  <option.*?>([^<]+)</option>\n",
      "* HTML:  <code>$str = '&lt;option value=\"123\"&gt;abc&lt;/option&gt;\n",
      "        &lt;option value=\"123\"&gt;aabbcc&lt;/option&gt;';\n",
      "\n",
      "preg_match_all(\"#&lt;option.*?&gt;([^&lt;]+)&lt;/option&gt;#\", $str, $foo);\n",
      "\n",
      "print_r($foo[1]);\n",
      "</code>\n",
      "\n",
      "?? Open next example of missed detection? \n",
      " \n",
      "===== REGION 17 =====\n",
      "{Text: pattern\n",
      " URL: http://127.0.0.1:8000/pages/regex/awk%20bash%20regex%20tutorial/3/stackoverflow.com/questions/5536018/how-to-get-match-regex-pattern-using-awk-from-file.html, Element: HTML > BODY:nth-of-type(1) > DIV:nth-of-type(5) > DIV:nth-of-type(2) > DIV:nth-of-type(1) > DIV:nth-of-type(3) > DIV:nth-of-type(2) > DIV:nth-of-type(2) > TABLE:nth-of-type(1) > TBODY:nth-of-type(1) > TR:nth-of-type(1) > TD:nth-of-type(2) > DIV:nth-of-type(1) > PRE:nth-of-type(1) > CODE:nth-of-type(1), Offsets: (6, 12)}\n",
      "* Text:  pattern\n",
      "* HTML:  <code>awk '/pattern/{ print $0 }' file\n",
      "</code>\n",
      "\n",
      "?? Open next example of missed detection? \n",
      " \n",
      "===== REGION 18 =====\n",
      "{Text: ^page/([^/\\.]+)/?$\n",
      " URL: http://127.0.0.1:8000/pages/regex/mod-rewrite%20php%20regex%20tutorial/9/www.workingwith.me.uk/articles/scripting/mod_rewrite.html, Element: HTML > BODY:nth-of-type(1) > DIV:nth-of-type(1) > DIV:nth-of-type(2) > DIV:nth-of-type(1) > DIV:nth-of-type(2) > OL:nth-of-type(1) > LI:nth-of-type(8) > PRE:nth-of-type(2) > CODE:nth-of-type(1), Offsets: (130, 147)}\n",
      "* Text:  ^page/([^/\\.]+)/?$\n",
      "* HTML:  <code>&lt;IfModule mod_rewrite.c&gt;\n",
      "#RewriteEngine On\n",
      "RewriteBase /pictures/\n",
      "RewriteEngine on\n",
      "RewriteRule ^alice.html$ bob.html\n",
      "#RewriteRule ^page/([^/\\.]+)/?$ index.php?page=$1 [L]\n",
      "#/pictures/index.php?path=&amp;img=test.jpg\n",
      "#/pictures/index.php?path=prague&amp;img=DSC01062.JPG\n",
      "RewriteCond %{REQUEST_FILENAME} !-d\n",
      "RewriteRule ^([^\\.\\?/]+)/([0-9]+)$ /pictures/index.php?path=$1&amp;img=$2 [QSA]\n",
      "RewriteCond %{REQUEST_FILENAME} !-d\n",
      "RewriteRule ^([^\\.\\?/]+)/([A-Za-z_0-9\\-]+)$ /pictures/index.php?path=$1&amp;img=$2 [QSA]\n",
      "RewriteCond %{REQUEST_FILENAME} !-d\n",
      "RewriteRule ^([^\\.\\?/]+)/$ /pictures/$1 [R]\n",
      "RewriteCond %{REQUEST_FILENAME} !-d\n",
      "RewriteRule ^([^\\.\\?/]+)$ /pictures/index.php?path=$1 [QSA]\n",
      "&lt;/IfModule&gt;</code>\n",
      "\n",
      "?? Open next example of missed detection? \n",
      " \n",
      "===== REGION 19 =====\n",
      "{Text: [:].*\n",
      " URL: http://127.0.0.1:8000/pages/regex/linux%20regex%20sed%20tutorial/8/www.thegeekstuff.com/2009/10/unix-sed-tutorial-advanced-sed-substitution-examples/, Element: HTML > BODY:nth-of-type(1) > DIV:nth-of-type(1) > DIV:nth-of-type(2) > DIV:nth-of-type(1) > DIV:nth-of-type(2) > UL:nth-of-type(1) > LI:nth-of-type(36) > DIV:nth-of-type(2) > P:nth-of-type(1), Offsets: (7, 11)}\n",
      "* Text:  [:].*\n",
      "* HTML:  <p>sed ‘s/[:].*/ /g’ /etc/passwd<br>\n",
      "best example</p>\n",
      "\n",
      "?? Open next example of missed detection? \n",
      " \n",
      "===== REGION 20 =====\n",
      "{Text: ^[A-Za-z]+$\n",
      " URL: http://127.0.0.1:8000/pages/regex/regex%20split%20string%20tutorial/4/wiki.tcl.tk/989.html, Element: HTML > BODY:nth-of-type(1) > DIV:nth-of-type(1) > DIV:nth-of-type(2) > DIV:nth-of-type(1) > PRE:nth-of-type(9), Offsets: (2, 12)}\n",
      "* Text:  ^[A-Za-z]+$\n",
      "* HTML:  <pre class=\"\"> {^[A-Za-z]+$}   Only letters.\n",
      "\n",
      " {^[[:alpha¥:]]+$} Only letters, the Unicode way.</pre>\n",
      "\n",
      "?? Open next example of missed detection? \n",
      " \n",
      "===== REGION 21 =====\n",
      "{Text: smug\n",
      " URL: http://127.0.0.1:8000/pages/regex/bash%20grep%20regex%20tutorial/5/www.robelle.com/smugbook/regexpr.html, Element: HTML > BODY:nth-of-type(1) > P:nth-of-type(2) > TABLE:nth-of-type(1) > TBODY:nth-of-type(1) > TR:nth-of-type(7) > TD:nth-of-type(1), Offsets: (5, 8)}\n",
      "* Text:  smug\n",
      "* HTML:  <td>grep smug *.txt</td>\n",
      "\n",
      "?? Open next example of missed detection? \n",
      " \n",
      "===== REGION 22 =====\n",
      "{Text: [a-zA-Z]\n",
      " URL: http://127.0.0.1:8000/pages/regex/bash%20grep%20regex%20tutorial/5/www.robelle.com/smugbook/regexpr.html, Element: HTML > BODY:nth-of-type(1) > P:nth-of-type(17) > TABLE:nth-of-type(1) > TBODY:nth-of-type(1) > TR:nth-of-type(2) > TD:nth-of-type(1), Offsets: (6, 13)}\n",
      "* Text:  [a-zA-Z]\n",
      "* HTML:  <td>grep '[a-zA-Z]'</td>\n",
      "\n",
      "?? Open next example of missed detection? \n",
      " \n",
      "===== REGION 23 =====\n",
      "{Text: (..)_(..)\n",
      " URL: http://127.0.0.1:8000/pages/regex/bash%20linux%20regex%20tutorial/10/mywiki.wooledge.org/BashGuide/Patterns.html, Element: HTML > BODY:nth-of-type(1) > DIV:nth-of-type(2) > DIV:nth-of-type(1) > PRE:nth-of-type(7), Offsets: (13, 21)}\n",
      "* Text:  (..)_(..)\n",
      "* HTML:  <pre><span class=\"anchor\" id=\"line-1-6\"></span>$ langRegex='(..)_(..)'\n",
      "<span class=\"anchor\" id=\"line-2-5\"></span>$ if [[ $LANG =~ $langRegex ]]\n",
      "<span class=\"anchor\" id=\"line-3-5\"></span>&gt; then\n",
      "<span class=\"anchor\" id=\"line-4-5\"></span>&gt;     echo \"Your country code (ISO 3166-1-alpha-2) is ${BASH_REMATCH[2]}.\"\n",
      "<span class=\"anchor\" id=\"line-5-4\"></span>&gt;     echo \"Your language code (ISO 639-1) is ${BASH_REMATCH[1]}.\"\n",
      "<span class=\"anchor\" id=\"line-6-2\"></span>&gt; else\n",
      "<span class=\"anchor\" id=\"line-7-1\"></span>&gt;     echo \"Your locale was not recognised\"\n",
      "<span class=\"anchor\" id=\"line-8\"></span>&gt; fi</pre>\n",
      "\n",
      "?? Open next example of missed detection? \n",
      " \n",
      "===== REGION 24 =====\n",
      "{Text: ^.*abc\\([0-9]\\+\\)xyz.*$\n",
      " URL: http://127.0.0.1:8000/pages/regex/awk%20regex%20sed%20tutorial/3/stackoverflow.com/questions/1733692/how-to-use-sed-awk-or-gawk-to-print-only-what-is-matched.html, Element: HTML > BODY:nth-of-type(1) > DIV:nth-of-type(5) > DIV:nth-of-type(2) > DIV:nth-of-type(1) > DIV:nth-of-type(3) > DIV:nth-of-type(2) > DIV:nth-of-type(2) > TABLE:nth-of-type(1) > TBODY:nth-of-type(1) > TR:nth-of-type(2) > TD:nth-of-type(2) > DIV:nth-of-type(1) > TABLE:nth-of-type(1) > TBODY:nth-of-type(1) > TR:nth-of-type(3) > TD:nth-of-type(2) > DIV:nth-of-type(1) > SPAN:nth-of-type(1) > CODE:nth-of-type(2), Offsets: (10, 32)}\n",
      "* Text:  ^.*abc\\([0-9]\\+\\)xyz.*$\n",
      "* HTML:  <code>sed -n 's/^.*abc\\([0-9]\\+\\)xyz.*$/\\1/p'</code>\n",
      "\n",
      "?? Open next example of missed detection? \n",
      " \n",
      "===== REGION 25 =====\n",
      "{Text: ^[A-Za-z0-9_]{3,20}$\n",
      " URL: http://127.0.0.1:8000/pages/regex/javascript%20regex%20validation%20tutorial/3/www.9lessons.info/2009/03/perfect-javascript-form-validation.html, Element: HTML > BODY:nth-of-type(1) > DIV:nth-of-type(3) > TABLE:nth-of-type(1) > TBODY:nth-of-type(1) > TR:nth-of-type(1) > TD:nth-of-type(1) > DIV:nth-of-type(2) > DIV:nth-of-type(3) > DIV:nth-of-type(1) > DIV:nth-of-type(1) > DIV:nth-of-type(2) > DIV:nth-of-type(5) > DIV:nth-of-type(5) > B:nth-of-type(2) > SPAN:nth-of-type(1), Offsets: (1, 20)}\n",
      "* Text:  ^[A-Za-z0-9_]{3,20}$\n",
      "* HTML:  <span style=\"color: #38761d;\">/^[A-Za-z0-9_]{3,20}$/</span>\n",
      "\n",
      "?? Open next example of missed detection? \n",
      " \n",
      "===== REGION 26 =====\n",
      "{Text: <br ?\\/?>\n",
      " URL: http://127.0.0.1:8000/pages/regex/javascript%20jquery%20regex%20tutorial/8/stackoverflow.com/questions/5959415/jquery-javascript-regex-replace-br-with-n.html, Element: HTML > BODY:nth-of-type(1) > DIV:nth-of-type(5) > DIV:nth-of-type(2) > DIV:nth-of-type(1) > DIV:nth-of-type(3) > DIV:nth-of-type(2) > DIV:nth-of-type(4) > TABLE:nth-of-type(1) > TBODY:nth-of-type(1) > TR:nth-of-type(1) > TD:nth-of-type(2) > DIV:nth-of-type(1) > P:nth-of-type(1) > CODE:nth-of-type(1), Offsets: (18, 26)}\n",
      "* Text:  <br ?\\/?>\n",
      "* HTML:  <code>myString.replace(/&lt;br ?\\/?&gt;/g, \"\\n\")</code>\n",
      "\n",
      "?? Open next example of missed detection? \n",
      " \n",
      "===== REGION 27 =====\n",
      "{Text:  (?= )\n",
      " URL: http://127.0.0.1:8000/pages/regex/regex%20split%20string%20tutorial/4/wiki.tcl.tk/989.html, Element: HTML > BODY:nth-of-type(1) > DIV:nth-of-type(1) > DIV:nth-of-type(2) > DIV:nth-of-type(1) > PRE:nth-of-type(49), Offsets: (14, 19)}\n",
      "* Text:   (?= )\n",
      "* HTML:  <pre class=\"\"> regsub -all { (?= )} $line {\\&amp;nbsp;} line\n",
      "\n",
      " set line {this is an    example}\n",
      " regsub -all { (?= )} $line {\\&amp;nbsp;} line\n",
      " set line\n",
      " this is an&amp;nbsp;&amp;nbsp;&amp;nbsp; example</pre>\n",
      "\n",
      "?? Open next example of missed detection? \n",
      " \n",
      "===== REGION 28 =====\n",
      "{Text: <a\\s[^>]*href=([\\\"\\']??)([^\\\\1 >]*?)\\\\1[^>]*>(.*)<\\/a>\n",
      " URL: http://127.0.0.1:8000/pages/regex/parsing%20php%20regex%20tutorial/6/www.the-art-of-web.com/php/parse-links/, Element: HTML > BODY:nth-of-type(1) > DIV:nth-of-type(3) > DIV:nth-of-type(5) > DIV:nth-of-type(1) > DIV:nth-of-type(1) > P:nth-of-type(4), Offsets: (38, 91)}\n",
      "* Text:  <a\\s[^>]*href=([\\\"\\']??)([^\\\\1 >]*?)\\\\1[^>]*>(.*)<\\/a>\n",
      "* HTML:  <p>The complete regex should look like: /&lt;a\\s[^&gt;]*href=([\\\"\\']??)([^\\\\1 &gt;]*?)\\\\1[^&gt;]*&gt;(.*)&lt;\\/a&gt;/siU</p>\n",
      "\n",
      "?? Open next example of missed detection? \n",
      " \n",
      "===== REGION 29 =====\n",
      "{Text: password\n",
      " URL: http://127.0.0.1:8000/pages/regex/linux%20regex%20sed%20tutorial/6/unix.stackexchange.com/questions/78625/using-sed-to-find-and-replace-complex-string-preferrably-with-regex.html, Element: HTML > BODY:nth-of-type(1) > DIV:nth-of-type(5) > DIV:nth-of-type(2) > DIV:nth-of-type(1) > DIV:nth-of-type(3) > DIV:nth-of-type(2) > DIV:nth-of-type(4) > TABLE:nth-of-type(1) > TBODY:nth-of-type(1) > TR:nth-of-type(1) > TD:nth-of-type(2) > DIV:nth-of-type(1) > PRE:nth-of-type(1) > CODE:nth-of-type(1), Offsets: (62, 69)}\n",
      "* Text:  password\n",
      "* HTML:  <code>sed -e '/username/s/CDATA\\[name\\]/CDATA\\[something\\]/' \\\n",
      "-e '/password/s/CDATA\\[password\\]/CDATA\\[somethingelse\\]/' \\\n",
      "-e '/dbname/s/CDATA\\[name\\]/CDATA\\[somethingdifferent\\]/' file.txt\n",
      "</code>\n",
      "\n",
      "?? Open next example of missed detection? \n",
      " \n",
      "===== REGION 30 =====\n",
      "{Text: \\\"\n",
      " URL: http://127.0.0.1:8000/pages/regex/android%20java%20regex%20tutorial/9/www.mkyong.com/regular-expressions/how-to-extract-html-links-with-regular-expression/, Element: HTML > BODY:nth-of-type(1) > DIV:nth-of-type(1) > DIV:nth-of-type(2) > DIV:nth-of-type(1) > DIV:nth-of-type(1) > DIV:nth-of-type(1) > DIV:nth-of-type(1) > ARTICLE:nth-of-type(1) > DIV:nth-of-type(1) > DIV:nth-of-type(8) > DIV:nth-of-type(1) > PRE:nth-of-type(1) > SPAN:nth-of-type(234), Offsets: (1, 2)}\n",
      "* Text:  \\\"\n",
      "* HTML:  <span style=\"color: #0000ff;\">\"<span style=\"color: #000099; font-weight: bold;\">\\\"</span>\"</span>\n",
      "\n",
      "?? Open next example of missed detection? \n",
      " \n",
      "===== REGION 31 =====\n",
      "{Text: ls �color=auto\n",
      " URL: http://127.0.0.1:8000/pages/regex/linux%20regex%20sed%20tutorial/5/www.thegeekstuff.com/2009/09/unix-sed-tutorial-replace-text-inside-a-file-using-substitute-command/, Element: HTML > BODY:nth-of-type(1) > DIV:nth-of-type(1) > DIV:nth-of-type(2) > DIV:nth-of-type(1) > DIV:nth-of-type(2) > UL:nth-of-type(1) > LI:nth-of-type(35) > DIV:nth-of-type(2) > P:nth-of-type(1), Offsets: (348, 361)}\n",
      "* Text:  ls –color=auto\n",
      "* HTML:  <p>Found the answer to my own question.  It was a bash shell escape and had nothing to do with sed.  The sed expression had to use single quotes in order to preserve the indents and newlines.  In bash, the proper way to escape a single quote within single quotes is ‘\\”.  I was close with the ”’ but no cigar.  The working sed command is:<br>\n",
      "sed -i -e ‘/ls –color=auto/a \\<br>\n",
      "    alias ll=’\\”ls –color=auto -lh’\\” \\<br>\n",
      "    alias la=’\\”ls –color=auto -lAh’\\” \\<br>\n",
      "    alias l=’\\”ls –color=auto -CF’\\”<br>\n",
      "‘ ~/.bashrc</p>\n",
      "\n",
      "?? Open next example of missed detection? \n",
      " \n",
      "===== REGION 32 =====\n",
      "{Text: ^products/([0-9]+)$\n",
      " URL: http://127.0.0.1:8000/pages/regex/mod-rewrite%20redirect%20regex%20tutorial/7/www.yourhtmlsource.com/sitemanagement/urlrewriting.html, Element: HTML > BODY:nth-of-type(1) > DIV:nth-of-type(1) > DIV:nth-of-type(2) > DIV:nth-of-type(1) > P:nth-of-type(36) > CODE:nth-of-type(1), Offsets: (13, 31)}\n",
      "* Text:  ^products/([0-9]+)$\n",
      "* HTML:  <code class=\"unix\">\n",
      "<strong>RewriteRule</strong> <strong>^</strong>products/([0-9]<strong>+</strong>)<strong>$</strong>  /products/$1/ <strong>[R]</strong>\n",
      "</code>\n",
      "\n",
      "?? Open next example of missed detection? \n",
      " \n",
      "===== REGION 33 =====\n",
      "{Text: [[:space:]+]\n",
      " URL: http://127.0.0.1:8000/pages/regex/awk%20bash%20regex%20tutorial/10/www.ibm.com/developerworks/library/l-awk1/, Element: HTML > BODY:nth-of-type(1) > DIV:nth-of-type(2) > DIV:nth-of-type(3) > DIV:nth-of-type(2) > DIV:nth-of-type(1) > DIV:nth-of-type(1) > DIV:nth-of-type(1) > DIV:nth-of-type(1) > DIV:nth-of-type(1) > DIV:nth-of-type(39) > PRE:nth-of-type(1), Offsets: (4, 15)}\n",
      "* Text:  [[:space:]+]\n",
      "* HTML:  <pre class=\"displaycode\">FS=\"[[:space:]+]\"</pre>\n",
      "\n",
      "?? Open next example of missed detection? \n",
      " \n",
      "===== REGION 34 =====\n",
      "{Text: ^[[:alpha�:]]+$\n",
      " URL: http://127.0.0.1:8000/pages/regex/regex%20split%20string%20tutorial/4/wiki.tcl.tk/989.html, Element: HTML > BODY:nth-of-type(1) > DIV:nth-of-type(1) > DIV:nth-of-type(2) > DIV:nth-of-type(1) > PRE:nth-of-type(9), Offsets: (34, 48)}\n",
      "* Text:  ^[[:alpha¥:]]+$\n",
      "* HTML:  <pre class=\"\"> {^[A-Za-z]+$}   Only letters.\n",
      "\n",
      " {^[[:alpha¥:]]+$} Only letters, the Unicode way.</pre>\n",
      "\n",
      "?? Open next example of missed detection? \n",
      " \n",
      "===== REGION 35 =====\n",
      "{Text: \\\\s*(?i)href\\\\s*=\\\\s*(\\\"([^\\\"]*\\\")|'[^']*'|([^'\\\">\\\\s]+))\n",
      " URL: http://127.0.0.1:8000/pages/regex/android%20java%20regex%20tutorial/9/www.mkyong.com/regular-expressions/how-to-extract-html-links-with-regular-expression/, Element: HTML > BODY:nth-of-type(1) > DIV:nth-of-type(1) > DIV:nth-of-type(2) > DIV:nth-of-type(1) > DIV:nth-of-type(1) > DIV:nth-of-type(1) > DIV:nth-of-type(1) > ARTICLE:nth-of-type(1) > DIV:nth-of-type(1) > DIV:nth-of-type(8) > DIV:nth-of-type(1) > PRE:nth-of-type(1) > SPAN:nth-of-type(32), Offsets: (1, 57)}\n",
      "* Text:  \\\\s*(?i)href\\\\s*=\\\\s*(\\\"([^\\\"]*\\\")|'[^']*'|([^'\\\">\\\\s]+))\n",
      "* HTML:  <span style=\"color: #0000ff;\">\"<span style=\"color: #000099; font-weight: bold;\">\\\\</span>s*(?i)href<span style=\"color: #000099; font-weight: bold;\">\\\\</span>s*=<span style=\"color: #000099; font-weight: bold;\">\\\\</span>s*(<span style=\"color: #000099; font-weight: bold;\">\\\"</span>([^<span style=\"color: #000099; font-weight: bold;\">\\\"</span>]*<span style=\"color: #000099; font-weight: bold;\">\\\"</span>)|'[^']*'|([^'<span style=\"color: #000099; font-weight: bold;\">\\\"</span>&gt;<span style=\"color: #000099; font-weight: bold;\">\\\\</span>s]+))\"</span>\n",
      "\n",
      "?? Open next example of missed detection? \n",
      " \n",
      "===== REGION 36 =====\n",
      "{Text: \\s*(?i)href\\s*=\\s*(\\\"([^\"]*\\\")|'[^']*'|([^'\">\\s]+));\n",
      " URL: http://127.0.0.1:8000/pages/regex/android%20java%20regex%20tutorial/9/www.mkyong.com/regular-expressions/how-to-extract-html-links-with-regular-expression/, Element: HTML > BODY:nth-of-type(1) > DIV:nth-of-type(1) > DIV:nth-of-type(2) > DIV:nth-of-type(1) > DIV:nth-of-type(1) > DIV:nth-of-type(1) > DIV:nth-of-type(1) > ARTICLE:nth-of-type(1) > DIV:nth-of-type(1) > DIV:nth-of-type(3) > DIV:nth-of-type(1) > PRE:nth-of-type(1), Offsets: (0, 51)}\n",
      "* Text:  \\s*(?i)href\\s*=\\s*(\\\"([^\"]*\\\")|'[^']*'|([^'\">\\s]+));\n",
      "* HTML:  <pre class=\"java\" style=\"font-family:monospace;\">\\s<span style=\"color: #339933;\">*</span><span style=\"color: #009900;\">(</span><span style=\"color: #339933;\">?</span>i<span style=\"color: #009900;\">)</span>href\\s<span style=\"color: #339933;\">*=</span>\\s<span style=\"color: #339933;\">*</span><span style=\"color: #009900;\">(</span>\\<span style=\"color: #0000ff;\">\"([^\"</span><span style=\"color: #009900;\">]</span><span style=\"color: #339933;\">*</span>\\<span style=\"color: #0000ff;\">\")|'[^']*'|([^'\"</span><span style=\"color: #339933;\">&gt;</span>\\s<span style=\"color: #009900;\">]</span><span style=\"color: #339933;\">+</span><span style=\"color: #009900;\">)</span><span style=\"color: #009900;\">)</span><span style=\"color: #339933;\">;</span></pre>\n",
      "\n",
      "?? Open next example of missed detection? \n",
      " \n",
      "===== REGION 37 =====\n",
      "{Text: \\\\.\n",
      " URL: http://127.0.0.1:8000/pages/regex/regex%20split%20string%20tutorial/8/javarevisited.blogspot.com/2011/09/string-split-example-in-java-tutorial.html, Element: HTML > BODY:nth-of-type(1) > DIV:nth-of-type(2) > DIV:nth-of-type(3) > DIV:nth-of-type(1) > DIV:nth-of-type(1) > DIV:nth-of-type(2) > DIV:nth-of-type(1) > DIV:nth-of-type(1) > DIV:nth-of-type(1) > DIV:nth-of-type(1) > DIV:nth-of-type(1) > DIV:nth-of-type(2) > DIV:nth-of-type(1) > DIV:nth-of-type(22) > DIV:nth-of-type(24) > SPAN:nth-of-type(1), Offsets: (48, 50)}\n",
      "* Text:  \\\\.\n",
      "* HTML:  <span style=\"color: black; font-family: &quot;Courier New&quot;; font-size: 9pt;\">String[] smartPhonesSplits = smartPhones.split(\"\\\\.\");</span>\n",
      "\n",
      "?? Open next example of missed detection? +\n",
      " \n",
      "===== REGION 38 =====\n",
      "{Text: blkptr\n",
      " URL: http://127.0.0.1:8000/pages/regex/bash%20grep%20regex%20tutorial/5/www.robelle.com/smugbook/regexpr.html, Element: HTML > BODY:nth-of-type(1) > P:nth-of-type(5) > TABLE:nth-of-type(1) > TBODY:nth-of-type(1) > TR:nth-of-type(2) > TD:nth-of-type(1), Offsets: (14, 19)}\n",
      "* Text:  blkptr\n",
      "* HTML:  <td> % grep -i -w blkptr * </td>\n",
      "\n",
      "?? Open next example of missed detection? \n",
      " \n",
      "===== REGION 39 =====\n",
      "{Text: ^[^0-9]*\n",
      " URL: http://127.0.0.1:8000/pages/regex/awk%20regex%20sed%20tutorial/3/stackoverflow.com/questions/1733692/how-to-use-sed-awk-or-gawk-to-print-only-what-is-matched.html, Element: HTML > BODY:nth-of-type(1) > DIV:nth-of-type(5) > DIV:nth-of-type(2) > DIV:nth-of-type(1) > DIV:nth-of-type(3) > DIV:nth-of-type(2) > DIV:nth-of-type(6) > TABLE:nth-of-type(1) > TBODY:nth-of-type(1) > TR:nth-of-type(1) > TD:nth-of-type(2) > DIV:nth-of-type(1) > PRE:nth-of-type(3) > CODE:nth-of-type(1), Offsets: (52, 59)}\n",
      "* Text:  ^[^0-9]*\n",
      "* HTML:  <code>egrep '[^0-9]*[0-9]+[^0-9]*$' inputFile | sed -e 's/^[^0-9]*//' -e 's/[^0-9]*$//'\n",
      "</code>\n",
      "\n",
      "?? Open next example of missed detection? \n"
     ]
    }
   ],
   "source": [
    "open_missing_detections(8)"
   ]
  },
  {
   "cell_type": "markdown",
   "metadata": {},
   "source": [
    "### False Detections"
   ]
  },
  {
   "cell_type": "code",
   "execution_count": 48,
   "metadata": {
    "collapsed": false
   },
   "outputs": [],
   "source": [
    "def open_false_detections(start_index=0, debug=True):\n",
    "    for i, r in enumerate(false_regions[start_index:], start_index):\n",
    "        print \"\"\n",
    "        print \"?? Open next example of false detection? \",\n",
    "        try:\n",
    "            again = raw_input()\n",
    "            if again.lower() == 'n':\n",
    "                break\n",
    "            print \"\"\n",
    "            print \"===== REGION %d =====\" % i\n",
    "            print r\n",
    "            show_region(browser, r)\n",
    "            if debug:\n",
    "                print \"* Text: \", get_text(browser, r)\n",
    "                html = get_html(browser,r)\n",
    "                print \"* HTML: \",\n",
    "                if len(html) > 1000:\n",
    "                    print \"too long to render\"\n",
    "                else:\n",
    "                    print html\n",
    "        except KeyboardInterrupt:\n",
    "            return"
   ]
  },
  {
   "cell_type": "code",
   "execution_count": 49,
   "metadata": {
    "collapsed": false
   },
   "outputs": [
    {
     "name": "stdout",
     "output_type": "stream",
     "text": [
      "\n",
      "?? Open next example of false detection? \n",
      " \n",
      "===== REGION 0 =====\n",
      "{Text: usr URL: http://127.0.0.1:8000/pages/regex/linux%20regex%20sed%20tutorial/8/www.thegeekstuff.com/2009/10/unix-sed-tutorial-advanced-sed-substitution-examples/, Element: HTML > BODY:nth-of-type(1) > DIV:nth-of-type(1) > DIV:nth-of-type(2) > DIV:nth-of-type(1) > DIV:nth-of-type(1) > DIV:nth-of-type(2) > PRE:nth-of-type(1), Offsets: (16, 18)}\n",
      "* Text:  usr\n",
      "* HTML:  <pre>$ cat path.txt\n",
      "/usr/kbos/bin:/usr/local/bin:/usr/jbin:/usr/bin:/usr/sas/bin\n",
      "/usr/local/sbin:/sbin:/bin/:/usr/sbin:/usr/bin:/opt/omni/bin:\n",
      "/opt/omni/lbin:/opt/omni/sbin:/root/bin</pre>\n",
      "\n",
      "?? Open next example of false detection? \n",
      " \n",
      "===== REGION 1 =====\n",
      "{Text: usr URL: http://127.0.0.1:8000/pages/regex/linux%20regex%20sed%20tutorial/8/www.thegeekstuff.com/2009/10/unix-sed-tutorial-advanced-sed-substitution-examples/, Element: HTML > BODY:nth-of-type(1) > DIV:nth-of-type(1) > DIV:nth-of-type(2) > DIV:nth-of-type(1) > DIV:nth-of-type(1) > DIV:nth-of-type(2) > PRE:nth-of-type(1), Offsets: (30, 32)}\n",
      "* Text:  usr\n",
      "* HTML:  <pre>$ cat path.txt\n",
      "/usr/kbos/bin:/usr/local/bin:/usr/jbin:/usr/bin:/usr/sas/bin\n",
      "/usr/local/sbin:/sbin:/bin/:/usr/sbin:/usr/bin:/opt/omni/bin:\n",
      "/opt/omni/lbin:/opt/omni/sbin:/root/bin</pre>\n",
      "\n",
      "?? Open next example of false detection? \n",
      " \n",
      "===== REGION 2 =====\n",
      "{Text: usr URL: http://127.0.0.1:8000/pages/regex/linux%20regex%20sed%20tutorial/8/www.thegeekstuff.com/2009/10/unix-sed-tutorial-advanced-sed-substitution-examples/, Element: HTML > BODY:nth-of-type(1) > DIV:nth-of-type(1) > DIV:nth-of-type(2) > DIV:nth-of-type(1) > DIV:nth-of-type(1) > DIV:nth-of-type(2) > PRE:nth-of-type(1), Offsets: (45, 47)}\n",
      "* Text:  usr\n",
      "* HTML:  <pre>$ cat path.txt\n",
      "/usr/kbos/bin:/usr/local/bin:/usr/jbin:/usr/bin:/usr/sas/bin\n",
      "/usr/local/sbin:/sbin:/bin/:/usr/sbin:/usr/bin:/opt/omni/bin:\n",
      "/opt/omni/lbin:/opt/omni/sbin:/root/bin</pre>\n",
      "\n",
      "?? Open next example of false detection? \n",
      " \n",
      "===== REGION 3 =====\n",
      "{Text: usr URL: http://127.0.0.1:8000/pages/regex/linux%20regex%20sed%20tutorial/8/www.thegeekstuff.com/2009/10/unix-sed-tutorial-advanced-sed-substitution-examples/, Element: HTML > BODY:nth-of-type(1) > DIV:nth-of-type(1) > DIV:nth-of-type(2) > DIV:nth-of-type(1) > DIV:nth-of-type(1) > DIV:nth-of-type(2) > PRE:nth-of-type(1), Offsets: (55, 57)}\n",
      "* Text:  usr\n",
      "* HTML:  <pre>$ cat path.txt\n",
      "/usr/kbos/bin:/usr/local/bin:/usr/jbin:/usr/bin:/usr/sas/bin\n",
      "/usr/local/sbin:/sbin:/bin/:/usr/sbin:/usr/bin:/opt/omni/bin:\n",
      "/opt/omni/lbin:/opt/omni/sbin:/root/bin</pre>\n",
      "\n",
      "?? Open next example of false detection? \n",
      " \n",
      "===== REGION 4 =====\n",
      "{Text: usr URL: http://127.0.0.1:8000/pages/regex/linux%20regex%20sed%20tutorial/8/www.thegeekstuff.com/2009/10/unix-sed-tutorial-advanced-sed-substitution-examples/, Element: HTML > BODY:nth-of-type(1) > DIV:nth-of-type(1) > DIV:nth-of-type(2) > DIV:nth-of-type(1) > DIV:nth-of-type(1) > DIV:nth-of-type(2) > PRE:nth-of-type(1), Offsets: (64, 66)}\n",
      "* Text:  usr\n",
      "* HTML:  <pre>$ cat path.txt\n",
      "/usr/kbos/bin:/usr/local/bin:/usr/jbin:/usr/bin:/usr/sas/bin\n",
      "/usr/local/sbin:/sbin:/bin/:/usr/sbin:/usr/bin:/opt/omni/bin:\n",
      "/opt/omni/lbin:/opt/omni/sbin:/root/bin</pre>\n",
      "\n",
      "?? Open next example of false detection? \n",
      " \n",
      "===== REGION 5 =====\n",
      "{Text: usr URL: http://127.0.0.1:8000/pages/regex/linux%20regex%20sed%20tutorial/8/www.thegeekstuff.com/2009/10/unix-sed-tutorial-advanced-sed-substitution-examples/, Element: HTML > BODY:nth-of-type(1) > DIV:nth-of-type(1) > DIV:nth-of-type(2) > DIV:nth-of-type(1) > DIV:nth-of-type(1) > DIV:nth-of-type(2) > PRE:nth-of-type(1), Offsets: (77, 79)}\n",
      "* Text:  usr\n",
      "* HTML:  <pre>$ cat path.txt\n",
      "/usr/kbos/bin:/usr/local/bin:/usr/jbin:/usr/bin:/usr/sas/bin\n",
      "/usr/local/sbin:/sbin:/bin/:/usr/sbin:/usr/bin:/opt/omni/bin:\n",
      "/opt/omni/lbin:/opt/omni/sbin:/root/bin</pre>\n",
      "\n",
      "?? Open next example of false detection? \n",
      " \n",
      "===== REGION 6 =====\n",
      "{Text: sbin: URL: http://127.0.0.1:8000/pages/regex/linux%20regex%20sed%20tutorial/8/www.thegeekstuff.com/2009/10/unix-sed-tutorial-advanced-sed-substitution-examples/, Element: HTML > BODY:nth-of-type(1) > DIV:nth-of-type(1) > DIV:nth-of-type(2) > DIV:nth-of-type(1) > DIV:nth-of-type(1) > DIV:nth-of-type(2) > PRE:nth-of-type(1), Offsets: (93, 97)}\n",
      "* Text:  sbin:\n",
      "* HTML:  <pre>$ cat path.txt\n",
      "/usr/kbos/bin:/usr/local/bin:/usr/jbin:/usr/bin:/usr/sas/bin\n",
      "/usr/local/sbin:/sbin:/bin/:/usr/sbin:/usr/bin:/opt/omni/bin:\n",
      "/opt/omni/lbin:/opt/omni/sbin:/root/bin</pre>\n",
      "\n",
      "?? Open next example of false detection? \n",
      " \n",
      "===== REGION 7 =====\n",
      "{Text: usr URL: http://127.0.0.1:8000/pages/regex/linux%20regex%20sed%20tutorial/8/www.thegeekstuff.com/2009/10/unix-sed-tutorial-advanced-sed-substitution-examples/, Element: HTML > BODY:nth-of-type(1) > DIV:nth-of-type(1) > DIV:nth-of-type(2) > DIV:nth-of-type(1) > DIV:nth-of-type(1) > DIV:nth-of-type(2) > PRE:nth-of-type(1), Offsets: (105, 107)}\n",
      "* Text:  usr\n",
      "* HTML:  <pre>$ cat path.txt\n",
      "/usr/kbos/bin:/usr/local/bin:/usr/jbin:/usr/bin:/usr/sas/bin\n",
      "/usr/local/sbin:/sbin:/bin/:/usr/sbin:/usr/bin:/opt/omni/bin:\n",
      "/opt/omni/lbin:/opt/omni/sbin:/root/bin</pre>\n",
      "\n",
      "?? Open next example of false detection? \n",
      " \n",
      "===== REGION 8 =====\n",
      "{Text: usr URL: http://127.0.0.1:8000/pages/regex/linux%20regex%20sed%20tutorial/8/www.thegeekstuff.com/2009/10/unix-sed-tutorial-advanced-sed-substitution-examples/, Element: HTML > BODY:nth-of-type(1) > DIV:nth-of-type(1) > DIV:nth-of-type(2) > DIV:nth-of-type(1) > DIV:nth-of-type(1) > DIV:nth-of-type(2) > PRE:nth-of-type(1), Offsets: (115, 117)}\n",
      "* Text:  usr\n",
      "* HTML:  <pre>$ cat path.txt\n",
      "/usr/kbos/bin:/usr/local/bin:/usr/jbin:/usr/bin:/usr/sas/bin\n",
      "/usr/local/sbin:/sbin:/bin/:/usr/sbin:/usr/bin:/opt/omni/bin:\n",
      "/opt/omni/lbin:/opt/omni/sbin:/root/bin</pre>\n",
      "\n",
      "?? Open next example of false detection? \n",
      " \n",
      "===== REGION 9 =====\n",
      "{Text: opt URL: http://127.0.0.1:8000/pages/regex/linux%20regex%20sed%20tutorial/8/www.thegeekstuff.com/2009/10/unix-sed-tutorial-advanced-sed-substitution-examples/, Element: HTML > BODY:nth-of-type(1) > DIV:nth-of-type(1) > DIV:nth-of-type(2) > DIV:nth-of-type(1) > DIV:nth-of-type(1) > DIV:nth-of-type(2) > PRE:nth-of-type(1), Offsets: (124, 126)}\n",
      "* Text:  opt\n",
      "* HTML:  <pre>$ cat path.txt\n",
      "/usr/kbos/bin:/usr/local/bin:/usr/jbin:/usr/bin:/usr/sas/bin\n",
      "/usr/local/sbin:/sbin:/bin/:/usr/sbin:/usr/bin:/opt/omni/bin:\n",
      "/opt/omni/lbin:/opt/omni/sbin:/root/bin</pre>\n",
      "\n",
      "?? Open next example of false detection? \n",
      " \n",
      "===== REGION 10 =====\n",
      "{Text: opt URL: http://127.0.0.1:8000/pages/regex/linux%20regex%20sed%20tutorial/8/www.thegeekstuff.com/2009/10/unix-sed-tutorial-advanced-sed-substitution-examples/, Element: HTML > BODY:nth-of-type(1) > DIV:nth-of-type(1) > DIV:nth-of-type(2) > DIV:nth-of-type(1) > DIV:nth-of-type(1) > DIV:nth-of-type(2) > PRE:nth-of-type(1), Offsets: (139, 141)}\n",
      "* Text:  opt\n",
      "* HTML:  <pre>$ cat path.txt\n",
      "/usr/kbos/bin:/usr/local/bin:/usr/jbin:/usr/bin:/usr/sas/bin\n",
      "/usr/local/sbin:/sbin:/bin/:/usr/sbin:/usr/bin:/opt/omni/bin:\n",
      "/opt/omni/lbin:/opt/omni/sbin:/root/bin</pre>\n",
      "\n",
      "?? Open next example of false detection? \n",
      " \n",
      "===== REGION 11 =====\n",
      "{Text: opt URL: http://127.0.0.1:8000/pages/regex/linux%20regex%20sed%20tutorial/8/www.thegeekstuff.com/2009/10/unix-sed-tutorial-advanced-sed-substitution-examples/, Element: HTML > BODY:nth-of-type(1) > DIV:nth-of-type(1) > DIV:nth-of-type(2) > DIV:nth-of-type(1) > DIV:nth-of-type(1) > DIV:nth-of-type(2) > PRE:nth-of-type(1), Offsets: (154, 156)}\n",
      "* Text:  opt\n",
      "* HTML:  <pre>$ cat path.txt\n",
      "/usr/kbos/bin:/usr/local/bin:/usr/jbin:/usr/bin:/usr/sas/bin\n",
      "/usr/local/sbin:/sbin:/bin/:/usr/sbin:/usr/bin:/opt/omni/bin:\n",
      "/opt/omni/lbin:/opt/omni/sbin:/root/bin</pre>\n",
      "\n",
      "?? Open next example of false detection? \n",
      " \n",
      "===== REGION 12 =====\n",
      "{Text: root URL: http://127.0.0.1:8000/pages/regex/linux%20regex%20sed%20tutorial/8/www.thegeekstuff.com/2009/10/unix-sed-tutorial-advanced-sed-substitution-examples/, Element: HTML > BODY:nth-of-type(1) > DIV:nth-of-type(1) > DIV:nth-of-type(2) > DIV:nth-of-type(1) > DIV:nth-of-type(1) > DIV:nth-of-type(2) > PRE:nth-of-type(1), Offsets: (169, 172)}\n",
      "* Text:  root\n",
      "* HTML:  <pre>$ cat path.txt\n",
      "/usr/kbos/bin:/usr/local/bin:/usr/jbin:/usr/bin:/usr/sas/bin\n",
      "/usr/local/sbin:/sbin:/bin/:/usr/sbin:/usr/bin:/opt/omni/bin:\n",
      "/opt/omni/lbin:/opt/omni/sbin:/root/bin</pre>\n",
      "\n",
      "?? Open next example of false detection? \n",
      " \n",
      "===== REGION 13 =====\n",
      "{Text: usr URL: http://127.0.0.1:8000/pages/regex/linux%20regex%20sed%20tutorial/8/www.thegeekstuff.com/2009/10/unix-sed-tutorial-advanced-sed-substitution-examples/, Element: HTML > BODY:nth-of-type(1) > DIV:nth-of-type(1) > DIV:nth-of-type(2) > DIV:nth-of-type(1) > DIV:nth-of-type(1) > DIV:nth-of-type(2) > PRE:nth-of-type(2), Offsets: (52, 54)}\n",
      "* Text:  usr\n",
      "* HTML:  <pre>$ sed 's@/opt/omni/lbin@/opt/tools/bin@g' path.txt\n",
      "/usr/kbos/bin:/usr/local/bin:/usr/jbin/:/usr/bin:/usr/sas/bin\n",
      "/usr/local/sbin:/sbin:/bin/:/usr/sbin:/usr/bin:/opt/omni/bin:\n",
      "<strong>/opt/tools/bin</strong>:/opt/omni/sbin:/root/bin</pre>\n",
      "\n",
      "?? Open next example of false detection? \n",
      " \n",
      "===== REGION 14 =====\n",
      "{Text: usr URL: http://127.0.0.1:8000/pages/regex/linux%20regex%20sed%20tutorial/8/www.thegeekstuff.com/2009/10/unix-sed-tutorial-advanced-sed-substitution-examples/, Element: HTML > BODY:nth-of-type(1) > DIV:nth-of-type(1) > DIV:nth-of-type(2) > DIV:nth-of-type(1) > DIV:nth-of-type(1) > DIV:nth-of-type(2) > PRE:nth-of-type(2), Offsets: (66, 68)}\n",
      "* Text:  usr\n",
      "* HTML:  <pre>$ sed 's@/opt/omni/lbin@/opt/tools/bin@g' path.txt\n",
      "/usr/kbos/bin:/usr/local/bin:/usr/jbin/:/usr/bin:/usr/sas/bin\n",
      "/usr/local/sbin:/sbin:/bin/:/usr/sbin:/usr/bin:/opt/omni/bin:\n",
      "<strong>/opt/tools/bin</strong>:/opt/omni/sbin:/root/bin</pre>\n",
      "\n",
      "?? Open next example of false detection? \n",
      " \n",
      "===== REGION 15 =====\n",
      "{Text: usr URL: http://127.0.0.1:8000/pages/regex/linux%20regex%20sed%20tutorial/8/www.thegeekstuff.com/2009/10/unix-sed-tutorial-advanced-sed-substitution-examples/, Element: HTML > BODY:nth-of-type(1) > DIV:nth-of-type(1) > DIV:nth-of-type(2) > DIV:nth-of-type(1) > DIV:nth-of-type(1) > DIV:nth-of-type(2) > PRE:nth-of-type(2), Offsets: (81, 83)}\n",
      "* Text:  usr\n",
      "* HTML:  <pre>$ sed 's@/opt/omni/lbin@/opt/tools/bin@g' path.txt\n",
      "/usr/kbos/bin:/usr/local/bin:/usr/jbin/:/usr/bin:/usr/sas/bin\n",
      "/usr/local/sbin:/sbin:/bin/:/usr/sbin:/usr/bin:/opt/omni/bin:\n",
      "<strong>/opt/tools/bin</strong>:/opt/omni/sbin:/root/bin</pre>\n",
      "\n",
      "?? Open next example of false detection? \n",
      " \n",
      "===== REGION 16 =====\n",
      "{Text: usr URL: http://127.0.0.1:8000/pages/regex/linux%20regex%20sed%20tutorial/8/www.thegeekstuff.com/2009/10/unix-sed-tutorial-advanced-sed-substitution-examples/, Element: HTML > BODY:nth-of-type(1) > DIV:nth-of-type(1) > DIV:nth-of-type(2) > DIV:nth-of-type(1) > DIV:nth-of-type(1) > DIV:nth-of-type(2) > PRE:nth-of-type(2), Offsets: (92, 94)}\n",
      "* Text:  usr\n",
      "* HTML:  <pre>$ sed 's@/opt/omni/lbin@/opt/tools/bin@g' path.txt\n",
      "/usr/kbos/bin:/usr/local/bin:/usr/jbin/:/usr/bin:/usr/sas/bin\n",
      "/usr/local/sbin:/sbin:/bin/:/usr/sbin:/usr/bin:/opt/omni/bin:\n",
      "<strong>/opt/tools/bin</strong>:/opt/omni/sbin:/root/bin</pre>\n",
      "\n",
      "?? Open next example of false detection? \n",
      " \n",
      "===== REGION 17 =====\n",
      "{Text: usr URL: http://127.0.0.1:8000/pages/regex/linux%20regex%20sed%20tutorial/8/www.thegeekstuff.com/2009/10/unix-sed-tutorial-advanced-sed-substitution-examples/, Element: HTML > BODY:nth-of-type(1) > DIV:nth-of-type(1) > DIV:nth-of-type(2) > DIV:nth-of-type(1) > DIV:nth-of-type(1) > DIV:nth-of-type(2) > PRE:nth-of-type(2), Offsets: (101, 103)}\n",
      "* Text:  usr\n",
      "* HTML:  <pre>$ sed 's@/opt/omni/lbin@/opt/tools/bin@g' path.txt\n",
      "/usr/kbos/bin:/usr/local/bin:/usr/jbin/:/usr/bin:/usr/sas/bin\n",
      "/usr/local/sbin:/sbin:/bin/:/usr/sbin:/usr/bin:/opt/omni/bin:\n",
      "<strong>/opt/tools/bin</strong>:/opt/omni/sbin:/root/bin</pre>\n",
      "\n",
      "?? Open next example of false detection? \n",
      " \n",
      "===== REGION 18 =====\n",
      "{Text: usr URL: http://127.0.0.1:8000/pages/regex/linux%20regex%20sed%20tutorial/8/www.thegeekstuff.com/2009/10/unix-sed-tutorial-advanced-sed-substitution-examples/, Element: HTML > BODY:nth-of-type(1) > DIV:nth-of-type(1) > DIV:nth-of-type(2) > DIV:nth-of-type(1) > DIV:nth-of-type(1) > DIV:nth-of-type(2) > PRE:nth-of-type(2), Offsets: (114, 116)}\n",
      "* Text:  usr\n",
      "* HTML:  <pre>$ sed 's@/opt/omni/lbin@/opt/tools/bin@g' path.txt\n",
      "/usr/kbos/bin:/usr/local/bin:/usr/jbin/:/usr/bin:/usr/sas/bin\n",
      "/usr/local/sbin:/sbin:/bin/:/usr/sbin:/usr/bin:/opt/omni/bin:\n",
      "<strong>/opt/tools/bin</strong>:/opt/omni/sbin:/root/bin</pre>\n",
      "\n",
      "?? Open next example of false detection? \n",
      " \n",
      "===== REGION 19 =====\n",
      "{Text: sbin: URL: http://127.0.0.1:8000/pages/regex/linux%20regex%20sed%20tutorial/8/www.thegeekstuff.com/2009/10/unix-sed-tutorial-advanced-sed-substitution-examples/, Element: HTML > BODY:nth-of-type(1) > DIV:nth-of-type(1) > DIV:nth-of-type(2) > DIV:nth-of-type(1) > DIV:nth-of-type(1) > DIV:nth-of-type(2) > PRE:nth-of-type(2), Offsets: (130, 134)}\n",
      "* Text:  sbin:\n",
      "* HTML:  <pre>$ sed 's@/opt/omni/lbin@/opt/tools/bin@g' path.txt\n",
      "/usr/kbos/bin:/usr/local/bin:/usr/jbin/:/usr/bin:/usr/sas/bin\n",
      "/usr/local/sbin:/sbin:/bin/:/usr/sbin:/usr/bin:/opt/omni/bin:\n",
      "<strong>/opt/tools/bin</strong>:/opt/omni/sbin:/root/bin</pre>\n",
      "\n",
      "?? Open next example of false detection? \n",
      " \n",
      "===== REGION 20 =====\n",
      "{Text: usr URL: http://127.0.0.1:8000/pages/regex/linux%20regex%20sed%20tutorial/8/www.thegeekstuff.com/2009/10/unix-sed-tutorial-advanced-sed-substitution-examples/, Element: HTML > BODY:nth-of-type(1) > DIV:nth-of-type(1) > DIV:nth-of-type(2) > DIV:nth-of-type(1) > DIV:nth-of-type(1) > DIV:nth-of-type(2) > PRE:nth-of-type(2), Offsets: (142, 144)}\n",
      "* Text:  usr\n",
      "* HTML:  <pre>$ sed 's@/opt/omni/lbin@/opt/tools/bin@g' path.txt\n",
      "/usr/kbos/bin:/usr/local/bin:/usr/jbin/:/usr/bin:/usr/sas/bin\n",
      "/usr/local/sbin:/sbin:/bin/:/usr/sbin:/usr/bin:/opt/omni/bin:\n",
      "<strong>/opt/tools/bin</strong>:/opt/omni/sbin:/root/bin</pre>\n",
      "\n",
      "?? Open next example of false detection? \n",
      " \n",
      "===== REGION 21 =====\n",
      "{Text: usr URL: http://127.0.0.1:8000/pages/regex/linux%20regex%20sed%20tutorial/8/www.thegeekstuff.com/2009/10/unix-sed-tutorial-advanced-sed-substitution-examples/, Element: HTML > BODY:nth-of-type(1) > DIV:nth-of-type(1) > DIV:nth-of-type(2) > DIV:nth-of-type(1) > DIV:nth-of-type(1) > DIV:nth-of-type(2) > PRE:nth-of-type(2), Offsets: (152, 154)}\n",
      "* Text:  usr\n",
      "* HTML:  <pre>$ sed 's@/opt/omni/lbin@/opt/tools/bin@g' path.txt\n",
      "/usr/kbos/bin:/usr/local/bin:/usr/jbin/:/usr/bin:/usr/sas/bin\n",
      "/usr/local/sbin:/sbin:/bin/:/usr/sbin:/usr/bin:/opt/omni/bin:\n",
      "<strong>/opt/tools/bin</strong>:/opt/omni/sbin:/root/bin</pre>\n",
      "\n",
      "?? Open next example of false detection? \n",
      " \n",
      "===== REGION 22 =====\n",
      "{Text: opt URL: http://127.0.0.1:8000/pages/regex/linux%20regex%20sed%20tutorial/8/www.thegeekstuff.com/2009/10/unix-sed-tutorial-advanced-sed-substitution-examples/, Element: HTML > BODY:nth-of-type(1) > DIV:nth-of-type(1) > DIV:nth-of-type(2) > DIV:nth-of-type(1) > DIV:nth-of-type(1) > DIV:nth-of-type(2) > PRE:nth-of-type(2), Offsets: (161, 163)}\n",
      "* Text:  opt\n",
      "* HTML:  <pre>$ sed 's@/opt/omni/lbin@/opt/tools/bin@g' path.txt\n",
      "/usr/kbos/bin:/usr/local/bin:/usr/jbin/:/usr/bin:/usr/sas/bin\n",
      "/usr/local/sbin:/sbin:/bin/:/usr/sbin:/usr/bin:/opt/omni/bin:\n",
      "<strong>/opt/tools/bin</strong>:/opt/omni/sbin:/root/bin</pre>\n",
      "\n",
      "?? Open next example of false detection? \n",
      " \n",
      "===== REGION 23 =====\n",
      "{Text: opt URL: http://127.0.0.1:8000/pages/regex/linux%20regex%20sed%20tutorial/8/www.thegeekstuff.com/2009/10/unix-sed-tutorial-advanced-sed-substitution-examples/, Element: HTML > BODY:nth-of-type(1) > DIV:nth-of-type(1) > DIV:nth-of-type(2) > DIV:nth-of-type(1) > DIV:nth-of-type(1) > DIV:nth-of-type(2) > PRE:nth-of-type(2), Offsets: (176, 178)}\n",
      "* Text:  opt\n",
      "* HTML:  <pre>$ sed 's@/opt/omni/lbin@/opt/tools/bin@g' path.txt\n",
      "/usr/kbos/bin:/usr/local/bin:/usr/jbin/:/usr/bin:/usr/sas/bin\n",
      "/usr/local/sbin:/sbin:/bin/:/usr/sbin:/usr/bin:/opt/omni/bin:\n",
      "<strong>/opt/tools/bin</strong>:/opt/omni/sbin:/root/bin</pre>\n",
      "\n",
      "?? Open next example of false detection? \n",
      " \n",
      "===== REGION 24 =====\n",
      "{Text: opt URL: http://127.0.0.1:8000/pages/regex/linux%20regex%20sed%20tutorial/8/www.thegeekstuff.com/2009/10/unix-sed-tutorial-advanced-sed-substitution-examples/, Element: HTML > BODY:nth-of-type(1) > DIV:nth-of-type(1) > DIV:nth-of-type(2) > DIV:nth-of-type(1) > DIV:nth-of-type(1) > DIV:nth-of-type(2) > PRE:nth-of-type(2), Offsets: (191, 193)}\n",
      "* Text:  opt\n",
      "* HTML:  <pre>$ sed 's@/opt/omni/lbin@/opt/tools/bin@g' path.txt\n",
      "/usr/kbos/bin:/usr/local/bin:/usr/jbin/:/usr/bin:/usr/sas/bin\n",
      "/usr/local/sbin:/sbin:/bin/:/usr/sbin:/usr/bin:/opt/omni/bin:\n",
      "<strong>/opt/tools/bin</strong>:/opt/omni/sbin:/root/bin</pre>\n",
      "\n",
      "?? Open next example of false detection? \n",
      " \n",
      "===== REGION 25 =====\n",
      "{Text: root URL: http://127.0.0.1:8000/pages/regex/linux%20regex%20sed%20tutorial/8/www.thegeekstuff.com/2009/10/unix-sed-tutorial-advanced-sed-substitution-examples/, Element: HTML > BODY:nth-of-type(1) > DIV:nth-of-type(1) > DIV:nth-of-type(2) > DIV:nth-of-type(1) > DIV:nth-of-type(1) > DIV:nth-of-type(2) > PRE:nth-of-type(2), Offsets: (206, 209)}\n",
      "* Text:  root\n",
      "* HTML:  <pre>$ sed 's@/opt/omni/lbin@/opt/tools/bin@g' path.txt\n",
      "/usr/kbos/bin:/usr/local/bin:/usr/jbin/:/usr/bin:/usr/sas/bin\n",
      "/usr/local/sbin:/sbin:/bin/:/usr/sbin:/usr/bin:/opt/omni/bin:\n",
      "<strong>/opt/tools/bin</strong>:/opt/omni/sbin:/root/bin</pre>\n",
      "\n",
      "?? Open next example of false detection? \n",
      " \n",
      "===== REGION 26 =====\n",
      "{Text: (\\a+)(\\b+) URL: http://127.0.0.1:8000/pages/regex/javascript%20regex%20replace%20tutorial/10/developer.mozilla.org/en-US/docs/Web/JavaScript/Reference/Global_Objects/String/replace.html, Element: HTML > BODY:nth-of-type(1) > MAIN:nth-of-type(1) > DIV:nth-of-type(1) > DIV:nth-of-type(1) > DIV:nth-of-type(1) > DIV:nth-of-type(3) > DIV:nth-of-type(2) > DIV:nth-of-type(2) > ARTICLE:nth-of-type(1) > TABLE:nth-of-type(2) > TBODY:nth-of-type(1) > TR:nth-of-type(3) > TD:nth-of-type(2) > CODE:nth-of-type(4), Offsets: (1, 10)}\n",
      "* Text:  (\\a+)(\\b+)\n",
      "* HTML:  <code>/(\\a+)(\\b+)/</code>\n",
      "\n",
      "?? Open next example of false detection? \n",
      " \n",
      "===== REGION 27 =====\n",
      "{Text: username URL: http://127.0.0.1:8000/pages/regex/linux%20regex%20sed%20tutorial/6/unix.stackexchange.com/questions/78625/using-sed-to-find-and-replace-complex-string-preferrably-with-regex.html, Element: HTML > BODY:nth-of-type(1) > DIV:nth-of-type(5) > DIV:nth-of-type(2) > DIV:nth-of-type(1) > DIV:nth-of-type(3) > DIV:nth-of-type(2) > DIV:nth-of-type(4) > TABLE:nth-of-type(1) > TBODY:nth-of-type(1) > TR:nth-of-type(1) > TD:nth-of-type(2) > DIV:nth-of-type(1) > P:nth-of-type(2) > CODE:nth-of-type(1), Offsets: (1, 8)}\n"
     ]
    },
    {
     "ename": "WebDriverException",
     "evalue": "Message: Argument 1 of Range.selectNode is not an object.\nStacktrace:\n    at anonymous (http://127.0.0.1:8000/pages/regex/linux%20regex%20sed%20tutorial/6/unix.stackexchange.com/questions/78625/using-sed-to-find-and-replace-complex-string-preferrably-with-regex.html line 69 > Function:4)\n    at handleEvaluateEvent (http://127.0.0.1:8000/pages/regex/linux%20regex%20sed%20tutorial/6/unix.stackexchange.com/questions/78625/using-sed-to-find-and-replace-complex-string-preferrably-with-regex.html:69)",
     "output_type": "error",
     "traceback": [
      "\u001b[0;31m---------------------------------------------------------------------------\u001b[0m",
      "\u001b[0;31mWebDriverException\u001b[0m                        Traceback (most recent call last)",
      "\u001b[0;32m<ipython-input-49-69cb75f45d98>\u001b[0m in \u001b[0;36m<module>\u001b[0;34m()\u001b[0m\n\u001b[0;32m----> 1\u001b[0;31m \u001b[0mopen_false_detections\u001b[0m\u001b[0;34m(\u001b[0m\u001b[0;34m)\u001b[0m\u001b[0;34m\u001b[0m\u001b[0m\n\u001b[0m",
      "\u001b[0;32m<ipython-input-48-96e49e28d5a3>\u001b[0m in \u001b[0;36mopen_false_detections\u001b[0;34m(start_index, debug)\u001b[0m\n\u001b[1;32m     10\u001b[0m             \u001b[0;32mprint\u001b[0m \u001b[0;34m\"===== REGION %d =====\"\u001b[0m \u001b[0;34m%\u001b[0m \u001b[0mi\u001b[0m\u001b[0;34m\u001b[0m\u001b[0m\n\u001b[1;32m     11\u001b[0m             \u001b[0;32mprint\u001b[0m \u001b[0mr\u001b[0m\u001b[0;34m\u001b[0m\u001b[0m\n\u001b[0;32m---> 12\u001b[0;31m             \u001b[0mshow_region\u001b[0m\u001b[0;34m(\u001b[0m\u001b[0mbrowser\u001b[0m\u001b[0;34m,\u001b[0m \u001b[0mr\u001b[0m\u001b[0;34m)\u001b[0m\u001b[0;34m\u001b[0m\u001b[0m\n\u001b[0m\u001b[1;32m     13\u001b[0m             \u001b[0;32mif\u001b[0m \u001b[0mdebug\u001b[0m\u001b[0;34m:\u001b[0m\u001b[0;34m\u001b[0m\u001b[0m\n\u001b[1;32m     14\u001b[0m                 \u001b[0;32mprint\u001b[0m \u001b[0;34m\"* Text: \"\u001b[0m\u001b[0;34m,\u001b[0m \u001b[0mget_text\u001b[0m\u001b[0;34m(\u001b[0m\u001b[0mbrowser\u001b[0m\u001b[0;34m,\u001b[0m \u001b[0mr\u001b[0m\u001b[0;34m)\u001b[0m\u001b[0;34m\u001b[0m\u001b[0m\n",
      "\u001b[0;32m<ipython-input-42-c257d3523492>\u001b[0m in \u001b[0;36mshow_region\u001b[0;34m(browser, region)\u001b[0m\n\u001b[1;32m     11\u001b[0m     \u001b[0mbrowser\u001b[0m\u001b[0;34m.\u001b[0m\u001b[0mget\u001b[0m\u001b[0;34m(\u001b[0m\u001b[0mregion\u001b[0m\u001b[0;34m.\u001b[0m\u001b[0murl\u001b[0m\u001b[0;34m)\u001b[0m\u001b[0;34m\u001b[0m\u001b[0m\n\u001b[1;32m     12\u001b[0m     \u001b[0;32mif\u001b[0m \u001b[0mregion\u001b[0m\u001b[0;34m.\u001b[0m\u001b[0melement\u001b[0m \u001b[0;34m!=\u001b[0m \u001b[0;34m''\u001b[0m\u001b[0;34m:\u001b[0m\u001b[0;34m\u001b[0m\u001b[0m\n\u001b[0;32m---> 13\u001b[0;31m         \u001b[0mbrowser\u001b[0m\u001b[0;34m.\u001b[0m\u001b[0mexecute_script\u001b[0m\u001b[0;34m(\u001b[0m\u001b[0mSHOW_REGION_SCRIPT\u001b[0m\u001b[0;34m.\u001b[0m\u001b[0mformat\u001b[0m\u001b[0;34m(\u001b[0m\u001b[0melement\u001b[0m\u001b[0;34m=\u001b[0m\u001b[0mregion\u001b[0m\u001b[0;34m.\u001b[0m\u001b[0melement\u001b[0m\u001b[0;34m)\u001b[0m\u001b[0;34m)\u001b[0m\u001b[0;34m\u001b[0m\u001b[0m\n\u001b[0m",
      "\u001b[0;32m/Users/andrew/Adventures/design/code/research/venv/lib/python2.7/site-packages/selenium/webdriver/remote/webdriver.pyc\u001b[0m in \u001b[0;36mexecute_script\u001b[0;34m(self, script, *args)\u001b[0m\n\u001b[1;32m    419\u001b[0m         \u001b[0mconverted_args\u001b[0m \u001b[0;34m=\u001b[0m \u001b[0mlist\u001b[0m\u001b[0;34m(\u001b[0m\u001b[0margs\u001b[0m\u001b[0;34m)\u001b[0m\u001b[0;34m\u001b[0m\u001b[0m\n\u001b[1;32m    420\u001b[0m         return self.execute(Command.EXECUTE_SCRIPT,\n\u001b[0;32m--> 421\u001b[0;31m             {'script': script, 'args':converted_args})['value']\n\u001b[0m\u001b[1;32m    422\u001b[0m \u001b[0;34m\u001b[0m\u001b[0m\n\u001b[1;32m    423\u001b[0m     \u001b[0;32mdef\u001b[0m \u001b[0mexecute_async_script\u001b[0m\u001b[0;34m(\u001b[0m\u001b[0mself\u001b[0m\u001b[0;34m,\u001b[0m \u001b[0mscript\u001b[0m\u001b[0;34m,\u001b[0m \u001b[0;34m*\u001b[0m\u001b[0margs\u001b[0m\u001b[0;34m)\u001b[0m\u001b[0;34m:\u001b[0m\u001b[0;34m\u001b[0m\u001b[0m\n",
      "\u001b[0;32m/Users/andrew/Adventures/design/code/research/venv/lib/python2.7/site-packages/selenium/webdriver/remote/webdriver.pyc\u001b[0m in \u001b[0;36mexecute\u001b[0;34m(self, driver_command, params)\u001b[0m\n\u001b[1;32m    191\u001b[0m         \u001b[0mresponse\u001b[0m \u001b[0;34m=\u001b[0m \u001b[0mself\u001b[0m\u001b[0;34m.\u001b[0m\u001b[0mcommand_executor\u001b[0m\u001b[0;34m.\u001b[0m\u001b[0mexecute\u001b[0m\u001b[0;34m(\u001b[0m\u001b[0mdriver_command\u001b[0m\u001b[0;34m,\u001b[0m \u001b[0mparams\u001b[0m\u001b[0;34m)\u001b[0m\u001b[0;34m\u001b[0m\u001b[0m\n\u001b[1;32m    192\u001b[0m         \u001b[0;32mif\u001b[0m \u001b[0mresponse\u001b[0m\u001b[0;34m:\u001b[0m\u001b[0;34m\u001b[0m\u001b[0m\n\u001b[0;32m--> 193\u001b[0;31m             \u001b[0mself\u001b[0m\u001b[0;34m.\u001b[0m\u001b[0merror_handler\u001b[0m\u001b[0;34m.\u001b[0m\u001b[0mcheck_response\u001b[0m\u001b[0;34m(\u001b[0m\u001b[0mresponse\u001b[0m\u001b[0;34m)\u001b[0m\u001b[0;34m\u001b[0m\u001b[0m\n\u001b[0m\u001b[1;32m    194\u001b[0m             response['value'] = self._unwrap_value(\n\u001b[1;32m    195\u001b[0m                 response.get('value', None))\n",
      "\u001b[0;32m/Users/andrew/Adventures/design/code/research/venv/lib/python2.7/site-packages/selenium/webdriver/remote/errorhandler.pyc\u001b[0m in \u001b[0;36mcheck_response\u001b[0;34m(self, response)\u001b[0m\n\u001b[1;32m    179\u001b[0m         \u001b[0;32melif\u001b[0m \u001b[0mexception_class\u001b[0m \u001b[0;34m==\u001b[0m \u001b[0mUnexpectedAlertPresentException\u001b[0m \u001b[0;32mand\u001b[0m \u001b[0;34m'alert'\u001b[0m \u001b[0;32min\u001b[0m \u001b[0mvalue\u001b[0m\u001b[0;34m:\u001b[0m\u001b[0;34m\u001b[0m\u001b[0m\n\u001b[1;32m    180\u001b[0m             \u001b[0;32mraise\u001b[0m \u001b[0mexception_class\u001b[0m\u001b[0;34m(\u001b[0m\u001b[0mmessage\u001b[0m\u001b[0;34m,\u001b[0m \u001b[0mscreen\u001b[0m\u001b[0;34m,\u001b[0m \u001b[0mstacktrace\u001b[0m\u001b[0;34m,\u001b[0m \u001b[0mvalue\u001b[0m\u001b[0;34m[\u001b[0m\u001b[0;34m'alert'\u001b[0m\u001b[0;34m]\u001b[0m\u001b[0;34m.\u001b[0m\u001b[0mget\u001b[0m\u001b[0;34m(\u001b[0m\u001b[0;34m'text'\u001b[0m\u001b[0;34m)\u001b[0m\u001b[0;34m)\u001b[0m\u001b[0;34m\u001b[0m\u001b[0m\n\u001b[0;32m--> 181\u001b[0;31m         \u001b[0;32mraise\u001b[0m \u001b[0mexception_class\u001b[0m\u001b[0;34m(\u001b[0m\u001b[0mmessage\u001b[0m\u001b[0;34m,\u001b[0m \u001b[0mscreen\u001b[0m\u001b[0;34m,\u001b[0m \u001b[0mstacktrace\u001b[0m\u001b[0;34m)\u001b[0m\u001b[0;34m\u001b[0m\u001b[0m\n\u001b[0m\u001b[1;32m    182\u001b[0m \u001b[0;34m\u001b[0m\u001b[0m\n\u001b[1;32m    183\u001b[0m     \u001b[0;32mdef\u001b[0m \u001b[0m_value_or_default\u001b[0m\u001b[0;34m(\u001b[0m\u001b[0mself\u001b[0m\u001b[0;34m,\u001b[0m \u001b[0mobj\u001b[0m\u001b[0;34m,\u001b[0m \u001b[0mkey\u001b[0m\u001b[0;34m,\u001b[0m \u001b[0mdefault\u001b[0m\u001b[0;34m)\u001b[0m\u001b[0;34m:\u001b[0m\u001b[0;34m\u001b[0m\u001b[0m\n",
      "\u001b[0;31mWebDriverException\u001b[0m: Message: Argument 1 of Range.selectNode is not an object.\nStacktrace:\n    at anonymous (http://127.0.0.1:8000/pages/regex/linux%20regex%20sed%20tutorial/6/unix.stackexchange.com/questions/78625/using-sed-to-find-and-replace-complex-string-preferrably-with-regex.html line 69 > Function:4)\n    at handleEvaluateEvent (http://127.0.0.1:8000/pages/regex/linux%20regex%20sed%20tutorial/6/unix.stackexchange.com/questions/78625/using-sed-to-find-and-replace-complex-string-preferrably-with-regex.html:69)"
     ]
    }
   ],
   "source": [
    "open_false_detections()"
   ]
  },
  {
   "cell_type": "code",
   "execution_count": 50,
   "metadata": {
    "collapsed": false
   },
   "outputs": [
    {
     "name": "stdout",
     "output_type": "stream",
     "text": [
      "\n",
      "?? Open next example of false detection? \n",
      " \n",
      "===== REGION 28 =====\n",
      "{Text: (?<=finalNumber=\")(.*?)(?=\") URL: http://127.0.0.1:8000/pages/regex/linux%20regex%20sed%20tutorial/9/stackoverflow.com/questions/14479535/print-regex-matches-using-sed-in-bash.html, Element: HTML > BODY:nth-of-type(1) > DIV:nth-of-type(5) > DIV:nth-of-type(2) > DIV:nth-of-type(1) > DIV:nth-of-type(3) > DIV:nth-of-type(1) > TABLE:nth-of-type(1) > TBODY:nth-of-type(1) > TR:nth-of-type(1) > TD:nth-of-type(2) > DIV:nth-of-type(1) > DIV:nth-of-type(1) > PRE:nth-of-type(2) > CODE:nth-of-type(1), Offsets: (26, 34)}\n",
      "* Text:  )(.*?)(?=\n",
      "* HTML:  <code>sed -n '/(?&lt;=finalNumber=\")(.*?)(?=\")/p' file.xml\n",
      "</code>\n",
      "\n",
      "?? Open next example of false detection? \n",
      " \n",
      "===== REGION 29 =====\n",
      "{Text: !-f URL: http://127.0.0.1:8000/pages/regex/.htaccess%20apache%20regex%20tutorial/8/stackoverflow.com/questions/9254052/htaccess-regular-expression-difference-pros-cons.html, Element: HTML > BODY:nth-of-type(1) > DIV:nth-of-type(5) > DIV:nth-of-type(2) > DIV:nth-of-type(1) > DIV:nth-of-type(3) > DIV:nth-of-type(2) > DIV:nth-of-type(2) > TABLE:nth-of-type(1) > TBODY:nth-of-type(1) > TR:nth-of-type(1) > TD:nth-of-type(2) > DIV:nth-of-type(1) > PRE:nth-of-type(1) > CODE:nth-of-type(1), Offsets: (63, 65)}\n",
      "* Text:  !-f\n",
      "* HTML:  <code>RewriteRule ^index\\.php$ - [L]\n",
      "RewriteCond %{REQUEST_FILENAME} !-f\n",
      "RewriteCond %{REQUEST_FILENAME} !-d\n",
      "RewriteRule ^(.*)$ index.php?request=$1 [L]\n",
      "</code>\n",
      "\n",
      "?? Open next example of false detection? \n",
      " \n",
      "===== REGION 30 =====\n",
      "{Text: !-d URL: http://127.0.0.1:8000/pages/regex/.htaccess%20apache%20regex%20tutorial/8/stackoverflow.com/questions/9254052/htaccess-regular-expression-difference-pros-cons.html, Element: HTML > BODY:nth-of-type(1) > DIV:nth-of-type(5) > DIV:nth-of-type(2) > DIV:nth-of-type(1) > DIV:nth-of-type(3) > DIV:nth-of-type(2) > DIV:nth-of-type(2) > TABLE:nth-of-type(1) > TBODY:nth-of-type(1) > TR:nth-of-type(1) > TD:nth-of-type(2) > DIV:nth-of-type(1) > PRE:nth-of-type(1) > CODE:nth-of-type(1), Offsets: (99, 101)}\n",
      "* Text:  !-d\n",
      "* HTML:  <code>RewriteRule ^index\\.php$ - [L]\n",
      "RewriteCond %{REQUEST_FILENAME} !-f\n",
      "RewriteCond %{REQUEST_FILENAME} !-d\n",
      "RewriteRule ^(.*)$ index.php?request=$1 [L]\n",
      "</code>\n",
      "\n",
      "?? Open next example of false detection? \n",
      " \n",
      "===== REGION 31 =====\n",
      "{Text: !-f URL: http://127.0.0.1:8000/pages/regex/.htaccess%20apache%20regex%20tutorial/8/stackoverflow.com/questions/9254052/htaccess-regular-expression-difference-pros-cons.html, Element: HTML > BODY:nth-of-type(1) > DIV:nth-of-type(5) > DIV:nth-of-type(2) > DIV:nth-of-type(1) > DIV:nth-of-type(3) > DIV:nth-of-type(2) > DIV:nth-of-type(2) > TABLE:nth-of-type(1) > TBODY:nth-of-type(1) > TR:nth-of-type(1) > TD:nth-of-type(2) > DIV:nth-of-type(1) > PRE:nth-of-type(1), Offsets: (63, 65)}\n",
      "* Text:  !-f\n",
      "* HTML:  <pre><code>RewriteRule ^index\\.php$ - [L]\n",
      "RewriteCond %{REQUEST_FILENAME} !-f\n",
      "RewriteCond %{REQUEST_FILENAME} !-d\n",
      "RewriteRule ^(.*)$ index.php?request=$1 [L]\n",
      "</code></pre>\n",
      "\n",
      "?? Open next example of false detection? \n",
      " \n",
      "===== REGION 32 =====\n",
      "{Text: !-d URL: http://127.0.0.1:8000/pages/regex/.htaccess%20apache%20regex%20tutorial/8/stackoverflow.com/questions/9254052/htaccess-regular-expression-difference-pros-cons.html, Element: HTML > BODY:nth-of-type(1) > DIV:nth-of-type(5) > DIV:nth-of-type(2) > DIV:nth-of-type(1) > DIV:nth-of-type(3) > DIV:nth-of-type(2) > DIV:nth-of-type(2) > TABLE:nth-of-type(1) > TBODY:nth-of-type(1) > TR:nth-of-type(1) > TD:nth-of-type(2) > DIV:nth-of-type(1) > PRE:nth-of-type(1), Offsets: (99, 101)}\n",
      "* Text:  !-d\n",
      "* HTML:  <pre><code>RewriteRule ^index\\.php$ - [L]\n",
      "RewriteCond %{REQUEST_FILENAME} !-f\n",
      "RewriteCond %{REQUEST_FILENAME} !-d\n",
      "RewriteRule ^(.*)$ index.php?request=$1 [L]\n",
      "</code></pre>\n",
      "\n",
      "?? Open next example of false detection? \n",
      " \n",
      "===== REGION 33 =====\n",
      "{Text: script>< URL: http://127.0.0.1:8000/pages/regex/javascript%20regex%20validation%20tutorial/5/www.dotnet-tricks.com/Tutorial/javascript/UNDS040712-JavaScript-Email-Address-validation-using-Regular-Expression.html, Element: HTML > BODY:nth-of-type(1) > DIV:nth-of-type(5) > DIV:nth-of-type(2) > DIV:nth-of-type(1) > DIV:nth-of-type(1) > DIV:nth-of-type(6) > PRE:nth-of-type(4), Offsets: (372, 379)}\n",
      "* Text:  script><\n",
      "* HTML:  too long to render\n",
      "\n",
      "?? Open next example of false detection? \n",
      " \n",
      "===== REGION 34 =====\n",
      "{Text: body>< URL: http://127.0.0.1:8000/pages/regex/javascript%20regex%20validation%20tutorial/5/www.dotnet-tricks.com/Tutorial/javascript/UNDS040712-JavaScript-Email-Address-validation-using-Regular-Expression.html, Element: HTML > BODY:nth-of-type(1) > DIV:nth-of-type(5) > DIV:nth-of-type(2) > DIV:nth-of-type(1) > DIV:nth-of-type(1) > DIV:nth-of-type(6) > PRE:nth-of-type(4), Offsets: (502, 507)}\n",
      "* Text:  body><\n",
      "* HTML:  too long to render\n",
      "\n",
      "?? Open next example of false detection? \n",
      " \n",
      "===== REGION 35 =====\n",
      "{Text: home URL: http://127.0.0.1:8000/pages/regex/bash%20linux%20regex%20tutorial/10/mywiki.wooledge.org/BashGuide/Patterns.html, Element: HTML > BODY:nth-of-type(1) > DIV:nth-of-type(2) > DIV:nth-of-type(1) > PRE:nth-of-type(8), Offsets: (35, 38)}\n",
      "* Text:  home\n",
      "* HTML:  <pre><span class=\"anchor\" id=\"line-1-7\"></span>$ echo th{e,a}n\n",
      "<span class=\"anchor\" id=\"line-2-6\"></span>then than\n",
      "<span class=\"anchor\" id=\"line-3-6\"></span>$ echo {/home/*,/root}/.*profile\n",
      "<span class=\"anchor\" id=\"line-4-6\"></span>/home/axxo/.bash_profile /home/lhunath/.profile /root/.bash_profile /root/.profile\n",
      "<span class=\"anchor\" id=\"line-5-5\"></span>$ echo {1..9}\n",
      "<span class=\"anchor\" id=\"line-6-3\"></span>1 2 3 4 5 6 7 8 9\n",
      "<span class=\"anchor\" id=\"line-7-2\"></span>$ echo {0,1}{0..9}\n",
      "<span class=\"anchor\" id=\"line-8-1\"></span>00 01 02 03 04 05 06 07 08 09 10 11 12 13 14 15 16 17 18 19</pre>\n",
      "\n",
      "?? Open next example of false detection? \n",
      " \n",
      "===== REGION 36 =====\n",
      "{Text: root} URL: http://127.0.0.1:8000/pages/regex/bash%20linux%20regex%20tutorial/10/mywiki.wooledge.org/BashGuide/Patterns.html, Element: HTML > BODY:nth-of-type(1) > DIV:nth-of-type(2) > DIV:nth-of-type(1) > PRE:nth-of-type(8), Offsets: (43, 47)}\n",
      "* Text:  root}\n",
      "* HTML:  <pre><span class=\"anchor\" id=\"line-1-7\"></span>$ echo th{e,a}n\n",
      "<span class=\"anchor\" id=\"line-2-6\"></span>then than\n",
      "<span class=\"anchor\" id=\"line-3-6\"></span>$ echo {/home/*,/root}/.*profile\n",
      "<span class=\"anchor\" id=\"line-4-6\"></span>/home/axxo/.bash_profile /home/lhunath/.profile /root/.bash_profile /root/.profile\n",
      "<span class=\"anchor\" id=\"line-5-5\"></span>$ echo {1..9}\n",
      "<span class=\"anchor\" id=\"line-6-3\"></span>1 2 3 4 5 6 7 8 9\n",
      "<span class=\"anchor\" id=\"line-7-2\"></span>$ echo {0,1}{0..9}\n",
      "<span class=\"anchor\" id=\"line-8-1\"></span>00 01 02 03 04 05 06 07 08 09 10 11 12 13 14 15 16 17 18 19</pre>\n",
      "\n",
      "?? Open next example of false detection? \n",
      " \n",
      "===== REGION 37 =====\n",
      "{Text: home URL: http://127.0.0.1:8000/pages/regex/bash%20linux%20regex%20tutorial/10/mywiki.wooledge.org/BashGuide/Patterns.html, Element: HTML > BODY:nth-of-type(1) > DIV:nth-of-type(2) > DIV:nth-of-type(1) > PRE:nth-of-type(8), Offsets: (60, 63)}\n",
      "* Text:  home\n",
      "* HTML:  <pre><span class=\"anchor\" id=\"line-1-7\"></span>$ echo th{e,a}n\n",
      "<span class=\"anchor\" id=\"line-2-6\"></span>then than\n",
      "<span class=\"anchor\" id=\"line-3-6\"></span>$ echo {/home/*,/root}/.*profile\n",
      "<span class=\"anchor\" id=\"line-4-6\"></span>/home/axxo/.bash_profile /home/lhunath/.profile /root/.bash_profile /root/.profile\n",
      "<span class=\"anchor\" id=\"line-5-5\"></span>$ echo {1..9}\n",
      "<span class=\"anchor\" id=\"line-6-3\"></span>1 2 3 4 5 6 7 8 9\n",
      "<span class=\"anchor\" id=\"line-7-2\"></span>$ echo {0,1}{0..9}\n",
      "<span class=\"anchor\" id=\"line-8-1\"></span>00 01 02 03 04 05 06 07 08 09 10 11 12 13 14 15 16 17 18 19</pre>\n",
      "\n",
      "?? Open next example of false detection? \n",
      " \n",
      "===== REGION 38 =====\n",
      "{Text: .*profile  URL: http://127.0.0.1:8000/pages/regex/bash%20linux%20regex%20tutorial/10/mywiki.wooledge.org/BashGuide/Patterns.html, Element: HTML > BODY:nth-of-type(1) > DIV:nth-of-type(2) > DIV:nth-of-type(1) > PRE:nth-of-type(9), Offsets: (15, 24)}\n",
      "* Text:  .*profile \n",
      "* HTML:  <pre><span class=\"anchor\" id=\"line-1-8\"></span>$ echo /home/*/.*profile /root/.*profile</pre>\n",
      "\n",
      "?? Open next example of false detection? \n",
      " \n",
      "===== REGION 39 =====\n",
      "{Text: '\"$1\"' URL: http://127.0.0.1:8000/pages/regex/awk%20bash%20regex%20tutorial/8/unix.stackexchange.com/questions/120788/pass-shell-variable-as-a-pattern-to-awk.html, Element: HTML > BODY:nth-of-type(1) > DIV:nth-of-type(5) > DIV:nth-of-type(2) > DIV:nth-of-type(1) > DIV:nth-of-type(3) > DIV:nth-of-type(1) > TABLE:nth-of-type(1) > TBODY:nth-of-type(1) > TR:nth-of-type(1) > TD:nth-of-type(2) > DIV:nth-of-type(1) > DIV:nth-of-type(1) > PRE:nth-of-type(1) > CODE:nth-of-type(1), Offsets: (61, 66)}\n",
      "* Text:  '\"$1\"'\n",
      "* HTML:  <code>function _process () {\n",
      "  awk -v l=\"$line\" '\n",
      "  BEGIN {p=0}\n",
      "  /'\"$1\"'/ {p=1}\n",
      "  END{ if(p) print l &gt;&gt; \"outfile.txt\" }\n",
      "  '\n",
      "}\n",
      "</code>\n",
      "\n",
      "?? Open next example of false detection? \n",
      " \n",
      "===== REGION 40 =====\n",
      "{Text: search URL: http://127.0.0.1:8000/pages/regex/awk%20bash%20regex%20tutorial/8/unix.stackexchange.com/questions/120788/pass-shell-variable-as-a-pattern-to-awk.html, Element: HTML > BODY:nth-of-type(1) > DIV:nth-of-type(5) > DIV:nth-of-type(2) > DIV:nth-of-type(1) > DIV:nth-of-type(3) > DIV:nth-of-type(1) > TABLE:nth-of-type(1) > TBODY:nth-of-type(1) > TR:nth-of-type(1) > TD:nth-of-type(2) > DIV:nth-of-type(1) > DIV:nth-of-type(1) > P:nth-of-type(12) > CODE:nth-of-type(1), Offsets: (1, 6)}\n"
     ]
    },
    {
     "ename": "WebDriverException",
     "evalue": "Message: Argument 1 of Range.selectNode is not an object.\nStacktrace:\n    at anonymous (http://127.0.0.1:8000/pages/regex/awk%20bash%20regex%20tutorial/8/unix.stackexchange.com/questions/120788/pass-shell-variable-as-a-pattern-to-awk.html line 69 > Function:4)\n    at handleEvaluateEvent (http://127.0.0.1:8000/pages/regex/awk%20bash%20regex%20tutorial/8/unix.stackexchange.com/questions/120788/pass-shell-variable-as-a-pattern-to-awk.html:69)",
     "output_type": "error",
     "traceback": [
      "\u001b[0;31m---------------------------------------------------------------------------\u001b[0m",
      "\u001b[0;31mWebDriverException\u001b[0m                        Traceback (most recent call last)",
      "\u001b[0;32m<ipython-input-50-012832cbcabb>\u001b[0m in \u001b[0;36m<module>\u001b[0;34m()\u001b[0m\n\u001b[0;32m----> 1\u001b[0;31m \u001b[0mopen_false_detections\u001b[0m\u001b[0;34m(\u001b[0m\u001b[0;36m28\u001b[0m\u001b[0;34m)\u001b[0m\u001b[0;34m\u001b[0m\u001b[0m\n\u001b[0m",
      "\u001b[0;32m<ipython-input-48-96e49e28d5a3>\u001b[0m in \u001b[0;36mopen_false_detections\u001b[0;34m(start_index, debug)\u001b[0m\n\u001b[1;32m     10\u001b[0m             \u001b[0;32mprint\u001b[0m \u001b[0;34m\"===== REGION %d =====\"\u001b[0m \u001b[0;34m%\u001b[0m \u001b[0mi\u001b[0m\u001b[0;34m\u001b[0m\u001b[0m\n\u001b[1;32m     11\u001b[0m             \u001b[0;32mprint\u001b[0m \u001b[0mr\u001b[0m\u001b[0;34m\u001b[0m\u001b[0m\n\u001b[0;32m---> 12\u001b[0;31m             \u001b[0mshow_region\u001b[0m\u001b[0;34m(\u001b[0m\u001b[0mbrowser\u001b[0m\u001b[0;34m,\u001b[0m \u001b[0mr\u001b[0m\u001b[0;34m)\u001b[0m\u001b[0;34m\u001b[0m\u001b[0m\n\u001b[0m\u001b[1;32m     13\u001b[0m             \u001b[0;32mif\u001b[0m \u001b[0mdebug\u001b[0m\u001b[0;34m:\u001b[0m\u001b[0;34m\u001b[0m\u001b[0m\n\u001b[1;32m     14\u001b[0m                 \u001b[0;32mprint\u001b[0m \u001b[0;34m\"* Text: \"\u001b[0m\u001b[0;34m,\u001b[0m \u001b[0mget_text\u001b[0m\u001b[0;34m(\u001b[0m\u001b[0mbrowser\u001b[0m\u001b[0;34m,\u001b[0m \u001b[0mr\u001b[0m\u001b[0;34m)\u001b[0m\u001b[0;34m\u001b[0m\u001b[0m\n",
      "\u001b[0;32m<ipython-input-42-c257d3523492>\u001b[0m in \u001b[0;36mshow_region\u001b[0;34m(browser, region)\u001b[0m\n\u001b[1;32m     11\u001b[0m     \u001b[0mbrowser\u001b[0m\u001b[0;34m.\u001b[0m\u001b[0mget\u001b[0m\u001b[0;34m(\u001b[0m\u001b[0mregion\u001b[0m\u001b[0;34m.\u001b[0m\u001b[0murl\u001b[0m\u001b[0;34m)\u001b[0m\u001b[0;34m\u001b[0m\u001b[0m\n\u001b[1;32m     12\u001b[0m     \u001b[0;32mif\u001b[0m \u001b[0mregion\u001b[0m\u001b[0;34m.\u001b[0m\u001b[0melement\u001b[0m \u001b[0;34m!=\u001b[0m \u001b[0;34m''\u001b[0m\u001b[0;34m:\u001b[0m\u001b[0;34m\u001b[0m\u001b[0m\n\u001b[0;32m---> 13\u001b[0;31m         \u001b[0mbrowser\u001b[0m\u001b[0;34m.\u001b[0m\u001b[0mexecute_script\u001b[0m\u001b[0;34m(\u001b[0m\u001b[0mSHOW_REGION_SCRIPT\u001b[0m\u001b[0;34m.\u001b[0m\u001b[0mformat\u001b[0m\u001b[0;34m(\u001b[0m\u001b[0melement\u001b[0m\u001b[0;34m=\u001b[0m\u001b[0mregion\u001b[0m\u001b[0;34m.\u001b[0m\u001b[0melement\u001b[0m\u001b[0;34m)\u001b[0m\u001b[0;34m)\u001b[0m\u001b[0;34m\u001b[0m\u001b[0m\n\u001b[0m",
      "\u001b[0;32m/Users/andrew/Adventures/design/code/research/venv/lib/python2.7/site-packages/selenium/webdriver/remote/webdriver.pyc\u001b[0m in \u001b[0;36mexecute_script\u001b[0;34m(self, script, *args)\u001b[0m\n\u001b[1;32m    419\u001b[0m         \u001b[0mconverted_args\u001b[0m \u001b[0;34m=\u001b[0m \u001b[0mlist\u001b[0m\u001b[0;34m(\u001b[0m\u001b[0margs\u001b[0m\u001b[0;34m)\u001b[0m\u001b[0;34m\u001b[0m\u001b[0m\n\u001b[1;32m    420\u001b[0m         return self.execute(Command.EXECUTE_SCRIPT,\n\u001b[0;32m--> 421\u001b[0;31m             {'script': script, 'args':converted_args})['value']\n\u001b[0m\u001b[1;32m    422\u001b[0m \u001b[0;34m\u001b[0m\u001b[0m\n\u001b[1;32m    423\u001b[0m     \u001b[0;32mdef\u001b[0m \u001b[0mexecute_async_script\u001b[0m\u001b[0;34m(\u001b[0m\u001b[0mself\u001b[0m\u001b[0;34m,\u001b[0m \u001b[0mscript\u001b[0m\u001b[0;34m,\u001b[0m \u001b[0;34m*\u001b[0m\u001b[0margs\u001b[0m\u001b[0;34m)\u001b[0m\u001b[0;34m:\u001b[0m\u001b[0;34m\u001b[0m\u001b[0m\n",
      "\u001b[0;32m/Users/andrew/Adventures/design/code/research/venv/lib/python2.7/site-packages/selenium/webdriver/remote/webdriver.pyc\u001b[0m in \u001b[0;36mexecute\u001b[0;34m(self, driver_command, params)\u001b[0m\n\u001b[1;32m    191\u001b[0m         \u001b[0mresponse\u001b[0m \u001b[0;34m=\u001b[0m \u001b[0mself\u001b[0m\u001b[0;34m.\u001b[0m\u001b[0mcommand_executor\u001b[0m\u001b[0;34m.\u001b[0m\u001b[0mexecute\u001b[0m\u001b[0;34m(\u001b[0m\u001b[0mdriver_command\u001b[0m\u001b[0;34m,\u001b[0m \u001b[0mparams\u001b[0m\u001b[0;34m)\u001b[0m\u001b[0;34m\u001b[0m\u001b[0m\n\u001b[1;32m    192\u001b[0m         \u001b[0;32mif\u001b[0m \u001b[0mresponse\u001b[0m\u001b[0;34m:\u001b[0m\u001b[0;34m\u001b[0m\u001b[0m\n\u001b[0;32m--> 193\u001b[0;31m             \u001b[0mself\u001b[0m\u001b[0;34m.\u001b[0m\u001b[0merror_handler\u001b[0m\u001b[0;34m.\u001b[0m\u001b[0mcheck_response\u001b[0m\u001b[0;34m(\u001b[0m\u001b[0mresponse\u001b[0m\u001b[0;34m)\u001b[0m\u001b[0;34m\u001b[0m\u001b[0m\n\u001b[0m\u001b[1;32m    194\u001b[0m             response['value'] = self._unwrap_value(\n\u001b[1;32m    195\u001b[0m                 response.get('value', None))\n",
      "\u001b[0;32m/Users/andrew/Adventures/design/code/research/venv/lib/python2.7/site-packages/selenium/webdriver/remote/errorhandler.pyc\u001b[0m in \u001b[0;36mcheck_response\u001b[0;34m(self, response)\u001b[0m\n\u001b[1;32m    179\u001b[0m         \u001b[0;32melif\u001b[0m \u001b[0mexception_class\u001b[0m \u001b[0;34m==\u001b[0m \u001b[0mUnexpectedAlertPresentException\u001b[0m \u001b[0;32mand\u001b[0m \u001b[0;34m'alert'\u001b[0m \u001b[0;32min\u001b[0m \u001b[0mvalue\u001b[0m\u001b[0;34m:\u001b[0m\u001b[0;34m\u001b[0m\u001b[0m\n\u001b[1;32m    180\u001b[0m             \u001b[0;32mraise\u001b[0m \u001b[0mexception_class\u001b[0m\u001b[0;34m(\u001b[0m\u001b[0mmessage\u001b[0m\u001b[0;34m,\u001b[0m \u001b[0mscreen\u001b[0m\u001b[0;34m,\u001b[0m \u001b[0mstacktrace\u001b[0m\u001b[0;34m,\u001b[0m \u001b[0mvalue\u001b[0m\u001b[0;34m[\u001b[0m\u001b[0;34m'alert'\u001b[0m\u001b[0;34m]\u001b[0m\u001b[0;34m.\u001b[0m\u001b[0mget\u001b[0m\u001b[0;34m(\u001b[0m\u001b[0;34m'text'\u001b[0m\u001b[0;34m)\u001b[0m\u001b[0;34m)\u001b[0m\u001b[0;34m\u001b[0m\u001b[0m\n\u001b[0;32m--> 181\u001b[0;31m         \u001b[0;32mraise\u001b[0m \u001b[0mexception_class\u001b[0m\u001b[0;34m(\u001b[0m\u001b[0mmessage\u001b[0m\u001b[0;34m,\u001b[0m \u001b[0mscreen\u001b[0m\u001b[0;34m,\u001b[0m \u001b[0mstacktrace\u001b[0m\u001b[0;34m)\u001b[0m\u001b[0;34m\u001b[0m\u001b[0m\n\u001b[0m\u001b[1;32m    182\u001b[0m \u001b[0;34m\u001b[0m\u001b[0m\n\u001b[1;32m    183\u001b[0m     \u001b[0;32mdef\u001b[0m \u001b[0m_value_or_default\u001b[0m\u001b[0;34m(\u001b[0m\u001b[0mself\u001b[0m\u001b[0;34m,\u001b[0m \u001b[0mobj\u001b[0m\u001b[0;34m,\u001b[0m \u001b[0mkey\u001b[0m\u001b[0;34m,\u001b[0m \u001b[0mdefault\u001b[0m\u001b[0;34m)\u001b[0m\u001b[0;34m:\u001b[0m\u001b[0;34m\u001b[0m\u001b[0m\n",
      "\u001b[0;31mWebDriverException\u001b[0m: Message: Argument 1 of Range.selectNode is not an object.\nStacktrace:\n    at anonymous (http://127.0.0.1:8000/pages/regex/awk%20bash%20regex%20tutorial/8/unix.stackexchange.com/questions/120788/pass-shell-variable-as-a-pattern-to-awk.html line 69 > Function:4)\n    at handleEvaluateEvent (http://127.0.0.1:8000/pages/regex/awk%20bash%20regex%20tutorial/8/unix.stackexchange.com/questions/120788/pass-shell-variable-as-a-pattern-to-awk.html:69)"
     ]
    }
   ],
   "source": [
    "open_false_detections(28)"
   ]
  },
  {
   "cell_type": "code",
   "execution_count": null,
   "metadata": {
    "collapsed": false
   },
   "outputs": [
    {
     "name": "stdout",
     "output_type": "stream",
     "text": [
      "\n",
      "?? Open next example of false detection? \n",
      " \n",
      "===== REGION 41 =====\n",
      "{Text: usr URL: http://127.0.0.1:8000/pages/regex/parsing%20python%20regex%20tutorial/10/stackoverflow.com/questions/6260777/python-regex-to-parse-string-and-return-tuple.html, Element: HTML > BODY:nth-of-type(1) > DIV:nth-of-type(5) > DIV:nth-of-type(2) > DIV:nth-of-type(1) > DIV:nth-of-type(3) > DIV:nth-of-type(2) > DIV:nth-of-type(4) > TABLE:nth-of-type(1) > TBODY:nth-of-type(1) > TR:nth-of-type(1) > TD:nth-of-type(2) > DIV:nth-of-type(1) > PRE:nth-of-type(1) > CODE:nth-of-type(1), Offsets: (4, 6)}\n",
      "* Text:  usr\n",
      "* HTML:  <code>#! /usr/bin/env python\n",
      "\n",
      "import re\n",
      "\n",
      "tests = [\n",
      "\"| 'TOMATOES_PICKED'                                  |       914 |       1397 |\",\n",
      "\"| 'TOMATOES_FLICKED'                                 |     32914 |       1123 |\",\n",
      "\"| 'TOMATOES_RIGGED'                                  |        14 |       1343 |\",\n",
      "\"| 'TOMATOES_PICKELED'                                |         4 |         23 |\"]\n",
      "\n",
      "def parse (s):\n",
      "    mo = re.match (\"\\\\|\\s*'([^']*)'\\s*\\\\|\\s*(\\d*)\\s*\\\\|\\s*(\\d*)\\s*\\\\|\", s)\n",
      "    if mo: return mo.groups ()\n",
      "\n",
      "for test in tests: print parse (test)\n",
      "</code>\n",
      "\n",
      "?? Open next example of false detection? \n",
      " \n",
      "===== REGION 42 =====\n",
      "{Text: usr URL: http://127.0.0.1:8000/pages/regex/parsing%20python%20regex%20tutorial/10/stackoverflow.com/questions/6260777/python-regex-to-parse-string-and-return-tuple.html, Element: HTML > BODY:nth-of-type(1) > DIV:nth-of-type(5) > DIV:nth-of-type(2) > DIV:nth-of-type(1) > DIV:nth-of-type(3) > DIV:nth-of-type(2) > DIV:nth-of-type(4) > TABLE:nth-of-type(1) > TBODY:nth-of-type(1) > TR:nth-of-type(1) > TD:nth-of-type(2) > DIV:nth-of-type(1) > PRE:nth-of-type(1), Offsets: (4, 6)}\n",
      "* Text:  usr\n",
      "* HTML:  <pre><code>#! /usr/bin/env python\n",
      "\n",
      "import re\n",
      "\n",
      "tests = [\n",
      "\"| 'TOMATOES_PICKED'                                  |       914 |       1397 |\",\n",
      "\"| 'TOMATOES_FLICKED'                                 |     32914 |       1123 |\",\n",
      "\"| 'TOMATOES_RIGGED'                                  |        14 |       1343 |\",\n",
      "\"| 'TOMATOES_PICKELED'                                |         4 |         23 |\"]\n",
      "\n",
      "def parse (s):\n",
      "    mo = re.match (\"\\\\|\\s*'([^']*)'\\s*\\\\|\\s*(\\d*)\\s*\\\\|\\s*(\\d*)\\s*\\\\|\", s)\n",
      "    if mo: return mo.groups ()\n",
      "\n",
      "for test in tests: print parse (test)\n",
      "</code></pre>\n",
      "\n",
      "?? Open next example of false detection? "
     ]
    }
   ],
   "source": [
    "open_false_detections(41)"
   ]
  },
  {
   "cell_type": "code",
   "execution_count": null,
   "metadata": {
    "collapsed": true
   },
   "outputs": [],
   "source": []
  }
 ],
 "metadata": {
  "kernelspec": {
   "display_name": "Python 2",
   "language": "python",
   "name": "python2"
  },
  "language_info": {
   "codemirror_mode": {
    "name": "ipython",
    "version": 2
   },
   "file_extension": ".py",
   "mimetype": "text/x-python",
   "name": "python",
   "nbconvert_exporter": "python",
   "pygments_lexer": "ipython2",
   "version": "2.7.9"
  }
 },
 "nbformat": 4,
 "nbformat_minor": 0
}
