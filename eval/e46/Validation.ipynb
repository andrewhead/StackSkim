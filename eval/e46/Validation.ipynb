{
 "cells": [
  {
   "cell_type": "code",
   "execution_count": 1,
   "metadata": {
    "collapsed": false
   },
   "outputs": [],
   "source": [
    "import os.path\n",
    "import urllib\n",
    "import csv\n",
    "import time\n",
    "import glob\n",
    "import random\n",
    "from selenium import webdriver\n",
    "\n",
    "from models import Page\n",
    "from open import build_local_url\n",
    "from order import get_test_lists"
   ]
  },
  {
   "cell_type": "markdown",
   "metadata": {},
   "source": [
    "# Data Structures and Methods"
   ]
  },
  {
   "cell_type": "markdown",
   "metadata": {},
   "source": [
    "## Classes"
   ]
  },
  {
   "cell_type": "code",
   "execution_count": 2,
   "metadata": {
    "collapsed": false
   },
   "outputs": [],
   "source": [
    "class Region(object):\n",
    "    \n",
    "    def __init__(self, url, element, start_offset, end_offset, text=None):\n",
    "        self.url = url\n",
    "        self.element = element\n",
    "        self.start_offset = start_offset\n",
    "        self.end_offset = end_offset\n",
    "        self.text = text\n",
    "    \n",
    "    def __eq__(self, other):\n",
    "        return (isinstance(other, self.__class__)\n",
    "            and self.element == other.element\n",
    "            and self.url == other.url\n",
    "            and self.start_offset == other.start_offset\n",
    "            and self.end_offset == other.end_offset)\n",
    "\n",
    "    def __ne__(self, other):\n",
    "        return not self.__eq__(other)\n",
    "\n",
    "    def __repr__(self):\n",
    "        return \"{{Text: {text} URL: {url}, Element: {el}, Offsets: ({so}, {eo})}}\".format(\n",
    "            text=self.text, url=self.url, el=self.element, so=self.start_offset, eo=self.end_offset)"
   ]
  },
  {
   "cell_type": "markdown",
   "metadata": {},
   "source": [
    "## Methods for Computing Accuracy"
   ]
  },
  {
   "cell_type": "code",
   "execution_count": 3,
   "metadata": {
    "collapsed": true
   },
   "outputs": [],
   "source": [
    "def is_detected_region_true(region, truth_regions):\n",
    "    for truth_list in truth_regions.values():\n",
    "        if region in truth_list:\n",
    "            return True\n",
    "    return False"
   ]
  },
  {
   "cell_type": "code",
   "execution_count": 4,
   "metadata": {
    "collapsed": true
   },
   "outputs": [],
   "source": [
    "def is_true_region_detected(region_candidates, detected_regions):\n",
    "    ''' \n",
    "    A \"true\" region can be described relative to any number of its parent elements.\n",
    "    We pass in all of these possible region descriptions as 'region_candidates'.\n",
    "    '''\n",
    "    for r in region_candidates:\n",
    "        if r in detected_regions:\n",
    "            return True\n",
    "    return False"
   ]
  },
  {
   "cell_type": "code",
   "execution_count": 5,
   "metadata": {
    "collapsed": true
   },
   "outputs": [],
   "source": [
    "def precision(detected_regions, truth_regions):\n",
    "    correct = 0\n",
    "    true_regions = []\n",
    "    false_regions = []\n",
    "    total = len(detected_regions)\n",
    "    for d in detected_regions:\n",
    "        if is_detected_region_true(d, truth_regions):\n",
    "            true_regions.append(d)\n",
    "            correct = correct + 1\n",
    "        else:\n",
    "            false_regions.append(d)\n",
    "    precision = correct / float(total)\n",
    "    return precision, true_regions, false_regions"
   ]
  },
  {
   "cell_type": "code",
   "execution_count": 6,
   "metadata": {
    "collapsed": false
   },
   "outputs": [],
   "source": [
    "def recall(detected_regions, truth_regions):\n",
    "    found_count = 0\n",
    "    found = {}\n",
    "    missing = {}\n",
    "    total = len(truth_regions.keys())\n",
    "    for key, true_region_candidates in truth_regions.items():\n",
    "        if is_true_region_detected(true_region_candidates, detected_regions):\n",
    "            found_count += 1\n",
    "            found[key] = true_region_candidates\n",
    "        else:\n",
    "            missing[key] = true_region_candidates\n",
    "    recall = found_count / float(total)\n",
    "    return recall, found, missing"
   ]
  },
  {
   "cell_type": "markdown",
   "metadata": {},
   "source": [
    "### Tests for accuracy methods"
   ]
  },
  {
   "cell_type": "code",
   "execution_count": 7,
   "metadata": {
    "collapsed": true
   },
   "outputs": [],
   "source": [
    "truth_regions = {\n",
    "    ('url0', 0, 1): [Region('url0', 'el0', 0, 1), Region('url0', 'el1', 3, 4)],\n",
    "    ('url1', 1, 2): [Region('url1', 'el0', 1, 2), Region('url1', 'el1', 2, 3)],\n",
    "}"
   ]
  },
  {
   "cell_type": "code",
   "execution_count": 8,
   "metadata": {
    "collapsed": false
   },
   "outputs": [
    {
     "name": "stdout",
     "output_type": "stream",
     "text": [
      "True\n",
      "False\n"
     ]
    }
   ],
   "source": [
    "print is_detected_region_true(Region('url0', 'el1', 3, 4), truth_regions)  # True\n",
    "print is_detected_region_true(Region('url0', 'el2', 0, 1), truth_regions)  # False"
   ]
  },
  {
   "cell_type": "code",
   "execution_count": 9,
   "metadata": {
    "collapsed": false
   },
   "outputs": [
    {
     "name": "stdout",
     "output_type": "stream",
     "text": [
      "False\n",
      "True\n"
     ]
    }
   ],
   "source": [
    "detected_regions = [Region('url0', 'el0', 0, 1), Region('url1', 'el1', 1, 2)]\n",
    "region_candidates0 = [Region('url1', 'el1', 0, 1), Region('url0', 'el0', 1, 2)]\n",
    "region_candidates1 = [Region('url0', 'el0', 0, 1), Region('url0', 'el1', 1, 2)]\n",
    "print is_true_region_detected(region_candidates0, detected_regions)  # False\n",
    "print is_true_region_detected(region_candidates1, detected_regions)  # True        "
   ]
  },
  {
   "cell_type": "markdown",
   "metadata": {},
   "source": [
    "# Data Loading and Preparation"
   ]
  },
  {
   "cell_type": "code",
   "execution_count": 10,
   "metadata": {
    "collapsed": false
   },
   "outputs": [],
   "source": [
    "DETECTED_FILE = os.path.join('regions', 'detections.tsv')\n",
    "TRUTH_FILE = os.path.join('regions', 'groundtruth_validation.txt')"
   ]
  },
  {
   "cell_type": "markdown",
   "metadata": {},
   "source": [
    "For now, we limit ourselves to considering only the first 50 cross-validation results.  Eventually we should be able to boost this number up to around 100."
   ]
  },
  {
   "cell_type": "code",
   "execution_count": 14,
   "metadata": {
    "collapsed": true
   },
   "outputs": [],
   "source": [
    "VALIDATION_SIZE = 50"
   ]
  },
  {
   "cell_type": "code",
   "execution_count": 15,
   "metadata": {
    "collapsed": false
   },
   "outputs": [],
   "source": [
    "wget_pages = get_test_lists('regex')['validation'][:VALIDATION_SIZE]\n",
    "validation_urls = [urllib.quote(build_local_url(p), safe='/:') for p in wget_pages]"
   ]
  },
  {
   "cell_type": "markdown",
   "metadata": {},
   "source": [
    "Load in the detections from the stored TSV files"
   ]
  },
  {
   "cell_type": "code",
   "execution_count": 16,
   "metadata": {
    "collapsed": false
   },
   "outputs": [],
   "source": [
    "detected_regions = []\n",
    "with open(DETECTED_FILE) as detected_tsv:\n",
    "    reader = csv.DictReader(detected_tsv, delimiter='\\t', \n",
    "        fieldnames=['timestamp', 'url', 'element', 'start_offset', 'end_offset', 'text'])\n",
    "    for r in reader:\n",
    "        if r['url'] in validation_urls:\n",
    "            detected_regions.append(\n",
    "                Region(r['url'], r['element'], r['start_offset'], r['end_offset'], r['text'])\n",
    "            )"
   ]
  },
  {
   "cell_type": "markdown",
   "metadata": {},
   "source": [
    "For the manually extracted regions, index each on by the absolute offsets within the page and the URL of the page.  This is because we extract all possible relative positions of the region within the page, but each of these are really the same region."
   ]
  },
  {
   "cell_type": "code",
   "execution_count": 17,
   "metadata": {
    "collapsed": false
   },
   "outputs": [],
   "source": [
    "with open(TRUTH_FILE, 'rU') as truth_tsv:\n",
    "    truth_regions = {}\n",
    "    for line in truth_tsv.readlines():\n",
    "        rel_start_offset, rel_end_offset, element, url, abs_start_offset, abs_end_offset, text = line.split(',,,')\n",
    "        if url in validation_urls:\n",
    "            key = (url, abs_start_offset, abs_end_offset)\n",
    "            if key not in truth_regions:\n",
    "                truth_regions[key] = []\n",
    "            truth_regions[key].append(\n",
    "                Region(url, element, rel_start_offset, rel_end_offset, text)\n",
    "            )"
   ]
  },
  {
   "cell_type": "markdown",
   "metadata": {},
   "source": [
    "## Verify that the regions have been properly loaded"
   ]
  },
  {
   "cell_type": "code",
   "execution_count": 18,
   "metadata": {
    "collapsed": true
   },
   "outputs": [],
   "source": [
    "detected_urls = set([r.url for r in detected_regions])\n",
    "truth_urls = set(key[0] for key in truth_regions.keys())"
   ]
  },
  {
   "cell_type": "code",
   "execution_count": 19,
   "metadata": {
    "collapsed": false
   },
   "outputs": [
    {
     "name": "stdout",
     "output_type": "stream",
     "text": [
      "17 44\n"
     ]
    }
   ],
   "source": [
    "print len(detected_urls), len(truth_urls)"
   ]
  },
  {
   "cell_type": "code",
   "execution_count": 20,
   "metadata": {
    "collapsed": false
   },
   "outputs": [
    {
     "name": "stdout",
     "output_type": "stream",
     "text": [
      "{Text: /opt/omni/lbin URL: http://127.0.0.1:8000/pages/regex/linux%20regex%20sed%20tutorial/8/www.thegeekstuff.com/2009/10/unix-sed-tutorial-advanced-sed-substitution-examples/, Element: HTML > BODY:nth-of-type(1) > DIV:nth-of-type(1) > DIV:nth-of-type(2) > DIV:nth-of-type(1) > DIV:nth-of-type(1) > DIV:nth-of-type(2) > PRE:nth-of-type(2), Offsets: (9, 22)}\n"
     ]
    }
   ],
   "source": [
    "print detected_regions[0]"
   ]
  },
  {
   "cell_type": "code",
   "execution_count": 21,
   "metadata": {
    "collapsed": false
   },
   "outputs": [
    {
     "name": "stdout",
     "output_type": "stream",
     "text": [
      "{Text: ^(\\d+)\\.(\\d+)\\.(\\d+)\\.(\\d+)$\n",
      " URL: http://127.0.0.1:8000/pages/regex/regex%20split%20string%20tutorial/4/wiki.tcl.tk/989.html, Element: HTML > BODY:nth-of-type(1) > DIV:nth-of-type(1) > DIV:nth-of-type(2) > DIV:nth-of-type(1) > PRE:nth-of-type(22), Offsets: (43, 70)}\n"
     ]
    }
   ],
   "source": [
    "print truth_regions.values()[0][0]"
   ]
  },
  {
   "cell_type": "markdown",
   "metadata": {},
   "source": [
    "# Compute Accuracy!"
   ]
  },
  {
   "cell_type": "code",
   "execution_count": 22,
   "metadata": {
    "collapsed": false
   },
   "outputs": [
    {
     "name": "stdout",
     "output_type": "stream",
     "text": [
      "Precision:  0.77519379845\n"
     ]
    }
   ],
   "source": [
    "prec, true_regions, false_regions = precision(detected_regions, truth_regions)\n",
    "print \"Precision: \", prec"
   ]
  },
  {
   "cell_type": "code",
   "execution_count": 23,
   "metadata": {
    "collapsed": false
   },
   "outputs": [
    {
     "name": "stdout",
     "output_type": "stream",
     "text": [
      "Recall:  0.139325842697\n"
     ]
    }
   ],
   "source": [
    "rec, _, missing_regions = recall(detected_regions, truth_regions)\n",
    "print \"Recall: \", rec"
   ]
  },
  {
   "cell_type": "markdown",
   "metadata": {
    "collapsed": true
   },
   "source": [
    "## Save Results for posterity"
   ]
  },
  {
   "cell_type": "code",
   "execution_count": 24,
   "metadata": {
    "collapsed": true
   },
   "outputs": [],
   "source": [
    "history_dir = os.path.join('regions', 'detected', 'history')"
   ]
  },
  {
   "cell_type": "code",
   "execution_count": 25,
   "metadata": {
    "collapsed": true
   },
   "outputs": [],
   "source": [
    "if not os.path.isdir(history_dir):\n",
    "    os.makedirs(history_dir)"
   ]
  },
  {
   "cell_type": "code",
   "execution_count": 26,
   "metadata": {
    "collapsed": false
   },
   "outputs": [],
   "source": [
    "def get_regions_filename(basename):\n",
    "    record_index = 0\n",
    "    while True:\n",
    "        record_prefix = '{basename}-{record_index}-'.format(\n",
    "            basename=basename, record_index=record_index)\n",
    "        record_prefix_path = os.path.join(history_dir, record_prefix)\n",
    "        if not glob.glob(record_prefix_path + '*'):\n",
    "            ts = time.strftime('%Y%m%d-%H:%M:%S')\n",
    "            filename = record_prefix_path + ts + '.tsv'\n",
    "            return filename\n",
    "        record_index += 1"
   ]
  },
  {
   "cell_type": "code",
   "execution_count": 27,
   "metadata": {
    "collapsed": false
   },
   "outputs": [],
   "source": [
    "false_fn = get_regions_filename('false_detections')\n",
    "missing_fn = get_regions_filename('missing_regions')"
   ]
  },
  {
   "cell_type": "code",
   "execution_count": 28,
   "metadata": {
    "collapsed": true
   },
   "outputs": [],
   "source": [
    "def write_region(file_, r):\n",
    "    file_.write('\\t'.join([r.url, r.element, r.start_offset, r.end_offset]) + '\\n')"
   ]
  },
  {
   "cell_type": "code",
   "execution_count": 29,
   "metadata": {
    "collapsed": false
   },
   "outputs": [],
   "source": [
    "with open(false_fn, 'w') as false_file:\n",
    "    for r in false_regions:\n",
    "        write_region(false_file, r)"
   ]
  },
  {
   "cell_type": "code",
   "execution_count": 30,
   "metadata": {
    "collapsed": false
   },
   "outputs": [],
   "source": [
    "with open(missing_fn, 'w') as missing_file:\n",
    "    for _, region_list in missing_regions.items():\n",
    "        region = max(region_list, key=lambda r: len(r.element))\n",
    "        write_region(missing_file, region)"
   ]
  },
  {
   "cell_type": "markdown",
   "metadata": {},
   "source": [
    "## Examine True Positives"
   ]
  },
  {
   "cell_type": "markdown",
   "metadata": {},
   "source": [
    "Print one random region from each of the URLs where a selector was found"
   ]
  },
  {
   "cell_type": "code",
   "execution_count": 31,
   "metadata": {
    "collapsed": false
   },
   "outputs": [],
   "source": [
    "url_map = {}\n",
    "for r in true_regions:\n",
    "    if not r.url in url_map.keys():\n",
    "        url_map[r.url] = []\n",
    "    url_map[r.url].append(r)"
   ]
  },
  {
   "cell_type": "code",
   "execution_count": 32,
   "metadata": {
    "collapsed": false
   },
   "outputs": [
    {
     "name": "stdout",
     "output_type": "stream",
     "text": [
      "username\n",
      "^([A-Za-z0-9_-\\s]+)/([A-Za-z0-9_-\\s]+)/?$\n",
      "^author/(.+)$\n",
      "^/products/(.?)/(.?)/5702/(.*).html\n",
      "^products/([0-9][0-9])$\n",
      "\\$\\$(.*?)\\$\\$\n",
      "^(\\d)_([a-z])\\.html$\n",
      "^gallery/index.php\n",
      "[A-Z]\n",
      "yyy\n",
      "\\<br\\>\n",
      "Linux\n",
      "/opt/omni/lbin\n"
     ]
    }
   ],
   "source": [
    "for url, regions in url_map.items():\n",
    "    print random.choice(regions).text"
   ]
  },
  {
   "cell_type": "markdown",
   "metadata": {},
   "source": [
    "## Examine False Positives"
   ]
  },
  {
   "cell_type": "code",
   "execution_count": 34,
   "metadata": {
    "collapsed": false
   },
   "outputs": [],
   "source": [
    "browser = webdriver.Firefox()"
   ]
  },
  {
   "cell_type": "code",
   "execution_count": 35,
   "metadata": {
    "collapsed": false
   },
   "outputs": [],
   "source": [
    "SHOW_REGION_SCRIPT = \"\"\"\n",
    "var node = document.querySelector('{element}');\n",
    "var range = document.createRange();\n",
    "range.selectNode(node);\n",
    "var selection = window.getSelection();\n",
    "selection.addRange(range);\n",
    "node.scrollIntoView();\n",
    "\"\"\"\n",
    "\n",
    "def show_region(browser, region):\n",
    "    browser.get(region.url)\n",
    "    if region.element != '':\n",
    "        browser.execute_script(SHOW_REGION_SCRIPT.format(element=region.element))"
   ]
  },
  {
   "cell_type": "markdown",
   "metadata": {},
   "source": [
    "The following scripts let us extract the text and HTML for a region, if we want to debug the detection.  Though note that they have to be run after the browser has already been directed to the page where the region appears."
   ]
  },
  {
   "cell_type": "code",
   "execution_count": 36,
   "metadata": {
    "collapsed": true
   },
   "outputs": [],
   "source": [
    "GET_TEXT_SCRIPT = \"\"\"\n",
    "var node = document.querySelector('{element}');\n",
    "return node.textContent.substring({start_offset}, {end_offset} + 1);\n",
    "\"\"\"\n",
    "\n",
    "def get_text(browser, region):\n",
    "    return browser.execute_script(GET_TEXT_SCRIPT.format(\n",
    "        element=region.element, start_offset=region.start_offset,\n",
    "        end_offset=region.end_offset))"
   ]
  },
  {
   "cell_type": "code",
   "execution_count": 37,
   "metadata": {
    "collapsed": true
   },
   "outputs": [],
   "source": [
    "GET_HTML_SCRIPT = \"\"\"\n",
    "var node = document.querySelector('{element}');\n",
    "return node.outerHTML;\n",
    "\"\"\"\n",
    "\n",
    "def get_html(browser, region):\n",
    "    return browser.execute_script(GET_HTML_SCRIPT.format(element=region.element))"
   ]
  },
  {
   "cell_type": "markdown",
   "metadata": {},
   "source": [
    "### Regions not Detected"
   ]
  },
  {
   "cell_type": "code",
   "execution_count": 38,
   "metadata": {
    "collapsed": true
   },
   "outputs": [],
   "source": [
    "def open_missing_detections(start_index=0, debug=True):\n",
    "    for i, (_, region_list) in enumerate(missing_regions.items()[start_index:], start_index):\n",
    "        ''' Most specific selector will be the longest one. '''\n",
    "        r = max(region_list, key=lambda r: len(r.element))\n",
    "        print \"\"\n",
    "        print \"?? Open next example of missed detection? \",\n",
    "        try:\n",
    "            again = raw_input()\n",
    "            if again.lower() == 'n':\n",
    "                break\n",
    "            print \"\"\n",
    "            print \"===== REGION %d =====\" % i\n",
    "            print r\n",
    "            show_region(browser, r)\n",
    "            if debug:\n",
    "                print \"* Text: \", get_text(browser, r)\n",
    "                html = get_html(browser,r)\n",
    "                print \"* HTML: \",\n",
    "                if len(html) > 1000:\n",
    "                    print \"too long to render\"\n",
    "                else:\n",
    "                    print html\n",
    "        except KeyboardInterrupt:\n",
    "            return"
   ]
  },
  {
   "cell_type": "code",
   "execution_count": 39,
   "metadata": {
    "collapsed": false
   },
   "outputs": [
    {
     "name": "stdout",
     "output_type": "stream",
     "text": [
      "\n",
      "?? Open next example of missed detection? \n",
      " \n",
      "===== REGION 0 =====\n",
      "{Text: ^(\\d+)\\.(\\d+)\\.(\\d+)\\.(\\d+)$\n",
      " URL: http://127.0.0.1:8000/pages/regex/regex%20split%20string%20tutorial/4/wiki.tcl.tk/989.html, Element: HTML > BODY:nth-of-type(1) > DIV:nth-of-type(1) > DIV:nth-of-type(2) > DIV:nth-of-type(1) > PRE:nth-of-type(22), Offsets: (43, 70)}\n",
      "* Text:  ^(\\d+)\\.(\\d+)\\.(\\d+)\\.(\\d+)$\n",
      "* HTML:  <pre class=\"sh_tcl\">set string \"0377.255.255.255\"\n",
      "if {[regexp {^(\\d+)\\.(\\d+)\\.(\\d+)\\.(\\d+)$} $string _ a b c d]\n",
      " &amp;&amp; [string is integer $a] &amp;&amp; [scan $a %d v1] &amp;&amp; 0 &lt;= $v1 &amp;&amp; $v1 &lt;= 255\n",
      " &amp;&amp; [string is integer $b] &amp;&amp; [scan $b %d v2] &amp;&amp; 0 &lt;= $v2 &amp;&amp; $v2 &lt;= 255\n",
      " &amp;&amp; [string is integer $c] &amp;&amp; [scan $c %d v3] &amp;&amp; 0 &lt;= $v3 &amp;&amp; $v3 &lt;= 255\n",
      " &amp;&amp; [string is integer $d] &amp;&amp; [scan $d %d v4] &amp;&amp; 0 &lt;= $v4 &amp;&amp; $v4 &lt;= 255} {puts $v1.$v2.$v3.$v4} else {puts none}</pre>\n",
      "\n",
      "?? Open next example of missed detection? \n",
      " \n",
      "===== REGION 1 =====\n",
      "{Text: [0-9]\n",
      " URL: http://127.0.0.1:8000/pages/regex/awk%20regex%20sed%20tutorial/3/stackoverflow.com/questions/1733692/how-to-use-sed-awk-or-gawk-to-print-only-what-is-matched.html, Element: HTML > BODY:nth-of-type(1) > DIV:nth-of-type(5) > DIV:nth-of-type(2) > DIV:nth-of-type(1) > DIV:nth-of-type(3) > DIV:nth-of-type(2) > DIV:nth-of-type(5) > TABLE:nth-of-type(1) > TBODY:nth-of-type(1) > TR:nth-of-type(1) > TD:nth-of-type(2) > DIV:nth-of-type(1) > PRE:nth-of-type(1) > CODE:nth-of-type(1), Offsets: (9, 13)}\n",
      "* Text:  [0-9]\n",
      "* HTML:  <code>sed -e '/[0-9]/!d' -e 's/^[^0-9]*//' -e 's/[^0-9]*$//'\n",
      "</code>\n",
      "\n",
      "?? Open next example of missed detection? \n"
     ]
    }
   ],
   "source": [
    "open_missing_detections()"
   ]
  },
  {
   "cell_type": "markdown",
   "metadata": {},
   "source": [
    "### False Detections"
   ]
  },
  {
   "cell_type": "code",
   "execution_count": 40,
   "metadata": {
    "collapsed": false
   },
   "outputs": [],
   "source": [
    "def open_false_detections(start_index=0, debug=True):\n",
    "    for i, r in enumerate(false_regions[start_index:], start_index):\n",
    "        print \"\"\n",
    "        print \"?? Open next example of false detection? \",\n",
    "        try:\n",
    "            again = raw_input()\n",
    "            if again.lower() == 'n':\n",
    "                break\n",
    "            print \"\"\n",
    "            print \"===== REGION %d =====\" % i\n",
    "            print r\n",
    "            show_region(browser, r)\n",
    "            if debug:\n",
    "                print \"* Text: \", get_text(browser, r)\n",
    "                html = get_html(browser,r)\n",
    "                print \"* HTML: \",\n",
    "                if len(html) > 1000:\n",
    "                    print \"too long to render\"\n",
    "                else:\n",
    "                    print html\n",
    "        except KeyboardInterrupt:\n",
    "            return"
   ]
  },
  {
   "cell_type": "code",
   "execution_count": null,
   "metadata": {
    "collapsed": false
   },
   "outputs": [
    {
     "name": "stdout",
     "output_type": "stream",
     "text": [
      "\n",
      "?? Open next example of false detection? \n",
      " \n",
      "===== REGION 0 =====\n",
      "{Text: (\\a+)(\\b+) URL: http://127.0.0.1:8000/pages/regex/javascript%20regex%20replace%20tutorial/10/developer.mozilla.org/en-US/docs/Web/JavaScript/Reference/Global_Objects/String/replace.html, Element: HTML > BODY:nth-of-type(1) > MAIN:nth-of-type(1) > DIV:nth-of-type(1) > DIV:nth-of-type(1) > DIV:nth-of-type(1) > DIV:nth-of-type(3) > DIV:nth-of-type(2) > DIV:nth-of-type(2) > ARTICLE:nth-of-type(1) > TABLE:nth-of-type(2) > TBODY:nth-of-type(1) > TR:nth-of-type(3) > TD:nth-of-type(2) > CODE:nth-of-type(4), Offsets: (1, 10)}\n",
      "* Text:  (\\a+)(\\b+)\n",
      "* HTML:  <code>/(\\a+)(\\b+)/</code>\n",
      "\n",
      "?? Open next example of false detection? \n",
      " \n",
      "===== REGION 1 =====\n",
      "{Text: (?<=finalNumber=\")(.*?)(?=\") URL: http://127.0.0.1:8000/pages/regex/linux%20regex%20sed%20tutorial/9/stackoverflow.com/questions/14479535/print-regex-matches-using-sed-in-bash.html, Element: HTML > BODY:nth-of-type(1) > DIV:nth-of-type(5) > DIV:nth-of-type(2) > DIV:nth-of-type(1) > DIV:nth-of-type(3) > DIV:nth-of-type(1) > TABLE:nth-of-type(1) > TBODY:nth-of-type(1) > TR:nth-of-type(1) > TD:nth-of-type(2) > DIV:nth-of-type(1) > DIV:nth-of-type(1) > PRE:nth-of-type(2) > CODE:nth-of-type(1), Offsets: (26, 34)}\n",
      "* Text:  )(.*?)(?=\n",
      "* HTML:  <code>sed -n '/(?&lt;=finalNumber=\")(.*?)(?=\")/p' file.xml\n",
      "</code>\n",
      "\n",
      "?? Open next example of false detection? \n",
      " \n",
      "===== REGION 2 =====\n",
      "{Text: search URL: http://127.0.0.1:8000/pages/regex/awk%20bash%20regex%20tutorial/8/unix.stackexchange.com/questions/120788/pass-shell-variable-as-a-pattern-to-awk.html, Element: HTML > BODY:nth-of-type(1) > DIV:nth-of-type(5) > DIV:nth-of-type(2) > DIV:nth-of-type(1) > DIV:nth-of-type(3) > DIV:nth-of-type(1) > TABLE:nth-of-type(1) > TBODY:nth-of-type(1) > TR:nth-of-type(1) > TD:nth-of-type(2) > DIV:nth-of-type(1) > DIV:nth-of-type(1) > P:nth-of-type(5) > CODE:nth-of-type(1), Offsets: (1, 6)}\n",
      "* Text:  search\n",
      "* HTML:  <code>/search/</code>\n",
      "\n",
      "?? Open next example of false detection? "
     ]
    }
   ],
   "source": [
    "open_false_detections()"
   ]
  },
  {
   "cell_type": "code",
   "execution_count": null,
   "metadata": {
    "collapsed": true
   },
   "outputs": [],
   "source": []
  }
 ],
 "metadata": {
  "kernelspec": {
   "display_name": "Python 2",
   "language": "python",
   "name": "python2"
  },
  "language_info": {
   "codemirror_mode": {
    "name": "ipython",
    "version": 2
   },
   "file_extension": ".py",
   "mimetype": "text/x-python",
   "name": "python",
   "nbconvert_exporter": "python",
   "pygments_lexer": "ipython2",
   "version": "2.7.9"
  }
 },
 "nbformat": 4,
 "nbformat_minor": 0
}
