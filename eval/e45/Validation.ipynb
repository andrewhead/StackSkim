{
 "cells": [
  {
   "cell_type": "code",
   "execution_count": 24,
   "metadata": {
    "collapsed": true
   },
   "outputs": [],
   "source": [
    "import sys\n",
    "import os.path\n",
    "sys.path.append(os.path.join(os.pardir, os.pardir, 'common'))"
   ]
  },
  {
   "cell_type": "code",
   "execution_count": 25,
   "metadata": {
    "collapsed": false
   },
   "outputs": [],
   "source": [
    "import urllib\n",
    "\n",
    "from evaluate import load_detected_regions, load_groundtruth_regions, save_results, print_stats, RegionInspector\n",
    "from open import build_local_url\n",
    "from order import get_test_lists"
   ]
  },
  {
   "cell_type": "markdown",
   "metadata": {},
   "source": [
    "# Data Loading and Preparation"
   ]
  },
  {
   "cell_type": "code",
   "execution_count": 36,
   "metadata": {
    "collapsed": true
   },
   "outputs": [],
   "source": [
    "DETECTED_FILE = os.path.join('regions', 'detected', 'jquery.tsv')\n",
    "TRUTH_FILE = os.path.join('regions', 'extracted', 'test_longer.txt')"
   ]
  },
  {
   "cell_type": "markdown",
   "metadata": {},
   "source": [
    "For now, we limit ourselves to considering only the first 50 cross-validation results.  Eventually we should be able to boost this number up to around 100."
   ]
  },
  {
   "cell_type": "code",
   "execution_count": 37,
   "metadata": {
    "collapsed": true
   },
   "outputs": [],
   "source": [
    "VALIDATION_SIZE = 50"
   ]
  },
  {
   "cell_type": "code",
   "execution_count": 38,
   "metadata": {
    "collapsed": false
   },
   "outputs": [],
   "source": [
    "wget_pages = get_test_lists('jquery')['validation'][:VALIDATION_SIZE]\n",
    "validation_urls = [urllib.quote(build_local_url(p), safe='/:') for p in wget_pages]"
   ]
  },
  {
   "cell_type": "markdown",
   "metadata": {},
   "source": [
    "Load in the detections from the stored TSV files"
   ]
  },
  {
   "cell_type": "code",
   "execution_count": 39,
   "metadata": {
    "collapsed": false
   },
   "outputs": [],
   "source": [
    "detected_regions = load_detected_regions(DETECTED_FILE, validation_urls)"
   ]
  },
  {
   "cell_type": "code",
   "execution_count": 40,
   "metadata": {
    "collapsed": false
   },
   "outputs": [],
   "source": [
    "truth_regions = load_groundtruth_regions(TRUTH_FILE, delimiter=',,,', valid_urls=validation_urls)"
   ]
  },
  {
   "cell_type": "markdown",
   "metadata": {},
   "source": [
    "## Verify that the regions have been properly loaded"
   ]
  },
  {
   "cell_type": "code",
   "execution_count": 41,
   "metadata": {
    "collapsed": false
   },
   "outputs": [],
   "source": [
    "detected_urls = set([r.url for r in detected_regions])\n",
    "truth_urls = set(key[0] for key in truth_regions.keys())"
   ]
  },
  {
   "cell_type": "code",
   "execution_count": 42,
   "metadata": {
    "collapsed": false
   },
   "outputs": [
    {
     "name": "stdout",
     "output_type": "stream",
     "text": [
      "23 48\n"
     ]
    }
   ],
   "source": [
    "print len(detected_urls), len(truth_urls)"
   ]
  },
  {
   "cell_type": "code",
   "execution_count": 43,
   "metadata": {
    "collapsed": false
   },
   "outputs": [
    {
     "name": "stdout",
     "output_type": "stream",
     "text": [
      "<evaluate.Region object at 0x106b6e250>\n"
     ]
    }
   ],
   "source": [
    "print detected_regions[0]"
   ]
  },
  {
   "cell_type": "code",
   "execution_count": 44,
   "metadata": {
    "collapsed": false
   },
   "outputs": [
    {
     "name": "stdout",
     "output_type": "stream",
     "text": [
      "<evaluate.Region object at 0x1072c8510>\n"
     ]
    }
   ],
   "source": [
    "print truth_regions.values()[0][0]"
   ]
  },
  {
   "cell_type": "markdown",
   "metadata": {},
   "source": [
    "# Compute Accuracy!"
   ]
  },
  {
   "cell_type": "code",
   "execution_count": 45,
   "metadata": {
    "collapsed": false
   },
   "outputs": [
    {
     "name": "stdout",
     "output_type": "stream",
     "text": [
      "Precision: 0.8025 (191/238), Recall 0.4099 (191/466)\n",
      "Per-page Precision: 0.7693, Recall 0.3721\n"
     ]
    }
   ],
   "source": [
    "true_regions, false_regions, missing_regions = print_stats(detected_regions, truth_regions)"
   ]
  },
  {
   "cell_type": "markdown",
   "metadata": {
    "collapsed": true
   },
   "source": [
    "## Save Results for posterity"
   ]
  },
  {
   "cell_type": "code",
   "execution_count": 46,
   "metadata": {
    "collapsed": true
   },
   "outputs": [],
   "source": [
    "history_dir = os.path.join('regions', 'detected', 'history')"
   ]
  },
  {
   "cell_type": "code",
   "execution_count": 47,
   "metadata": {
    "collapsed": false
   },
   "outputs": [],
   "source": [
    "save_results(history_dir, false_regions, missing_regions)"
   ]
  },
  {
   "cell_type": "markdown",
   "metadata": {},
   "source": [
    "## Examine Detection Faults"
   ]
  },
  {
   "cell_type": "code",
   "execution_count": 15,
   "metadata": {
    "collapsed": false
   },
   "outputs": [],
   "source": [
    "inspector = RegionInspector()"
   ]
  },
  {
   "cell_type": "code",
   "execution_count": 14,
   "metadata": {
    "collapsed": false
   },
   "outputs": [
    {
     "name": "stdout",
     "output_type": "stream",
     "text": [
      "\n",
      "?? Open next example of missed detection? \n"
     ]
    }
   ],
   "source": [
    "inspector.open_missing_detections(missing_regions)"
   ]
  },
  {
   "cell_type": "code",
   "execution_count": 16,
   "metadata": {
    "collapsed": false
   },
   "outputs": [
    {
     "name": "stdout",
     "output_type": "stream",
     "text": [
      "\n",
      "?? Open next example of missed detection? \n",
      " \n",
      "===== REGION 0 =====\n",
      "{Text: iframe URL: http://127.0.0.1:8000/pages/jquery/iframe%20javascript%20jquery%20tutorial/6/www.startutorial.com/articles/view/jquery-file-posting-using-iframe.html, Element: HTML > BODY:nth-of-type(1) > DIV:nth-of-type(2) > DIV:nth-of-type(1) > DIV:nth-of-type(1) > DIV:nth-of-type(2) > PRE:nth-of-type(2), Offsets: (258, 263)}\n",
      "* Text:  iframe\n",
      "* HTML:  <pre class=\"prettyprint\">&lt;header&gt;\n",
      "\n",
      "***other codes ****\n",
      "\n",
      "\n",
      "&lt;!-- document javascripts --&gt;\t \n",
      "&lt;script type=\"text/javascript\"&gt;\n",
      "$(document).ready(function () {\n",
      "  $('#submitButton').click(function(){\n",
      "     if($('iframe[name=iframeTarget]').length&lt;1){\n",
      "\t\t    var iframe=document.createElement('iframe');\n",
      "\t\t\t$(iframe).css('display','none');\n",
      "\t\t\t$(iframe).attr('src','#');\n",
      "\t\t\t\t\n",
      "\t\t\t$(iframe).attr('name','iframeTarget');\n",
      "\t\t\t$('body').append(iframe);\n",
      "\t\t\t\t\n",
      "\t\t\t$(this).attr('target','iframeTarget');\n",
      "\t\t\t}          \n",
      "     });\n",
      "    });\n",
      "&lt;/script&gt;\n",
      "\n",
      "\n",
      "\n",
      "***other codes ****\n",
      "\n",
      "&lt;/header&gt;\n",
      "</pre>\n",
      "\n",
      "\n",
      "===== REGION 1 =====\n",
      "{Text: title URL: http://127.0.0.1:8000/pages/jquery/jquery%20mysql%20php%20tutorial/6/tutorialzine.com/2011/08/jquery-mobile-product-website/, Element: HTML > BODY:nth-of-type(1) > SECTION:nth-of-type(1) > ARTICLE:nth-of-type(1) > DIV:nth-of-type(1) > PRE:nth-of-type(4) > CODE:nth-of-type(1), Offsets: (193, 197)}\n",
      "* Text:  title\n",
      "* HTML:  <code class=\"php hljs\"><span class=\"hljs-comment\">/* This controller renders the home page */</span>\n",
      "\n",
      "<span class=\"hljs-class\"><span class=\"hljs-keyword\">class</span> <span class=\"hljs-title\">HomeController</span></span>{\n",
      "\t<span class=\"hljs-keyword\">public</span> <span class=\"hljs-function\"><span class=\"hljs-keyword\">function</span> <span class=\"hljs-title\">handleRequest</span><span class=\"hljs-params\">()</span></span>{\n",
      "\n",
      "\t\t<span class=\"hljs-comment\">// Select all the categories:</span>\n",
      "\t\t<span class=\"hljs-variable\">$content</span> = Category::find();\n",
      "\n",
      "\t\trender(<span class=\"hljs-string\">'home'</span>,<span class=\"hljs-keyword\">array</span>(\n",
      "\t\t\t<span class=\"hljs-string\">'title'</span>\t\t=&gt; <span class=\"hljs-string\">'Welcome to our computer store'</span>,\n",
      "\t\t\t<span class=\"hljs-string\">'content'</span>\t=&gt; <span class=\"hljs-variable\">$content</span>\n",
      "\t\t));\n",
      "\t}\n",
      "}</code>\n",
      "\n",
      "\n",
      "===== REGION 2 =====\n",
      "{Text: title URL: http://127.0.0.1:8000/pages/jquery/jquery%20mysql%20php%20tutorial/6/tutorialzine.com/2011/08/jquery-mobile-product-website/, Element: HTML > BODY:nth-of-type(1) > SECTION:nth-of-type(1) > ARTICLE:nth-of-type(1) > DIV:nth-of-type(1) > PRE:nth-of-type(5) > CODE:nth-of-type(1), Offsets: (518, 522)}\n",
      "* Text:  title\n",
      "* HTML:  too long to render\n",
      "\n",
      "\n",
      "===== REGION 3 =====\n",
      "{Text: #tabs-1 URL: http://127.0.0.1:8000/pages/jquery/css%20jquery%20jquery-ui%20tutorial/8/code.tutsplus.com/tutorials/a-massive-guide-to-custom-theming-jquery-ui-widgets--net-22714.html, Element: HTML > BODY:nth-of-type(1) > DIV:nth-of-type(2) > MAIN:nth-of-type(1) > ARTICLE:nth-of-type(1) > DIV:nth-of-type(1) > DIV:nth-of-type(2) > DIV:nth-of-type(1) > DIV:nth-of-type(1) > DIV:nth-of-type(6) > DIV:nth-of-type(1) > TABLE:nth-of-type(1) > TBODY:nth-of-type(1) > TR:nth-of-type(1) > TD:nth-of-type(2) > DIV:nth-of-type(1) > DIV:nth-of-type(9) > CODE:nth-of-type(8), Offsets: (1, 7)}\n",
      "* Text:  #tabs-1\n",
      "* HTML:  <code class=\"html string\">\"#tabs-1\"</code>\n",
      "\n",
      "\n",
      "===== REGION 4 =====\n",
      "{Text: #tabs-2 URL: http://127.0.0.1:8000/pages/jquery/css%20jquery%20jquery-ui%20tutorial/8/code.tutsplus.com/tutorials/a-massive-guide-to-custom-theming-jquery-ui-widgets--net-22714.html, Element: HTML > BODY:nth-of-type(1) > DIV:nth-of-type(2) > MAIN:nth-of-type(1) > ARTICLE:nth-of-type(1) > DIV:nth-of-type(1) > DIV:nth-of-type(2) > DIV:nth-of-type(1) > DIV:nth-of-type(1) > DIV:nth-of-type(6) > DIV:nth-of-type(1) > TABLE:nth-of-type(1) > TBODY:nth-of-type(1) > TR:nth-of-type(1) > TD:nth-of-type(2) > DIV:nth-of-type(1) > DIV:nth-of-type(10) > CODE:nth-of-type(8), Offsets: (1, 7)}\n",
      "* Text:  #tabs-2\n",
      "* HTML:  <code class=\"html string\">\"#tabs-2\"</code>\n",
      "\n",
      "\n",
      "===== REGION 5 =====\n",
      "{Text: #tabs-3 URL: http://127.0.0.1:8000/pages/jquery/css%20jquery%20jquery-ui%20tutorial/8/code.tutsplus.com/tutorials/a-massive-guide-to-custom-theming-jquery-ui-widgets--net-22714.html, Element: HTML > BODY:nth-of-type(1) > DIV:nth-of-type(2) > MAIN:nth-of-type(1) > ARTICLE:nth-of-type(1) > DIV:nth-of-type(1) > DIV:nth-of-type(2) > DIV:nth-of-type(1) > DIV:nth-of-type(1) > DIV:nth-of-type(6) > DIV:nth-of-type(1) > TABLE:nth-of-type(1) > TBODY:nth-of-type(1) > TR:nth-of-type(1) > TD:nth-of-type(2) > DIV:nth-of-type(1) > DIV:nth-of-type(11) > CODE:nth-of-type(8), Offsets: (1, 7)}\n",
      "* Text:  #tabs-3\n",
      "* HTML:  <code class=\"html string\">\"#tabs-3\"</code>\n",
      "\n",
      "\n",
      "===== REGION 6 =====\n",
      "{Text: #tabs-1 URL: http://127.0.0.1:8000/pages/jquery/css%20jquery%20jquery-ui%20tutorial/8/code.tutsplus.com/tutorials/a-massive-guide-to-custom-theming-jquery-ui-widgets--net-22714.html, Element: HTML > BODY:nth-of-type(1) > DIV:nth-of-type(2) > MAIN:nth-of-type(1) > ARTICLE:nth-of-type(1) > DIV:nth-of-type(1) > DIV:nth-of-type(2) > DIV:nth-of-type(1) > DIV:nth-of-type(1) > BLOCKQUOTE:nth-of-type(4) > P:nth-of-type(1) > CODE:nth-of-type(2), Offsets: (9, 15)}\n",
      "* Text:  #tabs-1\n",
      "* HTML:  <code>&lt;a href=\"#tabs-1\"&gt;</code>\n",
      "\n",
      "\n",
      "===== REGION 7 =====\n",
      "{Text: #section1 URL: http://127.0.0.1:8000/pages/jquery/css%20jquery%20jquery-ui%20tutorial/8/code.tutsplus.com/tutorials/a-massive-guide-to-custom-theming-jquery-ui-widgets--net-22714.html, Element: HTML > BODY:nth-of-type(1) > DIV:nth-of-type(2) > MAIN:nth-of-type(1) > ARTICLE:nth-of-type(1) > DIV:nth-of-type(1) > DIV:nth-of-type(2) > DIV:nth-of-type(1) > DIV:nth-of-type(1) > DIV:nth-of-type(10) > DIV:nth-of-type(1) > TABLE:nth-of-type(1) > TBODY:nth-of-type(1) > TR:nth-of-type(1) > TD:nth-of-type(2) > DIV:nth-of-type(1) > DIV:nth-of-type(10) > CODE:nth-of-type(8), Offsets: (1, 9)}\n",
      "* Text:  #section1\n",
      "* HTML:  <code class=\"html string\">\"#section1\"</code>\n",
      "\n",
      "\n",
      "===== REGION 8 =====\n",
      "{Text: #section2 URL: http://127.0.0.1:8000/pages/jquery/css%20jquery%20jquery-ui%20tutorial/8/code.tutsplus.com/tutorials/a-massive-guide-to-custom-theming-jquery-ui-widgets--net-22714.html, Element: HTML > BODY:nth-of-type(1) > DIV:nth-of-type(2) > MAIN:nth-of-type(1) > ARTICLE:nth-of-type(1) > DIV:nth-of-type(1) > DIV:nth-of-type(2) > DIV:nth-of-type(1) > DIV:nth-of-type(1) > DIV:nth-of-type(10) > DIV:nth-of-type(1) > TABLE:nth-of-type(1) > TBODY:nth-of-type(1) > TR:nth-of-type(1) > TD:nth-of-type(2) > DIV:nth-of-type(1) > DIV:nth-of-type(56) > CODE:nth-of-type(8), Offsets: (1, 9)}\n",
      "* Text:  #section2\n",
      "* HTML:  <code class=\"html string\">\"#section2\"</code>\n",
      "\n",
      "\n",
      "===== REGION 9 =====\n",
      "{Text: #section3 URL: http://127.0.0.1:8000/pages/jquery/css%20jquery%20jquery-ui%20tutorial/8/code.tutsplus.com/tutorials/a-massive-guide-to-custom-theming-jquery-ui-widgets--net-22714.html, Element: HTML > BODY:nth-of-type(1) > DIV:nth-of-type(2) > MAIN:nth-of-type(1) > ARTICLE:nth-of-type(1) > DIV:nth-of-type(1) > DIV:nth-of-type(2) > DIV:nth-of-type(1) > DIV:nth-of-type(1) > DIV:nth-of-type(10) > DIV:nth-of-type(1) > TABLE:nth-of-type(1) > TBODY:nth-of-type(1) > TR:nth-of-type(1) > TD:nth-of-type(2) > DIV:nth-of-type(1) > DIV:nth-of-type(106) > CODE:nth-of-type(8), Offsets: (1, 9)}\n",
      "* Text:  #section3\n",
      "* HTML:  <code class=\"html string\">\"#section3\"</code>\n",
      "\n",
      "\n",
      "===== REGION 10 =====\n",
      "{Text: #section4 URL: http://127.0.0.1:8000/pages/jquery/css%20jquery%20jquery-ui%20tutorial/8/code.tutsplus.com/tutorials/a-massive-guide-to-custom-theming-jquery-ui-widgets--net-22714.html, Element: HTML > BODY:nth-of-type(1) > DIV:nth-of-type(2) > MAIN:nth-of-type(1) > ARTICLE:nth-of-type(1) > DIV:nth-of-type(1) > DIV:nth-of-type(2) > DIV:nth-of-type(1) > DIV:nth-of-type(1) > DIV:nth-of-type(10) > DIV:nth-of-type(1) > TABLE:nth-of-type(1) > TBODY:nth-of-type(1) > TR:nth-of-type(1) > TD:nth-of-type(2) > DIV:nth-of-type(1) > DIV:nth-of-type(167) > CODE:nth-of-type(8), Offsets: (1, 9)}\n",
      "* Text:  #section4\n",
      "* HTML:  <code class=\"html string\">\"#section4\"</code>\n",
      "\n",
      "\n",
      "===== REGION 11 =====\n",
      "{Text: dialog URL: http://127.0.0.1:8000/pages/jquery/css%20jquery%20jquery-ui%20tutorial/8/code.tutsplus.com/tutorials/a-massive-guide-to-custom-theming-jquery-ui-widgets--net-22714.html, Element: HTML > BODY:nth-of-type(1) > DIV:nth-of-type(2) > MAIN:nth-of-type(1) > ARTICLE:nth-of-type(1) > DIV:nth-of-type(1) > DIV:nth-of-type(2) > DIV:nth-of-type(1) > DIV:nth-of-type(1) > DIV:nth-of-type(36) > DIV:nth-of-type(1) > TABLE:nth-of-type(1) > TBODY:nth-of-type(1) > TR:nth-of-type(1) > TD:nth-of-type(2) > DIV:nth-of-type(1) > DIV:nth-of-type(6) > CODE:nth-of-type(5), Offsets: (1, 6)}\n",
      "* Text:  dialog\n",
      "* HTML:  <code class=\"html string\">\"dialog\"</code>\n",
      "\n",
      "\n",
      "===== REGION 12 =====\n",
      "{Text: dialog URL: http://127.0.0.1:8000/pages/jquery/css%20jquery%20jquery-ui%20tutorial/8/code.tutsplus.com/tutorials/a-massive-guide-to-custom-theming-jquery-ui-widgets--net-22714.html, Element: HTML > BODY:nth-of-type(1) > DIV:nth-of-type(2) > MAIN:nth-of-type(1) > ARTICLE:nth-of-type(1) > DIV:nth-of-type(1) > DIV:nth-of-type(2) > DIV:nth-of-type(1) > DIV:nth-of-type(1) > DIV:nth-of-type(37) > DIV:nth-of-type(1) > TABLE:nth-of-type(1) > TBODY:nth-of-type(1) > TR:nth-of-type(1) > TD:nth-of-type(2) > DIV:nth-of-type(1) > DIV:nth-of-type(1) > CODE:nth-of-type(5), Offsets: (1, 6)}\n",
      "* Text:  dialog\n",
      "* HTML:  <code class=\"html string\">\"dialog\"</code>\n",
      "\n",
      "\n",
      "===== REGION 13 =====\n",
      "{Text: script URL: http://127.0.0.1:8000/pages/jquery/jquery%20php%20wordpress%20tutorial/4/stackoverflow.com/questions/11159860/how-do-i-add-a-simple-jquery-script-to-wordpress.html, Element: HTML > BODY:nth-of-type(1) > DIV:nth-of-type(5) > DIV:nth-of-type(2) > DIV:nth-of-type(1) > DIV:nth-of-type(3) > DIV:nth-of-type(2) > DIV:nth-of-type(7) > TABLE:nth-of-type(1) > TBODY:nth-of-type(1) > TR:nth-of-type(1) > TD:nth-of-type(2) > DIV:nth-of-type(1) > PRE:nth-of-type(1) > CODE:nth-of-type(1), Offsets: (20, 25)}\n",
      "* Text:  script\n",
      "* HTML:  <code>wp_enqueue_script( 'script', plugins_url('js/demo_script.js', __FILE__), array('jquery'));\n",
      "</code>\n",
      "\n",
      "\n",
      "===== REGION 14 =====\n",
      "{Text: style URL: http://127.0.0.1:8000/pages/jquery/javascript%20jquery%20twitter-bootstrap%20tutorial/3/getbootstrap.com/getting-started/, Element: HTML > BODY:nth-of-type(1) > DIV:nth-of-type(2) > DIV:nth-of-type(1) > DIV:nth-of-type(1) > DIV:nth-of-type(10) > DIV:nth-of-type(10) > PRE:nth-of-type(1) > CODE:nth-of-type(1), Offsets: (215, 219)}\n",
      "* Text:  style\n",
      "* HTML:  too long to render\n",
      "\n",
      "\n",
      "===== REGION 15 =====\n",
      "{Text: head URL: http://127.0.0.1:8000/pages/jquery/javascript%20jquery%20twitter-bootstrap%20tutorial/3/getbootstrap.com/getting-started/, Element: HTML > BODY:nth-of-type(1) > DIV:nth-of-type(2) > DIV:nth-of-type(1) > DIV:nth-of-type(1) > DIV:nth-of-type(10) > DIV:nth-of-type(10) > PRE:nth-of-type(1) > CODE:nth-of-type(1), Offsets: (363, 366)}\n",
      "* Text:  head\n",
      "* HTML:  too long to render\n",
      "\n",
      "\n",
      "===== REGION 16 =====\n",
      "{Text: #content URL: http://127.0.0.1:8000/pages/jquery/javascript%20jquery%20twitter-bootstrap%20tutorial/3/getbootstrap.com/getting-started/, Element: HTML > BODY:nth-of-type(1) > DIV:nth-of-type(2) > DIV:nth-of-type(1) > DIV:nth-of-type(1) > DIV:nth-of-type(12) > DIV:nth-of-type(3) > PRE:nth-of-type(1) > CODE:nth-of-type(1), Offsets: (18, 25)}\n",
      "* Text:  #content\n",
      "* HTML:  <code class=\"language-html\" data-lang=\"html\"><span class=\"nt\">&lt;body&gt;</span>\n",
      "  <span class=\"nt\">&lt;a</span> <span class=\"na\">href=</span><span class=\"s\">\"#content\"</span> <span class=\"na\">class=</span><span class=\"s\">\"sr-only sr-only-focusable\"</span><span class=\"nt\">&gt;</span>Skip to main content<span class=\"nt\">&lt;/a&gt;</span>\n",
      "  ...\n",
      "  <span class=\"nt\">&lt;div</span> <span class=\"na\">class=</span><span class=\"s\">\"container\"</span> <span class=\"na\">id=</span><span class=\"s\">\"content\"</span> <span class=\"na\">tabindex=</span><span class=\"s\">\"-1\"</span><span class=\"nt\">&gt;</span>\n",
      "    <span class=\"c\">&lt;!-- The main page content --&gt;</span>\n",
      "  <span class=\"nt\">&lt;/div&gt;</span>\n",
      "<span class=\"nt\">&lt;/body&gt;</span></code>\n",
      "\n",
      "\n",
      "===== REGION 17 =====\n",
      "{Text: body URL: http://127.0.0.1:8000/pages/jquery/javascript%20jquery%20jquery-mobile%20tutorial/9/coenraets.org/blog/2012/03/using-backbone-js-with-jquery-mobile/, Element: HTML > BODY:nth-of-type(1) > DIV:nth-of-type(1) > DIV:nth-of-type(1) > DIV:nth-of-type(3) > DIV:nth-of-type(1) > SECTION:nth-of-type(1) > ARTICLE:nth-of-type(1) > SECTION:nth-of-type(1) > DIV:nth-of-type(3) > DIV:nth-of-type(1) > TABLE:nth-of-type(1) > TBODY:nth-of-type(1) > TR:nth-of-type(1) > TD:nth-of-type(2) > DIV:nth-of-type(1) > DIV:nth-of-type(24) > CODE:nth-of-type(3), Offsets: (1, 4)}\n",
      "* Text:  body\n",
      "* HTML:  <code class=\"jscript string\">'body'</code>\n",
      "\n",
      "\n",
      "===== REGION 18 =====\n",
      "{Text: #pg1 URL: http://127.0.0.1:8000/pages/jquery/jquery%20json%20php%20tutorial/5/blog.teamtreehouse.com/beginners-guide-to-ajax-development-with-php.html, Element: HTML > BODY:nth-of-type(1) > DIV:nth-of-type(1) > SECTION:nth-of-type(2) > DIV:nth-of-type(1) > DIV:nth-of-type(1) > PRE:nth-of-type(1), Offsets: (336, 339)}\n",
      "* Text:  #pg1\n",
      "* HTML:  <pre>  &lt;div class=\"heading\"&gt; \n",
      "    &lt;h2&gt;Someuser's Profile&lt;/h2&gt;\n",
      "    &lt;h3&gt;Joined Nov 1st, 2013 - &lt;span id=\"followercnt\"&gt;18&lt;/span&gt; Followers&lt;/h3&gt;\n",
      "    &lt;div id=\"followbtncontainer\" class=\"btncontainer\"&gt;&lt;a href=\"#\" id=\"followbtn\" class=\"bigblue\"&gt;Follow&lt;/a&gt;&lt;/div&gt;\n",
      "  &lt;/div&gt;&lt;!-- @end .heading --&gt;\n",
      "\n",
      "....\n",
      "\n",
      "    &lt;div id=\"loadmorefollowers\"&gt;\n",
      "      &lt;a href=\"#pg1\" id=\"morefllwrs\" class=\"bigblue thinblue\"&gt;Load more followers&lt;/a&gt;\n",
      "    &lt;/div&gt;&lt;!-- @end #loadmorefollowers --&gt;</pre>\n",
      "\n",
      "\n",
      "===== REGION 19 =====\n",
      "{Text: #pg2 URL: http://127.0.0.1:8000/pages/jquery/jquery%20json%20php%20tutorial/5/blog.teamtreehouse.com/beginners-guide-to-ajax-development-with-php.html, Element: HTML > BODY:nth-of-type(1) > DIV:nth-of-type(1) > SECTION:nth-of-type(2) > DIV:nth-of-type(1) > DIV:nth-of-type(1) > PRE:nth-of-type(4), Offsets: (714, 717)}\n",
      "* Text:  #pg2\n",
      "* HTML:  <pre>header(\"content-type:application/json\");\n",
      "\n",
      "$pg1 = array(\n",
      "       array\n",
      "       (\n",
      "            'username' =&gt; 'facingdown',\n",
      "            'profile_pic' =&gt; 'img/default-avatar.png'\n",
      "       ),\n",
      "       array\n",
      "       (\n",
      "            'username' =&gt; 'doggy_bag',\n",
      "            'profile_pic' =&gt; 'img/default-avatar.png'\n",
      "       ),\n",
      "       array\n",
      "       (\n",
      "            'username' =&gt; 'goingoutside',\n",
      "            'profile_pic' =&gt; 'img/default-avatar.png'\n",
      "       ),\n",
      "       array\n",
      "       (\n",
      "            'username' =&gt; 'redditdigg',\n",
      "            'profile_pic' =&gt; 'img/default-avatar.png'\n",
      "       ),\n",
      "       array\n",
      "       (\n",
      "            'username' =&gt; 'lots_of_pudding',\n",
      "            'profile_pic' =&gt; 'img/default-avatar.png'\n",
      "       ),\n",
      "       'nextpage' =&gt; '#pg2'\n",
      ");</pre>\n",
      "\n",
      "\n",
      "===== REGION 20 =====\n",
      "{Text: #pg1 URL: http://127.0.0.1:8000/pages/jquery/jquery%20json%20php%20tutorial/5/blog.teamtreehouse.com/beginners-guide-to-ajax-development-with-php.html, Element: HTML > BODY:nth-of-type(1) > DIV:nth-of-type(1) > SECTION:nth-of-type(2) > DIV:nth-of-type(1) > DIV:nth-of-type(1) > PRE:nth-of-type(5), Offsets: (22, 25)}\n",
      "* Text:  #pg1\n",
      "* HTML:  <pre>if($_POST['page'] == '#pg1')\n",
      "  echo json_encode($pg1);\n",
      "\n",
      "if($_POST['page'] == '#pg2')\n",
      "  echo json_encode($pg2);\n",
      "\n",
      "exit();</pre>\n",
      "\n",
      "\n",
      "===== REGION 21 =====\n",
      "{Text: #pg2 URL: http://127.0.0.1:8000/pages/jquery/jquery%20json%20php%20tutorial/5/blog.teamtreehouse.com/beginners-guide-to-ajax-development-with-php.html, Element: HTML > BODY:nth-of-type(1) > DIV:nth-of-type(1) > SECTION:nth-of-type(2) > DIV:nth-of-type(1) > DIV:nth-of-type(1) > PRE:nth-of-type(5), Offsets: (78, 81)}\n",
      "* Text:  #pg2\n",
      "* HTML:  <pre>if($_POST['page'] == '#pg1')\n",
      "  echo json_encode($pg1);\n",
      "\n",
      "if($_POST['page'] == '#pg2')\n",
      "  echo json_encode($pg2);\n",
      "\n",
      "exit();</pre>\n",
      "\n",
      "\n",
      "===== REGION 22 =====\n",
      "{Text: object URL: http://127.0.0.1:8000/pages/jquery/jquery%20json%20php%20tutorial/5/blog.teamtreehouse.com/beginners-guide-to-ajax-development-with-php.html, Element: HTML > BODY:nth-of-type(1) > DIV:nth-of-type(1) > SECTION:nth-of-type(2) > DIV:nth-of-type(1) > DIV:nth-of-type(1) > PRE:nth-of-type(7), Offsets: (198, 203)}\n",
      "* Text:  object\n",
      "* HTML:  <pre>$.ajax({\n",
      "  url: 'php/ajax-followers.php',\n",
      "  type: 'post',\n",
      "  data: {'page': $(this).attr('href')},\n",
      "  cache: false,\n",
      "  success: function(json) {\n",
      "\t$.each(json, function(i, item) {\n",
      "\t  if(typeof item == 'object') {\n",
      "\t  newhtml += '&lt;div class=\"user\"&gt; &lt;a href=\"#\" class=\"clearfix\"&gt; &lt;img src=\"'+item.profile_pic+'\" class=\"avi\"&gt; &lt;h4&gt;'+item.username+'&lt;/h4&gt;&lt;/a&gt;&lt;/div&gt;';\n",
      "\t  } \n",
      "\t  else {\n",
      "\t\treturn false;\n",
      "\t  }\n",
      "\t}) // end $.each() loop\n",
      "\n",
      "\tif(json.nextpage != 'end') {\n",
      "\t  // if the nextpage is any other value other than end, we add the next page link\n",
      "\t  $(container).html('&lt;a href=\"'+json.nextpage+'\" id=\"morefllwrs\" class=\"bigblue thinblue\"&gt;Load more followers&lt;/a&gt;');\n",
      "\t} else {\n",
      "\t  $(container).html('&lt;p&gt;&lt;/p&gt;');\n",
      "\t}\n",
      "\n",
      "\t$('#followers').append(newhtml);\n",
      "  },\n",
      "  error: function(xhr, desc, err) {\n",
      "\tconsole.log(xhr + \"\\n\" + err);\n",
      "  }\n",
      "}); // end ajax call</pre>\n",
      "\n",
      "\n",
      "===== REGION 23 =====\n",
      "{Text: a URL: http://127.0.0.1:8000/pages/jquery/javascript%20jquery%20ruby-on-rails%20tutorial/5/code.tutsplus.com/tutorials/using-unobtrusive-javascript-and-ajax-with-rails-3--net-15243.html, Element: HTML > BODY:nth-of-type(1) > DIV:nth-of-type(2) > MAIN:nth-of-type(1) > ARTICLE:nth-of-type(1) > DIV:nth-of-type(2) > DIV:nth-of-type(2) > DIV:nth-of-type(1) > DIV:nth-of-type(1) > DIV:nth-of-type(2) > DIV:nth-of-type(1) > TABLE:nth-of-type(1) > TBODY:nth-of-type(1) > TR:nth-of-type(1) > TD:nth-of-type(2) > DIV:nth-of-type(1) > DIV:nth-of-type(3) > CODE:nth-of-type(1), Offsets: (3, 3)}\n",
      "* Text:  a\n",
      "* HTML:  <code class=\"html plain\">$('a').bind('click', function() {</code>\n"
     ]
    }
   ],
   "source": [
    "inspector.open_false_detections(false_regions)"
   ]
  },
  {
   "cell_type": "code",
   "execution_count": null,
   "metadata": {
    "collapsed": true
   },
   "outputs": [],
   "source": []
  }
 ],
 "metadata": {
  "kernelspec": {
   "display_name": "Python 2",
   "language": "python",
   "name": "python2"
  },
  "language_info": {
   "codemirror_mode": {
    "name": "ipython",
    "version": 2
   },
   "file_extension": ".py",
   "mimetype": "text/x-python",
   "name": "python",
   "nbconvert_exporter": "python",
   "pygments_lexer": "ipython2",
   "version": "2.7.9"
  }
 },
 "nbformat": 4,
 "nbformat_minor": 0
}
