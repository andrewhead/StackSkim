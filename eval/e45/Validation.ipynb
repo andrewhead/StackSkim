{
 "cells": [
  {
   "cell_type": "code",
   "execution_count": 1,
   "metadata": {
    "collapsed": true
   },
   "outputs": [],
   "source": [
    "import sys\n",
    "import os.path\n",
    "sys.path.append(os.path.join(os.pardir, os.pardir, 'common'))"
   ]
  },
  {
   "cell_type": "code",
   "execution_count": 2,
   "metadata": {
    "collapsed": false
   },
   "outputs": [],
   "source": [
    "import urllib\n",
    "\n",
    "from evaluate import load_detected_regions, load_groundtruth_regions, save_results, print_stats, RegionInspector\n",
    "from open import build_local_url\n",
    "from order import get_test_lists"
   ]
  },
  {
   "cell_type": "markdown",
   "metadata": {},
   "source": [
    "# Data Loading and Preparation"
   ]
  },
  {
   "cell_type": "code",
   "execution_count": 3,
   "metadata": {
    "collapsed": true
   },
   "outputs": [],
   "source": [
    "DETECTED_FILE = os.path.join('regions', 'detected', 'jquery.tsv')\n",
    "TRUTH_FILE = os.path.join('regions', 'extracted', 'jquery_validation_50.txt')"
   ]
  },
  {
   "cell_type": "markdown",
   "metadata": {},
   "source": [
    "For now, we limit ourselves to considering only the first 50 cross-validation results.  Eventually we should be able to boost this number up to around 100."
   ]
  },
  {
   "cell_type": "code",
   "execution_count": 4,
   "metadata": {
    "collapsed": true
   },
   "outputs": [],
   "source": [
    "VALIDATION_SIZE = 50"
   ]
  },
  {
   "cell_type": "code",
   "execution_count": 5,
   "metadata": {
    "collapsed": false
   },
   "outputs": [],
   "source": [
    "wget_pages = get_test_lists('jquery')['validation'][:VALIDATION_SIZE]\n",
    "validation_urls = [urllib.quote(build_local_url(p), safe='/:') for p in wget_pages]"
   ]
  },
  {
   "cell_type": "markdown",
   "metadata": {},
   "source": [
    "Load in the detections from the stored TSV files"
   ]
  },
  {
   "cell_type": "code",
   "execution_count": 6,
   "metadata": {
    "collapsed": false
   },
   "outputs": [],
   "source": [
    "detected_regions = load_detected_regions(DETECTED_FILE, validation_urls)"
   ]
  },
  {
   "cell_type": "code",
   "execution_count": 7,
   "metadata": {
    "collapsed": false
   },
   "outputs": [],
   "source": [
    "truth_regions = load_groundtruth_regions(TRUTH_FILE, delimiter=',,,', valid_urls=validation_urls)"
   ]
  },
  {
   "cell_type": "markdown",
   "metadata": {},
   "source": [
    "## Verify that the regions have been properly loaded"
   ]
  },
  {
   "cell_type": "code",
   "execution_count": 8,
   "metadata": {
    "collapsed": false
   },
   "outputs": [],
   "source": [
    "detected_urls = set([r.url for r in detected_regions])\n",
    "truth_urls = set(key[0] for key in truth_regions.keys())"
   ]
  },
  {
   "cell_type": "code",
   "execution_count": 9,
   "metadata": {
    "collapsed": false
   },
   "outputs": [
    {
     "name": "stdout",
     "output_type": "stream",
     "text": [
      "23 45\n"
     ]
    }
   ],
   "source": [
    "print len(detected_urls), len(truth_urls)"
   ]
  },
  {
   "cell_type": "code",
   "execution_count": 10,
   "metadata": {
    "collapsed": false
   },
   "outputs": [
    {
     "name": "stdout",
     "output_type": "stream",
     "text": [
      "<evaluate.Region object at 0x10dc61f10>\n"
     ]
    }
   ],
   "source": [
    "print detected_regions[0]"
   ]
  },
  {
   "cell_type": "code",
   "execution_count": 11,
   "metadata": {
    "collapsed": false
   },
   "outputs": [
    {
     "name": "stdout",
     "output_type": "stream",
     "text": [
      "<evaluate.Region object at 0x10ded6d10>\n"
     ]
    }
   ],
   "source": [
    "print truth_regions.values()[0][0]"
   ]
  },
  {
   "cell_type": "markdown",
   "metadata": {},
   "source": [
    "# Compute Accuracy!"
   ]
  },
  {
   "cell_type": "code",
   "execution_count": 16,
   "metadata": {
    "collapsed": false
   },
   "outputs": [
    {
     "name": "stdout",
     "output_type": "stream",
     "text": [
      "Precision: 0.8025 (191/238), Recall 0.4526 (191/422)\n",
      "Per-page Precision: 0.7693, Recall 0.3969\n"
     ]
    }
   ],
   "source": [
    "true_regions, false_regions, missing_regions = print_stats(detected_regions, truth_regions)"
   ]
  },
  {
   "cell_type": "markdown",
   "metadata": {
    "collapsed": true
   },
   "source": [
    "## Save Results for posterity"
   ]
  },
  {
   "cell_type": "code",
   "execution_count": 14,
   "metadata": {
    "collapsed": true
   },
   "outputs": [],
   "source": [
    "history_dir = os.path.join('regions', 'detected', 'history')"
   ]
  },
  {
   "cell_type": "code",
   "execution_count": 15,
   "metadata": {
    "collapsed": false
   },
   "outputs": [],
   "source": [
    "save_results(history_dir, false_regions, missing_regions)"
   ]
  },
  {
   "cell_type": "markdown",
   "metadata": {},
   "source": [
    "## Examine Detection Faults"
   ]
  },
  {
   "cell_type": "code",
   "execution_count": 13,
   "metadata": {
    "collapsed": false
   },
   "outputs": [],
   "source": [
    "inspector = RegionInspector()"
   ]
  },
  {
   "cell_type": "code",
   "execution_count": 14,
   "metadata": {
    "collapsed": false
   },
   "outputs": [
    {
     "name": "stdout",
     "output_type": "stream",
     "text": [
      "\n",
      "?? Open next example of missed detection? \n"
     ]
    }
   ],
   "source": [
    "inspector.open_missing_detections(missing_regions)"
   ]
  },
  {
   "cell_type": "code",
   "execution_count": 15,
   "metadata": {
    "collapsed": false
   },
   "outputs": [
    {
     "name": "stdout",
     "output_type": "stream",
     "text": [
      "\n",
      "?? Open next example of missed detection? \n",
      " \n",
      "===== REGION 0 =====\n",
      "{Text: iframe URL: http://127.0.0.1:8000/pages/jquery/iframe%20javascript%20jquery%20tutorial/6/www.startutorial.com/articles/view/jquery-file-posting-using-iframe.html, Element: HTML > BODY:nth-of-type(1) > DIV:nth-of-type(2) > DIV:nth-of-type(1) > DIV:nth-of-type(1) > DIV:nth-of-type(2) > PRE:nth-of-type(2), Offsets: (258, 263)}\n",
      "* Text:  iframe\n",
      "* HTML:  <pre class=\"prettyprint\">&lt;header&gt;\n",
      "\n",
      "***other codes ****\n",
      "\n",
      "\n",
      "&lt;!-- document javascripts --&gt;\t \n",
      "&lt;script type=\"text/javascript\"&gt;\n",
      "$(document).ready(function () {\n",
      "  $('#submitButton').click(function(){\n",
      "     if($('iframe[name=iframeTarget]').length&lt;1){\n",
      "\t\t    var iframe=document.createElement('iframe');\n",
      "\t\t\t$(iframe).css('display','none');\n",
      "\t\t\t$(iframe).attr('src','#');\n",
      "\t\t\t\t\n",
      "\t\t\t$(iframe).attr('name','iframeTarget');\n",
      "\t\t\t$('body').append(iframe);\n",
      "\t\t\t\t\n",
      "\t\t\t$(this).attr('target','iframeTarget');\n",
      "\t\t\t}          \n",
      "     });\n",
      "    });\n",
      "&lt;/script&gt;\n",
      "\n",
      "\n",
      "\n",
      "***other codes ****\n",
      "\n",
      "&lt;/header&gt;\n",
      "</pre>\n",
      "\n",
      "\n",
      "===== REGION 1 =====\n",
      "{Text: title URL: http://127.0.0.1:8000/pages/jquery/jquery%20mysql%20php%20tutorial/6/tutorialzine.com/2011/08/jquery-mobile-product-website/, Element: HTML > BODY:nth-of-type(1) > SECTION:nth-of-type(1) > ARTICLE:nth-of-type(1) > DIV:nth-of-type(1) > PRE:nth-of-type(4) > CODE:nth-of-type(1), Offsets: (193, 197)}\n",
      "* Text:  title\n",
      "* HTML:  <code class=\"php hljs\"><span class=\"hljs-comment\">/* This controller renders the home page */</span>\n",
      "\n",
      "<span class=\"hljs-class\"><span class=\"hljs-keyword\">class</span> <span class=\"hljs-title\">HomeController</span></span>{\n",
      "\t<span class=\"hljs-keyword\">public</span> <span class=\"hljs-function\"><span class=\"hljs-keyword\">function</span> <span class=\"hljs-title\">handleRequest</span><span class=\"hljs-params\">()</span></span>{\n",
      "\n",
      "\t\t<span class=\"hljs-comment\">// Select all the categories:</span>\n",
      "\t\t<span class=\"hljs-variable\">$content</span> = Category::find();\n",
      "\n",
      "\t\trender(<span class=\"hljs-string\">'home'</span>,<span class=\"hljs-keyword\">array</span>(\n",
      "\t\t\t<span class=\"hljs-string\">'title'</span>\t\t=&gt; <span class=\"hljs-string\">'Welcome to our computer store'</span>,\n",
      "\t\t\t<span class=\"hljs-string\">'content'</span>\t=&gt; <span class=\"hljs-variable\">$content</span>\n",
      "\t\t));\n",
      "\t}\n",
      "}</code>\n",
      "\n",
      "\n",
      "===== REGION 2 =====\n",
      "{Text: title URL: http://127.0.0.1:8000/pages/jquery/jquery%20mysql%20php%20tutorial/6/tutorialzine.com/2011/08/jquery-mobile-product-website/, Element: HTML > BODY:nth-of-type(1) > SECTION:nth-of-type(1) > ARTICLE:nth-of-type(1) > DIV:nth-of-type(1) > PRE:nth-of-type(5) > CODE:nth-of-type(1), Offsets: (518, 522)}\n",
      "* Text:  title\n",
      "* HTML:  too long to render\n",
      "\n",
      "\n",
      "===== REGION 3 =====\n",
      "{Text: #tabs-1 URL: http://127.0.0.1:8000/pages/jquery/css%20jquery%20jquery-ui%20tutorial/8/code.tutsplus.com/tutorials/a-massive-guide-to-custom-theming-jquery-ui-widgets--net-22714.html, Element: HTML > BODY:nth-of-type(1) > DIV:nth-of-type(2) > MAIN:nth-of-type(1) > ARTICLE:nth-of-type(1) > DIV:nth-of-type(1) > DIV:nth-of-type(2) > DIV:nth-of-type(1) > DIV:nth-of-type(1) > DIV:nth-of-type(6) > DIV:nth-of-type(1) > TABLE:nth-of-type(1) > TBODY:nth-of-type(1) > TR:nth-of-type(1) > TD:nth-of-type(2) > DIV:nth-of-type(1) > DIV:nth-of-type(9) > CODE:nth-of-type(8), Offsets: (1, 7)}\n",
      "* Text:  #tabs-1\n",
      "* HTML:  <code class=\"html string\">\"#tabs-1\"</code>\n",
      "\n",
      "\n",
      "===== REGION 4 =====\n",
      "{Text: #tabs-2 URL: http://127.0.0.1:8000/pages/jquery/css%20jquery%20jquery-ui%20tutorial/8/code.tutsplus.com/tutorials/a-massive-guide-to-custom-theming-jquery-ui-widgets--net-22714.html, Element: HTML > BODY:nth-of-type(1) > DIV:nth-of-type(2) > MAIN:nth-of-type(1) > ARTICLE:nth-of-type(1) > DIV:nth-of-type(1) > DIV:nth-of-type(2) > DIV:nth-of-type(1) > DIV:nth-of-type(1) > DIV:nth-of-type(6) > DIV:nth-of-type(1) > TABLE:nth-of-type(1) > TBODY:nth-of-type(1) > TR:nth-of-type(1) > TD:nth-of-type(2) > DIV:nth-of-type(1) > DIV:nth-of-type(10) > CODE:nth-of-type(8), Offsets: (1, 7)}\n"
     ]
    },
    {
     "ename": "WebDriverException",
     "evalue": "Message: Argument 1 of Range.selectNode is not an object.\nStacktrace:\n    at anonymous (http://127.0.0.1:8000/pages/jquery/css%20jquery%20jquery-ui%20tutorial/8/code.tutsplus.com/tutorials/a-massive-guide-to-custom-theming-jquery-ui-widgets--net-22714.html line 69 > Function:3)\n    at handleEvaluateEvent (http://127.0.0.1:8000/pages/jquery/css%20jquery%20jquery-ui%20tutorial/8/code.tutsplus.com/tutorials/a-massive-guide-to-custom-theming-jquery-ui-widgets--net-22714.html:69)\n    at nrWrapper (http://127.0.0.1:8000/pages/jquery/css%20jquery%20jquery-ui%20tutorial/8/code.tutsplus.com/tutorials/a-massive-guide-to-custom-theming-jquery-ui-widgets--net-22714.html:3)",
     "output_type": "error",
     "traceback": [
      "\u001b[0;31m---------------------------------------------------------------------------\u001b[0m",
      "\u001b[0;31mWebDriverException\u001b[0m                        Traceback (most recent call last)",
      "\u001b[0;32m<ipython-input-15-f72fa12c9d9f>\u001b[0m in \u001b[0;36m<module>\u001b[0;34m()\u001b[0m\n\u001b[0;32m----> 1\u001b[0;31m \u001b[0minspector\u001b[0m\u001b[0;34m.\u001b[0m\u001b[0mopen_false_detections\u001b[0m\u001b[0;34m(\u001b[0m\u001b[0mfalse_regions\u001b[0m\u001b[0;34m)\u001b[0m\u001b[0;34m\u001b[0m\u001b[0m\n\u001b[0m",
      "\u001b[0;32m/Users/andrew/Adventures/design/code/research/common/evaluate.py\u001b[0m in \u001b[0;36mopen_false_detections\u001b[0;34m(self, false_regions, start_index, debug)\u001b[0m\n\u001b[1;32m    122\u001b[0m     \u001b[0;32mdef\u001b[0m \u001b[0mopen_false_detections\u001b[0m\u001b[0;34m(\u001b[0m\u001b[0mself\u001b[0m\u001b[0;34m,\u001b[0m \u001b[0mfalse_regions\u001b[0m\u001b[0;34m,\u001b[0m \u001b[0mstart_index\u001b[0m\u001b[0;34m=\u001b[0m\u001b[0;36m0\u001b[0m\u001b[0;34m,\u001b[0m \u001b[0mdebug\u001b[0m\u001b[0;34m=\u001b[0m\u001b[0mTrue\u001b[0m\u001b[0;34m)\u001b[0m\u001b[0;34m:\u001b[0m\u001b[0;34m\u001b[0m\u001b[0m\n\u001b[1;32m    123\u001b[0m         \u001b[0mbrowser\u001b[0m \u001b[0;34m=\u001b[0m \u001b[0mBrowser\u001b[0m\u001b[0;34m(\u001b[0m\u001b[0;34m)\u001b[0m\u001b[0;34m\u001b[0m\u001b[0m\n\u001b[0;32m--> 124\u001b[0;31m         \u001b[0mself\u001b[0m\u001b[0;34m.\u001b[0m\u001b[0mdisplay_regions\u001b[0m\u001b[0;34m(\u001b[0m\u001b[0mbrowser\u001b[0m\u001b[0;34m,\u001b[0m \u001b[0mfalse_regions\u001b[0m\u001b[0;34m[\u001b[0m\u001b[0mstart_index\u001b[0m\u001b[0;34m:\u001b[0m\u001b[0;34m]\u001b[0m\u001b[0;34m,\u001b[0m \u001b[0mdebug\u001b[0m\u001b[0;34m,\u001b[0m \u001b[0mstart_index\u001b[0m\u001b[0;34m)\u001b[0m\u001b[0;34m\u001b[0m\u001b[0m\n\u001b[0m\u001b[1;32m    125\u001b[0m \u001b[0;34m\u001b[0m\u001b[0m\n\u001b[1;32m    126\u001b[0m     \u001b[0;32mdef\u001b[0m \u001b[0mdisplay_regions\u001b[0m\u001b[0;34m(\u001b[0m\u001b[0mself\u001b[0m\u001b[0;34m,\u001b[0m \u001b[0mbrowser\u001b[0m\u001b[0;34m,\u001b[0m \u001b[0mregions\u001b[0m\u001b[0;34m,\u001b[0m \u001b[0mdebug\u001b[0m\u001b[0;34m,\u001b[0m \u001b[0mstart_index\u001b[0m\u001b[0;34m)\u001b[0m\u001b[0;34m:\u001b[0m\u001b[0;34m\u001b[0m\u001b[0m\n",
      "\u001b[0;32m/Users/andrew/Adventures/design/code/research/common/evaluate.py\u001b[0m in \u001b[0;36mdisplay_regions\u001b[0;34m(self, browser, regions, debug, start_index)\u001b[0m\n\u001b[1;32m    132\u001b[0m                 \u001b[0;32mif\u001b[0m \u001b[0magain\u001b[0m\u001b[0;34m.\u001b[0m\u001b[0mlower\u001b[0m\u001b[0;34m(\u001b[0m\u001b[0;34m)\u001b[0m \u001b[0;34m==\u001b[0m \u001b[0;34m'n'\u001b[0m\u001b[0;34m:\u001b[0m\u001b[0;34m\u001b[0m\u001b[0m\n\u001b[1;32m    133\u001b[0m                     \u001b[0;32mbreak\u001b[0m\u001b[0;34m\u001b[0m\u001b[0m\n\u001b[0;32m--> 134\u001b[0;31m                 \u001b[0mself\u001b[0m\u001b[0;34m.\u001b[0m\u001b[0mdisplay_region\u001b[0m\u001b[0;34m(\u001b[0m\u001b[0mbrowser\u001b[0m\u001b[0;34m,\u001b[0m \u001b[0mr\u001b[0m\u001b[0;34m,\u001b[0m \u001b[0mi\u001b[0m\u001b[0;34m,\u001b[0m \u001b[0mdebug\u001b[0m\u001b[0;34m)\u001b[0m\u001b[0;34m\u001b[0m\u001b[0m\n\u001b[0m\u001b[1;32m    135\u001b[0m             \u001b[0;32mexcept\u001b[0m \u001b[0mKeyboardInterrupt\u001b[0m\u001b[0;34m:\u001b[0m\u001b[0;34m\u001b[0m\u001b[0m\n\u001b[1;32m    136\u001b[0m                 \u001b[0mbrowser\u001b[0m\u001b[0;34m.\u001b[0m\u001b[0mclose\u001b[0m\u001b[0;34m(\u001b[0m\u001b[0;34m)\u001b[0m\u001b[0;34m\u001b[0m\u001b[0m\n",
      "\u001b[0;32m/Users/andrew/Adventures/design/code/research/common/evaluate.py\u001b[0m in \u001b[0;36mdisplay_region\u001b[0;34m(self, browser, region, index, debug)\u001b[0m\n\u001b[1;32m    141\u001b[0m         \u001b[0;32mprint\u001b[0m \u001b[0;34m\"===== REGION %d =====\"\u001b[0m \u001b[0;34m%\u001b[0m \u001b[0mindex\u001b[0m\u001b[0;34m\u001b[0m\u001b[0m\n\u001b[1;32m    142\u001b[0m         \u001b[0;32mprint\u001b[0m \u001b[0municode\u001b[0m\u001b[0;34m(\u001b[0m\u001b[0mregion\u001b[0m\u001b[0;34m)\u001b[0m\u001b[0;34m\u001b[0m\u001b[0m\n\u001b[0;32m--> 143\u001b[0;31m         \u001b[0mbrowser\u001b[0m\u001b[0;34m.\u001b[0m\u001b[0mshow_region\u001b[0m\u001b[0;34m(\u001b[0m\u001b[0mregion\u001b[0m\u001b[0;34m)\u001b[0m\u001b[0;34m\u001b[0m\u001b[0m\n\u001b[0m\u001b[1;32m    144\u001b[0m         \u001b[0;32mif\u001b[0m \u001b[0mdebug\u001b[0m\u001b[0;34m:\u001b[0m\u001b[0;34m\u001b[0m\u001b[0m\n\u001b[1;32m    145\u001b[0m             \u001b[0;32mprint\u001b[0m \u001b[0;34m\"* Text: \"\u001b[0m\u001b[0;34m,\u001b[0m \u001b[0mbrowser\u001b[0m\u001b[0;34m.\u001b[0m\u001b[0mget_text\u001b[0m\u001b[0;34m(\u001b[0m\u001b[0mregion\u001b[0m\u001b[0;34m)\u001b[0m\u001b[0;34m\u001b[0m\u001b[0m\n",
      "\u001b[0;32m/Users/andrew/Adventures/design/code/research/common/evaluate.py\u001b[0m in \u001b[0;36mshow_region\u001b[0;34m(self, region)\u001b[0m\n\u001b[1;32m    273\u001b[0m         \u001b[0mself\u001b[0m\u001b[0;34m.\u001b[0m\u001b[0mbrowser\u001b[0m\u001b[0;34m.\u001b[0m\u001b[0mget\u001b[0m\u001b[0;34m(\u001b[0m\u001b[0mregion\u001b[0m\u001b[0;34m.\u001b[0m\u001b[0murl\u001b[0m\u001b[0;34m)\u001b[0m\u001b[0;34m\u001b[0m\u001b[0m\n\u001b[1;32m    274\u001b[0m         \u001b[0;32mif\u001b[0m \u001b[0mregion\u001b[0m\u001b[0;34m.\u001b[0m\u001b[0melement\u001b[0m \u001b[0;34m!=\u001b[0m \u001b[0;34m''\u001b[0m\u001b[0;34m:\u001b[0m\u001b[0;34m\u001b[0m\u001b[0m\n\u001b[0;32m--> 275\u001b[0;31m             \u001b[0mself\u001b[0m\u001b[0;34m.\u001b[0m\u001b[0mbrowser\u001b[0m\u001b[0;34m.\u001b[0m\u001b[0mexecute_script\u001b[0m\u001b[0;34m(\u001b[0m\u001b[0mSHOW_REGION_SCRIPT\u001b[0m\u001b[0;34m.\u001b[0m\u001b[0mformat\u001b[0m\u001b[0;34m(\u001b[0m\u001b[0melement\u001b[0m\u001b[0;34m=\u001b[0m\u001b[0mregion\u001b[0m\u001b[0;34m.\u001b[0m\u001b[0melement\u001b[0m\u001b[0;34m)\u001b[0m\u001b[0;34m)\u001b[0m\u001b[0;34m\u001b[0m\u001b[0m\n\u001b[0m\u001b[1;32m    276\u001b[0m \u001b[0;34m\u001b[0m\u001b[0m\n\u001b[1;32m    277\u001b[0m     \u001b[0;32mdef\u001b[0m \u001b[0mget_text\u001b[0m\u001b[0;34m(\u001b[0m\u001b[0mself\u001b[0m\u001b[0;34m,\u001b[0m \u001b[0mregion\u001b[0m\u001b[0;34m)\u001b[0m\u001b[0;34m:\u001b[0m\u001b[0;34m\u001b[0m\u001b[0m\n",
      "\u001b[0;32m/Users/andrew/Adventures/design/code/research/venv/lib/python2.7/site-packages/selenium/webdriver/remote/webdriver.pyc\u001b[0m in \u001b[0;36mexecute_script\u001b[0;34m(self, script, *args)\u001b[0m\n\u001b[1;32m    419\u001b[0m         \u001b[0mconverted_args\u001b[0m \u001b[0;34m=\u001b[0m \u001b[0mlist\u001b[0m\u001b[0;34m(\u001b[0m\u001b[0margs\u001b[0m\u001b[0;34m)\u001b[0m\u001b[0;34m\u001b[0m\u001b[0m\n\u001b[1;32m    420\u001b[0m         return self.execute(Command.EXECUTE_SCRIPT,\n\u001b[0;32m--> 421\u001b[0;31m             {'script': script, 'args':converted_args})['value']\n\u001b[0m\u001b[1;32m    422\u001b[0m \u001b[0;34m\u001b[0m\u001b[0m\n\u001b[1;32m    423\u001b[0m     \u001b[0;32mdef\u001b[0m \u001b[0mexecute_async_script\u001b[0m\u001b[0;34m(\u001b[0m\u001b[0mself\u001b[0m\u001b[0;34m,\u001b[0m \u001b[0mscript\u001b[0m\u001b[0;34m,\u001b[0m \u001b[0;34m*\u001b[0m\u001b[0margs\u001b[0m\u001b[0;34m)\u001b[0m\u001b[0;34m:\u001b[0m\u001b[0;34m\u001b[0m\u001b[0m\n",
      "\u001b[0;32m/Users/andrew/Adventures/design/code/research/venv/lib/python2.7/site-packages/selenium/webdriver/remote/webdriver.pyc\u001b[0m in \u001b[0;36mexecute\u001b[0;34m(self, driver_command, params)\u001b[0m\n\u001b[1;32m    191\u001b[0m         \u001b[0mresponse\u001b[0m \u001b[0;34m=\u001b[0m \u001b[0mself\u001b[0m\u001b[0;34m.\u001b[0m\u001b[0mcommand_executor\u001b[0m\u001b[0;34m.\u001b[0m\u001b[0mexecute\u001b[0m\u001b[0;34m(\u001b[0m\u001b[0mdriver_command\u001b[0m\u001b[0;34m,\u001b[0m \u001b[0mparams\u001b[0m\u001b[0;34m)\u001b[0m\u001b[0;34m\u001b[0m\u001b[0m\n\u001b[1;32m    192\u001b[0m         \u001b[0;32mif\u001b[0m \u001b[0mresponse\u001b[0m\u001b[0;34m:\u001b[0m\u001b[0;34m\u001b[0m\u001b[0m\n\u001b[0;32m--> 193\u001b[0;31m             \u001b[0mself\u001b[0m\u001b[0;34m.\u001b[0m\u001b[0merror_handler\u001b[0m\u001b[0;34m.\u001b[0m\u001b[0mcheck_response\u001b[0m\u001b[0;34m(\u001b[0m\u001b[0mresponse\u001b[0m\u001b[0;34m)\u001b[0m\u001b[0;34m\u001b[0m\u001b[0m\n\u001b[0m\u001b[1;32m    194\u001b[0m             response['value'] = self._unwrap_value(\n\u001b[1;32m    195\u001b[0m                 response.get('value', None))\n",
      "\u001b[0;32m/Users/andrew/Adventures/design/code/research/venv/lib/python2.7/site-packages/selenium/webdriver/remote/errorhandler.pyc\u001b[0m in \u001b[0;36mcheck_response\u001b[0;34m(self, response)\u001b[0m\n\u001b[1;32m    179\u001b[0m         \u001b[0;32melif\u001b[0m \u001b[0mexception_class\u001b[0m \u001b[0;34m==\u001b[0m \u001b[0mUnexpectedAlertPresentException\u001b[0m \u001b[0;32mand\u001b[0m \u001b[0;34m'alert'\u001b[0m \u001b[0;32min\u001b[0m \u001b[0mvalue\u001b[0m\u001b[0;34m:\u001b[0m\u001b[0;34m\u001b[0m\u001b[0m\n\u001b[1;32m    180\u001b[0m             \u001b[0;32mraise\u001b[0m \u001b[0mexception_class\u001b[0m\u001b[0;34m(\u001b[0m\u001b[0mmessage\u001b[0m\u001b[0;34m,\u001b[0m \u001b[0mscreen\u001b[0m\u001b[0;34m,\u001b[0m \u001b[0mstacktrace\u001b[0m\u001b[0;34m,\u001b[0m \u001b[0mvalue\u001b[0m\u001b[0;34m[\u001b[0m\u001b[0;34m'alert'\u001b[0m\u001b[0;34m]\u001b[0m\u001b[0;34m.\u001b[0m\u001b[0mget\u001b[0m\u001b[0;34m(\u001b[0m\u001b[0;34m'text'\u001b[0m\u001b[0;34m)\u001b[0m\u001b[0;34m)\u001b[0m\u001b[0;34m\u001b[0m\u001b[0m\n\u001b[0;32m--> 181\u001b[0;31m         \u001b[0;32mraise\u001b[0m \u001b[0mexception_class\u001b[0m\u001b[0;34m(\u001b[0m\u001b[0mmessage\u001b[0m\u001b[0;34m,\u001b[0m \u001b[0mscreen\u001b[0m\u001b[0;34m,\u001b[0m \u001b[0mstacktrace\u001b[0m\u001b[0;34m)\u001b[0m\u001b[0;34m\u001b[0m\u001b[0m\n\u001b[0m\u001b[1;32m    182\u001b[0m \u001b[0;34m\u001b[0m\u001b[0m\n\u001b[1;32m    183\u001b[0m     \u001b[0;32mdef\u001b[0m \u001b[0m_value_or_default\u001b[0m\u001b[0;34m(\u001b[0m\u001b[0mself\u001b[0m\u001b[0;34m,\u001b[0m \u001b[0mobj\u001b[0m\u001b[0;34m,\u001b[0m \u001b[0mkey\u001b[0m\u001b[0;34m,\u001b[0m \u001b[0mdefault\u001b[0m\u001b[0;34m)\u001b[0m\u001b[0;34m:\u001b[0m\u001b[0;34m\u001b[0m\u001b[0m\n",
      "\u001b[0;31mWebDriverException\u001b[0m: Message: Argument 1 of Range.selectNode is not an object.\nStacktrace:\n    at anonymous (http://127.0.0.1:8000/pages/jquery/css%20jquery%20jquery-ui%20tutorial/8/code.tutsplus.com/tutorials/a-massive-guide-to-custom-theming-jquery-ui-widgets--net-22714.html line 69 > Function:3)\n    at handleEvaluateEvent (http://127.0.0.1:8000/pages/jquery/css%20jquery%20jquery-ui%20tutorial/8/code.tutsplus.com/tutorials/a-massive-guide-to-custom-theming-jquery-ui-widgets--net-22714.html:69)\n    at nrWrapper (http://127.0.0.1:8000/pages/jquery/css%20jquery%20jquery-ui%20tutorial/8/code.tutsplus.com/tutorials/a-massive-guide-to-custom-theming-jquery-ui-widgets--net-22714.html:3)"
     ]
    }
   ],
   "source": [
    "inspector.open_false_detections(false_regions)"
   ]
  },
  {
   "cell_type": "code",
   "execution_count": 19,
   "metadata": {
    "collapsed": false
   },
   "outputs": [
    {
     "name": "stdout",
     "output_type": "stream",
     "text": [
      "\n",
      "?? Open next example of missed detection? \n",
      " \n",
      "===== REGION 4 =====\n",
      "{Text: #tabs-2 URL: http://127.0.0.1:8000/pages/jquery/css%20jquery%20jquery-ui%20tutorial/8/code.tutsplus.com/tutorials/a-massive-guide-to-custom-theming-jquery-ui-widgets--net-22714.html, Element: HTML > BODY:nth-of-type(1) > DIV:nth-of-type(2) > MAIN:nth-of-type(1) > ARTICLE:nth-of-type(1) > DIV:nth-of-type(1) > DIV:nth-of-type(2) > DIV:nth-of-type(1) > DIV:nth-of-type(1) > DIV:nth-of-type(6) > DIV:nth-of-type(1) > TABLE:nth-of-type(1) > TBODY:nth-of-type(1) > TR:nth-of-type(1) > TD:nth-of-type(2) > DIV:nth-of-type(1) > DIV:nth-of-type(10) > CODE:nth-of-type(8), Offsets: (1, 7)}\n",
      "* Text:  #tabs-2\n",
      "* HTML:  <code class=\"html string\">\"#tabs-2\"</code>\n",
      "\n",
      "\n",
      "===== REGION 5 =====\n",
      "{Text: #tabs-3 URL: http://127.0.0.1:8000/pages/jquery/css%20jquery%20jquery-ui%20tutorial/8/code.tutsplus.com/tutorials/a-massive-guide-to-custom-theming-jquery-ui-widgets--net-22714.html, Element: HTML > BODY:nth-of-type(1) > DIV:nth-of-type(2) > MAIN:nth-of-type(1) > ARTICLE:nth-of-type(1) > DIV:nth-of-type(1) > DIV:nth-of-type(2) > DIV:nth-of-type(1) > DIV:nth-of-type(1) > DIV:nth-of-type(6) > DIV:nth-of-type(1) > TABLE:nth-of-type(1) > TBODY:nth-of-type(1) > TR:nth-of-type(1) > TD:nth-of-type(2) > DIV:nth-of-type(1) > DIV:nth-of-type(11) > CODE:nth-of-type(8), Offsets: (1, 7)}\n",
      "* Text:  #tabs-3\n",
      "* HTML:  <code class=\"html string\">\"#tabs-3\"</code>\n",
      "\n",
      "\n",
      "===== REGION 6 =====\n",
      "{Text: #tabs-1 URL: http://127.0.0.1:8000/pages/jquery/css%20jquery%20jquery-ui%20tutorial/8/code.tutsplus.com/tutorials/a-massive-guide-to-custom-theming-jquery-ui-widgets--net-22714.html, Element: HTML > BODY:nth-of-type(1) > DIV:nth-of-type(2) > MAIN:nth-of-type(1) > ARTICLE:nth-of-type(1) > DIV:nth-of-type(1) > DIV:nth-of-type(2) > DIV:nth-of-type(1) > DIV:nth-of-type(1) > BLOCKQUOTE:nth-of-type(4) > P:nth-of-type(1) > CODE:nth-of-type(2), Offsets: (9, 15)}\n",
      "* Text:  #tabs-1\n",
      "* HTML:  <code>&lt;a href=\"#tabs-1\"&gt;</code>\n",
      "\n",
      "\n",
      "===== REGION 7 =====\n",
      "{Text: #section1 URL: http://127.0.0.1:8000/pages/jquery/css%20jquery%20jquery-ui%20tutorial/8/code.tutsplus.com/tutorials/a-massive-guide-to-custom-theming-jquery-ui-widgets--net-22714.html, Element: HTML > BODY:nth-of-type(1) > DIV:nth-of-type(2) > MAIN:nth-of-type(1) > ARTICLE:nth-of-type(1) > DIV:nth-of-type(1) > DIV:nth-of-type(2) > DIV:nth-of-type(1) > DIV:nth-of-type(1) > DIV:nth-of-type(10) > DIV:nth-of-type(1) > TABLE:nth-of-type(1) > TBODY:nth-of-type(1) > TR:nth-of-type(1) > TD:nth-of-type(2) > DIV:nth-of-type(1) > DIV:nth-of-type(10) > CODE:nth-of-type(8), Offsets: (1, 9)}\n",
      "* Text:  #section1\n",
      "* HTML:  <code class=\"html string\">\"#section1\"</code>\n",
      "\n",
      "\n",
      "===== REGION 8 =====\n",
      "{Text: #section2 URL: http://127.0.0.1:8000/pages/jquery/css%20jquery%20jquery-ui%20tutorial/8/code.tutsplus.com/tutorials/a-massive-guide-to-custom-theming-jquery-ui-widgets--net-22714.html, Element: HTML > BODY:nth-of-type(1) > DIV:nth-of-type(2) > MAIN:nth-of-type(1) > ARTICLE:nth-of-type(1) > DIV:nth-of-type(1) > DIV:nth-of-type(2) > DIV:nth-of-type(1) > DIV:nth-of-type(1) > DIV:nth-of-type(10) > DIV:nth-of-type(1) > TABLE:nth-of-type(1) > TBODY:nth-of-type(1) > TR:nth-of-type(1) > TD:nth-of-type(2) > DIV:nth-of-type(1) > DIV:nth-of-type(56) > CODE:nth-of-type(8), Offsets: (1, 9)}\n",
      "* Text:  #section2\n",
      "* HTML:  <code class=\"html string\">\"#section2\"</code>\n",
      "\n",
      "\n",
      "===== REGION 9 =====\n",
      "{Text: #section3 URL: http://127.0.0.1:8000/pages/jquery/css%20jquery%20jquery-ui%20tutorial/8/code.tutsplus.com/tutorials/a-massive-guide-to-custom-theming-jquery-ui-widgets--net-22714.html, Element: HTML > BODY:nth-of-type(1) > DIV:nth-of-type(2) > MAIN:nth-of-type(1) > ARTICLE:nth-of-type(1) > DIV:nth-of-type(1) > DIV:nth-of-type(2) > DIV:nth-of-type(1) > DIV:nth-of-type(1) > DIV:nth-of-type(10) > DIV:nth-of-type(1) > TABLE:nth-of-type(1) > TBODY:nth-of-type(1) > TR:nth-of-type(1) > TD:nth-of-type(2) > DIV:nth-of-type(1) > DIV:nth-of-type(106) > CODE:nth-of-type(8), Offsets: (1, 9)}\n",
      "* Text:  #section3\n",
      "* HTML:  <code class=\"html string\">\"#section3\"</code>\n",
      "\n",
      "\n",
      "===== REGION 10 =====\n",
      "{Text: #section4 URL: http://127.0.0.1:8000/pages/jquery/css%20jquery%20jquery-ui%20tutorial/8/code.tutsplus.com/tutorials/a-massive-guide-to-custom-theming-jquery-ui-widgets--net-22714.html, Element: HTML > BODY:nth-of-type(1) > DIV:nth-of-type(2) > MAIN:nth-of-type(1) > ARTICLE:nth-of-type(1) > DIV:nth-of-type(1) > DIV:nth-of-type(2) > DIV:nth-of-type(1) > DIV:nth-of-type(1) > DIV:nth-of-type(10) > DIV:nth-of-type(1) > TABLE:nth-of-type(1) > TBODY:nth-of-type(1) > TR:nth-of-type(1) > TD:nth-of-type(2) > DIV:nth-of-type(1) > DIV:nth-of-type(167) > CODE:nth-of-type(8), Offsets: (1, 9)}\n",
      "* Text:  #section4\n",
      "* HTML:  <code class=\"html string\">\"#section4\"</code>\n",
      "\n",
      "\n",
      "===== REGION 11 =====\n",
      "{Text: dialog URL: http://127.0.0.1:8000/pages/jquery/css%20jquery%20jquery-ui%20tutorial/8/code.tutsplus.com/tutorials/a-massive-guide-to-custom-theming-jquery-ui-widgets--net-22714.html, Element: HTML > BODY:nth-of-type(1) > DIV:nth-of-type(2) > MAIN:nth-of-type(1) > ARTICLE:nth-of-type(1) > DIV:nth-of-type(1) > DIV:nth-of-type(2) > DIV:nth-of-type(1) > DIV:nth-of-type(1) > DIV:nth-of-type(36) > DIV:nth-of-type(1) > TABLE:nth-of-type(1) > TBODY:nth-of-type(1) > TR:nth-of-type(1) > TD:nth-of-type(2) > DIV:nth-of-type(1) > DIV:nth-of-type(6) > CODE:nth-of-type(5), Offsets: (1, 6)}\n",
      "* Text:  dialog\n",
      "* HTML:  <code class=\"html string\">\"dialog\"</code>\n",
      "\n",
      "\n",
      "===== REGION 12 =====\n",
      "{Text: dialog URL: http://127.0.0.1:8000/pages/jquery/css%20jquery%20jquery-ui%20tutorial/8/code.tutsplus.com/tutorials/a-massive-guide-to-custom-theming-jquery-ui-widgets--net-22714.html, Element: HTML > BODY:nth-of-type(1) > DIV:nth-of-type(2) > MAIN:nth-of-type(1) > ARTICLE:nth-of-type(1) > DIV:nth-of-type(1) > DIV:nth-of-type(2) > DIV:nth-of-type(1) > DIV:nth-of-type(1) > DIV:nth-of-type(37) > DIV:nth-of-type(1) > TABLE:nth-of-type(1) > TBODY:nth-of-type(1) > TR:nth-of-type(1) > TD:nth-of-type(2) > DIV:nth-of-type(1) > DIV:nth-of-type(1) > CODE:nth-of-type(5), Offsets: (1, 6)}\n",
      "* Text:  dialog\n",
      "* HTML:  <code class=\"html string\">\"dialog\"</code>\n",
      "\n",
      "\n",
      "===== REGION 13 =====\n",
      "{Text: script URL: http://127.0.0.1:8000/pages/jquery/jquery%20php%20wordpress%20tutorial/4/stackoverflow.com/questions/11159860/how-do-i-add-a-simple-jquery-script-to-wordpress.html, Element: HTML > BODY:nth-of-type(1) > DIV:nth-of-type(5) > DIV:nth-of-type(2) > DIV:nth-of-type(1) > DIV:nth-of-type(3) > DIV:nth-of-type(2) > DIV:nth-of-type(7) > TABLE:nth-of-type(1) > TBODY:nth-of-type(1) > TR:nth-of-type(1) > TD:nth-of-type(2) > DIV:nth-of-type(1) > PRE:nth-of-type(1) > CODE:nth-of-type(1), Offsets: (20, 25)}\n",
      "* Text:  script\n",
      "* HTML:  <code>wp_enqueue_script( 'script', plugins_url('js/demo_script.js', __FILE__), array('jquery'));\n",
      "</code>\n",
      "\n",
      "\n",
      "===== REGION 14 =====\n",
      "{Text: style URL: http://127.0.0.1:8000/pages/jquery/javascript%20jquery%20twitter-bootstrap%20tutorial/3/getbootstrap.com/getting-started/, Element: HTML > BODY:nth-of-type(1) > DIV:nth-of-type(2) > DIV:nth-of-type(1) > DIV:nth-of-type(1) > DIV:nth-of-type(10) > DIV:nth-of-type(10) > PRE:nth-of-type(1) > CODE:nth-of-type(1), Offsets: (215, 219)}\n",
      "* Text:  style\n",
      "* HTML:  too long to render\n",
      "\n",
      "\n",
      "===== REGION 15 =====\n",
      "{Text: head URL: http://127.0.0.1:8000/pages/jquery/javascript%20jquery%20twitter-bootstrap%20tutorial/3/getbootstrap.com/getting-started/, Element: HTML > BODY:nth-of-type(1) > DIV:nth-of-type(2) > DIV:nth-of-type(1) > DIV:nth-of-type(1) > DIV:nth-of-type(10) > DIV:nth-of-type(10) > PRE:nth-of-type(1) > CODE:nth-of-type(1), Offsets: (363, 366)}\n",
      "* Text:  head\n",
      "* HTML:  too long to render\n",
      "\n",
      "\n",
      "===== REGION 16 =====\n",
      "{Text: #content URL: http://127.0.0.1:8000/pages/jquery/javascript%20jquery%20twitter-bootstrap%20tutorial/3/getbootstrap.com/getting-started/, Element: HTML > BODY:nth-of-type(1) > DIV:nth-of-type(2) > DIV:nth-of-type(1) > DIV:nth-of-type(1) > DIV:nth-of-type(12) > DIV:nth-of-type(3) > PRE:nth-of-type(1) > CODE:nth-of-type(1), Offsets: (18, 25)}\n",
      "* Text:  #content\n",
      "* HTML:  <code class=\"language-html\" data-lang=\"html\"><span class=\"nt\">&lt;body&gt;</span>\n",
      "  <span class=\"nt\">&lt;a</span> <span class=\"na\">href=</span><span class=\"s\">\"#content\"</span> <span class=\"na\">class=</span><span class=\"s\">\"sr-only sr-only-focusable\"</span><span class=\"nt\">&gt;</span>Skip to main content<span class=\"nt\">&lt;/a&gt;</span>\n",
      "  ...\n",
      "  <span class=\"nt\">&lt;div</span> <span class=\"na\">class=</span><span class=\"s\">\"container\"</span> <span class=\"na\">id=</span><span class=\"s\">\"content\"</span> <span class=\"na\">tabindex=</span><span class=\"s\">\"-1\"</span><span class=\"nt\">&gt;</span>\n",
      "    <span class=\"c\">&lt;!-- The main page content --&gt;</span>\n",
      "  <span class=\"nt\">&lt;/div&gt;</span>\n",
      "<span class=\"nt\">&lt;/body&gt;</span></code>\n",
      "\n",
      "\n",
      "===== REGION 17 =====\n",
      "{Text: #pg1 URL: http://127.0.0.1:8000/pages/jquery/jquery%20json%20php%20tutorial/5/blog.teamtreehouse.com/beginners-guide-to-ajax-development-with-php.html, Element: HTML > BODY:nth-of-type(1) > DIV:nth-of-type(1) > SECTION:nth-of-type(2) > DIV:nth-of-type(1) > DIV:nth-of-type(1) > PRE:nth-of-type(1), Offsets: (336, 339)}\n",
      "* Text:  #pg1\n",
      "* HTML:  <pre>  &lt;div class=\"heading\"&gt; \n",
      "    &lt;h2&gt;Someuser's Profile&lt;/h2&gt;\n",
      "    &lt;h3&gt;Joined Nov 1st, 2013 - &lt;span id=\"followercnt\"&gt;18&lt;/span&gt; Followers&lt;/h3&gt;\n",
      "    &lt;div id=\"followbtncontainer\" class=\"btncontainer\"&gt;&lt;a href=\"#\" id=\"followbtn\" class=\"bigblue\"&gt;Follow&lt;/a&gt;&lt;/div&gt;\n",
      "  &lt;/div&gt;&lt;!-- @end .heading --&gt;\n",
      "\n",
      "....\n",
      "\n",
      "    &lt;div id=\"loadmorefollowers\"&gt;\n",
      "      &lt;a href=\"#pg1\" id=\"morefllwrs\" class=\"bigblue thinblue\"&gt;Load more followers&lt;/a&gt;\n",
      "    &lt;/div&gt;&lt;!-- @end #loadmorefollowers --&gt;</pre>\n",
      "\n",
      "\n",
      "===== REGION 18 =====\n",
      "{Text: #pg2 URL: http://127.0.0.1:8000/pages/jquery/jquery%20json%20php%20tutorial/5/blog.teamtreehouse.com/beginners-guide-to-ajax-development-with-php.html, Element: HTML > BODY:nth-of-type(1) > DIV:nth-of-type(1) > SECTION:nth-of-type(2) > DIV:nth-of-type(1) > DIV:nth-of-type(1) > PRE:nth-of-type(4), Offsets: (714, 717)}\n",
      "* Text:  #pg2\n",
      "* HTML:  <pre>header(\"content-type:application/json\");\n",
      "\n",
      "$pg1 = array(\n",
      "       array\n",
      "       (\n",
      "            'username' =&gt; 'facingdown',\n",
      "            'profile_pic' =&gt; 'img/default-avatar.png'\n",
      "       ),\n",
      "       array\n",
      "       (\n",
      "            'username' =&gt; 'doggy_bag',\n",
      "            'profile_pic' =&gt; 'img/default-avatar.png'\n",
      "       ),\n",
      "       array\n",
      "       (\n",
      "            'username' =&gt; 'goingoutside',\n",
      "            'profile_pic' =&gt; 'img/default-avatar.png'\n",
      "       ),\n",
      "       array\n",
      "       (\n",
      "            'username' =&gt; 'redditdigg',\n",
      "            'profile_pic' =&gt; 'img/default-avatar.png'\n",
      "       ),\n",
      "       array\n",
      "       (\n",
      "            'username' =&gt; 'lots_of_pudding',\n",
      "            'profile_pic' =&gt; 'img/default-avatar.png'\n",
      "       ),\n",
      "       'nextpage' =&gt; '#pg2'\n",
      ");</pre>\n",
      "\n",
      "\n",
      "===== REGION 19 =====\n",
      "{Text: #pg1 URL: http://127.0.0.1:8000/pages/jquery/jquery%20json%20php%20tutorial/5/blog.teamtreehouse.com/beginners-guide-to-ajax-development-with-php.html, Element: HTML > BODY:nth-of-type(1) > DIV:nth-of-type(1) > SECTION:nth-of-type(2) > DIV:nth-of-type(1) > DIV:nth-of-type(1) > PRE:nth-of-type(5), Offsets: (22, 25)}\n",
      "* Text:  #pg1\n",
      "* HTML:  <pre>if($_POST['page'] == '#pg1')\n",
      "  echo json_encode($pg1);\n",
      "\n",
      "if($_POST['page'] == '#pg2')\n",
      "  echo json_encode($pg2);\n",
      "\n",
      "exit();</pre>\n",
      "\n",
      "\n",
      "===== REGION 20 =====\n",
      "{Text: #pg2 URL: http://127.0.0.1:8000/pages/jquery/jquery%20json%20php%20tutorial/5/blog.teamtreehouse.com/beginners-guide-to-ajax-development-with-php.html, Element: HTML > BODY:nth-of-type(1) > DIV:nth-of-type(1) > SECTION:nth-of-type(2) > DIV:nth-of-type(1) > DIV:nth-of-type(1) > PRE:nth-of-type(5), Offsets: (78, 81)}\n",
      "* Text:  #pg2\n",
      "* HTML:  <pre>if($_POST['page'] == '#pg1')\n",
      "  echo json_encode($pg1);\n",
      "\n",
      "if($_POST['page'] == '#pg2')\n",
      "  echo json_encode($pg2);\n",
      "\n",
      "exit();</pre>\n",
      "\n",
      "\n",
      "===== REGION 21 =====\n",
      "{Text: object URL: http://127.0.0.1:8000/pages/jquery/jquery%20json%20php%20tutorial/5/blog.teamtreehouse.com/beginners-guide-to-ajax-development-with-php.html, Element: HTML > BODY:nth-of-type(1) > DIV:nth-of-type(1) > SECTION:nth-of-type(2) > DIV:nth-of-type(1) > DIV:nth-of-type(1) > PRE:nth-of-type(7), Offsets: (198, 203)}\n",
      "* Text:  object\n",
      "* HTML:  <pre>$.ajax({\n",
      "  url: 'php/ajax-followers.php',\n",
      "  type: 'post',\n",
      "  data: {'page': $(this).attr('href')},\n",
      "  cache: false,\n",
      "  success: function(json) {\n",
      "\t$.each(json, function(i, item) {\n",
      "\t  if(typeof item == 'object') {\n",
      "\t  newhtml += '&lt;div class=\"user\"&gt; &lt;a href=\"#\" class=\"clearfix\"&gt; &lt;img src=\"'+item.profile_pic+'\" class=\"avi\"&gt; &lt;h4&gt;'+item.username+'&lt;/h4&gt;&lt;/a&gt;&lt;/div&gt;';\n",
      "\t  } \n",
      "\t  else {\n",
      "\t\treturn false;\n",
      "\t  }\n",
      "\t}) // end $.each() loop\n",
      "\n",
      "\tif(json.nextpage != 'end') {\n",
      "\t  // if the nextpage is any other value other than end, we add the next page link\n",
      "\t  $(container).html('&lt;a href=\"'+json.nextpage+'\" id=\"morefllwrs\" class=\"bigblue thinblue\"&gt;Load more followers&lt;/a&gt;');\n",
      "\t} else {\n",
      "\t  $(container).html('&lt;p&gt;&lt;/p&gt;');\n",
      "\t}\n",
      "\n",
      "\t$('#followers').append(newhtml);\n",
      "  },\n",
      "  error: function(xhr, desc, err) {\n",
      "\tconsole.log(xhr + \"\\n\" + err);\n",
      "  }\n",
      "}); // end ajax call</pre>\n",
      "\n",
      "\n",
      "===== REGION 22 =====\n",
      "{Text: input URL: http://127.0.0.1:8000/pages/jquery/javascript%20jquery%20php%20tutorial/8/stackoverflow.com/questions/9347966/php-jquery-how-to-use-these-two-together-please-see-my-example.html, Element: HTML > BODY:nth-of-type(1) > DIV:nth-of-type(5) > DIV:nth-of-type(2) > DIV:nth-of-type(1) > DIV:nth-of-type(3) > DIV:nth-of-type(1) > TABLE:nth-of-type(1) > TBODY:nth-of-type(1) > TR:nth-of-type(1) > TD:nth-of-type(2) > DIV:nth-of-type(1) > DIV:nth-of-type(1) > PRE:nth-of-type(2) > CODE:nth-of-type(1), Offsets: (385, 389)}\n",
      "* Text:  input\n",
      "* HTML:  too long to render\n",
      "\n",
      "\n",
      "===== REGION 23 =====\n",
      "{Text: input URL: http://127.0.0.1:8000/pages/jquery/javascript%20jquery%20php%20tutorial/8/stackoverflow.com/questions/9347966/php-jquery-how-to-use-these-two-together-please-see-my-example.html, Element: HTML > BODY:nth-of-type(1) > DIV:nth-of-type(5) > DIV:nth-of-type(2) > DIV:nth-of-type(1) > DIV:nth-of-type(3) > DIV:nth-of-type(1) > TABLE:nth-of-type(1) > TBODY:nth-of-type(1) > TR:nth-of-type(1) > TD:nth-of-type(2) > DIV:nth-of-type(1) > DIV:nth-of-type(1) > PRE:nth-of-type(4) > CODE:nth-of-type(1), Offsets: (73, 77)}\n",
      "* Text:  input\n",
      "* HTML:  <code>&lt;script language=\"Javascript\"&gt;\n",
      "    var datefield=document.createElement(\"input\")\n",
      "    datefield.setAttribute(\"type\", \"date\")\n",
      "    if (datefield.type!=\"date\"){ //if browser doesn't support input type=\"date\", load files for jQuery UI Date Picker\n",
      "        document.write('&lt;link href=\"http://ajax.googleapis.com/ajax/libs/jqueryui/1.8/themes/base/jquery-ui.css\" rel=\"stylesheet\" type=\"text/css\" /&gt;\\n')\n",
      "        document.write('&lt;script src=\"http://ajax.googleapis.com/ajax/libs/jquery/1.4/jquery.min.js\"&gt;&lt;\\/script&gt;\\n')\n",
      "        document.write('&lt;script src=\"http://ajax.googleapis.com/ajax/libs/jqueryui/1.8/jquery-ui.min.js\"&gt;&lt;\\/script&gt;\\n')\n",
      "    }\n",
      "&lt;/script&gt;\n",
      "&lt;script language=\"Javascript\"&gt;\n",
      "if (datefield.type!=\"date\"){ //if browser doesn't support input type=\"date\", initialize date picker widget:\n",
      "    jQuery(function($){ //on document.ready\n",
      "        $('#birthday').datepicker();\n",
      "    })\n",
      "}\n",
      "&lt;/script&gt;\n",
      "</code>\n",
      "\n",
      "\n",
      "===== REGION 24 =====\n",
      "{Text: button URL: http://127.0.0.1:8000/pages/jquery/forms%20jquery%20php%20tutorial/7/code.tutsplus.com/tutorials/submit-a-form-without-page-refresh-using-jquery--net-59.html, Element: HTML > BODY:nth-of-type(1) > DIV:nth-of-type(2) > MAIN:nth-of-type(1) > ARTICLE:nth-of-type(1) > DIV:nth-of-type(2) > DIV:nth-of-type(2) > DIV:nth-of-type(1) > DIV:nth-of-type(1) > DIV:nth-of-type(1) > DIV:nth-of-type(1) > TABLE:nth-of-type(1) > TBODY:nth-of-type(1) > TR:nth-of-type(1) > TD:nth-of-type(2) > DIV:nth-of-type(1) > DIV:nth-of-type(17) > CODE:nth-of-type(12), Offsets: (1, 6)}\n",
      "* Text:  button\n",
      "* HTML:  <code class=\"html string\">\"button\"</code>\n",
      "\n",
      "\n",
      "===== REGION 25 =====\n",
      "{Text: #BADA55 URL: http://127.0.0.1:8000/pages/jquery/iframe%20javascript%20jquery%20tutorial/10/api.jquery.com/contents/, Element: HTML > BODY:nth-of-type(1) > DIV:nth-of-type(1) > DIV:nth-of-type(2) > DIV:nth-of-type(1) > DIV:nth-of-type(1) > ARTICLE:nth-of-type(1) > DIV:nth-of-type(1) > ARTICLE:nth-of-type(1) > DIV:nth-of-type(1) > SECTION:nth-of-type(1) > DIV:nth-of-type(2) > DIV:nth-of-type(1) > TABLE:nth-of-type(1) > TBODY:nth-of-type(1) > TR:nth-of-type(1) > TD:nth-of-type(2) > PRE:nth-of-type(1) > DIV:nth-of-type(13) > DIV:nth-of-type(1) > CODE:nth-of-type(1), Offsets: (67, 73)}\n",
      "* Text:  #BADA55\n",
      "* HTML:  <code>$( <span class=\"string\">\"#frameDemo\"</span> ).contents().find( <span class=\"string\">\"a\"</span> ).css( <span class=\"string\">\"background-color\"</span>, <span class=\"string\">\"#BADA55\"</span> );</code>\n",
      "\n",
      "\n",
      "===== REGION 26 =====\n",
      "{Text: button URL: http://127.0.0.1:8000/pages/jquery/forms%20html%20jquery%20tutorial/10/hayageek.com/jquery-submit-form/, Element: HTML > BODY:nth-of-type(1) > DIV:nth-of-type(1) > DIV:nth-of-type(3) > DIV:nth-of-type(1) > DIV:nth-of-type(1) > DIV:nth-of-type(1) > DIV:nth-of-type(1) > DIV:nth-of-type(3) > PRE:nth-of-type(4), Offsets: (440, 445)}\n",
      "* Text:  button\n",
      "* HTML:  too long to render\n",
      "\n",
      "\n",
      "===== REGION 27 =====\n",
      "{Text: button URL: http://127.0.0.1:8000/pages/jquery/forms%20html%20jquery%20tutorial/10/hayageek.com/jquery-submit-form/, Element: HTML > BODY:nth-of-type(1) > DIV:nth-of-type(1) > DIV:nth-of-type(3) > DIV:nth-of-type(1) > DIV:nth-of-type(1) > DIV:nth-of-type(1) > DIV:nth-of-type(1) > DIV:nth-of-type(3) > PRE:nth-of-type(4), Offsets: (503, 508)}\n",
      "* Text:  button\n",
      "* HTML:  too long to render\n",
      "\n",
      "\n",
      "===== REGION 28 =====\n",
      "{Text: button URL: http://127.0.0.1:8000/pages/jquery/forms%20html%20jquery%20tutorial/10/hayageek.com/jquery-submit-form/, Element: HTML > BODY:nth-of-type(1) > DIV:nth-of-type(1) > DIV:nth-of-type(3) > DIV:nth-of-type(1) > DIV:nth-of-type(1) > DIV:nth-of-type(1) > DIV:nth-of-type(1) > DIV:nth-of-type(3) > PRE:nth-of-type(4), Offsets: (568, 573)}\n",
      "* Text:  button\n",
      "* HTML:  too long to render\n",
      "\n",
      "\n",
      "===== REGION 29 =====\n",
      "{Text: button URL: http://127.0.0.1:8000/pages/jquery/forms%20html%20jquery%20tutorial/10/hayageek.com/jquery-submit-form/, Element: HTML > BODY:nth-of-type(1) > DIV:nth-of-type(1) > DIV:nth-of-type(3) > DIV:nth-of-type(1) > DIV:nth-of-type(1) > DIV:nth-of-type(1) > DIV:nth-of-type(1) > DIV:nth-of-type(3) > PRE:nth-of-type(4), Offsets: (634, 639)}\n",
      "* Text:  button\n",
      "* HTML:  too long to render\n",
      "\n",
      "\n",
      "===== REGION 30 =====\n",
      "{Text: a URL: http://127.0.0.1:8000/pages/jquery/html%20jquery%20twitter-bootstrap%20tutorial/10/vitalets.github.io/x-editable/docs.html, Element: HTML > BODY:nth-of-type(1) > DIV:nth-of-type(3) > DIV:nth-of-type(1) > DIV:nth-of-type(1) > SECTION:nth-of-type(2) > DIV:nth-of-type(1) > DIV:nth-of-type(1) > TABLE:nth-of-type(1) > TBODY:nth-of-type(1) > TR:nth-of-type(3) > TD:nth-of-type(4) > P:nth-of-type(1) > CODE:nth-of-type(2), Offsets: (5, 5)}\n",
      "* Text:  a\n",
      "* HTML:  <code>{1: 'a', 2: 'b'}</code>\n",
      "\n",
      "\n",
      "===== REGION 31 =====\n",
      "{Text: b URL: http://127.0.0.1:8000/pages/jquery/html%20jquery%20twitter-bootstrap%20tutorial/10/vitalets.github.io/x-editable/docs.html, Element: HTML > BODY:nth-of-type(1) > DIV:nth-of-type(3) > DIV:nth-of-type(1) > DIV:nth-of-type(1) > SECTION:nth-of-type(2) > DIV:nth-of-type(1) > DIV:nth-of-type(1) > TABLE:nth-of-type(1) > TBODY:nth-of-type(1) > TR:nth-of-type(3) > TD:nth-of-type(4) > P:nth-of-type(1) > CODE:nth-of-type(2), Offsets: (13, 13)}\n",
      "* Text:  b\n",
      "* HTML:  <code>{1: 'a', 2: 'b'}</code>\n",
      "\n",
      "\n",
      "===== REGION 32 =====\n",
      "{Text: a URL: http://127.0.0.1:8000/pages/jquery/html%20jquery%20twitter-bootstrap%20tutorial/10/vitalets.github.io/x-editable/docs.html, Element: HTML > BODY:nth-of-type(1) > DIV:nth-of-type(3) > DIV:nth-of-type(1) > DIV:nth-of-type(1) > SECTION:nth-of-type(2) > DIV:nth-of-type(1) > DIV:nth-of-type(1) > TABLE:nth-of-type(1) > TBODY:nth-of-type(1) > TR:nth-of-type(3) > TD:nth-of-type(4) > P:nth-of-type(1) > CODE:nth-of-type(4), Offsets: (1, 1)}\n",
      "* Text:  a\n",
      "* HTML:  <code>'a'</code>\n",
      "\n",
      "\n",
      "===== REGION 33 =====\n",
      "{Text: option URL: http://127.0.0.1:8000/pages/jquery/html%20jquery%20twitter-bootstrap%20tutorial/10/vitalets.github.io/x-editable/docs.html, Element: HTML > BODY:nth-of-type(1) > DIV:nth-of-type(3) > DIV:nth-of-type(1) > DIV:nth-of-type(1) > SECTION:nth-of-type(2) > DIV:nth-of-type(1) > DIV:nth-of-type(2) > TABLE:nth-of-type(1) > TBODY:nth-of-type(1) > TR:nth-of-type(8) > TD:nth-of-type(3) > PRE:nth-of-type(1), Offsets: (25, 30)}\n",
      "* Text:  option\n",
      "* HTML:  <pre class=\"prettyprint linenums\"><ol class=\"linenums\"><li class=\"L0\"><span class=\"pln\">$</span><span class=\"pun\">(</span><span class=\"str\">'.editable'</span><span class=\"pun\">).</span><span class=\"pln\">editable</span><span class=\"pun\">(</span><span class=\"str\">'option'</span><span class=\"pun\">,</span><span class=\"pln\"> </span><span class=\"str\">'pk'</span><span class=\"pun\">,</span><span class=\"pln\"> </span><span class=\"lit\">2</span><span class=\"pun\">);</span></li></ol></pre>\n",
      "\n",
      "\n",
      "===== REGION 34 =====\n",
      "{Text: textarea URL: http://127.0.0.1:8000/pages/jquery/html%20jquery%20twitter-bootstrap%20tutorial/10/vitalets.github.io/x-editable/docs.html, Element: HTML > BODY:nth-of-type(1) > DIV:nth-of-type(3) > DIV:nth-of-type(1) > DIV:nth-of-type(1) > SECTION:nth-of-type(5) > DIV:nth-of-type(1) > DIV:nth-of-type(2) > PRE:nth-of-type(1), Offsets: (37, 44)}\n",
      "* Text:  textarea\n",
      "* HTML:  too long to render\n",
      "\n",
      "\n",
      "===== REGION 35 =====\n",
      "{Text: select URL: http://127.0.0.1:8000/pages/jquery/html%20jquery%20twitter-bootstrap%20tutorial/10/vitalets.github.io/x-editable/docs.html, Element: HTML > BODY:nth-of-type(1) > DIV:nth-of-type(3) > DIV:nth-of-type(1) > DIV:nth-of-type(1) > SECTION:nth-of-type(6) > DIV:nth-of-type(1) > DIV:nth-of-type(2) > PRE:nth-of-type(1), Offsets: (35, 40)}\n",
      "* Text:  select\n",
      "* HTML:  too long to render\n",
      "\n",
      "\n",
      "===== REGION 36 =====\n",
      "{Text: style URL: http://127.0.0.1:8000/pages/jquery/jquery%20php%20wordpress%20tutorial/1/www.inkthemes.com/how-to-implement-custom-jquery-and-css-in-wordpress-plugin/, Element: HTML > BODY:nth-of-type(1) > DIV:nth-of-type(4) > DIV:nth-of-type(1) > DIV:nth-of-type(1) > DIV:nth-of-type(1) > DIV:nth-of-type(1) > DIV:nth-of-type(1) > DIV:nth-of-type(2) > DIV:nth-of-type(1) > DIV:nth-of-type(6) > PRE:nth-of-type(1) > CODE:nth-of-type(1), Offsets: (216, 220)}\n"
     ]
    },
    {
     "ename": "WebDriverException",
     "evalue": "Message: Argument 1 of Range.selectNode is not an object.\nStacktrace:\n    at anonymous (http://127.0.0.1:8000/pages/jquery/jquery%20php%20wordpress%20tutorial/1/www.inkthemes.com/how-to-implement-custom-jquery-and-css-in-wordpress-plugin/ line 69 > Function:3)\n    at handleEvaluateEvent (http://127.0.0.1:8000/pages/jquery/jquery%20php%20wordpress%20tutorial/1/www.inkthemes.com/how-to-implement-custom-jquery-and-css-in-wordpress-plugin/:69)",
     "output_type": "error",
     "traceback": [
      "\u001b[0;31m---------------------------------------------------------------------------\u001b[0m",
      "\u001b[0;31mWebDriverException\u001b[0m                        Traceback (most recent call last)",
      "\u001b[0;32m<ipython-input-19-d4c575566a7d>\u001b[0m in \u001b[0;36m<module>\u001b[0;34m()\u001b[0m\n\u001b[0;32m----> 1\u001b[0;31m \u001b[0minspector\u001b[0m\u001b[0;34m.\u001b[0m\u001b[0mopen_false_detections\u001b[0m\u001b[0;34m(\u001b[0m\u001b[0mfalse_regions\u001b[0m\u001b[0;34m,\u001b[0m \u001b[0mstart_index\u001b[0m\u001b[0;34m=\u001b[0m\u001b[0;36m4\u001b[0m\u001b[0;34m)\u001b[0m\u001b[0;34m\u001b[0m\u001b[0m\n\u001b[0m",
      "\u001b[0;32m/Users/andrew/Adventures/design/code/research/common/evaluate.py\u001b[0m in \u001b[0;36mopen_false_detections\u001b[0;34m(self, false_regions, start_index, debug)\u001b[0m\n\u001b[1;32m    122\u001b[0m     \u001b[0;32mdef\u001b[0m \u001b[0mopen_false_detections\u001b[0m\u001b[0;34m(\u001b[0m\u001b[0mself\u001b[0m\u001b[0;34m,\u001b[0m \u001b[0mfalse_regions\u001b[0m\u001b[0;34m,\u001b[0m \u001b[0mstart_index\u001b[0m\u001b[0;34m=\u001b[0m\u001b[0;36m0\u001b[0m\u001b[0;34m,\u001b[0m \u001b[0mdebug\u001b[0m\u001b[0;34m=\u001b[0m\u001b[0mTrue\u001b[0m\u001b[0;34m)\u001b[0m\u001b[0;34m:\u001b[0m\u001b[0;34m\u001b[0m\u001b[0m\n\u001b[1;32m    123\u001b[0m         \u001b[0mbrowser\u001b[0m \u001b[0;34m=\u001b[0m \u001b[0mBrowser\u001b[0m\u001b[0;34m(\u001b[0m\u001b[0;34m)\u001b[0m\u001b[0;34m\u001b[0m\u001b[0m\n\u001b[0;32m--> 124\u001b[0;31m         \u001b[0mself\u001b[0m\u001b[0;34m.\u001b[0m\u001b[0mdisplay_regions\u001b[0m\u001b[0;34m(\u001b[0m\u001b[0mbrowser\u001b[0m\u001b[0;34m,\u001b[0m \u001b[0mfalse_regions\u001b[0m\u001b[0;34m[\u001b[0m\u001b[0mstart_index\u001b[0m\u001b[0;34m:\u001b[0m\u001b[0;34m]\u001b[0m\u001b[0;34m,\u001b[0m \u001b[0mdebug\u001b[0m\u001b[0;34m,\u001b[0m \u001b[0mstart_index\u001b[0m\u001b[0;34m)\u001b[0m\u001b[0;34m\u001b[0m\u001b[0m\n\u001b[0m\u001b[1;32m    125\u001b[0m \u001b[0;34m\u001b[0m\u001b[0m\n\u001b[1;32m    126\u001b[0m     \u001b[0;32mdef\u001b[0m \u001b[0mdisplay_regions\u001b[0m\u001b[0;34m(\u001b[0m\u001b[0mself\u001b[0m\u001b[0;34m,\u001b[0m \u001b[0mbrowser\u001b[0m\u001b[0;34m,\u001b[0m \u001b[0mregions\u001b[0m\u001b[0;34m,\u001b[0m \u001b[0mdebug\u001b[0m\u001b[0;34m,\u001b[0m \u001b[0mstart_index\u001b[0m\u001b[0;34m)\u001b[0m\u001b[0;34m:\u001b[0m\u001b[0;34m\u001b[0m\u001b[0m\n",
      "\u001b[0;32m/Users/andrew/Adventures/design/code/research/common/evaluate.py\u001b[0m in \u001b[0;36mdisplay_regions\u001b[0;34m(self, browser, regions, debug, start_index)\u001b[0m\n\u001b[1;32m    132\u001b[0m                 \u001b[0;32mif\u001b[0m \u001b[0magain\u001b[0m\u001b[0;34m.\u001b[0m\u001b[0mlower\u001b[0m\u001b[0;34m(\u001b[0m\u001b[0;34m)\u001b[0m \u001b[0;34m==\u001b[0m \u001b[0;34m'n'\u001b[0m\u001b[0;34m:\u001b[0m\u001b[0;34m\u001b[0m\u001b[0m\n\u001b[1;32m    133\u001b[0m                     \u001b[0;32mbreak\u001b[0m\u001b[0;34m\u001b[0m\u001b[0m\n\u001b[0;32m--> 134\u001b[0;31m                 \u001b[0mself\u001b[0m\u001b[0;34m.\u001b[0m\u001b[0mdisplay_region\u001b[0m\u001b[0;34m(\u001b[0m\u001b[0mbrowser\u001b[0m\u001b[0;34m,\u001b[0m \u001b[0mr\u001b[0m\u001b[0;34m,\u001b[0m \u001b[0mi\u001b[0m\u001b[0;34m,\u001b[0m \u001b[0mdebug\u001b[0m\u001b[0;34m)\u001b[0m\u001b[0;34m\u001b[0m\u001b[0m\n\u001b[0m\u001b[1;32m    135\u001b[0m             \u001b[0;32mexcept\u001b[0m \u001b[0mKeyboardInterrupt\u001b[0m\u001b[0;34m:\u001b[0m\u001b[0;34m\u001b[0m\u001b[0m\n\u001b[1;32m    136\u001b[0m                 \u001b[0mbrowser\u001b[0m\u001b[0;34m.\u001b[0m\u001b[0mclose\u001b[0m\u001b[0;34m(\u001b[0m\u001b[0;34m)\u001b[0m\u001b[0;34m\u001b[0m\u001b[0m\n",
      "\u001b[0;32m/Users/andrew/Adventures/design/code/research/common/evaluate.py\u001b[0m in \u001b[0;36mdisplay_region\u001b[0;34m(self, browser, region, index, debug)\u001b[0m\n\u001b[1;32m    141\u001b[0m         \u001b[0;32mprint\u001b[0m \u001b[0;34m\"===== REGION %d =====\"\u001b[0m \u001b[0;34m%\u001b[0m \u001b[0mindex\u001b[0m\u001b[0;34m\u001b[0m\u001b[0m\n\u001b[1;32m    142\u001b[0m         \u001b[0;32mprint\u001b[0m \u001b[0municode\u001b[0m\u001b[0;34m(\u001b[0m\u001b[0mregion\u001b[0m\u001b[0;34m)\u001b[0m\u001b[0;34m\u001b[0m\u001b[0m\n\u001b[0;32m--> 143\u001b[0;31m         \u001b[0mbrowser\u001b[0m\u001b[0;34m.\u001b[0m\u001b[0mshow_region\u001b[0m\u001b[0;34m(\u001b[0m\u001b[0mregion\u001b[0m\u001b[0;34m)\u001b[0m\u001b[0;34m\u001b[0m\u001b[0m\n\u001b[0m\u001b[1;32m    144\u001b[0m         \u001b[0;32mif\u001b[0m \u001b[0mdebug\u001b[0m\u001b[0;34m:\u001b[0m\u001b[0;34m\u001b[0m\u001b[0m\n\u001b[1;32m    145\u001b[0m             \u001b[0;32mprint\u001b[0m \u001b[0;34m\"* Text: \"\u001b[0m\u001b[0;34m,\u001b[0m \u001b[0mbrowser\u001b[0m\u001b[0;34m.\u001b[0m\u001b[0mget_text\u001b[0m\u001b[0;34m(\u001b[0m\u001b[0mregion\u001b[0m\u001b[0;34m)\u001b[0m\u001b[0;34m\u001b[0m\u001b[0m\n",
      "\u001b[0;32m/Users/andrew/Adventures/design/code/research/common/evaluate.py\u001b[0m in \u001b[0;36mshow_region\u001b[0;34m(self, region)\u001b[0m\n\u001b[1;32m    273\u001b[0m         \u001b[0mself\u001b[0m\u001b[0;34m.\u001b[0m\u001b[0mbrowser\u001b[0m\u001b[0;34m.\u001b[0m\u001b[0mget\u001b[0m\u001b[0;34m(\u001b[0m\u001b[0mregion\u001b[0m\u001b[0;34m.\u001b[0m\u001b[0murl\u001b[0m\u001b[0;34m)\u001b[0m\u001b[0;34m\u001b[0m\u001b[0m\n\u001b[1;32m    274\u001b[0m         \u001b[0;32mif\u001b[0m \u001b[0mregion\u001b[0m\u001b[0;34m.\u001b[0m\u001b[0melement\u001b[0m \u001b[0;34m!=\u001b[0m \u001b[0;34m''\u001b[0m\u001b[0;34m:\u001b[0m\u001b[0;34m\u001b[0m\u001b[0m\n\u001b[0;32m--> 275\u001b[0;31m             \u001b[0mself\u001b[0m\u001b[0;34m.\u001b[0m\u001b[0mbrowser\u001b[0m\u001b[0;34m.\u001b[0m\u001b[0mexecute_script\u001b[0m\u001b[0;34m(\u001b[0m\u001b[0mSHOW_REGION_SCRIPT\u001b[0m\u001b[0;34m.\u001b[0m\u001b[0mformat\u001b[0m\u001b[0;34m(\u001b[0m\u001b[0melement\u001b[0m\u001b[0;34m=\u001b[0m\u001b[0mregion\u001b[0m\u001b[0;34m.\u001b[0m\u001b[0melement\u001b[0m\u001b[0;34m)\u001b[0m\u001b[0;34m)\u001b[0m\u001b[0;34m\u001b[0m\u001b[0m\n\u001b[0m\u001b[1;32m    276\u001b[0m \u001b[0;34m\u001b[0m\u001b[0m\n\u001b[1;32m    277\u001b[0m     \u001b[0;32mdef\u001b[0m \u001b[0mget_text\u001b[0m\u001b[0;34m(\u001b[0m\u001b[0mself\u001b[0m\u001b[0;34m,\u001b[0m \u001b[0mregion\u001b[0m\u001b[0;34m)\u001b[0m\u001b[0;34m:\u001b[0m\u001b[0;34m\u001b[0m\u001b[0m\n",
      "\u001b[0;32m/Users/andrew/Adventures/design/code/research/venv/lib/python2.7/site-packages/selenium/webdriver/remote/webdriver.pyc\u001b[0m in \u001b[0;36mexecute_script\u001b[0;34m(self, script, *args)\u001b[0m\n\u001b[1;32m    419\u001b[0m         \u001b[0mconverted_args\u001b[0m \u001b[0;34m=\u001b[0m \u001b[0mlist\u001b[0m\u001b[0;34m(\u001b[0m\u001b[0margs\u001b[0m\u001b[0;34m)\u001b[0m\u001b[0;34m\u001b[0m\u001b[0m\n\u001b[1;32m    420\u001b[0m         return self.execute(Command.EXECUTE_SCRIPT,\n\u001b[0;32m--> 421\u001b[0;31m             {'script': script, 'args':converted_args})['value']\n\u001b[0m\u001b[1;32m    422\u001b[0m \u001b[0;34m\u001b[0m\u001b[0m\n\u001b[1;32m    423\u001b[0m     \u001b[0;32mdef\u001b[0m \u001b[0mexecute_async_script\u001b[0m\u001b[0;34m(\u001b[0m\u001b[0mself\u001b[0m\u001b[0;34m,\u001b[0m \u001b[0mscript\u001b[0m\u001b[0;34m,\u001b[0m \u001b[0;34m*\u001b[0m\u001b[0margs\u001b[0m\u001b[0;34m)\u001b[0m\u001b[0;34m:\u001b[0m\u001b[0;34m\u001b[0m\u001b[0m\n",
      "\u001b[0;32m/Users/andrew/Adventures/design/code/research/venv/lib/python2.7/site-packages/selenium/webdriver/remote/webdriver.pyc\u001b[0m in \u001b[0;36mexecute\u001b[0;34m(self, driver_command, params)\u001b[0m\n\u001b[1;32m    191\u001b[0m         \u001b[0mresponse\u001b[0m \u001b[0;34m=\u001b[0m \u001b[0mself\u001b[0m\u001b[0;34m.\u001b[0m\u001b[0mcommand_executor\u001b[0m\u001b[0;34m.\u001b[0m\u001b[0mexecute\u001b[0m\u001b[0;34m(\u001b[0m\u001b[0mdriver_command\u001b[0m\u001b[0;34m,\u001b[0m \u001b[0mparams\u001b[0m\u001b[0;34m)\u001b[0m\u001b[0;34m\u001b[0m\u001b[0m\n\u001b[1;32m    192\u001b[0m         \u001b[0;32mif\u001b[0m \u001b[0mresponse\u001b[0m\u001b[0;34m:\u001b[0m\u001b[0;34m\u001b[0m\u001b[0m\n\u001b[0;32m--> 193\u001b[0;31m             \u001b[0mself\u001b[0m\u001b[0;34m.\u001b[0m\u001b[0merror_handler\u001b[0m\u001b[0;34m.\u001b[0m\u001b[0mcheck_response\u001b[0m\u001b[0;34m(\u001b[0m\u001b[0mresponse\u001b[0m\u001b[0;34m)\u001b[0m\u001b[0;34m\u001b[0m\u001b[0m\n\u001b[0m\u001b[1;32m    194\u001b[0m             response['value'] = self._unwrap_value(\n\u001b[1;32m    195\u001b[0m                 response.get('value', None))\n",
      "\u001b[0;32m/Users/andrew/Adventures/design/code/research/venv/lib/python2.7/site-packages/selenium/webdriver/remote/errorhandler.pyc\u001b[0m in \u001b[0;36mcheck_response\u001b[0;34m(self, response)\u001b[0m\n\u001b[1;32m    179\u001b[0m         \u001b[0;32melif\u001b[0m \u001b[0mexception_class\u001b[0m \u001b[0;34m==\u001b[0m \u001b[0mUnexpectedAlertPresentException\u001b[0m \u001b[0;32mand\u001b[0m \u001b[0;34m'alert'\u001b[0m \u001b[0;32min\u001b[0m \u001b[0mvalue\u001b[0m\u001b[0;34m:\u001b[0m\u001b[0;34m\u001b[0m\u001b[0m\n\u001b[1;32m    180\u001b[0m             \u001b[0;32mraise\u001b[0m \u001b[0mexception_class\u001b[0m\u001b[0;34m(\u001b[0m\u001b[0mmessage\u001b[0m\u001b[0;34m,\u001b[0m \u001b[0mscreen\u001b[0m\u001b[0;34m,\u001b[0m \u001b[0mstacktrace\u001b[0m\u001b[0;34m,\u001b[0m \u001b[0mvalue\u001b[0m\u001b[0;34m[\u001b[0m\u001b[0;34m'alert'\u001b[0m\u001b[0;34m]\u001b[0m\u001b[0;34m.\u001b[0m\u001b[0mget\u001b[0m\u001b[0;34m(\u001b[0m\u001b[0;34m'text'\u001b[0m\u001b[0;34m)\u001b[0m\u001b[0;34m)\u001b[0m\u001b[0;34m\u001b[0m\u001b[0m\n\u001b[0;32m--> 181\u001b[0;31m         \u001b[0;32mraise\u001b[0m \u001b[0mexception_class\u001b[0m\u001b[0;34m(\u001b[0m\u001b[0mmessage\u001b[0m\u001b[0;34m,\u001b[0m \u001b[0mscreen\u001b[0m\u001b[0;34m,\u001b[0m \u001b[0mstacktrace\u001b[0m\u001b[0;34m)\u001b[0m\u001b[0;34m\u001b[0m\u001b[0m\n\u001b[0m\u001b[1;32m    182\u001b[0m \u001b[0;34m\u001b[0m\u001b[0m\n\u001b[1;32m    183\u001b[0m     \u001b[0;32mdef\u001b[0m \u001b[0m_value_or_default\u001b[0m\u001b[0;34m(\u001b[0m\u001b[0mself\u001b[0m\u001b[0;34m,\u001b[0m \u001b[0mobj\u001b[0m\u001b[0;34m,\u001b[0m \u001b[0mkey\u001b[0m\u001b[0;34m,\u001b[0m \u001b[0mdefault\u001b[0m\u001b[0;34m)\u001b[0m\u001b[0;34m:\u001b[0m\u001b[0;34m\u001b[0m\u001b[0m\n",
      "\u001b[0;31mWebDriverException\u001b[0m: Message: Argument 1 of Range.selectNode is not an object.\nStacktrace:\n    at anonymous (http://127.0.0.1:8000/pages/jquery/jquery%20php%20wordpress%20tutorial/1/www.inkthemes.com/how-to-implement-custom-jquery-and-css-in-wordpress-plugin/ line 69 > Function:3)\n    at handleEvaluateEvent (http://127.0.0.1:8000/pages/jquery/jquery%20php%20wordpress%20tutorial/1/www.inkthemes.com/how-to-implement-custom-jquery-and-css-in-wordpress-plugin/:69)"
     ]
    }
   ],
   "source": [
    "inspector.open_false_detections(false_regions, start_index=4)"
   ]
  },
  {
   "cell_type": "code",
   "execution_count": 20,
   "metadata": {
    "collapsed": false
   },
   "outputs": [
    {
     "name": "stdout",
     "output_type": "stream",
     "text": [
      "\n",
      "?? Open next example of missed detection? \n",
      " \n",
      "===== REGION 36 =====\n",
      "{Text: style URL: http://127.0.0.1:8000/pages/jquery/jquery%20php%20wordpress%20tutorial/1/www.inkthemes.com/how-to-implement-custom-jquery-and-css-in-wordpress-plugin/, Element: HTML > BODY:nth-of-type(1) > DIV:nth-of-type(4) > DIV:nth-of-type(1) > DIV:nth-of-type(1) > DIV:nth-of-type(1) > DIV:nth-of-type(1) > DIV:nth-of-type(1) > DIV:nth-of-type(2) > DIV:nth-of-type(1) > DIV:nth-of-type(6) > PRE:nth-of-type(1) > CODE:nth-of-type(1), Offsets: (216, 220)}\n"
     ]
    },
    {
     "ename": "WebDriverException",
     "evalue": "Message: Argument 1 of Range.selectNode is not an object.\nStacktrace:\n    at anonymous (http://127.0.0.1:8000/pages/jquery/jquery%20php%20wordpress%20tutorial/1/www.inkthemes.com/how-to-implement-custom-jquery-and-css-in-wordpress-plugin/ line 69 > Function:3)\n    at handleEvaluateEvent (http://127.0.0.1:8000/pages/jquery/jquery%20php%20wordpress%20tutorial/1/www.inkthemes.com/how-to-implement-custom-jquery-and-css-in-wordpress-plugin/:69)",
     "output_type": "error",
     "traceback": [
      "\u001b[0;31m---------------------------------------------------------------------------\u001b[0m",
      "\u001b[0;31mWebDriverException\u001b[0m                        Traceback (most recent call last)",
      "\u001b[0;32m<ipython-input-20-30b70b1b160f>\u001b[0m in \u001b[0;36m<module>\u001b[0;34m()\u001b[0m\n\u001b[0;32m----> 1\u001b[0;31m \u001b[0minspector\u001b[0m\u001b[0;34m.\u001b[0m\u001b[0mopen_false_detections\u001b[0m\u001b[0;34m(\u001b[0m\u001b[0mfalse_regions\u001b[0m\u001b[0;34m,\u001b[0m \u001b[0mstart_index\u001b[0m\u001b[0;34m=\u001b[0m\u001b[0;36m36\u001b[0m\u001b[0;34m)\u001b[0m\u001b[0;34m\u001b[0m\u001b[0m\n\u001b[0m",
      "\u001b[0;32m/Users/andrew/Adventures/design/code/research/common/evaluate.py\u001b[0m in \u001b[0;36mopen_false_detections\u001b[0;34m(self, false_regions, start_index, debug)\u001b[0m\n\u001b[1;32m    122\u001b[0m     \u001b[0;32mdef\u001b[0m \u001b[0mopen_false_detections\u001b[0m\u001b[0;34m(\u001b[0m\u001b[0mself\u001b[0m\u001b[0;34m,\u001b[0m \u001b[0mfalse_regions\u001b[0m\u001b[0;34m,\u001b[0m \u001b[0mstart_index\u001b[0m\u001b[0;34m=\u001b[0m\u001b[0;36m0\u001b[0m\u001b[0;34m,\u001b[0m \u001b[0mdebug\u001b[0m\u001b[0;34m=\u001b[0m\u001b[0mTrue\u001b[0m\u001b[0;34m)\u001b[0m\u001b[0;34m:\u001b[0m\u001b[0;34m\u001b[0m\u001b[0m\n\u001b[1;32m    123\u001b[0m         \u001b[0mbrowser\u001b[0m \u001b[0;34m=\u001b[0m \u001b[0mBrowser\u001b[0m\u001b[0;34m(\u001b[0m\u001b[0;34m)\u001b[0m\u001b[0;34m\u001b[0m\u001b[0m\n\u001b[0;32m--> 124\u001b[0;31m         \u001b[0mself\u001b[0m\u001b[0;34m.\u001b[0m\u001b[0mdisplay_regions\u001b[0m\u001b[0;34m(\u001b[0m\u001b[0mbrowser\u001b[0m\u001b[0;34m,\u001b[0m \u001b[0mfalse_regions\u001b[0m\u001b[0;34m[\u001b[0m\u001b[0mstart_index\u001b[0m\u001b[0;34m:\u001b[0m\u001b[0;34m]\u001b[0m\u001b[0;34m,\u001b[0m \u001b[0mdebug\u001b[0m\u001b[0;34m,\u001b[0m \u001b[0mstart_index\u001b[0m\u001b[0;34m)\u001b[0m\u001b[0;34m\u001b[0m\u001b[0m\n\u001b[0m\u001b[1;32m    125\u001b[0m \u001b[0;34m\u001b[0m\u001b[0m\n\u001b[1;32m    126\u001b[0m     \u001b[0;32mdef\u001b[0m \u001b[0mdisplay_regions\u001b[0m\u001b[0;34m(\u001b[0m\u001b[0mself\u001b[0m\u001b[0;34m,\u001b[0m \u001b[0mbrowser\u001b[0m\u001b[0;34m,\u001b[0m \u001b[0mregions\u001b[0m\u001b[0;34m,\u001b[0m \u001b[0mdebug\u001b[0m\u001b[0;34m,\u001b[0m \u001b[0mstart_index\u001b[0m\u001b[0;34m)\u001b[0m\u001b[0;34m:\u001b[0m\u001b[0;34m\u001b[0m\u001b[0m\n",
      "\u001b[0;32m/Users/andrew/Adventures/design/code/research/common/evaluate.py\u001b[0m in \u001b[0;36mdisplay_regions\u001b[0;34m(self, browser, regions, debug, start_index)\u001b[0m\n\u001b[1;32m    132\u001b[0m                 \u001b[0;32mif\u001b[0m \u001b[0magain\u001b[0m\u001b[0;34m.\u001b[0m\u001b[0mlower\u001b[0m\u001b[0;34m(\u001b[0m\u001b[0;34m)\u001b[0m \u001b[0;34m==\u001b[0m \u001b[0;34m'n'\u001b[0m\u001b[0;34m:\u001b[0m\u001b[0;34m\u001b[0m\u001b[0m\n\u001b[1;32m    133\u001b[0m                     \u001b[0;32mbreak\u001b[0m\u001b[0;34m\u001b[0m\u001b[0m\n\u001b[0;32m--> 134\u001b[0;31m                 \u001b[0mself\u001b[0m\u001b[0;34m.\u001b[0m\u001b[0mdisplay_region\u001b[0m\u001b[0;34m(\u001b[0m\u001b[0mbrowser\u001b[0m\u001b[0;34m,\u001b[0m \u001b[0mr\u001b[0m\u001b[0;34m,\u001b[0m \u001b[0mi\u001b[0m\u001b[0;34m,\u001b[0m \u001b[0mdebug\u001b[0m\u001b[0;34m)\u001b[0m\u001b[0;34m\u001b[0m\u001b[0m\n\u001b[0m\u001b[1;32m    135\u001b[0m             \u001b[0;32mexcept\u001b[0m \u001b[0mKeyboardInterrupt\u001b[0m\u001b[0;34m:\u001b[0m\u001b[0;34m\u001b[0m\u001b[0m\n\u001b[1;32m    136\u001b[0m                 \u001b[0mbrowser\u001b[0m\u001b[0;34m.\u001b[0m\u001b[0mclose\u001b[0m\u001b[0;34m(\u001b[0m\u001b[0;34m)\u001b[0m\u001b[0;34m\u001b[0m\u001b[0m\n",
      "\u001b[0;32m/Users/andrew/Adventures/design/code/research/common/evaluate.py\u001b[0m in \u001b[0;36mdisplay_region\u001b[0;34m(self, browser, region, index, debug)\u001b[0m\n\u001b[1;32m    141\u001b[0m         \u001b[0;32mprint\u001b[0m \u001b[0;34m\"===== REGION %d =====\"\u001b[0m \u001b[0;34m%\u001b[0m \u001b[0mindex\u001b[0m\u001b[0;34m\u001b[0m\u001b[0m\n\u001b[1;32m    142\u001b[0m         \u001b[0;32mprint\u001b[0m \u001b[0municode\u001b[0m\u001b[0;34m(\u001b[0m\u001b[0mregion\u001b[0m\u001b[0;34m)\u001b[0m\u001b[0;34m\u001b[0m\u001b[0m\n\u001b[0;32m--> 143\u001b[0;31m         \u001b[0mbrowser\u001b[0m\u001b[0;34m.\u001b[0m\u001b[0mshow_region\u001b[0m\u001b[0;34m(\u001b[0m\u001b[0mregion\u001b[0m\u001b[0;34m)\u001b[0m\u001b[0;34m\u001b[0m\u001b[0m\n\u001b[0m\u001b[1;32m    144\u001b[0m         \u001b[0;32mif\u001b[0m \u001b[0mdebug\u001b[0m\u001b[0;34m:\u001b[0m\u001b[0;34m\u001b[0m\u001b[0m\n\u001b[1;32m    145\u001b[0m             \u001b[0;32mprint\u001b[0m \u001b[0;34m\"* Text: \"\u001b[0m\u001b[0;34m,\u001b[0m \u001b[0mbrowser\u001b[0m\u001b[0;34m.\u001b[0m\u001b[0mget_text\u001b[0m\u001b[0;34m(\u001b[0m\u001b[0mregion\u001b[0m\u001b[0;34m)\u001b[0m\u001b[0;34m\u001b[0m\u001b[0m\n",
      "\u001b[0;32m/Users/andrew/Adventures/design/code/research/common/evaluate.py\u001b[0m in \u001b[0;36mshow_region\u001b[0;34m(self, region)\u001b[0m\n\u001b[1;32m    273\u001b[0m         \u001b[0mself\u001b[0m\u001b[0;34m.\u001b[0m\u001b[0mbrowser\u001b[0m\u001b[0;34m.\u001b[0m\u001b[0mget\u001b[0m\u001b[0;34m(\u001b[0m\u001b[0mregion\u001b[0m\u001b[0;34m.\u001b[0m\u001b[0murl\u001b[0m\u001b[0;34m)\u001b[0m\u001b[0;34m\u001b[0m\u001b[0m\n\u001b[1;32m    274\u001b[0m         \u001b[0;32mif\u001b[0m \u001b[0mregion\u001b[0m\u001b[0;34m.\u001b[0m\u001b[0melement\u001b[0m \u001b[0;34m!=\u001b[0m \u001b[0;34m''\u001b[0m\u001b[0;34m:\u001b[0m\u001b[0;34m\u001b[0m\u001b[0m\n\u001b[0;32m--> 275\u001b[0;31m             \u001b[0mself\u001b[0m\u001b[0;34m.\u001b[0m\u001b[0mbrowser\u001b[0m\u001b[0;34m.\u001b[0m\u001b[0mexecute_script\u001b[0m\u001b[0;34m(\u001b[0m\u001b[0mSHOW_REGION_SCRIPT\u001b[0m\u001b[0;34m.\u001b[0m\u001b[0mformat\u001b[0m\u001b[0;34m(\u001b[0m\u001b[0melement\u001b[0m\u001b[0;34m=\u001b[0m\u001b[0mregion\u001b[0m\u001b[0;34m.\u001b[0m\u001b[0melement\u001b[0m\u001b[0;34m)\u001b[0m\u001b[0;34m)\u001b[0m\u001b[0;34m\u001b[0m\u001b[0m\n\u001b[0m\u001b[1;32m    276\u001b[0m \u001b[0;34m\u001b[0m\u001b[0m\n\u001b[1;32m    277\u001b[0m     \u001b[0;32mdef\u001b[0m \u001b[0mget_text\u001b[0m\u001b[0;34m(\u001b[0m\u001b[0mself\u001b[0m\u001b[0;34m,\u001b[0m \u001b[0mregion\u001b[0m\u001b[0;34m)\u001b[0m\u001b[0;34m:\u001b[0m\u001b[0;34m\u001b[0m\u001b[0m\n",
      "\u001b[0;32m/Users/andrew/Adventures/design/code/research/venv/lib/python2.7/site-packages/selenium/webdriver/remote/webdriver.pyc\u001b[0m in \u001b[0;36mexecute_script\u001b[0;34m(self, script, *args)\u001b[0m\n\u001b[1;32m    419\u001b[0m         \u001b[0mconverted_args\u001b[0m \u001b[0;34m=\u001b[0m \u001b[0mlist\u001b[0m\u001b[0;34m(\u001b[0m\u001b[0margs\u001b[0m\u001b[0;34m)\u001b[0m\u001b[0;34m\u001b[0m\u001b[0m\n\u001b[1;32m    420\u001b[0m         return self.execute(Command.EXECUTE_SCRIPT,\n\u001b[0;32m--> 421\u001b[0;31m             {'script': script, 'args':converted_args})['value']\n\u001b[0m\u001b[1;32m    422\u001b[0m \u001b[0;34m\u001b[0m\u001b[0m\n\u001b[1;32m    423\u001b[0m     \u001b[0;32mdef\u001b[0m \u001b[0mexecute_async_script\u001b[0m\u001b[0;34m(\u001b[0m\u001b[0mself\u001b[0m\u001b[0;34m,\u001b[0m \u001b[0mscript\u001b[0m\u001b[0;34m,\u001b[0m \u001b[0;34m*\u001b[0m\u001b[0margs\u001b[0m\u001b[0;34m)\u001b[0m\u001b[0;34m:\u001b[0m\u001b[0;34m\u001b[0m\u001b[0m\n",
      "\u001b[0;32m/Users/andrew/Adventures/design/code/research/venv/lib/python2.7/site-packages/selenium/webdriver/remote/webdriver.pyc\u001b[0m in \u001b[0;36mexecute\u001b[0;34m(self, driver_command, params)\u001b[0m\n\u001b[1;32m    191\u001b[0m         \u001b[0mresponse\u001b[0m \u001b[0;34m=\u001b[0m \u001b[0mself\u001b[0m\u001b[0;34m.\u001b[0m\u001b[0mcommand_executor\u001b[0m\u001b[0;34m.\u001b[0m\u001b[0mexecute\u001b[0m\u001b[0;34m(\u001b[0m\u001b[0mdriver_command\u001b[0m\u001b[0;34m,\u001b[0m \u001b[0mparams\u001b[0m\u001b[0;34m)\u001b[0m\u001b[0;34m\u001b[0m\u001b[0m\n\u001b[1;32m    192\u001b[0m         \u001b[0;32mif\u001b[0m \u001b[0mresponse\u001b[0m\u001b[0;34m:\u001b[0m\u001b[0;34m\u001b[0m\u001b[0m\n\u001b[0;32m--> 193\u001b[0;31m             \u001b[0mself\u001b[0m\u001b[0;34m.\u001b[0m\u001b[0merror_handler\u001b[0m\u001b[0;34m.\u001b[0m\u001b[0mcheck_response\u001b[0m\u001b[0;34m(\u001b[0m\u001b[0mresponse\u001b[0m\u001b[0;34m)\u001b[0m\u001b[0;34m\u001b[0m\u001b[0m\n\u001b[0m\u001b[1;32m    194\u001b[0m             response['value'] = self._unwrap_value(\n\u001b[1;32m    195\u001b[0m                 response.get('value', None))\n",
      "\u001b[0;32m/Users/andrew/Adventures/design/code/research/venv/lib/python2.7/site-packages/selenium/webdriver/remote/errorhandler.pyc\u001b[0m in \u001b[0;36mcheck_response\u001b[0;34m(self, response)\u001b[0m\n\u001b[1;32m    179\u001b[0m         \u001b[0;32melif\u001b[0m \u001b[0mexception_class\u001b[0m \u001b[0;34m==\u001b[0m \u001b[0mUnexpectedAlertPresentException\u001b[0m \u001b[0;32mand\u001b[0m \u001b[0;34m'alert'\u001b[0m \u001b[0;32min\u001b[0m \u001b[0mvalue\u001b[0m\u001b[0;34m:\u001b[0m\u001b[0;34m\u001b[0m\u001b[0m\n\u001b[1;32m    180\u001b[0m             \u001b[0;32mraise\u001b[0m \u001b[0mexception_class\u001b[0m\u001b[0;34m(\u001b[0m\u001b[0mmessage\u001b[0m\u001b[0;34m,\u001b[0m \u001b[0mscreen\u001b[0m\u001b[0;34m,\u001b[0m \u001b[0mstacktrace\u001b[0m\u001b[0;34m,\u001b[0m \u001b[0mvalue\u001b[0m\u001b[0;34m[\u001b[0m\u001b[0;34m'alert'\u001b[0m\u001b[0;34m]\u001b[0m\u001b[0;34m.\u001b[0m\u001b[0mget\u001b[0m\u001b[0;34m(\u001b[0m\u001b[0;34m'text'\u001b[0m\u001b[0;34m)\u001b[0m\u001b[0;34m)\u001b[0m\u001b[0;34m\u001b[0m\u001b[0m\n\u001b[0;32m--> 181\u001b[0;31m         \u001b[0;32mraise\u001b[0m \u001b[0mexception_class\u001b[0m\u001b[0;34m(\u001b[0m\u001b[0mmessage\u001b[0m\u001b[0;34m,\u001b[0m \u001b[0mscreen\u001b[0m\u001b[0;34m,\u001b[0m \u001b[0mstacktrace\u001b[0m\u001b[0;34m)\u001b[0m\u001b[0;34m\u001b[0m\u001b[0m\n\u001b[0m\u001b[1;32m    182\u001b[0m \u001b[0;34m\u001b[0m\u001b[0m\n\u001b[1;32m    183\u001b[0m     \u001b[0;32mdef\u001b[0m \u001b[0m_value_or_default\u001b[0m\u001b[0;34m(\u001b[0m\u001b[0mself\u001b[0m\u001b[0;34m,\u001b[0m \u001b[0mobj\u001b[0m\u001b[0;34m,\u001b[0m \u001b[0mkey\u001b[0m\u001b[0;34m,\u001b[0m \u001b[0mdefault\u001b[0m\u001b[0;34m)\u001b[0m\u001b[0;34m:\u001b[0m\u001b[0;34m\u001b[0m\u001b[0m\n",
      "\u001b[0;31mWebDriverException\u001b[0m: Message: Argument 1 of Range.selectNode is not an object.\nStacktrace:\n    at anonymous (http://127.0.0.1:8000/pages/jquery/jquery%20php%20wordpress%20tutorial/1/www.inkthemes.com/how-to-implement-custom-jquery-and-css-in-wordpress-plugin/ line 69 > Function:3)\n    at handleEvaluateEvent (http://127.0.0.1:8000/pages/jquery/jquery%20php%20wordpress%20tutorial/1/www.inkthemes.com/how-to-implement-custom-jquery-and-css-in-wordpress-plugin/:69)"
     ]
    }
   ],
   "source": [
    "inspector.open_false_detections(false_regions, start_index=36)"
   ]
  },
  {
   "cell_type": "code",
   "execution_count": 21,
   "metadata": {
    "collapsed": false
   },
   "outputs": [
    {
     "name": "stdout",
     "output_type": "stream",
     "text": [
      "\n",
      "?? Open next example of missed detection? \n",
      " \n",
      "===== REGION 37 =====\n",
      "{Text: script URL: http://127.0.0.1:8000/pages/jquery/jquery%20php%20wordpress%20tutorial/1/www.inkthemes.com/how-to-implement-custom-jquery-and-css-in-wordpress-plugin/, Element: HTML > BODY:nth-of-type(1) > DIV:nth-of-type(4) > DIV:nth-of-type(1) > DIV:nth-of-type(1) > DIV:nth-of-type(1) > DIV:nth-of-type(1) > DIV:nth-of-type(1) > DIV:nth-of-type(2) > DIV:nth-of-type(1) > DIV:nth-of-type(6) > PRE:nth-of-type(1) > CODE:nth-of-type(1), Offsets: (290, 295)}\n"
     ]
    },
    {
     "ename": "WebDriverException",
     "evalue": "Message: Argument 1 of Range.selectNode is not an object.\nStacktrace:\n    at anonymous (http://127.0.0.1:8000/pages/jquery/jquery%20php%20wordpress%20tutorial/1/www.inkthemes.com/how-to-implement-custom-jquery-and-css-in-wordpress-plugin/ line 69 > Function:3)\n    at handleEvaluateEvent (http://127.0.0.1:8000/pages/jquery/jquery%20php%20wordpress%20tutorial/1/www.inkthemes.com/how-to-implement-custom-jquery-and-css-in-wordpress-plugin/:69)",
     "output_type": "error",
     "traceback": [
      "\u001b[0;31m---------------------------------------------------------------------------\u001b[0m",
      "\u001b[0;31mWebDriverException\u001b[0m                        Traceback (most recent call last)",
      "\u001b[0;32m<ipython-input-21-99fb8caccb0a>\u001b[0m in \u001b[0;36m<module>\u001b[0;34m()\u001b[0m\n\u001b[0;32m----> 1\u001b[0;31m \u001b[0minspector\u001b[0m\u001b[0;34m.\u001b[0m\u001b[0mopen_false_detections\u001b[0m\u001b[0;34m(\u001b[0m\u001b[0mfalse_regions\u001b[0m\u001b[0;34m,\u001b[0m \u001b[0mstart_index\u001b[0m\u001b[0;34m=\u001b[0m\u001b[0;36m37\u001b[0m\u001b[0;34m)\u001b[0m\u001b[0;34m\u001b[0m\u001b[0m\n\u001b[0m",
      "\u001b[0;32m/Users/andrew/Adventures/design/code/research/common/evaluate.py\u001b[0m in \u001b[0;36mopen_false_detections\u001b[0;34m(self, false_regions, start_index, debug)\u001b[0m\n\u001b[1;32m    122\u001b[0m     \u001b[0;32mdef\u001b[0m \u001b[0mopen_false_detections\u001b[0m\u001b[0;34m(\u001b[0m\u001b[0mself\u001b[0m\u001b[0;34m,\u001b[0m \u001b[0mfalse_regions\u001b[0m\u001b[0;34m,\u001b[0m \u001b[0mstart_index\u001b[0m\u001b[0;34m=\u001b[0m\u001b[0;36m0\u001b[0m\u001b[0;34m,\u001b[0m \u001b[0mdebug\u001b[0m\u001b[0;34m=\u001b[0m\u001b[0mTrue\u001b[0m\u001b[0;34m)\u001b[0m\u001b[0;34m:\u001b[0m\u001b[0;34m\u001b[0m\u001b[0m\n\u001b[1;32m    123\u001b[0m         \u001b[0mbrowser\u001b[0m \u001b[0;34m=\u001b[0m \u001b[0mBrowser\u001b[0m\u001b[0;34m(\u001b[0m\u001b[0;34m)\u001b[0m\u001b[0;34m\u001b[0m\u001b[0m\n\u001b[0;32m--> 124\u001b[0;31m         \u001b[0mself\u001b[0m\u001b[0;34m.\u001b[0m\u001b[0mdisplay_regions\u001b[0m\u001b[0;34m(\u001b[0m\u001b[0mbrowser\u001b[0m\u001b[0;34m,\u001b[0m \u001b[0mfalse_regions\u001b[0m\u001b[0;34m[\u001b[0m\u001b[0mstart_index\u001b[0m\u001b[0;34m:\u001b[0m\u001b[0;34m]\u001b[0m\u001b[0;34m,\u001b[0m \u001b[0mdebug\u001b[0m\u001b[0;34m,\u001b[0m \u001b[0mstart_index\u001b[0m\u001b[0;34m)\u001b[0m\u001b[0;34m\u001b[0m\u001b[0m\n\u001b[0m\u001b[1;32m    125\u001b[0m \u001b[0;34m\u001b[0m\u001b[0m\n\u001b[1;32m    126\u001b[0m     \u001b[0;32mdef\u001b[0m \u001b[0mdisplay_regions\u001b[0m\u001b[0;34m(\u001b[0m\u001b[0mself\u001b[0m\u001b[0;34m,\u001b[0m \u001b[0mbrowser\u001b[0m\u001b[0;34m,\u001b[0m \u001b[0mregions\u001b[0m\u001b[0;34m,\u001b[0m \u001b[0mdebug\u001b[0m\u001b[0;34m,\u001b[0m \u001b[0mstart_index\u001b[0m\u001b[0;34m)\u001b[0m\u001b[0;34m:\u001b[0m\u001b[0;34m\u001b[0m\u001b[0m\n",
      "\u001b[0;32m/Users/andrew/Adventures/design/code/research/common/evaluate.py\u001b[0m in \u001b[0;36mdisplay_regions\u001b[0;34m(self, browser, regions, debug, start_index)\u001b[0m\n\u001b[1;32m    132\u001b[0m                 \u001b[0;32mif\u001b[0m \u001b[0magain\u001b[0m\u001b[0;34m.\u001b[0m\u001b[0mlower\u001b[0m\u001b[0;34m(\u001b[0m\u001b[0;34m)\u001b[0m \u001b[0;34m==\u001b[0m \u001b[0;34m'n'\u001b[0m\u001b[0;34m:\u001b[0m\u001b[0;34m\u001b[0m\u001b[0m\n\u001b[1;32m    133\u001b[0m                     \u001b[0;32mbreak\u001b[0m\u001b[0;34m\u001b[0m\u001b[0m\n\u001b[0;32m--> 134\u001b[0;31m                 \u001b[0mself\u001b[0m\u001b[0;34m.\u001b[0m\u001b[0mdisplay_region\u001b[0m\u001b[0;34m(\u001b[0m\u001b[0mbrowser\u001b[0m\u001b[0;34m,\u001b[0m \u001b[0mr\u001b[0m\u001b[0;34m,\u001b[0m \u001b[0mi\u001b[0m\u001b[0;34m,\u001b[0m \u001b[0mdebug\u001b[0m\u001b[0;34m)\u001b[0m\u001b[0;34m\u001b[0m\u001b[0m\n\u001b[0m\u001b[1;32m    135\u001b[0m             \u001b[0;32mexcept\u001b[0m \u001b[0mKeyboardInterrupt\u001b[0m\u001b[0;34m:\u001b[0m\u001b[0;34m\u001b[0m\u001b[0m\n\u001b[1;32m    136\u001b[0m                 \u001b[0mbrowser\u001b[0m\u001b[0;34m.\u001b[0m\u001b[0mclose\u001b[0m\u001b[0;34m(\u001b[0m\u001b[0;34m)\u001b[0m\u001b[0;34m\u001b[0m\u001b[0m\n",
      "\u001b[0;32m/Users/andrew/Adventures/design/code/research/common/evaluate.py\u001b[0m in \u001b[0;36mdisplay_region\u001b[0;34m(self, browser, region, index, debug)\u001b[0m\n\u001b[1;32m    141\u001b[0m         \u001b[0;32mprint\u001b[0m \u001b[0;34m\"===== REGION %d =====\"\u001b[0m \u001b[0;34m%\u001b[0m \u001b[0mindex\u001b[0m\u001b[0;34m\u001b[0m\u001b[0m\n\u001b[1;32m    142\u001b[0m         \u001b[0;32mprint\u001b[0m \u001b[0municode\u001b[0m\u001b[0;34m(\u001b[0m\u001b[0mregion\u001b[0m\u001b[0;34m)\u001b[0m\u001b[0;34m\u001b[0m\u001b[0m\n\u001b[0;32m--> 143\u001b[0;31m         \u001b[0mbrowser\u001b[0m\u001b[0;34m.\u001b[0m\u001b[0mshow_region\u001b[0m\u001b[0;34m(\u001b[0m\u001b[0mregion\u001b[0m\u001b[0;34m)\u001b[0m\u001b[0;34m\u001b[0m\u001b[0m\n\u001b[0m\u001b[1;32m    144\u001b[0m         \u001b[0;32mif\u001b[0m \u001b[0mdebug\u001b[0m\u001b[0;34m:\u001b[0m\u001b[0;34m\u001b[0m\u001b[0m\n\u001b[1;32m    145\u001b[0m             \u001b[0;32mprint\u001b[0m \u001b[0;34m\"* Text: \"\u001b[0m\u001b[0;34m,\u001b[0m \u001b[0mbrowser\u001b[0m\u001b[0;34m.\u001b[0m\u001b[0mget_text\u001b[0m\u001b[0;34m(\u001b[0m\u001b[0mregion\u001b[0m\u001b[0;34m)\u001b[0m\u001b[0;34m\u001b[0m\u001b[0m\n",
      "\u001b[0;32m/Users/andrew/Adventures/design/code/research/common/evaluate.py\u001b[0m in \u001b[0;36mshow_region\u001b[0;34m(self, region)\u001b[0m\n\u001b[1;32m    273\u001b[0m         \u001b[0mself\u001b[0m\u001b[0;34m.\u001b[0m\u001b[0mbrowser\u001b[0m\u001b[0;34m.\u001b[0m\u001b[0mget\u001b[0m\u001b[0;34m(\u001b[0m\u001b[0mregion\u001b[0m\u001b[0;34m.\u001b[0m\u001b[0murl\u001b[0m\u001b[0;34m)\u001b[0m\u001b[0;34m\u001b[0m\u001b[0m\n\u001b[1;32m    274\u001b[0m         \u001b[0;32mif\u001b[0m \u001b[0mregion\u001b[0m\u001b[0;34m.\u001b[0m\u001b[0melement\u001b[0m \u001b[0;34m!=\u001b[0m \u001b[0;34m''\u001b[0m\u001b[0;34m:\u001b[0m\u001b[0;34m\u001b[0m\u001b[0m\n\u001b[0;32m--> 275\u001b[0;31m             \u001b[0mself\u001b[0m\u001b[0;34m.\u001b[0m\u001b[0mbrowser\u001b[0m\u001b[0;34m.\u001b[0m\u001b[0mexecute_script\u001b[0m\u001b[0;34m(\u001b[0m\u001b[0mSHOW_REGION_SCRIPT\u001b[0m\u001b[0;34m.\u001b[0m\u001b[0mformat\u001b[0m\u001b[0;34m(\u001b[0m\u001b[0melement\u001b[0m\u001b[0;34m=\u001b[0m\u001b[0mregion\u001b[0m\u001b[0;34m.\u001b[0m\u001b[0melement\u001b[0m\u001b[0;34m)\u001b[0m\u001b[0;34m)\u001b[0m\u001b[0;34m\u001b[0m\u001b[0m\n\u001b[0m\u001b[1;32m    276\u001b[0m \u001b[0;34m\u001b[0m\u001b[0m\n\u001b[1;32m    277\u001b[0m     \u001b[0;32mdef\u001b[0m \u001b[0mget_text\u001b[0m\u001b[0;34m(\u001b[0m\u001b[0mself\u001b[0m\u001b[0;34m,\u001b[0m \u001b[0mregion\u001b[0m\u001b[0;34m)\u001b[0m\u001b[0;34m:\u001b[0m\u001b[0;34m\u001b[0m\u001b[0m\n",
      "\u001b[0;32m/Users/andrew/Adventures/design/code/research/venv/lib/python2.7/site-packages/selenium/webdriver/remote/webdriver.pyc\u001b[0m in \u001b[0;36mexecute_script\u001b[0;34m(self, script, *args)\u001b[0m\n\u001b[1;32m    419\u001b[0m         \u001b[0mconverted_args\u001b[0m \u001b[0;34m=\u001b[0m \u001b[0mlist\u001b[0m\u001b[0;34m(\u001b[0m\u001b[0margs\u001b[0m\u001b[0;34m)\u001b[0m\u001b[0;34m\u001b[0m\u001b[0m\n\u001b[1;32m    420\u001b[0m         return self.execute(Command.EXECUTE_SCRIPT,\n\u001b[0;32m--> 421\u001b[0;31m             {'script': script, 'args':converted_args})['value']\n\u001b[0m\u001b[1;32m    422\u001b[0m \u001b[0;34m\u001b[0m\u001b[0m\n\u001b[1;32m    423\u001b[0m     \u001b[0;32mdef\u001b[0m \u001b[0mexecute_async_script\u001b[0m\u001b[0;34m(\u001b[0m\u001b[0mself\u001b[0m\u001b[0;34m,\u001b[0m \u001b[0mscript\u001b[0m\u001b[0;34m,\u001b[0m \u001b[0;34m*\u001b[0m\u001b[0margs\u001b[0m\u001b[0;34m)\u001b[0m\u001b[0;34m:\u001b[0m\u001b[0;34m\u001b[0m\u001b[0m\n",
      "\u001b[0;32m/Users/andrew/Adventures/design/code/research/venv/lib/python2.7/site-packages/selenium/webdriver/remote/webdriver.pyc\u001b[0m in \u001b[0;36mexecute\u001b[0;34m(self, driver_command, params)\u001b[0m\n\u001b[1;32m    191\u001b[0m         \u001b[0mresponse\u001b[0m \u001b[0;34m=\u001b[0m \u001b[0mself\u001b[0m\u001b[0;34m.\u001b[0m\u001b[0mcommand_executor\u001b[0m\u001b[0;34m.\u001b[0m\u001b[0mexecute\u001b[0m\u001b[0;34m(\u001b[0m\u001b[0mdriver_command\u001b[0m\u001b[0;34m,\u001b[0m \u001b[0mparams\u001b[0m\u001b[0;34m)\u001b[0m\u001b[0;34m\u001b[0m\u001b[0m\n\u001b[1;32m    192\u001b[0m         \u001b[0;32mif\u001b[0m \u001b[0mresponse\u001b[0m\u001b[0;34m:\u001b[0m\u001b[0;34m\u001b[0m\u001b[0m\n\u001b[0;32m--> 193\u001b[0;31m             \u001b[0mself\u001b[0m\u001b[0;34m.\u001b[0m\u001b[0merror_handler\u001b[0m\u001b[0;34m.\u001b[0m\u001b[0mcheck_response\u001b[0m\u001b[0;34m(\u001b[0m\u001b[0mresponse\u001b[0m\u001b[0;34m)\u001b[0m\u001b[0;34m\u001b[0m\u001b[0m\n\u001b[0m\u001b[1;32m    194\u001b[0m             response['value'] = self._unwrap_value(\n\u001b[1;32m    195\u001b[0m                 response.get('value', None))\n",
      "\u001b[0;32m/Users/andrew/Adventures/design/code/research/venv/lib/python2.7/site-packages/selenium/webdriver/remote/errorhandler.pyc\u001b[0m in \u001b[0;36mcheck_response\u001b[0;34m(self, response)\u001b[0m\n\u001b[1;32m    179\u001b[0m         \u001b[0;32melif\u001b[0m \u001b[0mexception_class\u001b[0m \u001b[0;34m==\u001b[0m \u001b[0mUnexpectedAlertPresentException\u001b[0m \u001b[0;32mand\u001b[0m \u001b[0;34m'alert'\u001b[0m \u001b[0;32min\u001b[0m \u001b[0mvalue\u001b[0m\u001b[0;34m:\u001b[0m\u001b[0;34m\u001b[0m\u001b[0m\n\u001b[1;32m    180\u001b[0m             \u001b[0;32mraise\u001b[0m \u001b[0mexception_class\u001b[0m\u001b[0;34m(\u001b[0m\u001b[0mmessage\u001b[0m\u001b[0;34m,\u001b[0m \u001b[0mscreen\u001b[0m\u001b[0;34m,\u001b[0m \u001b[0mstacktrace\u001b[0m\u001b[0;34m,\u001b[0m \u001b[0mvalue\u001b[0m\u001b[0;34m[\u001b[0m\u001b[0;34m'alert'\u001b[0m\u001b[0;34m]\u001b[0m\u001b[0;34m.\u001b[0m\u001b[0mget\u001b[0m\u001b[0;34m(\u001b[0m\u001b[0;34m'text'\u001b[0m\u001b[0;34m)\u001b[0m\u001b[0;34m)\u001b[0m\u001b[0;34m\u001b[0m\u001b[0m\n\u001b[0;32m--> 181\u001b[0;31m         \u001b[0;32mraise\u001b[0m \u001b[0mexception_class\u001b[0m\u001b[0;34m(\u001b[0m\u001b[0mmessage\u001b[0m\u001b[0;34m,\u001b[0m \u001b[0mscreen\u001b[0m\u001b[0;34m,\u001b[0m \u001b[0mstacktrace\u001b[0m\u001b[0;34m)\u001b[0m\u001b[0;34m\u001b[0m\u001b[0m\n\u001b[0m\u001b[1;32m    182\u001b[0m \u001b[0;34m\u001b[0m\u001b[0m\n\u001b[1;32m    183\u001b[0m     \u001b[0;32mdef\u001b[0m \u001b[0m_value_or_default\u001b[0m\u001b[0;34m(\u001b[0m\u001b[0mself\u001b[0m\u001b[0;34m,\u001b[0m \u001b[0mobj\u001b[0m\u001b[0;34m,\u001b[0m \u001b[0mkey\u001b[0m\u001b[0;34m,\u001b[0m \u001b[0mdefault\u001b[0m\u001b[0;34m)\u001b[0m\u001b[0;34m:\u001b[0m\u001b[0;34m\u001b[0m\u001b[0m\n",
      "\u001b[0;31mWebDriverException\u001b[0m: Message: Argument 1 of Range.selectNode is not an object.\nStacktrace:\n    at anonymous (http://127.0.0.1:8000/pages/jquery/jquery%20php%20wordpress%20tutorial/1/www.inkthemes.com/how-to-implement-custom-jquery-and-css-in-wordpress-plugin/ line 69 > Function:3)\n    at handleEvaluateEvent (http://127.0.0.1:8000/pages/jquery/jquery%20php%20wordpress%20tutorial/1/www.inkthemes.com/how-to-implement-custom-jquery-and-css-in-wordpress-plugin/:69)"
     ]
    }
   ],
   "source": [
    "inspector.open_false_detections(false_regions, start_index=37)"
   ]
  },
  {
   "cell_type": "code",
   "execution_count": 22,
   "metadata": {
    "collapsed": false
   },
   "outputs": [
    {
     "name": "stdout",
     "output_type": "stream",
     "text": [
      "\n",
      "?? Open next example of missed detection? \n",
      " \n",
      "===== REGION 38 =====\n",
      "{Text: #jp_demo URL: http://127.0.0.1:8000/pages/jquery/jquery%20php%20wordpress%20tutorial/1/www.inkthemes.com/how-to-implement-custom-jquery-and-css-in-wordpress-plugin/, Element: HTML > BODY:nth-of-type(1) > DIV:nth-of-type(4) > DIV:nth-of-type(1) > DIV:nth-of-type(1) > DIV:nth-of-type(1) > DIV:nth-of-type(1) > DIV:nth-of-type(1) > DIV:nth-of-type(2) > DIV:nth-of-type(1) > DIV:nth-of-type(8) > PRE:nth-of-type(1) > CODE:nth-of-type(1), Offsets: (46, 53)}\n"
     ]
    },
    {
     "ename": "WebDriverException",
     "evalue": "Message: Argument 1 of Range.selectNode is not an object.\nStacktrace:\n    at anonymous (http://127.0.0.1:8000/pages/jquery/jquery%20php%20wordpress%20tutorial/1/www.inkthemes.com/how-to-implement-custom-jquery-and-css-in-wordpress-plugin/ line 69 > Function:3)\n    at handleEvaluateEvent (http://127.0.0.1:8000/pages/jquery/jquery%20php%20wordpress%20tutorial/1/www.inkthemes.com/how-to-implement-custom-jquery-and-css-in-wordpress-plugin/:69)",
     "output_type": "error",
     "traceback": [
      "\u001b[0;31m---------------------------------------------------------------------------\u001b[0m",
      "\u001b[0;31mWebDriverException\u001b[0m                        Traceback (most recent call last)",
      "\u001b[0;32m<ipython-input-22-f064211c297c>\u001b[0m in \u001b[0;36m<module>\u001b[0;34m()\u001b[0m\n\u001b[0;32m----> 1\u001b[0;31m \u001b[0minspector\u001b[0m\u001b[0;34m.\u001b[0m\u001b[0mopen_false_detections\u001b[0m\u001b[0;34m(\u001b[0m\u001b[0mfalse_regions\u001b[0m\u001b[0;34m,\u001b[0m \u001b[0mstart_index\u001b[0m\u001b[0;34m=\u001b[0m\u001b[0;36m38\u001b[0m\u001b[0;34m)\u001b[0m\u001b[0;34m\u001b[0m\u001b[0m\n\u001b[0m",
      "\u001b[0;32m/Users/andrew/Adventures/design/code/research/common/evaluate.py\u001b[0m in \u001b[0;36mopen_false_detections\u001b[0;34m(self, false_regions, start_index, debug)\u001b[0m\n\u001b[1;32m    122\u001b[0m     \u001b[0;32mdef\u001b[0m \u001b[0mopen_false_detections\u001b[0m\u001b[0;34m(\u001b[0m\u001b[0mself\u001b[0m\u001b[0;34m,\u001b[0m \u001b[0mfalse_regions\u001b[0m\u001b[0;34m,\u001b[0m \u001b[0mstart_index\u001b[0m\u001b[0;34m=\u001b[0m\u001b[0;36m0\u001b[0m\u001b[0;34m,\u001b[0m \u001b[0mdebug\u001b[0m\u001b[0;34m=\u001b[0m\u001b[0mTrue\u001b[0m\u001b[0;34m)\u001b[0m\u001b[0;34m:\u001b[0m\u001b[0;34m\u001b[0m\u001b[0m\n\u001b[1;32m    123\u001b[0m         \u001b[0mbrowser\u001b[0m \u001b[0;34m=\u001b[0m \u001b[0mBrowser\u001b[0m\u001b[0;34m(\u001b[0m\u001b[0;34m)\u001b[0m\u001b[0;34m\u001b[0m\u001b[0m\n\u001b[0;32m--> 124\u001b[0;31m         \u001b[0mself\u001b[0m\u001b[0;34m.\u001b[0m\u001b[0mdisplay_regions\u001b[0m\u001b[0;34m(\u001b[0m\u001b[0mbrowser\u001b[0m\u001b[0;34m,\u001b[0m \u001b[0mfalse_regions\u001b[0m\u001b[0;34m[\u001b[0m\u001b[0mstart_index\u001b[0m\u001b[0;34m:\u001b[0m\u001b[0;34m]\u001b[0m\u001b[0;34m,\u001b[0m \u001b[0mdebug\u001b[0m\u001b[0;34m,\u001b[0m \u001b[0mstart_index\u001b[0m\u001b[0;34m)\u001b[0m\u001b[0;34m\u001b[0m\u001b[0m\n\u001b[0m\u001b[1;32m    125\u001b[0m \u001b[0;34m\u001b[0m\u001b[0m\n\u001b[1;32m    126\u001b[0m     \u001b[0;32mdef\u001b[0m \u001b[0mdisplay_regions\u001b[0m\u001b[0;34m(\u001b[0m\u001b[0mself\u001b[0m\u001b[0;34m,\u001b[0m \u001b[0mbrowser\u001b[0m\u001b[0;34m,\u001b[0m \u001b[0mregions\u001b[0m\u001b[0;34m,\u001b[0m \u001b[0mdebug\u001b[0m\u001b[0;34m,\u001b[0m \u001b[0mstart_index\u001b[0m\u001b[0;34m)\u001b[0m\u001b[0;34m:\u001b[0m\u001b[0;34m\u001b[0m\u001b[0m\n",
      "\u001b[0;32m/Users/andrew/Adventures/design/code/research/common/evaluate.py\u001b[0m in \u001b[0;36mdisplay_regions\u001b[0;34m(self, browser, regions, debug, start_index)\u001b[0m\n\u001b[1;32m    132\u001b[0m                 \u001b[0;32mif\u001b[0m \u001b[0magain\u001b[0m\u001b[0;34m.\u001b[0m\u001b[0mlower\u001b[0m\u001b[0;34m(\u001b[0m\u001b[0;34m)\u001b[0m \u001b[0;34m==\u001b[0m \u001b[0;34m'n'\u001b[0m\u001b[0;34m:\u001b[0m\u001b[0;34m\u001b[0m\u001b[0m\n\u001b[1;32m    133\u001b[0m                     \u001b[0;32mbreak\u001b[0m\u001b[0;34m\u001b[0m\u001b[0m\n\u001b[0;32m--> 134\u001b[0;31m                 \u001b[0mself\u001b[0m\u001b[0;34m.\u001b[0m\u001b[0mdisplay_region\u001b[0m\u001b[0;34m(\u001b[0m\u001b[0mbrowser\u001b[0m\u001b[0;34m,\u001b[0m \u001b[0mr\u001b[0m\u001b[0;34m,\u001b[0m \u001b[0mi\u001b[0m\u001b[0;34m,\u001b[0m \u001b[0mdebug\u001b[0m\u001b[0;34m)\u001b[0m\u001b[0;34m\u001b[0m\u001b[0m\n\u001b[0m\u001b[1;32m    135\u001b[0m             \u001b[0;32mexcept\u001b[0m \u001b[0mKeyboardInterrupt\u001b[0m\u001b[0;34m:\u001b[0m\u001b[0;34m\u001b[0m\u001b[0m\n\u001b[1;32m    136\u001b[0m                 \u001b[0mbrowser\u001b[0m\u001b[0;34m.\u001b[0m\u001b[0mclose\u001b[0m\u001b[0;34m(\u001b[0m\u001b[0;34m)\u001b[0m\u001b[0;34m\u001b[0m\u001b[0m\n",
      "\u001b[0;32m/Users/andrew/Adventures/design/code/research/common/evaluate.py\u001b[0m in \u001b[0;36mdisplay_region\u001b[0;34m(self, browser, region, index, debug)\u001b[0m\n\u001b[1;32m    141\u001b[0m         \u001b[0;32mprint\u001b[0m \u001b[0;34m\"===== REGION %d =====\"\u001b[0m \u001b[0;34m%\u001b[0m \u001b[0mindex\u001b[0m\u001b[0;34m\u001b[0m\u001b[0m\n\u001b[1;32m    142\u001b[0m         \u001b[0;32mprint\u001b[0m \u001b[0municode\u001b[0m\u001b[0;34m(\u001b[0m\u001b[0mregion\u001b[0m\u001b[0;34m)\u001b[0m\u001b[0;34m\u001b[0m\u001b[0m\n\u001b[0;32m--> 143\u001b[0;31m         \u001b[0mbrowser\u001b[0m\u001b[0;34m.\u001b[0m\u001b[0mshow_region\u001b[0m\u001b[0;34m(\u001b[0m\u001b[0mregion\u001b[0m\u001b[0;34m)\u001b[0m\u001b[0;34m\u001b[0m\u001b[0m\n\u001b[0m\u001b[1;32m    144\u001b[0m         \u001b[0;32mif\u001b[0m \u001b[0mdebug\u001b[0m\u001b[0;34m:\u001b[0m\u001b[0;34m\u001b[0m\u001b[0m\n\u001b[1;32m    145\u001b[0m             \u001b[0;32mprint\u001b[0m \u001b[0;34m\"* Text: \"\u001b[0m\u001b[0;34m,\u001b[0m \u001b[0mbrowser\u001b[0m\u001b[0;34m.\u001b[0m\u001b[0mget_text\u001b[0m\u001b[0;34m(\u001b[0m\u001b[0mregion\u001b[0m\u001b[0;34m)\u001b[0m\u001b[0;34m\u001b[0m\u001b[0m\n",
      "\u001b[0;32m/Users/andrew/Adventures/design/code/research/common/evaluate.py\u001b[0m in \u001b[0;36mshow_region\u001b[0;34m(self, region)\u001b[0m\n\u001b[1;32m    273\u001b[0m         \u001b[0mself\u001b[0m\u001b[0;34m.\u001b[0m\u001b[0mbrowser\u001b[0m\u001b[0;34m.\u001b[0m\u001b[0mget\u001b[0m\u001b[0;34m(\u001b[0m\u001b[0mregion\u001b[0m\u001b[0;34m.\u001b[0m\u001b[0murl\u001b[0m\u001b[0;34m)\u001b[0m\u001b[0;34m\u001b[0m\u001b[0m\n\u001b[1;32m    274\u001b[0m         \u001b[0;32mif\u001b[0m \u001b[0mregion\u001b[0m\u001b[0;34m.\u001b[0m\u001b[0melement\u001b[0m \u001b[0;34m!=\u001b[0m \u001b[0;34m''\u001b[0m\u001b[0;34m:\u001b[0m\u001b[0;34m\u001b[0m\u001b[0m\n\u001b[0;32m--> 275\u001b[0;31m             \u001b[0mself\u001b[0m\u001b[0;34m.\u001b[0m\u001b[0mbrowser\u001b[0m\u001b[0;34m.\u001b[0m\u001b[0mexecute_script\u001b[0m\u001b[0;34m(\u001b[0m\u001b[0mSHOW_REGION_SCRIPT\u001b[0m\u001b[0;34m.\u001b[0m\u001b[0mformat\u001b[0m\u001b[0;34m(\u001b[0m\u001b[0melement\u001b[0m\u001b[0;34m=\u001b[0m\u001b[0mregion\u001b[0m\u001b[0;34m.\u001b[0m\u001b[0melement\u001b[0m\u001b[0;34m)\u001b[0m\u001b[0;34m)\u001b[0m\u001b[0;34m\u001b[0m\u001b[0m\n\u001b[0m\u001b[1;32m    276\u001b[0m \u001b[0;34m\u001b[0m\u001b[0m\n\u001b[1;32m    277\u001b[0m     \u001b[0;32mdef\u001b[0m \u001b[0mget_text\u001b[0m\u001b[0;34m(\u001b[0m\u001b[0mself\u001b[0m\u001b[0;34m,\u001b[0m \u001b[0mregion\u001b[0m\u001b[0;34m)\u001b[0m\u001b[0;34m:\u001b[0m\u001b[0;34m\u001b[0m\u001b[0m\n",
      "\u001b[0;32m/Users/andrew/Adventures/design/code/research/venv/lib/python2.7/site-packages/selenium/webdriver/remote/webdriver.pyc\u001b[0m in \u001b[0;36mexecute_script\u001b[0;34m(self, script, *args)\u001b[0m\n\u001b[1;32m    419\u001b[0m         \u001b[0mconverted_args\u001b[0m \u001b[0;34m=\u001b[0m \u001b[0mlist\u001b[0m\u001b[0;34m(\u001b[0m\u001b[0margs\u001b[0m\u001b[0;34m)\u001b[0m\u001b[0;34m\u001b[0m\u001b[0m\n\u001b[1;32m    420\u001b[0m         return self.execute(Command.EXECUTE_SCRIPT,\n\u001b[0;32m--> 421\u001b[0;31m             {'script': script, 'args':converted_args})['value']\n\u001b[0m\u001b[1;32m    422\u001b[0m \u001b[0;34m\u001b[0m\u001b[0m\n\u001b[1;32m    423\u001b[0m     \u001b[0;32mdef\u001b[0m \u001b[0mexecute_async_script\u001b[0m\u001b[0;34m(\u001b[0m\u001b[0mself\u001b[0m\u001b[0;34m,\u001b[0m \u001b[0mscript\u001b[0m\u001b[0;34m,\u001b[0m \u001b[0;34m*\u001b[0m\u001b[0margs\u001b[0m\u001b[0;34m)\u001b[0m\u001b[0;34m:\u001b[0m\u001b[0;34m\u001b[0m\u001b[0m\n",
      "\u001b[0;32m/Users/andrew/Adventures/design/code/research/venv/lib/python2.7/site-packages/selenium/webdriver/remote/webdriver.pyc\u001b[0m in \u001b[0;36mexecute\u001b[0;34m(self, driver_command, params)\u001b[0m\n\u001b[1;32m    191\u001b[0m         \u001b[0mresponse\u001b[0m \u001b[0;34m=\u001b[0m \u001b[0mself\u001b[0m\u001b[0;34m.\u001b[0m\u001b[0mcommand_executor\u001b[0m\u001b[0;34m.\u001b[0m\u001b[0mexecute\u001b[0m\u001b[0;34m(\u001b[0m\u001b[0mdriver_command\u001b[0m\u001b[0;34m,\u001b[0m \u001b[0mparams\u001b[0m\u001b[0;34m)\u001b[0m\u001b[0;34m\u001b[0m\u001b[0m\n\u001b[1;32m    192\u001b[0m         \u001b[0;32mif\u001b[0m \u001b[0mresponse\u001b[0m\u001b[0;34m:\u001b[0m\u001b[0;34m\u001b[0m\u001b[0m\n\u001b[0;32m--> 193\u001b[0;31m             \u001b[0mself\u001b[0m\u001b[0;34m.\u001b[0m\u001b[0merror_handler\u001b[0m\u001b[0;34m.\u001b[0m\u001b[0mcheck_response\u001b[0m\u001b[0;34m(\u001b[0m\u001b[0mresponse\u001b[0m\u001b[0;34m)\u001b[0m\u001b[0;34m\u001b[0m\u001b[0m\n\u001b[0m\u001b[1;32m    194\u001b[0m             response['value'] = self._unwrap_value(\n\u001b[1;32m    195\u001b[0m                 response.get('value', None))\n",
      "\u001b[0;32m/Users/andrew/Adventures/design/code/research/venv/lib/python2.7/site-packages/selenium/webdriver/remote/errorhandler.pyc\u001b[0m in \u001b[0;36mcheck_response\u001b[0;34m(self, response)\u001b[0m\n\u001b[1;32m    179\u001b[0m         \u001b[0;32melif\u001b[0m \u001b[0mexception_class\u001b[0m \u001b[0;34m==\u001b[0m \u001b[0mUnexpectedAlertPresentException\u001b[0m \u001b[0;32mand\u001b[0m \u001b[0;34m'alert'\u001b[0m \u001b[0;32min\u001b[0m \u001b[0mvalue\u001b[0m\u001b[0;34m:\u001b[0m\u001b[0;34m\u001b[0m\u001b[0m\n\u001b[1;32m    180\u001b[0m             \u001b[0;32mraise\u001b[0m \u001b[0mexception_class\u001b[0m\u001b[0;34m(\u001b[0m\u001b[0mmessage\u001b[0m\u001b[0;34m,\u001b[0m \u001b[0mscreen\u001b[0m\u001b[0;34m,\u001b[0m \u001b[0mstacktrace\u001b[0m\u001b[0;34m,\u001b[0m \u001b[0mvalue\u001b[0m\u001b[0;34m[\u001b[0m\u001b[0;34m'alert'\u001b[0m\u001b[0;34m]\u001b[0m\u001b[0;34m.\u001b[0m\u001b[0mget\u001b[0m\u001b[0;34m(\u001b[0m\u001b[0;34m'text'\u001b[0m\u001b[0;34m)\u001b[0m\u001b[0;34m)\u001b[0m\u001b[0;34m\u001b[0m\u001b[0m\n\u001b[0;32m--> 181\u001b[0;31m         \u001b[0;32mraise\u001b[0m \u001b[0mexception_class\u001b[0m\u001b[0;34m(\u001b[0m\u001b[0mmessage\u001b[0m\u001b[0;34m,\u001b[0m \u001b[0mscreen\u001b[0m\u001b[0;34m,\u001b[0m \u001b[0mstacktrace\u001b[0m\u001b[0;34m)\u001b[0m\u001b[0;34m\u001b[0m\u001b[0m\n\u001b[0m\u001b[1;32m    182\u001b[0m \u001b[0;34m\u001b[0m\u001b[0m\n\u001b[1;32m    183\u001b[0m     \u001b[0;32mdef\u001b[0m \u001b[0m_value_or_default\u001b[0m\u001b[0;34m(\u001b[0m\u001b[0mself\u001b[0m\u001b[0;34m,\u001b[0m \u001b[0mobj\u001b[0m\u001b[0;34m,\u001b[0m \u001b[0mkey\u001b[0m\u001b[0;34m,\u001b[0m \u001b[0mdefault\u001b[0m\u001b[0;34m)\u001b[0m\u001b[0;34m:\u001b[0m\u001b[0;34m\u001b[0m\u001b[0m\n",
      "\u001b[0;31mWebDriverException\u001b[0m: Message: Argument 1 of Range.selectNode is not an object.\nStacktrace:\n    at anonymous (http://127.0.0.1:8000/pages/jquery/jquery%20php%20wordpress%20tutorial/1/www.inkthemes.com/how-to-implement-custom-jquery-and-css-in-wordpress-plugin/ line 69 > Function:3)\n    at handleEvaluateEvent (http://127.0.0.1:8000/pages/jquery/jquery%20php%20wordpress%20tutorial/1/www.inkthemes.com/how-to-implement-custom-jquery-and-css-in-wordpress-plugin/:69)"
     ]
    }
   ],
   "source": [
    "inspector.open_false_detections(false_regions, start_index=38)"
   ]
  },
  {
   "cell_type": "code",
   "execution_count": 23,
   "metadata": {
    "collapsed": false
   },
   "outputs": [
    {
     "name": "stdout",
     "output_type": "stream",
     "text": [
      "\n",
      "?? Open next example of missed detection? \n",
      " \n",
      "===== REGION 39 =====\n",
      "{Text: .popup_window URL: http://127.0.0.1:8000/pages/jquery/jquery%20php%20wordpress%20tutorial/1/www.inkthemes.com/how-to-implement-custom-jquery-and-css-in-wordpress-plugin/, Element: HTML > BODY:nth-of-type(1) > DIV:nth-of-type(4) > DIV:nth-of-type(1) > DIV:nth-of-type(1) > DIV:nth-of-type(1) > DIV:nth-of-type(1) > DIV:nth-of-type(1) > DIV:nth-of-type(2) > DIV:nth-of-type(1) > DIV:nth-of-type(8) > PRE:nth-of-type(1) > CODE:nth-of-type(1), Offsets: (83, 95)}\n"
     ]
    },
    {
     "ename": "WebDriverException",
     "evalue": "Message: Argument 1 of Range.selectNode is not an object.\nStacktrace:\n    at anonymous (http://127.0.0.1:8000/pages/jquery/jquery%20php%20wordpress%20tutorial/1/www.inkthemes.com/how-to-implement-custom-jquery-and-css-in-wordpress-plugin/ line 69 > Function:3)\n    at handleEvaluateEvent (http://127.0.0.1:8000/pages/jquery/jquery%20php%20wordpress%20tutorial/1/www.inkthemes.com/how-to-implement-custom-jquery-and-css-in-wordpress-plugin/:69)",
     "output_type": "error",
     "traceback": [
      "\u001b[0;31m---------------------------------------------------------------------------\u001b[0m",
      "\u001b[0;31mWebDriverException\u001b[0m                        Traceback (most recent call last)",
      "\u001b[0;32m<ipython-input-23-d78161214014>\u001b[0m in \u001b[0;36m<module>\u001b[0;34m()\u001b[0m\n\u001b[0;32m----> 1\u001b[0;31m \u001b[0minspector\u001b[0m\u001b[0;34m.\u001b[0m\u001b[0mopen_false_detections\u001b[0m\u001b[0;34m(\u001b[0m\u001b[0mfalse_regions\u001b[0m\u001b[0;34m,\u001b[0m \u001b[0mstart_index\u001b[0m\u001b[0;34m=\u001b[0m\u001b[0;36m39\u001b[0m\u001b[0;34m)\u001b[0m\u001b[0;34m\u001b[0m\u001b[0m\n\u001b[0m",
      "\u001b[0;32m/Users/andrew/Adventures/design/code/research/common/evaluate.py\u001b[0m in \u001b[0;36mopen_false_detections\u001b[0;34m(self, false_regions, start_index, debug)\u001b[0m\n\u001b[1;32m    122\u001b[0m     \u001b[0;32mdef\u001b[0m \u001b[0mopen_false_detections\u001b[0m\u001b[0;34m(\u001b[0m\u001b[0mself\u001b[0m\u001b[0;34m,\u001b[0m \u001b[0mfalse_regions\u001b[0m\u001b[0;34m,\u001b[0m \u001b[0mstart_index\u001b[0m\u001b[0;34m=\u001b[0m\u001b[0;36m0\u001b[0m\u001b[0;34m,\u001b[0m \u001b[0mdebug\u001b[0m\u001b[0;34m=\u001b[0m\u001b[0mTrue\u001b[0m\u001b[0;34m)\u001b[0m\u001b[0;34m:\u001b[0m\u001b[0;34m\u001b[0m\u001b[0m\n\u001b[1;32m    123\u001b[0m         \u001b[0mbrowser\u001b[0m \u001b[0;34m=\u001b[0m \u001b[0mBrowser\u001b[0m\u001b[0;34m(\u001b[0m\u001b[0;34m)\u001b[0m\u001b[0;34m\u001b[0m\u001b[0m\n\u001b[0;32m--> 124\u001b[0;31m         \u001b[0mself\u001b[0m\u001b[0;34m.\u001b[0m\u001b[0mdisplay_regions\u001b[0m\u001b[0;34m(\u001b[0m\u001b[0mbrowser\u001b[0m\u001b[0;34m,\u001b[0m \u001b[0mfalse_regions\u001b[0m\u001b[0;34m[\u001b[0m\u001b[0mstart_index\u001b[0m\u001b[0;34m:\u001b[0m\u001b[0;34m]\u001b[0m\u001b[0;34m,\u001b[0m \u001b[0mdebug\u001b[0m\u001b[0;34m,\u001b[0m \u001b[0mstart_index\u001b[0m\u001b[0;34m)\u001b[0m\u001b[0;34m\u001b[0m\u001b[0m\n\u001b[0m\u001b[1;32m    125\u001b[0m \u001b[0;34m\u001b[0m\u001b[0m\n\u001b[1;32m    126\u001b[0m     \u001b[0;32mdef\u001b[0m \u001b[0mdisplay_regions\u001b[0m\u001b[0;34m(\u001b[0m\u001b[0mself\u001b[0m\u001b[0;34m,\u001b[0m \u001b[0mbrowser\u001b[0m\u001b[0;34m,\u001b[0m \u001b[0mregions\u001b[0m\u001b[0;34m,\u001b[0m \u001b[0mdebug\u001b[0m\u001b[0;34m,\u001b[0m \u001b[0mstart_index\u001b[0m\u001b[0;34m)\u001b[0m\u001b[0;34m:\u001b[0m\u001b[0;34m\u001b[0m\u001b[0m\n",
      "\u001b[0;32m/Users/andrew/Adventures/design/code/research/common/evaluate.py\u001b[0m in \u001b[0;36mdisplay_regions\u001b[0;34m(self, browser, regions, debug, start_index)\u001b[0m\n\u001b[1;32m    132\u001b[0m                 \u001b[0;32mif\u001b[0m \u001b[0magain\u001b[0m\u001b[0;34m.\u001b[0m\u001b[0mlower\u001b[0m\u001b[0;34m(\u001b[0m\u001b[0;34m)\u001b[0m \u001b[0;34m==\u001b[0m \u001b[0;34m'n'\u001b[0m\u001b[0;34m:\u001b[0m\u001b[0;34m\u001b[0m\u001b[0m\n\u001b[1;32m    133\u001b[0m                     \u001b[0;32mbreak\u001b[0m\u001b[0;34m\u001b[0m\u001b[0m\n\u001b[0;32m--> 134\u001b[0;31m                 \u001b[0mself\u001b[0m\u001b[0;34m.\u001b[0m\u001b[0mdisplay_region\u001b[0m\u001b[0;34m(\u001b[0m\u001b[0mbrowser\u001b[0m\u001b[0;34m,\u001b[0m \u001b[0mr\u001b[0m\u001b[0;34m,\u001b[0m \u001b[0mi\u001b[0m\u001b[0;34m,\u001b[0m \u001b[0mdebug\u001b[0m\u001b[0;34m)\u001b[0m\u001b[0;34m\u001b[0m\u001b[0m\n\u001b[0m\u001b[1;32m    135\u001b[0m             \u001b[0;32mexcept\u001b[0m \u001b[0mKeyboardInterrupt\u001b[0m\u001b[0;34m:\u001b[0m\u001b[0;34m\u001b[0m\u001b[0m\n\u001b[1;32m    136\u001b[0m                 \u001b[0mbrowser\u001b[0m\u001b[0;34m.\u001b[0m\u001b[0mclose\u001b[0m\u001b[0;34m(\u001b[0m\u001b[0;34m)\u001b[0m\u001b[0;34m\u001b[0m\u001b[0m\n",
      "\u001b[0;32m/Users/andrew/Adventures/design/code/research/common/evaluate.py\u001b[0m in \u001b[0;36mdisplay_region\u001b[0;34m(self, browser, region, index, debug)\u001b[0m\n\u001b[1;32m    141\u001b[0m         \u001b[0;32mprint\u001b[0m \u001b[0;34m\"===== REGION %d =====\"\u001b[0m \u001b[0;34m%\u001b[0m \u001b[0mindex\u001b[0m\u001b[0;34m\u001b[0m\u001b[0m\n\u001b[1;32m    142\u001b[0m         \u001b[0;32mprint\u001b[0m \u001b[0municode\u001b[0m\u001b[0;34m(\u001b[0m\u001b[0mregion\u001b[0m\u001b[0;34m)\u001b[0m\u001b[0;34m\u001b[0m\u001b[0m\n\u001b[0;32m--> 143\u001b[0;31m         \u001b[0mbrowser\u001b[0m\u001b[0;34m.\u001b[0m\u001b[0mshow_region\u001b[0m\u001b[0;34m(\u001b[0m\u001b[0mregion\u001b[0m\u001b[0;34m)\u001b[0m\u001b[0;34m\u001b[0m\u001b[0m\n\u001b[0m\u001b[1;32m    144\u001b[0m         \u001b[0;32mif\u001b[0m \u001b[0mdebug\u001b[0m\u001b[0;34m:\u001b[0m\u001b[0;34m\u001b[0m\u001b[0m\n\u001b[1;32m    145\u001b[0m             \u001b[0;32mprint\u001b[0m \u001b[0;34m\"* Text: \"\u001b[0m\u001b[0;34m,\u001b[0m \u001b[0mbrowser\u001b[0m\u001b[0;34m.\u001b[0m\u001b[0mget_text\u001b[0m\u001b[0;34m(\u001b[0m\u001b[0mregion\u001b[0m\u001b[0;34m)\u001b[0m\u001b[0;34m\u001b[0m\u001b[0m\n",
      "\u001b[0;32m/Users/andrew/Adventures/design/code/research/common/evaluate.py\u001b[0m in \u001b[0;36mshow_region\u001b[0;34m(self, region)\u001b[0m\n\u001b[1;32m    273\u001b[0m         \u001b[0mself\u001b[0m\u001b[0;34m.\u001b[0m\u001b[0mbrowser\u001b[0m\u001b[0;34m.\u001b[0m\u001b[0mget\u001b[0m\u001b[0;34m(\u001b[0m\u001b[0mregion\u001b[0m\u001b[0;34m.\u001b[0m\u001b[0murl\u001b[0m\u001b[0;34m)\u001b[0m\u001b[0;34m\u001b[0m\u001b[0m\n\u001b[1;32m    274\u001b[0m         \u001b[0;32mif\u001b[0m \u001b[0mregion\u001b[0m\u001b[0;34m.\u001b[0m\u001b[0melement\u001b[0m \u001b[0;34m!=\u001b[0m \u001b[0;34m''\u001b[0m\u001b[0;34m:\u001b[0m\u001b[0;34m\u001b[0m\u001b[0m\n\u001b[0;32m--> 275\u001b[0;31m             \u001b[0mself\u001b[0m\u001b[0;34m.\u001b[0m\u001b[0mbrowser\u001b[0m\u001b[0;34m.\u001b[0m\u001b[0mexecute_script\u001b[0m\u001b[0;34m(\u001b[0m\u001b[0mSHOW_REGION_SCRIPT\u001b[0m\u001b[0;34m.\u001b[0m\u001b[0mformat\u001b[0m\u001b[0;34m(\u001b[0m\u001b[0melement\u001b[0m\u001b[0;34m=\u001b[0m\u001b[0mregion\u001b[0m\u001b[0;34m.\u001b[0m\u001b[0melement\u001b[0m\u001b[0;34m)\u001b[0m\u001b[0;34m)\u001b[0m\u001b[0;34m\u001b[0m\u001b[0m\n\u001b[0m\u001b[1;32m    276\u001b[0m \u001b[0;34m\u001b[0m\u001b[0m\n\u001b[1;32m    277\u001b[0m     \u001b[0;32mdef\u001b[0m \u001b[0mget_text\u001b[0m\u001b[0;34m(\u001b[0m\u001b[0mself\u001b[0m\u001b[0;34m,\u001b[0m \u001b[0mregion\u001b[0m\u001b[0;34m)\u001b[0m\u001b[0;34m:\u001b[0m\u001b[0;34m\u001b[0m\u001b[0m\n",
      "\u001b[0;32m/Users/andrew/Adventures/design/code/research/venv/lib/python2.7/site-packages/selenium/webdriver/remote/webdriver.pyc\u001b[0m in \u001b[0;36mexecute_script\u001b[0;34m(self, script, *args)\u001b[0m\n\u001b[1;32m    419\u001b[0m         \u001b[0mconverted_args\u001b[0m \u001b[0;34m=\u001b[0m \u001b[0mlist\u001b[0m\u001b[0;34m(\u001b[0m\u001b[0margs\u001b[0m\u001b[0;34m)\u001b[0m\u001b[0;34m\u001b[0m\u001b[0m\n\u001b[1;32m    420\u001b[0m         return self.execute(Command.EXECUTE_SCRIPT,\n\u001b[0;32m--> 421\u001b[0;31m             {'script': script, 'args':converted_args})['value']\n\u001b[0m\u001b[1;32m    422\u001b[0m \u001b[0;34m\u001b[0m\u001b[0m\n\u001b[1;32m    423\u001b[0m     \u001b[0;32mdef\u001b[0m \u001b[0mexecute_async_script\u001b[0m\u001b[0;34m(\u001b[0m\u001b[0mself\u001b[0m\u001b[0;34m,\u001b[0m \u001b[0mscript\u001b[0m\u001b[0;34m,\u001b[0m \u001b[0;34m*\u001b[0m\u001b[0margs\u001b[0m\u001b[0;34m)\u001b[0m\u001b[0;34m:\u001b[0m\u001b[0;34m\u001b[0m\u001b[0m\n",
      "\u001b[0;32m/Users/andrew/Adventures/design/code/research/venv/lib/python2.7/site-packages/selenium/webdriver/remote/webdriver.pyc\u001b[0m in \u001b[0;36mexecute\u001b[0;34m(self, driver_command, params)\u001b[0m\n\u001b[1;32m    191\u001b[0m         \u001b[0mresponse\u001b[0m \u001b[0;34m=\u001b[0m \u001b[0mself\u001b[0m\u001b[0;34m.\u001b[0m\u001b[0mcommand_executor\u001b[0m\u001b[0;34m.\u001b[0m\u001b[0mexecute\u001b[0m\u001b[0;34m(\u001b[0m\u001b[0mdriver_command\u001b[0m\u001b[0;34m,\u001b[0m \u001b[0mparams\u001b[0m\u001b[0;34m)\u001b[0m\u001b[0;34m\u001b[0m\u001b[0m\n\u001b[1;32m    192\u001b[0m         \u001b[0;32mif\u001b[0m \u001b[0mresponse\u001b[0m\u001b[0;34m:\u001b[0m\u001b[0;34m\u001b[0m\u001b[0m\n\u001b[0;32m--> 193\u001b[0;31m             \u001b[0mself\u001b[0m\u001b[0;34m.\u001b[0m\u001b[0merror_handler\u001b[0m\u001b[0;34m.\u001b[0m\u001b[0mcheck_response\u001b[0m\u001b[0;34m(\u001b[0m\u001b[0mresponse\u001b[0m\u001b[0;34m)\u001b[0m\u001b[0;34m\u001b[0m\u001b[0m\n\u001b[0m\u001b[1;32m    194\u001b[0m             response['value'] = self._unwrap_value(\n\u001b[1;32m    195\u001b[0m                 response.get('value', None))\n",
      "\u001b[0;32m/Users/andrew/Adventures/design/code/research/venv/lib/python2.7/site-packages/selenium/webdriver/remote/errorhandler.pyc\u001b[0m in \u001b[0;36mcheck_response\u001b[0;34m(self, response)\u001b[0m\n\u001b[1;32m    179\u001b[0m         \u001b[0;32melif\u001b[0m \u001b[0mexception_class\u001b[0m \u001b[0;34m==\u001b[0m \u001b[0mUnexpectedAlertPresentException\u001b[0m \u001b[0;32mand\u001b[0m \u001b[0;34m'alert'\u001b[0m \u001b[0;32min\u001b[0m \u001b[0mvalue\u001b[0m\u001b[0;34m:\u001b[0m\u001b[0;34m\u001b[0m\u001b[0m\n\u001b[1;32m    180\u001b[0m             \u001b[0;32mraise\u001b[0m \u001b[0mexception_class\u001b[0m\u001b[0;34m(\u001b[0m\u001b[0mmessage\u001b[0m\u001b[0;34m,\u001b[0m \u001b[0mscreen\u001b[0m\u001b[0;34m,\u001b[0m \u001b[0mstacktrace\u001b[0m\u001b[0;34m,\u001b[0m \u001b[0mvalue\u001b[0m\u001b[0;34m[\u001b[0m\u001b[0;34m'alert'\u001b[0m\u001b[0;34m]\u001b[0m\u001b[0;34m.\u001b[0m\u001b[0mget\u001b[0m\u001b[0;34m(\u001b[0m\u001b[0;34m'text'\u001b[0m\u001b[0;34m)\u001b[0m\u001b[0;34m)\u001b[0m\u001b[0;34m\u001b[0m\u001b[0m\n\u001b[0;32m--> 181\u001b[0;31m         \u001b[0;32mraise\u001b[0m \u001b[0mexception_class\u001b[0m\u001b[0;34m(\u001b[0m\u001b[0mmessage\u001b[0m\u001b[0;34m,\u001b[0m \u001b[0mscreen\u001b[0m\u001b[0;34m,\u001b[0m \u001b[0mstacktrace\u001b[0m\u001b[0;34m)\u001b[0m\u001b[0;34m\u001b[0m\u001b[0m\n\u001b[0m\u001b[1;32m    182\u001b[0m \u001b[0;34m\u001b[0m\u001b[0m\n\u001b[1;32m    183\u001b[0m     \u001b[0;32mdef\u001b[0m \u001b[0m_value_or_default\u001b[0m\u001b[0;34m(\u001b[0m\u001b[0mself\u001b[0m\u001b[0;34m,\u001b[0m \u001b[0mobj\u001b[0m\u001b[0;34m,\u001b[0m \u001b[0mkey\u001b[0m\u001b[0;34m,\u001b[0m \u001b[0mdefault\u001b[0m\u001b[0;34m)\u001b[0m\u001b[0;34m:\u001b[0m\u001b[0;34m\u001b[0m\u001b[0m\n",
      "\u001b[0;31mWebDriverException\u001b[0m: Message: Argument 1 of Range.selectNode is not an object.\nStacktrace:\n    at anonymous (http://127.0.0.1:8000/pages/jquery/jquery%20php%20wordpress%20tutorial/1/www.inkthemes.com/how-to-implement-custom-jquery-and-css-in-wordpress-plugin/ line 69 > Function:3)\n    at handleEvaluateEvent (http://127.0.0.1:8000/pages/jquery/jquery%20php%20wordpress%20tutorial/1/www.inkthemes.com/how-to-implement-custom-jquery-and-css-in-wordpress-plugin/:69)"
     ]
    }
   ],
   "source": [
    "inspector.open_false_detections(false_regions, start_index=39)"
   ]
  },
  {
   "cell_type": "code",
   "execution_count": 24,
   "metadata": {
    "collapsed": false
   },
   "outputs": [
    {
     "name": "stdout",
     "output_type": "stream",
     "text": [
      "\n",
      "?? Open next example of missed detection? \n",
      " \n",
      "===== REGION 40 =====\n",
      "{Text: title URL: http://127.0.0.1:8000/pages/jquery/javascript%20jquery%20json%20tutorial/1/iviewsource.com/codingtutorials/getting-started-with-javascript-object-notation-json-for-absolute-beginners/, Element: HTML > BODY:nth-of-type(1) > DIV:nth-of-type(1) > DIV:nth-of-type(1) > DIV:nth-of-type(1) > DIV:nth-of-type(1) > DIV:nth-of-type(2) > OL:nth-of-type(1) > LI:nth-of-type(20) > ARTICLE:nth-of-type(1) > SECTION:nth-of-type(1) > PRE:nth-of-type(1) > CODE:nth-of-type(1), Offsets: (42, 46)}\n",
      "* Text:  title\n",
      "* HTML:  <code class=\"objectivec\">    var mTitle== document<span class=\"variable\">.getElementById</span>(<span class=\"string\">\"title\"</span>)<span class=\"variable\">.value</span>;\n",
      "    var mWriter = document<span class=\"variable\">.getElementById</span>(<span class=\"string\">\"writer\"</span>)<span class=\"variable\">.value</span>;\n",
      "    var mArticle = document<span class=\"variable\">.getElementById</span>(<span class=\"string\">\"article\"</span>)<span class=\"variable\">.value</span>;\n",
      "    var text = {\n",
      "        <span class=\"string\">\"title\"</span> : mTitle,\n",
      "        <span class=\"string\">\"writer\"</span> : mWriter,\n",
      "        <span class=\"string\">\"article\"</span> : mArticle\n",
      "    };\n",
      "\n",
      "    $<span class=\"variable\">.post</span>(<span class=\"string\">\"http://gammaflow.no-ip.org/tora/createTip/\"</span>,\n",
      "              text,\n",
      "              function(data){\n",
      "                alert(<span class=\"string\">\"Data Loaded: \"</span> + data);\n",
      "              }\n",
      "            );\n",
      "\n",
      "}\n",
      "</code>\n",
      "\n",
      "\n",
      "===== REGION 41 =====\n",
      "{Text: article URL: http://127.0.0.1:8000/pages/jquery/javascript%20jquery%20json%20tutorial/1/iviewsource.com/codingtutorials/getting-started-with-javascript-object-notation-json-for-absolute-beginners/, Element: HTML > BODY:nth-of-type(1) > DIV:nth-of-type(1) > DIV:nth-of-type(1) > DIV:nth-of-type(1) > DIV:nth-of-type(1) > DIV:nth-of-type(2) > OL:nth-of-type(1) > LI:nth-of-type(20) > ARTICLE:nth-of-type(1) > SECTION:nth-of-type(1) > PRE:nth-of-type(1) > CODE:nth-of-type(1), Offsets: (160, 166)}\n",
      "* Text:  article\n",
      "* HTML:  <code class=\"objectivec\">    var mTitle== document<span class=\"variable\">.getElementById</span>(<span class=\"string\">\"title\"</span>)<span class=\"variable\">.value</span>;\n",
      "    var mWriter = document<span class=\"variable\">.getElementById</span>(<span class=\"string\">\"writer\"</span>)<span class=\"variable\">.value</span>;\n",
      "    var mArticle = document<span class=\"variable\">.getElementById</span>(<span class=\"string\">\"article\"</span>)<span class=\"variable\">.value</span>;\n",
      "    var text = {\n",
      "        <span class=\"string\">\"title\"</span> : mTitle,\n",
      "        <span class=\"string\">\"writer\"</span> : mWriter,\n",
      "        <span class=\"string\">\"article\"</span> : mArticle\n",
      "    };\n",
      "\n",
      "    $<span class=\"variable\">.post</span>(<span class=\"string\">\"http://gammaflow.no-ip.org/tora/createTip/\"</span>,\n",
      "              text,\n",
      "              function(data){\n",
      "                alert(<span class=\"string\">\"Data Loaded: \"</span> + data);\n",
      "              }\n",
      "            );\n",
      "\n",
      "}\n",
      "</code>\n",
      "\n",
      "\n",
      "===== REGION 42 =====\n",
      "{Text: title URL: http://127.0.0.1:8000/pages/jquery/javascript%20jquery%20json%20tutorial/1/iviewsource.com/codingtutorials/getting-started-with-javascript-object-notation-json-for-absolute-beginners/, Element: HTML > BODY:nth-of-type(1) > DIV:nth-of-type(1) > DIV:nth-of-type(1) > DIV:nth-of-type(1) > DIV:nth-of-type(1) > DIV:nth-of-type(2) > OL:nth-of-type(1) > LI:nth-of-type(20) > ARTICLE:nth-of-type(1) > SECTION:nth-of-type(1) > PRE:nth-of-type(1) > CODE:nth-of-type(1), Offsets: (203, 207)}\n",
      "* Text:  title\n",
      "* HTML:  <code class=\"objectivec\">    var mTitle== document<span class=\"variable\">.getElementById</span>(<span class=\"string\">\"title\"</span>)<span class=\"variable\">.value</span>;\n",
      "    var mWriter = document<span class=\"variable\">.getElementById</span>(<span class=\"string\">\"writer\"</span>)<span class=\"variable\">.value</span>;\n",
      "    var mArticle = document<span class=\"variable\">.getElementById</span>(<span class=\"string\">\"article\"</span>)<span class=\"variable\">.value</span>;\n",
      "    var text = {\n",
      "        <span class=\"string\">\"title\"</span> : mTitle,\n",
      "        <span class=\"string\">\"writer\"</span> : mWriter,\n",
      "        <span class=\"string\">\"article\"</span> : mArticle\n",
      "    };\n",
      "\n",
      "    $<span class=\"variable\">.post</span>(<span class=\"string\">\"http://gammaflow.no-ip.org/tora/createTip/\"</span>,\n",
      "              text,\n",
      "              function(data){\n",
      "                alert(<span class=\"string\">\"Data Loaded: \"</span> + data);\n",
      "              }\n",
      "            );\n",
      "\n",
      "}\n",
      "</code>\n",
      "\n",
      "\n",
      "===== REGION 43 =====\n",
      "{Text: article URL: http://127.0.0.1:8000/pages/jquery/javascript%20jquery%20json%20tutorial/1/iviewsource.com/codingtutorials/getting-started-with-javascript-object-notation-json-for-absolute-beginners/, Element: HTML > BODY:nth-of-type(1) > DIV:nth-of-type(1) > DIV:nth-of-type(1) > DIV:nth-of-type(1) > DIV:nth-of-type(1) > DIV:nth-of-type(2) > OL:nth-of-type(1) > LI:nth-of-type(20) > ARTICLE:nth-of-type(1) > SECTION:nth-of-type(1) > PRE:nth-of-type(1) > CODE:nth-of-type(1), Offsets: (257, 263)}\n",
      "* Text:  article\n",
      "* HTML:  <code class=\"objectivec\">    var mTitle== document<span class=\"variable\">.getElementById</span>(<span class=\"string\">\"title\"</span>)<span class=\"variable\">.value</span>;\n",
      "    var mWriter = document<span class=\"variable\">.getElementById</span>(<span class=\"string\">\"writer\"</span>)<span class=\"variable\">.value</span>;\n",
      "    var mArticle = document<span class=\"variable\">.getElementById</span>(<span class=\"string\">\"article\"</span>)<span class=\"variable\">.value</span>;\n",
      "    var text = {\n",
      "        <span class=\"string\">\"title\"</span> : mTitle,\n",
      "        <span class=\"string\">\"writer\"</span> : mWriter,\n",
      "        <span class=\"string\">\"article\"</span> : mArticle\n",
      "    };\n",
      "\n",
      "    $<span class=\"variable\">.post</span>(<span class=\"string\">\"http://gammaflow.no-ip.org/tora/createTip/\"</span>,\n",
      "              text,\n",
      "              function(data){\n",
      "                alert(<span class=\"string\">\"Data Loaded: \"</span> + data);\n",
      "              }\n",
      "            );\n",
      "\n",
      "}\n",
      "</code>\n",
      "\n",
      "\n",
      "===== REGION 44 =====\n",
      "{Text: title URL: http://127.0.0.1:8000/pages/jquery/javascript%20jquery%20json%20tutorial/1/iviewsource.com/codingtutorials/getting-started-with-javascript-object-notation-json-for-absolute-beginners/, Element: HTML > BODY:nth-of-type(1) > DIV:nth-of-type(1) > DIV:nth-of-type(1) > DIV:nth-of-type(1) > DIV:nth-of-type(1) > DIV:nth-of-type(2) > OL:nth-of-type(1) > LI:nth-of-type(20) > ARTICLE:nth-of-type(1) > SECTION:nth-of-type(1) > PRE:nth-of-type(2) > CODE:nth-of-type(1), Offsets: (27, 31)}\n",
      "* Text:  title\n",
      "* HTML:  too long to render\n",
      "\n",
      "\n",
      "===== REGION 45 =====\n",
      "{Text: article URL: http://127.0.0.1:8000/pages/jquery/javascript%20jquery%20json%20tutorial/1/iviewsource.com/codingtutorials/getting-started-with-javascript-object-notation-json-for-absolute-beginners/, Element: HTML > BODY:nth-of-type(1) > DIV:nth-of-type(1) > DIV:nth-of-type(1) > DIV:nth-of-type(1) > DIV:nth-of-type(1) > DIV:nth-of-type(2) > OL:nth-of-type(1) > LI:nth-of-type(20) > ARTICLE:nth-of-type(1) > SECTION:nth-of-type(1) > PRE:nth-of-type(2) > CODE:nth-of-type(1), Offsets: (157, 163)}\n",
      "* Text:  article\n",
      "* HTML:  too long to render\n",
      "\n",
      "\n",
      "===== REGION 46 =====\n",
      "{Text: button URL: http://127.0.0.1:8000/pages/jquery/javascript%20jquery%20json%20tutorial/1/iviewsource.com/codingtutorials/getting-started-with-javascript-object-notation-json-for-absolute-beginners/, Element: HTML > BODY:nth-of-type(1) > DIV:nth-of-type(1) > DIV:nth-of-type(1) > DIV:nth-of-type(1) > DIV:nth-of-type(1) > DIV:nth-of-type(2) > OL:nth-of-type(1) > LI:nth-of-type(20) > ARTICLE:nth-of-type(1) > SECTION:nth-of-type(1) > PRE:nth-of-type(2) > CODE:nth-of-type(1), Offsets: (219, 224)}\n",
      "* Text:  button\n",
      "* HTML:  too long to render\n"
     ]
    }
   ],
   "source": [
    "inspector.open_false_detections(false_regions, start_index=40)"
   ]
  },
  {
   "cell_type": "code",
   "execution_count": null,
   "metadata": {
    "collapsed": true
   },
   "outputs": [],
   "source": []
  }
 ],
 "metadata": {
  "kernelspec": {
   "display_name": "Python 2",
   "language": "python",
   "name": "python2"
  },
  "language_info": {
   "codemirror_mode": {
    "name": "ipython",
    "version": 2
   },
   "file_extension": ".py",
   "mimetype": "text/x-python",
   "name": "python",
   "nbconvert_exporter": "python",
   "pygments_lexer": "ipython2",
   "version": "2.7.9"
  }
 },
 "nbformat": 4,
 "nbformat_minor": 0
}
